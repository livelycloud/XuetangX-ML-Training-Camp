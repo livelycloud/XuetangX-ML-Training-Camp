{
 "cells": [
  {
   "cell_type": "markdown",
   "metadata": {},
   "source": [
    "本次实验以AAAI 2014会议论文数据为基础，要求实现或调用无监督聚类算法，了解聚类方法。"
   ]
  },
  {
   "cell_type": "markdown",
   "metadata": {},
   "source": [
    "### 任务介绍\n",
    "每年国际上召开的大大小小学术会议不计其数，发表了非常多的论文。在计算机领域的一些大型学术会议上，一次就可以发表涉及各个方向的几百篇论文。按论文的主题、内容进行聚类，有助于人们高效地查找和获得所需要的论文。本案例数据来源于AAAI 2014上发表的约400篇文章，由[UCI](https://archive.ics.uci.edu/ml/datasets/AAAI+2014+Accepted+Papers!)公开提供，提供包括标题、作者、关键词、摘要在内的信息，希望大家能根据这些信息，合理地构造特征向量来表示这些论文，并设计实现或调用聚类算法对论文进行聚类。最后也可以对聚类结果进行观察，看每一类都是什么样的论文，是否有一些主题。\n",
    "\n",
    "基本要求：\n",
    "1. 将文本转化为向量，实现或调用无监督聚类算法，对论文聚类，例如10类（可使用已有工具包例如sklearn）；\n",
    "2. 观察每一类中的论文，调整算法使结果较为合理；\n",
    "3. 无监督聚类没有标签，效果较难评价，因此没有硬性指标，跑通即可，主要让大家了解和感受聚类算法，比较简单。\n",
    "\n",
    "扩展要求：\n",
    "1. 对文本向量进行降维，并将聚类结果可视化成散点图。\n",
    "\n",
    "注：group和topic也不能完全算是标签，因为\n",
    "1. 有些文章作者投稿时可能会选择某个group/topic但实际和另外group/topic也相关甚至更相关；\n",
    "2. 一篇文章可能有多个group和topic，作为标签会出现有的文章同属多个类别，这里暂不考虑这样的聚类；\n",
    "3. group和topic的取值很多，但聚类常常希望指定聚合成出例如5/10/20类；\n",
    "4. 感兴趣但同学可以思考利用group和topic信息来量化评价无监督聚类结果，不作要求。\n",
    "\n",
    "提示：\n",
    "1. 高维向量的降维旨在去除一些高相关性的特征维度，保留最有用的信息，用更低维的向量表示高维数据，常用的方法有PCA和t-SNE等；\n",
    "2. 降维与聚类是两件不同的事情，聚类实际上在降维前的高维向量和降维后的低维向量上都可以进行，结果也可能截然不同；\n",
    "3. 高维向量做聚类，降维可视化后若有同一类的点不在一起，是正常的。在高维空间中它们可能是在一起的，降维后损失了一些信息。"
   ]
  },
  {
   "cell_type": "code",
   "execution_count": 1,
   "metadata": {},
   "outputs": [],
   "source": [
    "#导入数据\n",
    "import pandas as pd\n",
    "import numpy as np\n",
    "csv_data = './data/[UCI] AAAI-14 Accepted Papers - Papers.csv' # 数据路径\n",
    "data_df = pd.read_csv(csv_data, sep=',') # 读入csv文件为pandas的DataFrame"
   ]
  },
  {
   "cell_type": "code",
   "execution_count": 2,
   "metadata": {},
   "outputs": [
    {
     "name": "stdout",
     "output_type": "stream",
     "text": [
      "title                   Kernelized Bayesian Transfer Learning\n",
      "authors                     Mehmet Gönen and Adam A. Margolin\n",
      "groups               Novel Machine Learning Algorithms (NMLA)\n",
      "keywords    cross-domain learning\\ndomain adaptation\\nkern...\n",
      "topics      APP: Biomedical / Bioinformatics\\nNMLA: Bayesi...\n",
      "abstract    Transfer learning considers related but distin...\n",
      "Name: 0, dtype: object\n"
     ]
    },
    {
     "data": {
      "text/html": [
       "<div>\n",
       "<style scoped>\n",
       "    .dataframe tbody tr th:only-of-type {\n",
       "        vertical-align: middle;\n",
       "    }\n",
       "\n",
       "    .dataframe tbody tr th {\n",
       "        vertical-align: top;\n",
       "    }\n",
       "\n",
       "    .dataframe thead th {\n",
       "        text-align: right;\n",
       "    }\n",
       "</style>\n",
       "<table border=\"1\" class=\"dataframe\">\n",
       "  <thead>\n",
       "    <tr style=\"text-align: right;\">\n",
       "      <th></th>\n",
       "      <th>title</th>\n",
       "      <th>authors</th>\n",
       "      <th>groups</th>\n",
       "      <th>keywords</th>\n",
       "      <th>topics</th>\n",
       "      <th>abstract</th>\n",
       "    </tr>\n",
       "  </thead>\n",
       "  <tbody>\n",
       "    <tr>\n",
       "      <th>count</th>\n",
       "      <td>398</td>\n",
       "      <td>398</td>\n",
       "      <td>396</td>\n",
       "      <td>398</td>\n",
       "      <td>394</td>\n",
       "      <td>398</td>\n",
       "    </tr>\n",
       "    <tr>\n",
       "      <th>unique</th>\n",
       "      <td>398</td>\n",
       "      <td>391</td>\n",
       "      <td>125</td>\n",
       "      <td>398</td>\n",
       "      <td>350</td>\n",
       "      <td>398</td>\n",
       "    </tr>\n",
       "    <tr>\n",
       "      <th>top</th>\n",
       "      <td>Using Narrative Function to Extract Qualitativ...</td>\n",
       "      <td>Deguang Kong, Chris Ding and Qihe Pan</td>\n",
       "      <td>Novel Machine Learning Algorithms (NMLA)</td>\n",
       "      <td>Microblog search\\nsemi-supervised learning\\ntr...</td>\n",
       "      <td>GTEP: Social Choice / Voting</td>\n",
       "      <td>Determinantal point process (DPP) is an import...</td>\n",
       "    </tr>\n",
       "    <tr>\n",
       "      <th>freq</th>\n",
       "      <td>1</td>\n",
       "      <td>3</td>\n",
       "      <td>50</td>\n",
       "      <td>1</td>\n",
       "      <td>7</td>\n",
       "      <td>1</td>\n",
       "    </tr>\n",
       "  </tbody>\n",
       "</table>\n",
       "</div>"
      ],
      "text/plain": [
       "                                                    title  \\\n",
       "count                                                 398   \n",
       "unique                                                398   \n",
       "top     Using Narrative Function to Extract Qualitativ...   \n",
       "freq                                                    1   \n",
       "\n",
       "                                      authors  \\\n",
       "count                                     398   \n",
       "unique                                    391   \n",
       "top     Deguang Kong, Chris Ding and Qihe Pan   \n",
       "freq                                        3   \n",
       "\n",
       "                                          groups  \\\n",
       "count                                        396   \n",
       "unique                                       125   \n",
       "top     Novel Machine Learning Algorithms (NMLA)   \n",
       "freq                                          50   \n",
       "\n",
       "                                                 keywords  \\\n",
       "count                                                 398   \n",
       "unique                                                398   \n",
       "top     Microblog search\\nsemi-supervised learning\\ntr...   \n",
       "freq                                                    1   \n",
       "\n",
       "                              topics  \\\n",
       "count                            394   \n",
       "unique                           350   \n",
       "top     GTEP: Social Choice / Voting   \n",
       "freq                               7   \n",
       "\n",
       "                                                 abstract  \n",
       "count                                                 398  \n",
       "unique                                                398  \n",
       "top     Determinantal point process (DPP) is an import...  \n",
       "freq                                                    1  "
      ]
     },
     "execution_count": 2,
     "metadata": {},
     "output_type": "execute_result"
    }
   ],
   "source": [
    "print(data_df.iloc[0]) # 输出第一行数据\n",
    "data_df.describe() # 每列特征的简单统计信息"
   ]
  },
  {
   "cell_type": "code",
   "execution_count": 3,
   "metadata": {},
   "outputs": [
    {
     "name": "stdout",
     "output_type": "stream",
     "text": [
      "Mehmet Gönen , Adam A. Margolin\n"
     ]
    },
    {
     "data": {
      "text/plain": [
       "392"
      ]
     },
     "execution_count": 3,
     "metadata": {},
     "output_type": "execute_result"
    }
   ],
   "source": [
    "#把authors列中的'and'替换成','\n",
    "for i, names in enumerate(data_df['authors']):\n",
    "    data_df['authors'][i] = names.replace('and', ',')\n",
    "print(data_df['authors'][0])\n",
    "\n",
    "# 舍去包含 NaN 的 row\n",
    "data_df = data_df.dropna() \n",
    "len(data_df)"
   ]
  },
  {
   "cell_type": "code",
   "execution_count": 9,
   "metadata": {},
   "outputs": [
    {
     "name": "stdout",
     "output_type": "stream",
     "text": [
      "['agent', 'analysis', 'and', 'based', 'by', 'classification', 'constraints', 'data', 'domain', 'for', 'from', 'games', 'image', 'in', 'information', 'knowledge', 'label', 'language', 'large', 'learning', 'learning with', 'linear', 'model', 'modeling', 'models', 'multi', 'multiple', 'networks', 'of', 'on', 'online', 'optimal', 'optimization', 'planning', 'probabilistic', 'rank', 'robust', 'search', 'selection', 'social', 'solving', 'sparse', 'stochastic', 'supervised', 'the', 'to', 'using', 'via', 'view', 'with']\n"
     ]
    }
   ],
   "source": [
    "from sklearn.feature_extraction.text import TfidfVectorizer\n",
    "from sklearn.feature_extraction.text import HashingVectorizer\n",
    "\n",
    "#将title列转化为向量\n",
    "#因为title中每个词都可能挺重要的,所以选用ngram min = 1\n",
    "titleVectorizer = TfidfVectorizer(max_features = 50, ngram_range = (1, 3))\n",
    "title = titleVectorizer.fit_transform(data_df['title'])\n",
    "print(titleVectorizer.get_feature_names())"
   ]
  },
  {
   "cell_type": "code",
   "execution_count": 10,
   "metadata": {},
   "outputs": [
    {
     "data": {
      "text/plain": [
       "<392x50 sparse matrix of type '<class 'numpy.float64'>'\n",
       "\twith 1093 stored elements in Compressed Sparse Row format>"
      ]
     },
     "execution_count": 10,
     "metadata": {},
     "output_type": "execute_result"
    }
   ],
   "source": [
    "title"
   ]
  },
  {
   "cell_type": "markdown",
   "metadata": {},
   "source": [
    "title 中存储了1093个数据。"
   ]
  },
  {
   "cell_type": "code",
   "execution_count": 11,
   "metadata": {},
   "outputs": [
    {
     "name": "stdout",
     "output_type": "stream",
     "text": [
      "['alan fern', 'alan fern prasad', 'alan fern prasad tadepalli', 'aless ro', 'alex er', 'ariel procaccia', 'boi faltings', 'chen chen', 'craig boutilier', 'dacheng tao', 'ece kamar', 'edith elkind', 'feiping nie', 'feiping nie heng', 'fern prasad', 'fern prasad tadepalli', 'haris aziz', 'heng huang', 'hua wang feiping nie heng', 'hua zhou', 'james kwok', 'jie tang', 'jie zhang', 'jin tian', 'joel oren', 'juanzi li', 'martin lackner', 'martin wehrle', 'matthew taylor', 'meinolf sellmann', 'milind tambe', 'nisarg shah', 'prasad tadepalli', 'rong jin', 'rong wen', 'rongkai xia', 'rongkai xia yan', 'rongkai xia yan pan', 'shuicheng yan', 'tie yan', 'tie yan liu', 'tuomas holm', 'vincent conitzer', 'william yeoh', 'xiao yuan', 'yan liu', 'yan wang', 'yavor nenov', 'zhi hua', 'zhi hua zhou']\n"
     ]
    },
    {
     "data": {
      "text/plain": [
       "<392x50 sparse matrix of type '<class 'numpy.float64'>'\n",
       "\twith 159 stored elements in Compressed Sparse Row format>"
      ]
     },
     "execution_count": 11,
     "metadata": {},
     "output_type": "execute_result"
    }
   ],
   "source": [
    "#将authors文本转化为向量\n",
    "#人名长度为2或以上时才有效（否则只有名或姓，同名/同姓的会很多）\n",
    "authorsVectorizer = TfidfVectorizer(max_features = 50, ngram_range = (2, 5))\n",
    "authors = authorsVectorizer.fit_transform(data_df['authors'])\n",
    "print(authorsVectorizer.get_feature_names())\n",
    "authors"
   ]
  },
  {
   "cell_type": "code",
   "execution_count": 13,
   "metadata": {},
   "outputs": [
    {
     "name": "stdout",
     "output_type": "stream",
     "text": [
      "['ai and the', 'ai and the web', 'ai and the web aiw', 'and constraint satisfaction', 'and constraint satisfaction scs', 'and economic paradigms', 'and economic paradigms gtep', 'and optimization hso', 'and reasoning krr', 'and scheduling ps', 'and the web', 'and the web aiw', 'constraint satisfaction scs', 'economic paradigms gtep', 'game theory and', 'game theory and economic', 'game theory and economic paradigms', 'game theory and economic paradigms gtep', 'heuristic search and', 'heuristic search and optimization', 'heuristic search and optimization hso', 'knowledge representation and', 'knowledge representation and reasoning', 'knowledge representation and reasoning krr', 'learning algorithms nmla', 'learning applications mla', 'machine learning algorithms', 'machine learning algorithms nmla', 'machine learning applications', 'machine learning applications mla', 'multiagent systems mas', 'novel machine learning', 'novel machine learning algorithms', 'novel machine learning algorithms nmla', 'planning and scheduling', 'planning and scheduling ps', 'reasoning under uncertainty', 'reasoning under uncertainty ru', 'representation and reasoning', 'representation and reasoning krr', 'search and constraint', 'search and constraint satisfaction', 'search and constraint satisfaction scs', 'search and optimization', 'search and optimization hso', 'the web aiw', 'theory and economic', 'theory and economic paradigms', 'theory and economic paradigms gtep', 'under uncertainty ru']\n"
     ]
    },
    {
     "data": {
      "text/plain": [
       "<392x50 sparse matrix of type '<class 'numpy.float64'>'\n",
       "\twith 2608 stored elements in Compressed Sparse Row format>"
      ]
     },
     "execution_count": 13,
     "metadata": {},
     "output_type": "execute_result"
    }
   ],
   "source": [
    "#将groups文本转化为向量\n",
    "#考虑到groups很多文本都是相似的，所以使用了较大的ngram值\n",
    "groupsVectorizer = TfidfVectorizer(max_features = 50, ngram_range = (3, 10))\n",
    "groups = groupsVectorizer.fit_transform(data_df['groups'])\n",
    "print(groupsVectorizer.get_feature_names())\n",
    "groups"
   ]
  },
  {
   "cell_type": "code",
   "execution_count": 18,
   "metadata": {},
   "outputs": [
    {
     "name": "stdout",
     "output_type": "stream",
     "text": [
      "['analysis', 'and', 'based', 'bayesian', 'choice', 'classification', 'complexity', 'computational', 'computational social', 'computational social choice', 'constraint', 'constraints', 'data', 'decision', 'design', 'equilibrium', 'feature', 'game', 'game theory', 'games', 'graph', 'inference', 'information', 'knowledge', 'language', 'learning', 'machine', 'matrix', 'model', 'modeling', 'models', 'multi', 'network', 'networks', 'of', 'online', 'optimization', 'planning', 'prediction', 'probabilistic', 'programming', 'reasoning', 'representation', 'search', 'social', 'social choice', 'sparse', 'supervised', 'systems', 'theory']\n"
     ]
    },
    {
     "data": {
      "text/plain": [
       "<392x50 sparse matrix of type '<class 'numpy.float64'>'\n",
       "\twith 950 stored elements in Compressed Sparse Row format>"
      ]
     },
     "execution_count": 18,
     "metadata": {},
     "output_type": "execute_result"
    }
   ],
   "source": [
    "#将keywords文本转化为向量\n",
    "keywordsVectorizer = TfidfVectorizer(max_features = 50, ngram_range = (1, 5))\n",
    "keywords = keywordsVectorizer.fit_transform(data_df['keywords'])\n",
    "print(keywordsVectorizer.get_feature_names())\n",
    "keywords"
   ]
  },
  {
   "cell_type": "code",
   "execution_count": 19,
   "metadata": {},
   "outputs": [
    {
     "name": "stdout",
     "output_type": "stream",
     "text": [
      "['and analysis', 'applications general', 'applications general other', 'applications of', 'applications of supervised', 'applications of supervised learning', 'choice voting', 'constraint satisfaction', 'evaluation and', 'game theory', 'game theory gtep', 'general other', 'general other nmla', 'gtep game', 'gtep game theory', 'gtep game theory gtep', 'gtep social', 'gtep social choice', 'gtep social choice voting', 'learning applications', 'learning applications general', 'learning applications general other', 'learning nmla', 'learning other', 'machine learning', 'machine learning applications', 'machine learning applications general', 'machine learning applications general other', 'mla applications', 'mla applications of', 'mla applications of supervised', 'mla applications of supervised learning', 'mla machine', 'mla machine learning', 'mla machine learning applications', 'mla machine learning applications general', 'natural language', 'natural language processing general other', 'nmla classification', 'of supervised', 'of supervised learning', 'other nmla', 'scs constraint', 'scs constraint satisfaction', 'social choice', 'social choice voting', 'supervised learning', 'the web', 'theory gtep', 'unsupervised learning']\n"
     ]
    },
    {
     "data": {
      "text/plain": [
       "<392x50 sparse matrix of type '<class 'numpy.float64'>'\n",
       "\twith 1522 stored elements in Compressed Sparse Row format>"
      ]
     },
     "execution_count": 19,
     "metadata": {},
     "output_type": "execute_result"
    }
   ],
   "source": [
    "#将topics文本转化为向量\n",
    "topicsVectorizer = TfidfVectorizer(max_features = 50, ngram_range = (2, 5))\n",
    "topics = topicsVectorizer.fit_transform(data_df['topics'])\n",
    "print(topicsVectorizer.get_feature_names())\n",
    "topics"
   ]
  },
  {
   "cell_type": "code",
   "execution_count": 20,
   "metadata": {},
   "outputs": [
    {
     "name": "stdout",
     "output_type": "stream",
     "text": [
      "['algorithm', 'algorithms', 'also', 'an', 'and', 'and the', 'approach', 'are', 'as', 'based', 'based on', 'be', 'been', 'between', 'both', 'by', 'can', 'can be', 'data', 'different', 'domain', 'each', 'existing', 'experiments', 'first', 'for', 'for the', 'from', 'has', 'have', 'however', 'in', 'in the', 'in this', 'in this paper', 'in this paper we', 'information', 'is', 'it', 'its', 'large', 'learning', 'many', 'method', 'methods', 'model', 'models', 'more', 'new', 'not', 'novel', 'number', 'number of', 'of', 'of the', 'on', 'on the', 'one', 'or', 'our', 'over', 'paper', 'paper we', 'performance', 'present', 'problem', 'problems', 'propose', 'proposed', 'real', 'results', 'search', 'set', 'show', 'show that', 'state', 'state of', 'state of the', 'state of the art', 'such', 'task', 'tasks', 'that', 'that the', 'the', 'their', 'these', 'this', 'this paper', 'this paper we', 'time', 'to', 'to the', 'two', 'using', 'we', 'we propose', 'where', 'which', 'with']\n"
     ]
    }
   ],
   "source": [
    "#将abstract文本转化为向量\n",
    "\n",
    "abstractVectorizer = TfidfVectorizer(max_features = 100, ngram_range = (1, 5))\n",
    "abstract = abstractVectorizer.fit_transform(data_df['abstract'])\n",
    "print(abstractVectorizer.get_feature_names())# "
   ]
  },
  {
   "cell_type": "code",
   "execution_count": 21,
   "metadata": {},
   "outputs": [],
   "source": [
    "#将特征合成一个matrix\n",
    "#考虑到abstract中的词提供的信息对文章聚类帮助不大，所以没有放进最终的矩阵\n",
    "from scipy.sparse import hstack\n",
    "features = hstack([title, authors, groups, keywords, topics])"
   ]
  },
  {
   "cell_type": "code",
   "execution_count": 22,
   "metadata": {},
   "outputs": [
    {
     "data": {
      "text/plain": [
       "<392x250 sparse matrix of type '<class 'numpy.float64'>'\n",
       "\twith 6332 stored elements in COOrdinate format>"
      ]
     },
     "execution_count": 22,
     "metadata": {},
     "output_type": "execute_result"
    }
   ],
   "source": [
    "features"
   ]
  },
  {
   "cell_type": "code",
   "execution_count": 24,
   "metadata": {},
   "outputs": [
    {
     "name": "stdout",
     "output_type": "stream",
     "text": [
      "done in 0.040s\n",
      "\n"
     ]
    },
    {
     "data": {
      "text/plain": [
       "392"
      ]
     },
     "execution_count": 24,
     "metadata": {},
     "output_type": "execute_result"
    }
   ],
   "source": [
    "#聚类\n",
    "\n",
    "from sklearn.cluster import KMeans\n",
    "from sklearn import metrics\n",
    "from time import time\n",
    "\n",
    "t0 = time()\n",
    "km = KMeans(n_clusters=10, init='k-means++', max_iter=100, n_init=1)\n",
    "pred = km.fit_predict(features)\n",
    "\n",
    "print(\"done in %0.3fs\" % (time() - t0))\n",
    "print()\n",
    "\n",
    "len(pred)"
   ]
  },
  {
   "cell_type": "code",
   "execution_count": 30,
   "metadata": {},
   "outputs": [
    {
     "name": "stdout",
     "output_type": "stream",
     "text": [
      "\n"
     ]
    }
   ],
   "source": [
    "data_df.reindex(list(range(0, 393))) #将样例重新编号\n",
    "print()"
   ]
  },
  {
   "cell_type": "code",
   "execution_count": 57,
   "metadata": {},
   "outputs": [
    {
     "data": {
      "text/html": [
       "<div>\n",
       "<style scoped>\n",
       "    .dataframe tbody tr th:only-of-type {\n",
       "        vertical-align: middle;\n",
       "    }\n",
       "\n",
       "    .dataframe tbody tr th {\n",
       "        vertical-align: top;\n",
       "    }\n",
       "\n",
       "    .dataframe thead th {\n",
       "        text-align: right;\n",
       "    }\n",
       "</style>\n",
       "<table border=\"1\" class=\"dataframe\">\n",
       "  <thead>\n",
       "    <tr style=\"text-align: right;\">\n",
       "      <th></th>\n",
       "      <th>title</th>\n",
       "      <th>authors</th>\n",
       "      <th>groups</th>\n",
       "      <th>keywords</th>\n",
       "      <th>topics</th>\n",
       "      <th>abstract</th>\n",
       "    </tr>\n",
       "  </thead>\n",
       "  <tbody>\n",
       "    <tr>\n",
       "      <th>27</th>\n",
       "      <td>Cached Iterative Weakening for Optimal Multi-W...</td>\n",
       "      <td>Ethan Schreiber , Richard Korf</td>\n",
       "      <td>Heuristic Search and Optimization (HSO)\\nPlann...</td>\n",
       "      <td>Heuristic Search\\nOptimization\\nSearch\\nSchedu...</td>\n",
       "      <td>HSO: Heuristic Search\\nHSO: Optimization\\nHSO:...</td>\n",
       "      <td>The NP-hard number-partitioning problem is to ...</td>\n",
       "    </tr>\n",
       "    <tr>\n",
       "      <th>71</th>\n",
       "      <td>Fast consistency checking of very large real-w...</td>\n",
       "      <td>Charalampos Nikolaou , Manolis Koubarakis</td>\n",
       "      <td>Knowledge Representation and Reasoning (KRR)\\n...</td>\n",
       "      <td>qualitative spatial reasoning\\nconsistency che...</td>\n",
       "      <td>KRR: Geometric, Spatial, and Temporal Reasonin...</td>\n",
       "      <td>We present a new reasoner for RCC-8 constraint...</td>\n",
       "    </tr>\n",
       "    <tr>\n",
       "      <th>105</th>\n",
       "      <td>Boosting SBDS for Partial Symmetry Breaking in...</td>\n",
       "      <td>Zichen Zhu , Jimmy Lee</td>\n",
       "      <td>Search and Constraint Satisfaction (SCS)</td>\n",
       "      <td>constraint satisfaction problems\\nsymmetry bre...</td>\n",
       "      <td>SCS: Constraint Satisfaction\\nSCS: SAT and CSP...</td>\n",
       "      <td>The paper proposes a dynamic method, Recursive...</td>\n",
       "    </tr>\n",
       "    <tr>\n",
       "      <th>111</th>\n",
       "      <td>Linear-Time Filtering Algorithms for the Disju...</td>\n",
       "      <td>Hamed Fahimi , Claude-Guy Quimper</td>\n",
       "      <td>Knowledge Representation and Reasoning (KRR)\\n...</td>\n",
       "      <td>Constraint programming\\nScheduling\\nGlobal con...</td>\n",
       "      <td>PS: Scheduling\\nSCS: Constraint Satisfaction\\n...</td>\n",
       "      <td>We present three new filtering algorithms for ...</td>\n",
       "    </tr>\n",
       "    <tr>\n",
       "      <th>115</th>\n",
       "      <td>A Simple Polynomial-Time Randomized Distribute...</td>\n",
       "      <td>Nguyen Duc Thien, T. K. Satish Kumar, William ...</td>\n",
       "      <td>Multiagent Systems (MAS)\\nSearch and Constrain...</td>\n",
       "      <td>Connected Row Convex Constraints\\nDistributed ...</td>\n",
       "      <td>MAS: Distributed Problem Solving\\nSCS: Distrib...</td>\n",
       "      <td>In this paper, we describe a simple randomized...</td>\n",
       "    </tr>\n",
       "    <tr>\n",
       "      <th>123</th>\n",
       "      <td>Chance-constrained Probabilistic Simple Tempor...</td>\n",
       "      <td>Cheng Fang, Peng Yu , Brian Williams</td>\n",
       "      <td>Planning and Scheduling (PS)\\nReasoning under ...</td>\n",
       "      <td>scheduling\\nprobabilistic\\nSTNU</td>\n",
       "      <td>PS: Probabilistic Planning\\nPS: Scheduling\\nPS...</td>\n",
       "      <td>Robust scheduling is essential to many autonom...</td>\n",
       "    </tr>\n",
       "    <tr>\n",
       "      <th>155</th>\n",
       "      <td>Optimal Decoupling in Linear Constraint Systems</td>\n",
       "      <td>Cees Witteveen, Michel Wilson , Tomas Klos</td>\n",
       "      <td>Heuristic Search and Optimization (HSO)\\nMulti...</td>\n",
       "      <td>temporal decoupling\\nconstraint solving\\nlinea...</td>\n",
       "      <td>HSO: Optimization\\nMAS: Distributed Problem So...</td>\n",
       "      <td>Decomposition can be defined as a technique to...</td>\n",
       "    </tr>\n",
       "    <tr>\n",
       "      <th>164</th>\n",
       "      <td>Avoiding Plagiarism in Markov Sequence Generation</td>\n",
       "      <td>Alex,re Papadopoulos, Pierre Roy , François Pa...</td>\n",
       "      <td>Machine Learning Applications (MLA)\\nSearch an...</td>\n",
       "      <td>markov chains\\nplagiarism\\nconstraint satisfac...</td>\n",
       "      <td>APP: Art and Music\\nMLA: Machine Learning Appl...</td>\n",
       "      <td>Markov processes are widely used to generate s...</td>\n",
       "    </tr>\n",
       "    <tr>\n",
       "      <th>172</th>\n",
       "      <td>Grandpa Hates Robots - Interaction Constraints...</td>\n",
       "      <td>Uwe Köckemann, Federico Pecora , Lars Karlsson</td>\n",
       "      <td>Knowledge Representation and Reasoning (KRR)\\n...</td>\n",
       "      <td>Constraint-based planning\\nPlanning in inhabit...</td>\n",
       "      <td>KRR: Preferences\\nPS: Scheduling\\nPS: Temporal...</td>\n",
       "      <td>Consider a family whose home is equipped with ...</td>\n",
       "    </tr>\n",
       "    <tr>\n",
       "      <th>177</th>\n",
       "      <td>Backdoors into Heterogeneous Classes of SAT an...</td>\n",
       "      <td>Serge Gaspers, Neeldhara Misra, Sebastian Ordy...</td>\n",
       "      <td>Search and Constraint Satisfaction (SCS)</td>\n",
       "      <td>theoretical analysis\\nConstraint Satisfaction ...</td>\n",
       "      <td>KRR: Computational Complexity of Reasoning\\nSC...</td>\n",
       "      <td>Backdoor sets represent clever reasoning short...</td>\n",
       "    </tr>\n",
       "    <tr>\n",
       "      <th>185</th>\n",
       "      <td>Maximum Satisfiability using core-guided MaxSA...</td>\n",
       "      <td>Nina Narodytska , Fahiem Bacchus</td>\n",
       "      <td>Search and Constraint Satisfaction (SCS)</td>\n",
       "      <td>maximum satisfiability\\nmaxsat resolution\\nite...</td>\n",
       "      <td>SCS: Constraint Optimization\\nSCS: SAT and CSP...</td>\n",
       "      <td>Core-guided approaches to solving MaxSat have ...</td>\n",
       "    </tr>\n",
       "    <tr>\n",
       "      <th>192</th>\n",
       "      <td>A Support-Based Algorithm for the Bi-Objective...</td>\n",
       "      <td>Renaud Hartert , Pierre Schaus</td>\n",
       "      <td>Search and Constraint Satisfaction (SCS)</td>\n",
       "      <td>Constraint Programming\\nBi-Objective Combinato...</td>\n",
       "      <td>SCS: Constraint Satisfaction\\nSCS: Constraint ...</td>\n",
       "      <td>Bi-objective combinatorial optimization proble...</td>\n",
       "    </tr>\n",
       "    <tr>\n",
       "      <th>198</th>\n",
       "      <td>Distribution-Aware Sampling and Weighted Model...</td>\n",
       "      <td>Supratik Chakraborty, Daniel J. Fremont, Kulde...</td>\n",
       "      <td>Search and Constraint Satisfaction (SCS)</td>\n",
       "      <td>Weighted Model Counting\\nWeight Generation\\nSAT</td>\n",
       "      <td>SCS: SAT and CSP: Evaluation and Analysis\\nSCS...</td>\n",
       "      <td>Given a CNF formula and a weight for each assi...</td>\n",
       "    </tr>\n",
       "    <tr>\n",
       "      <th>200</th>\n",
       "      <td>Adaptive Singleton-based Consistencies</td>\n",
       "      <td>Amine Balafrej, Christian Bessiere, Gilles Tro...</td>\n",
       "      <td>Search and Constraint Satisfaction (SCS)</td>\n",
       "      <td>CSP\\nSingleton-based Consistencies\\nAdaptive C...</td>\n",
       "      <td>SCS: Constraint Satisfaction</td>\n",
       "      <td>Singleton-based consistencies have been shown ...</td>\n",
       "    </tr>\n",
       "    <tr>\n",
       "      <th>205</th>\n",
       "      <td>A reasoner for the RCC-5 and RCC-8 calculi ext...</td>\n",
       "      <td>Stella Giannakopoulou, Charalampos Nikolaou , ...</td>\n",
       "      <td>Knowledge Representation and Reasoning (KRR)\\n...</td>\n",
       "      <td>Qualitative spatial reasoning\\nConstraint Sati...</td>\n",
       "      <td>KRR: Computational Complexity of Reasoning\\nKR...</td>\n",
       "      <td>The problem of checking the consistency in qua...</td>\n",
       "    </tr>\n",
       "    <tr>\n",
       "      <th>238</th>\n",
       "      <td>Materials Discovery - Synthetic and Real World...</td>\n",
       "      <td>John M. Gregoire, Santosh Suram, Ronan Le Bras...</td>\n",
       "      <td>Computational Sustainability and AI (CSAI)\\nHe...</td>\n",
       "      <td>Materials discovery\\nDataset\\nPhase-map identi...</td>\n",
       "      <td>CSAI: Modeling and control of complex high-dim...</td>\n",
       "      <td>Newly-discovered materials have been central t...</td>\n",
       "    </tr>\n",
       "    <tr>\n",
       "      <th>250</th>\n",
       "      <td>Double Configuration Checking in Stochastic Lo...</td>\n",
       "      <td>Chuan Luo, Shaowei Cai, Wei Wu , Kaile Su</td>\n",
       "      <td>Heuristic Search and Optimization (HSO)\\nSearc...</td>\n",
       "      <td>Double Configuration Checking\\nStochastic Loca...</td>\n",
       "      <td>HSO: Heuristic Search\\nSCS: Constraint Satisfa...</td>\n",
       "      <td>Stochastic local search (SLS) algorithms have ...</td>\n",
       "    </tr>\n",
       "    <tr>\n",
       "      <th>273</th>\n",
       "      <td>Optimal Neighborhood Preserving Visualization ...</td>\n",
       "      <td>Kerstin Bunte, Matti Järvisalo, Jeremias Berg,...</td>\n",
       "      <td>Novel Machine Learning Algorithms (NMLA)\\nSear...</td>\n",
       "      <td>visualization\\nboolean optimization\\nmaximum s...</td>\n",
       "      <td>NMLA: Dimension Reduction/Feature Selection\\nN...</td>\n",
       "      <td>We present a novel approach to low-dimensional...</td>\n",
       "    </tr>\n",
       "    <tr>\n",
       "      <th>277</th>\n",
       "      <td>A Computational Method for (MSS,CoMSS) Partiti...</td>\n",
       "      <td>Jean Marie Lagniez, Eric Gregoire , Bertr, Mazure</td>\n",
       "      <td>Heuristic Search and Optimization (HSO)\\nSearc...</td>\n",
       "      <td>SAT\\nCoMSS\\nMSS\\nMaximal Satisﬁable Subset</td>\n",
       "      <td>HSO: Search (General/Other)\\nSCS: Constraint S...</td>\n",
       "      <td>MSS (Maximal Satisﬁable Subset) and CoMSS (als...</td>\n",
       "    </tr>\n",
       "    <tr>\n",
       "      <th>284</th>\n",
       "      <td>MaxSAT Portfolio</td>\n",
       "      <td>Carlos Ansotegui-Gil, Yuri Malitsky , Meinolf ...</td>\n",
       "      <td>Search and Constraint Satisfaction (SCS)</td>\n",
       "      <td>MaxSAT\\nAlgorithm Portfolios\\nAlgorithm Tuning</td>\n",
       "      <td>SCS: Satisfiability (General/Other)</td>\n",
       "      <td>Our objective is to boost the state-of-the-art...</td>\n",
       "    </tr>\n",
       "    <tr>\n",
       "      <th>314</th>\n",
       "      <td>DJAO: A Communication-Constrained DCOP algorit...</td>\n",
       "      <td>Yoonheui Kim , Victor Lesser</td>\n",
       "      <td>Heuristic Search and Optimization (HSO)\\nSearc...</td>\n",
       "      <td>Distributed Problem Solving\\nDCOP\\nAND/OR search</td>\n",
       "      <td>HSO: Heuristic Search\\nHSO: Optimization\\nHSO:...</td>\n",
       "      <td>In this paper we propose a novel DCOP algorith...</td>\n",
       "    </tr>\n",
       "    <tr>\n",
       "      <th>319</th>\n",
       "      <td>Decentralized Multi-Agent Reinforcement Learni...</td>\n",
       "      <td>Nguyen Duc Thien, William Yeoh, Hoong Chuin La...</td>\n",
       "      <td>Multiagent Systems (MAS)\\nSearch and Constrain...</td>\n",
       "      <td>Distributed Constraint Optimization Problems\\n...</td>\n",
       "      <td>MAS: Coordination and Collaboration\\nMAS: Dist...</td>\n",
       "      <td>Researchers have introduced the Dynamic Distri...</td>\n",
       "    </tr>\n",
       "    <tr>\n",
       "      <th>333</th>\n",
       "      <td>Preprocessing for Propositional Model Counting</td>\n",
       "      <td>Jean Marie Lagniez , Pierre Marquis</td>\n",
       "      <td>Search and Constraint Satisfaction (SCS)</td>\n",
       "      <td>model counting\\npreprocessing\\npropositional\\n...</td>\n",
       "      <td>SCS: SAT and CSP: Solvers and Tools\\nSCS: Cons...</td>\n",
       "      <td>This paper is concerned with preprocessing tec...</td>\n",
       "    </tr>\n",
       "    <tr>\n",
       "      <th>334</th>\n",
       "      <td>Propagating Regular Counting Constraints</td>\n",
       "      <td>Nicolas Beldiceanu, Pierre Flener, Justin Pear...</td>\n",
       "      <td>Search and Constraint Satisfaction (SCS)</td>\n",
       "      <td>constraints over a sequence\\nfinite automata\\n...</td>\n",
       "      <td>SCS: Constraint Satisfaction\\nSCS: Global Cons...</td>\n",
       "      <td>Constraints over finite sequences of variables...</td>\n",
       "    </tr>\n",
       "    <tr>\n",
       "      <th>338</th>\n",
       "      <td>A Propagator Design Framework for Constraints ...</td>\n",
       "      <td>Jean-Noël Monette, Pierre Flener , Justin Pearson</td>\n",
       "      <td>Search and Constraint Satisfaction (SCS)</td>\n",
       "      <td>Constraint Programming\\nGlobal Constraints\\nSt...</td>\n",
       "      <td>SCS: Constraint Satisfaction\\nSCS: Global Cons...</td>\n",
       "      <td>Constraints over variable sequences are ubiqui...</td>\n",
       "    </tr>\n",
       "    <tr>\n",
       "      <th>371</th>\n",
       "      <td>Q-intersection Algorithms for Constraint-Based...</td>\n",
       "      <td>Clement Carbonnel, Gilles Trombettoni, Philipp...</td>\n",
       "      <td>Search and Constraint Satisfaction (SCS)</td>\n",
       "      <td>intersection graph\\ncomputational complexity\\n...</td>\n",
       "      <td>SCS: Constraint Satisfaction</td>\n",
       "      <td>Given a set of axis-parallel n-dimensional box...</td>\n",
       "    </tr>\n",
       "    <tr>\n",
       "      <th>386</th>\n",
       "      <td>Non-Restarting SAT Solvers With Simple Preproc...</td>\n",
       "      <td>Paul Beame , Ashish Sabharwal</td>\n",
       "      <td>Search and Constraint Satisfaction (SCS)</td>\n",
       "      <td>clause learning\\nsatisfiability\\nproof complex...</td>\n",
       "      <td>SCS: Constraint Satisfaction\\nSCS: Constraint ...</td>\n",
       "      <td>Propositional satisfiability (SAT) solvers bas...</td>\n",
       "    </tr>\n",
       "    <tr>\n",
       "      <th>389</th>\n",
       "      <td>Relaxation Search: a Simple Way of Managing Op...</td>\n",
       "      <td>Maria Tsimpoukelli, Fahiem Bacchus, Jessica Da...</td>\n",
       "      <td>Search and Constraint Satisfaction (SCS)</td>\n",
       "      <td>Constraint Optimization\\nSatisfiability\\nMaxim...</td>\n",
       "      <td>SCS: Constraint Optimization\\nSCS: SAT and CSP...</td>\n",
       "      <td>A number of problems involve managing a set of...</td>\n",
       "    </tr>\n",
       "  </tbody>\n",
       "</table>\n",
       "</div>"
      ],
      "text/plain": [
       "                                                 title  \\\n",
       "27   Cached Iterative Weakening for Optimal Multi-W...   \n",
       "71   Fast consistency checking of very large real-w...   \n",
       "105  Boosting SBDS for Partial Symmetry Breaking in...   \n",
       "111  Linear-Time Filtering Algorithms for the Disju...   \n",
       "115  A Simple Polynomial-Time Randomized Distribute...   \n",
       "123  Chance-constrained Probabilistic Simple Tempor...   \n",
       "155    Optimal Decoupling in Linear Constraint Systems   \n",
       "164  Avoiding Plagiarism in Markov Sequence Generation   \n",
       "172  Grandpa Hates Robots - Interaction Constraints...   \n",
       "177  Backdoors into Heterogeneous Classes of SAT an...   \n",
       "185  Maximum Satisfiability using core-guided MaxSA...   \n",
       "192  A Support-Based Algorithm for the Bi-Objective...   \n",
       "198  Distribution-Aware Sampling and Weighted Model...   \n",
       "200             Adaptive Singleton-based Consistencies   \n",
       "205  A reasoner for the RCC-5 and RCC-8 calculi ext...   \n",
       "238  Materials Discovery - Synthetic and Real World...   \n",
       "250  Double Configuration Checking in Stochastic Lo...   \n",
       "273  Optimal Neighborhood Preserving Visualization ...   \n",
       "277  A Computational Method for (MSS,CoMSS) Partiti...   \n",
       "284                                   MaxSAT Portfolio   \n",
       "314  DJAO: A Communication-Constrained DCOP algorit...   \n",
       "319  Decentralized Multi-Agent Reinforcement Learni...   \n",
       "333     Preprocessing for Propositional Model Counting   \n",
       "334           Propagating Regular Counting Constraints   \n",
       "338  A Propagator Design Framework for Constraints ...   \n",
       "371  Q-intersection Algorithms for Constraint-Based...   \n",
       "386  Non-Restarting SAT Solvers With Simple Preproc...   \n",
       "389  Relaxation Search: a Simple Way of Managing Op...   \n",
       "\n",
       "                                               authors  \\\n",
       "27                      Ethan Schreiber , Richard Korf   \n",
       "71           Charalampos Nikolaou , Manolis Koubarakis   \n",
       "105                             Zichen Zhu , Jimmy Lee   \n",
       "111                  Hamed Fahimi , Claude-Guy Quimper   \n",
       "115  Nguyen Duc Thien, T. K. Satish Kumar, William ...   \n",
       "123               Cheng Fang, Peng Yu , Brian Williams   \n",
       "155         Cees Witteveen, Michel Wilson , Tomas Klos   \n",
       "164  Alex,re Papadopoulos, Pierre Roy , François Pa...   \n",
       "172     Uwe Köckemann, Federico Pecora , Lars Karlsson   \n",
       "177  Serge Gaspers, Neeldhara Misra, Sebastian Ordy...   \n",
       "185                   Nina Narodytska , Fahiem Bacchus   \n",
       "192                     Renaud Hartert , Pierre Schaus   \n",
       "198  Supratik Chakraborty, Daniel J. Fremont, Kulde...   \n",
       "200  Amine Balafrej, Christian Bessiere, Gilles Tro...   \n",
       "205  Stella Giannakopoulou, Charalampos Nikolaou , ...   \n",
       "238  John M. Gregoire, Santosh Suram, Ronan Le Bras...   \n",
       "250          Chuan Luo, Shaowei Cai, Wei Wu , Kaile Su   \n",
       "273  Kerstin Bunte, Matti Järvisalo, Jeremias Berg,...   \n",
       "277  Jean Marie Lagniez, Eric Gregoire , Bertr, Mazure   \n",
       "284  Carlos Ansotegui-Gil, Yuri Malitsky , Meinolf ...   \n",
       "314                       Yoonheui Kim , Victor Lesser   \n",
       "319  Nguyen Duc Thien, William Yeoh, Hoong Chuin La...   \n",
       "333                Jean Marie Lagniez , Pierre Marquis   \n",
       "334  Nicolas Beldiceanu, Pierre Flener, Justin Pear...   \n",
       "338  Jean-Noël Monette, Pierre Flener , Justin Pearson   \n",
       "371  Clement Carbonnel, Gilles Trombettoni, Philipp...   \n",
       "386                      Paul Beame , Ashish Sabharwal   \n",
       "389  Maria Tsimpoukelli, Fahiem Bacchus, Jessica Da...   \n",
       "\n",
       "                                                groups  \\\n",
       "27   Heuristic Search and Optimization (HSO)\\nPlann...   \n",
       "71   Knowledge Representation and Reasoning (KRR)\\n...   \n",
       "105           Search and Constraint Satisfaction (SCS)   \n",
       "111  Knowledge Representation and Reasoning (KRR)\\n...   \n",
       "115  Multiagent Systems (MAS)\\nSearch and Constrain...   \n",
       "123  Planning and Scheduling (PS)\\nReasoning under ...   \n",
       "155  Heuristic Search and Optimization (HSO)\\nMulti...   \n",
       "164  Machine Learning Applications (MLA)\\nSearch an...   \n",
       "172  Knowledge Representation and Reasoning (KRR)\\n...   \n",
       "177           Search and Constraint Satisfaction (SCS)   \n",
       "185           Search and Constraint Satisfaction (SCS)   \n",
       "192           Search and Constraint Satisfaction (SCS)   \n",
       "198           Search and Constraint Satisfaction (SCS)   \n",
       "200           Search and Constraint Satisfaction (SCS)   \n",
       "205  Knowledge Representation and Reasoning (KRR)\\n...   \n",
       "238  Computational Sustainability and AI (CSAI)\\nHe...   \n",
       "250  Heuristic Search and Optimization (HSO)\\nSearc...   \n",
       "273  Novel Machine Learning Algorithms (NMLA)\\nSear...   \n",
       "277  Heuristic Search and Optimization (HSO)\\nSearc...   \n",
       "284           Search and Constraint Satisfaction (SCS)   \n",
       "314  Heuristic Search and Optimization (HSO)\\nSearc...   \n",
       "319  Multiagent Systems (MAS)\\nSearch and Constrain...   \n",
       "333           Search and Constraint Satisfaction (SCS)   \n",
       "334           Search and Constraint Satisfaction (SCS)   \n",
       "338           Search and Constraint Satisfaction (SCS)   \n",
       "371           Search and Constraint Satisfaction (SCS)   \n",
       "386           Search and Constraint Satisfaction (SCS)   \n",
       "389           Search and Constraint Satisfaction (SCS)   \n",
       "\n",
       "                                              keywords  \\\n",
       "27   Heuristic Search\\nOptimization\\nSearch\\nSchedu...   \n",
       "71   qualitative spatial reasoning\\nconsistency che...   \n",
       "105  constraint satisfaction problems\\nsymmetry bre...   \n",
       "111  Constraint programming\\nScheduling\\nGlobal con...   \n",
       "115  Connected Row Convex Constraints\\nDistributed ...   \n",
       "123                    scheduling\\nprobabilistic\\nSTNU   \n",
       "155  temporal decoupling\\nconstraint solving\\nlinea...   \n",
       "164  markov chains\\nplagiarism\\nconstraint satisfac...   \n",
       "172  Constraint-based planning\\nPlanning in inhabit...   \n",
       "177  theoretical analysis\\nConstraint Satisfaction ...   \n",
       "185  maximum satisfiability\\nmaxsat resolution\\nite...   \n",
       "192  Constraint Programming\\nBi-Objective Combinato...   \n",
       "198    Weighted Model Counting\\nWeight Generation\\nSAT   \n",
       "200  CSP\\nSingleton-based Consistencies\\nAdaptive C...   \n",
       "205  Qualitative spatial reasoning\\nConstraint Sati...   \n",
       "238  Materials discovery\\nDataset\\nPhase-map identi...   \n",
       "250  Double Configuration Checking\\nStochastic Loca...   \n",
       "273  visualization\\nboolean optimization\\nmaximum s...   \n",
       "277         SAT\\nCoMSS\\nMSS\\nMaximal Satisﬁable Subset   \n",
       "284     MaxSAT\\nAlgorithm Portfolios\\nAlgorithm Tuning   \n",
       "314   Distributed Problem Solving\\nDCOP\\nAND/OR search   \n",
       "319  Distributed Constraint Optimization Problems\\n...   \n",
       "333  model counting\\npreprocessing\\npropositional\\n...   \n",
       "334  constraints over a sequence\\nfinite automata\\n...   \n",
       "338  Constraint Programming\\nGlobal Constraints\\nSt...   \n",
       "371  intersection graph\\ncomputational complexity\\n...   \n",
       "386  clause learning\\nsatisfiability\\nproof complex...   \n",
       "389  Constraint Optimization\\nSatisfiability\\nMaxim...   \n",
       "\n",
       "                                                topics  \\\n",
       "27   HSO: Heuristic Search\\nHSO: Optimization\\nHSO:...   \n",
       "71   KRR: Geometric, Spatial, and Temporal Reasonin...   \n",
       "105  SCS: Constraint Satisfaction\\nSCS: SAT and CSP...   \n",
       "111  PS: Scheduling\\nSCS: Constraint Satisfaction\\n...   \n",
       "115  MAS: Distributed Problem Solving\\nSCS: Distrib...   \n",
       "123  PS: Probabilistic Planning\\nPS: Scheduling\\nPS...   \n",
       "155  HSO: Optimization\\nMAS: Distributed Problem So...   \n",
       "164  APP: Art and Music\\nMLA: Machine Learning Appl...   \n",
       "172  KRR: Preferences\\nPS: Scheduling\\nPS: Temporal...   \n",
       "177  KRR: Computational Complexity of Reasoning\\nSC...   \n",
       "185  SCS: Constraint Optimization\\nSCS: SAT and CSP...   \n",
       "192  SCS: Constraint Satisfaction\\nSCS: Constraint ...   \n",
       "198  SCS: SAT and CSP: Evaluation and Analysis\\nSCS...   \n",
       "200                       SCS: Constraint Satisfaction   \n",
       "205  KRR: Computational Complexity of Reasoning\\nKR...   \n",
       "238  CSAI: Modeling and control of complex high-dim...   \n",
       "250  HSO: Heuristic Search\\nSCS: Constraint Satisfa...   \n",
       "273  NMLA: Dimension Reduction/Feature Selection\\nN...   \n",
       "277  HSO: Search (General/Other)\\nSCS: Constraint S...   \n",
       "284                SCS: Satisfiability (General/Other)   \n",
       "314  HSO: Heuristic Search\\nHSO: Optimization\\nHSO:...   \n",
       "319  MAS: Coordination and Collaboration\\nMAS: Dist...   \n",
       "333  SCS: SAT and CSP: Solvers and Tools\\nSCS: Cons...   \n",
       "334  SCS: Constraint Satisfaction\\nSCS: Global Cons...   \n",
       "338  SCS: Constraint Satisfaction\\nSCS: Global Cons...   \n",
       "371                       SCS: Constraint Satisfaction   \n",
       "386  SCS: Constraint Satisfaction\\nSCS: Constraint ...   \n",
       "389  SCS: Constraint Optimization\\nSCS: SAT and CSP...   \n",
       "\n",
       "                                              abstract  \n",
       "27   The NP-hard number-partitioning problem is to ...  \n",
       "71   We present a new reasoner for RCC-8 constraint...  \n",
       "105  The paper proposes a dynamic method, Recursive...  \n",
       "111  We present three new filtering algorithms for ...  \n",
       "115  In this paper, we describe a simple randomized...  \n",
       "123  Robust scheduling is essential to many autonom...  \n",
       "155  Decomposition can be defined as a technique to...  \n",
       "164  Markov processes are widely used to generate s...  \n",
       "172  Consider a family whose home is equipped with ...  \n",
       "177  Backdoor sets represent clever reasoning short...  \n",
       "185  Core-guided approaches to solving MaxSat have ...  \n",
       "192  Bi-objective combinatorial optimization proble...  \n",
       "198  Given a CNF formula and a weight for each assi...  \n",
       "200  Singleton-based consistencies have been shown ...  \n",
       "205  The problem of checking the consistency in qua...  \n",
       "238  Newly-discovered materials have been central t...  \n",
       "250  Stochastic local search (SLS) algorithms have ...  \n",
       "273  We present a novel approach to low-dimensional...  \n",
       "277  MSS (Maximal Satisﬁable Subset) and CoMSS (als...  \n",
       "284  Our objective is to boost the state-of-the-art...  \n",
       "314  In this paper we propose a novel DCOP algorith...  \n",
       "319  Researchers have introduced the Dynamic Distri...  \n",
       "333  This paper is concerned with preprocessing tec...  \n",
       "334  Constraints over finite sequences of variables...  \n",
       "338  Constraints over variable sequences are ubiqui...  \n",
       "371  Given a set of axis-parallel n-dimensional box...  \n",
       "386  Propositional satisfiability (SAT) solvers bas...  \n",
       "389  A number of problems involve managing a set of...  "
      ]
     },
     "execution_count": 57,
     "metadata": {},
     "output_type": "execute_result"
    }
   ],
   "source": [
    "data_df[pred == 3] #分别查看每组的结果"
   ]
  },
  {
   "cell_type": "markdown",
   "metadata": {},
   "source": [
    "\n",
    "0类主要是vision, cognitive systems, nlptm；\n",
    "\n",
    "1类主要是Game Theory and Economic Paradigms (GTEP)；\n",
    "\n",
    "2类主要是AI and the Web (AIW)；\n",
    "\n",
    "3类主要是Search and Constraint Satisfaction (SCS),及和search相关的；\n",
    "\n",
    "4类主要是Novel Machine Learning Algorithms (NMLA)；\n",
    "\n",
    "5类主要是Novel Machine Learning Algorithms (NMLA)；\n",
    "\n",
    "6类主要是Novel Machine Learning Algorithms (NMLA)；\n",
    "\n",
    "7类主要是Knowledge Representation and Reasoning (KRR) 和 Planning and Scheduling (PS)；\n",
    "\n",
    "8类主要是Novel Machine Learning Algorithms (NMLA)；\n",
    "\n",
    "9类主要是machine learning applications。"
   ]
  },
  {
   "cell_type": "code",
   "execution_count": 39,
   "metadata": {},
   "outputs": [
    {
     "data": {
      "text/plain": [
       "(392, 2)"
      ]
     },
     "execution_count": 39,
     "metadata": {},
     "output_type": "execute_result"
    }
   ],
   "source": [
    "#使用TSNE对文本向量进行降维\n",
    "from sklearn.manifold import TSNE\n",
    "features_embedded = TSNE(n_components=2).fit_transform(features)\n",
    "features_embedded.shape"
   ]
  },
  {
   "cell_type": "code",
   "execution_count": 55,
   "metadata": {},
   "outputs": [
    {
     "data": {
      "text/plain": [
       "range(0, 10)"
      ]
     },
     "execution_count": 55,
     "metadata": {},
     "output_type": "execute_result"
    },
    {
     "data": {
      "image/png": "[encoded data removed]",
      "text/plain": [
       "<Figure size 432x288 with 1 Axes>"
      ]
     },
     "metadata": {},
     "output_type": "display_data"
    }
   ],
   "source": [
    "#将聚类结果可视化成散点图\n",
    "import matplotlib.pyplot as plt\n",
    "import seaborn as sns\n",
    "\n",
    "sns.set()\n",
    "for i in range(10):\n",
    "    plt.scatter(features_embedded[pred == i][:,0],features_embedded[pred == i][:,1], label = i)  \n",
    "plt.legend(loc='best')\n",
    "plt.tight_layout()\n",
    "range(10)"
   ]
  },
  {
   "cell_type": "markdown",
   "metadata": {},
   "source": [
    "从图中可以发现每个类基本上都在一起，可以说聚类效果还不错。\n",
    "而且，4、5、6、8类（Novel Machine Learning Algorithms (NMLA)相关的）都聚在了一起。"
   ]
  }
 ],
 "metadata": {
  "kernelspec": {
   "display_name": "Python 3",
   "language": "python",
   "name": "python3"
  },
  "language_info": {
   "codemirror_mode": {
    "name": "ipython",
    "version": 3
   },
   "file_extension": ".py",
   "mimetype": "text/x-python",
   "name": "python",
   "nbconvert_exporter": "python",
   "pygments_lexer": "ipython3",
   "version": "3.7.8"
  }
 },
 "nbformat": 4,
 "nbformat_minor": 4
}
