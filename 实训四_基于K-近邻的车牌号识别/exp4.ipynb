{
 "cells": [
  {
   "cell_type": "markdown",
   "metadata": {},
   "source": [
    "# Exp4: 基于K-近邻的车牌号识别"
   ]
  },
  {
   "cell_type": "markdown",
   "metadata": {},
   "source": [
    "## 目录\n",
    "### 一、案例简介\n",
    "### 二、作业说明\n",
    "### 三、数据概览\n",
    "### 四、读入数据\n",
    "### 五、模型构建\n",
    "#### 5.1 一个简单的模型\n",
    "#### 5.2 k值对准确率的影响\n",
    "#### 5.3 不同距离度量方式对模型效果的影响\n",
    "#### 5.4 加权对KNN的影响\n",
    "#### 5.5 训练集大小对测试结果的影响\n",
    "### 六、总结"
   ]
  },
  {
   "cell_type": "markdown",
   "metadata": {},
   "source": [
    "## 一、案例简介\n",
    "\n",
    "图像的智能处理一直是人工智能领域广受关注的一类技术，代表性的如人脸识别与 CT 肿瘤识别，在人工智能落地的进程中发挥着重要作用。其中车牌号识别作为一个早期应用场景，已经融入日常生活中，为我们提供了诸多便利，在各地的停车场和出入口都能看到它的身影。车牌号识别往往分为字符划分和字符识别两个子任务，本案例我们将关注字符识别的任务，尝试用 K-NN 的方法对分割好的字符图像进行自动识别和转化。\n",
    "\n",
    "## 二、作业说明\n",
    "\n",
    "### 基本要求\n",
    "* 完成数据的读入和表示，将图片表示成向量并和 label 对应上；\n",
    "* 构建 K-NN 模型（可调库）对测试集中的图片进行预测并计算准确率；\n",
    "* 分析当 K 取不同值时测试准确率的变化。\n",
    "\n",
    "### 扩展要求\n",
    "* 分析不同距离度量方式对模型效果的影响；\n",
    "* 对比平权和加权 K-NN 的效果；\n",
    "* 分析训练集大小对测试结果的影响。"
   ]
  },
  {
   "cell_type": "markdown",
   "metadata": {},
   "source": [
    "## 三、数据概览\n",
    "本次我们使用已经分割好的车牌图片作为数据集，包括数字 0-9、字母 A-Z（不包含 O 和 I）以及省份简称共 65 个类，编号从 0 到 64。数据已经分成了训练集和测试集，里面的文件夹用 label 编号命名，一个文件夹下的所有图片都属于该文件夹对应的类，每个图片都是 20 * 20 的二值化灰度图。\n",
    "\n",
    "下面演示一下如何借助 PIL 库将图片转化为向量："
   ]
  },
  {
   "cell_type": "code",
   "execution_count": 1,
   "metadata": {},
   "outputs": [
    {
     "data": {
      "image/png": "[encoded data removed]",
      "text/plain": [
       "<PIL.JpegImagePlugin.JpegImageFile image mode=L size=20x20 at 0x251EAF29B08>"
      ]
     },
     "execution_count": 1,
     "metadata": {},
     "output_type": "execute_result"
    }
   ],
   "source": [
    "from PIL import Image\n",
    "img = Image.open('data/train/0/4-3.jpg')  # 打开图片\n",
    "img  # 显示图片from PIL import Image"
   ]
  },
  {
   "cell_type": "code",
   "execution_count": 2,
   "metadata": {},
   "outputs": [
    {
     "data": {
      "text/plain": [
       "(20, 20)"
      ]
     },
     "execution_count": 2,
     "metadata": {},
     "output_type": "execute_result"
    }
   ],
   "source": [
    "import numpy as np\n",
    "pixels = np.array(img)  # 转化为 numpy 矩阵\n",
    "pixels.shape"
   ]
  },
  {
   "cell_type": "markdown",
   "metadata": {},
   "source": [
    "## 四、读入数据"
   ]
  },
  {
   "cell_type": "code",
   "execution_count": 5,
   "metadata": {},
   "outputs": [
    {
     "name": "stdout",
     "output_type": "stream",
     "text": [
      "1000\n",
      "2000\n",
      "3000\n",
      "4000\n",
      "5000\n",
      "6000\n",
      "7000\n",
      "8000\n",
      "9000\n",
      "10000\n",
      "11000\n",
      "12000\n",
      "13000\n",
      "14000\n",
      "15000\n",
      "15954 15954\n"
     ]
    }
   ],
   "source": [
    "import os\n",
    "path = r\"data/train\"\n",
    "folders= os.listdir(path)\n",
    "train_images = []\n",
    "train_labels = []\n",
    "i = 0\n",
    "for folder in folders:\n",
    "    subpath = path + '\\\\'+ folder\n",
    "    files = os.listdir(subpath)\n",
    "    for file in files:\n",
    "        i += 1\n",
    "        if(i % 1000 == 0):\n",
    "            print(i)\n",
    "        position = subpath + '\\\\' + file\n",
    "        with Image.open(position) as img:    #打开文件\n",
    "            pixels = np.array(img)\n",
    "            train_images.append(pixels)\n",
    "            train_labels.append(folder)\n",
    "            \n",
    "print(len(train_images), len(train_labels))"
   ]
  },
  {
   "cell_type": "code",
   "execution_count": 44,
   "metadata": {},
   "outputs": [],
   "source": [
    "train_x = np.array(train_images).reshape(15954, 400)\n",
    "train_y = np.array(train_labels)"
   ]
  },
  {
   "cell_type": "code",
   "execution_count": 45,
   "metadata": {},
   "outputs": [
    {
     "name": "stdout",
     "output_type": "stream",
     "text": [
      "1000\n",
      "2000\n",
      "3000\n",
      "4000\n",
      "4665 4665\n"
     ]
    }
   ],
   "source": [
    "path = r\"data/test\"\n",
    "folders= os.listdir(path)\n",
    "test_images = []\n",
    "test_labels = []\n",
    "i = 0\n",
    "for folder in folders:\n",
    "    subpath = path + '\\\\'+ folder\n",
    "    files = os.listdir(subpath)\n",
    "    for file in files:\n",
    "        i += 1\n",
    "        if(i % 1000 == 0):\n",
    "            print(i)\n",
    "        position = subpath + '\\\\' + file\n",
    "        with Image.open(position) as img:    #打开文件\n",
    "            pixels = np.array(img)\n",
    "            test_images.append(pixels)\n",
    "            test_labels.append(folder)\n",
    "            \n",
    "print(len(test_images), len(test_labels))\n",
    "test_x = np.array(test_images).reshape(-1, 400)\n",
    "test_y = np.array(test_labels)"
   ]
  },
  {
   "cell_type": "markdown",
   "metadata": {},
   "source": [
    "## 五、模型构建\n",
    "#### 5.1 一个简单的模型"
   ]
  },
  {
   "cell_type": "code",
   "execution_count": 16,
   "metadata": {},
   "outputs": [],
   "source": [
    "from sklearn.neighbors import KDTree\n",
    "tree = KDTree(train_x, leaf_size = 65)"
   ]
  },
  {
   "cell_type": "code",
   "execution_count": 22,
   "metadata": {},
   "outputs": [],
   "source": [
    "dist, ind = tree.query(test_x, k=3)"
   ]
  },
  {
   "cell_type": "code",
   "execution_count": 23,
   "metadata": {},
   "outputs": [
    {
     "data": {
      "text/plain": [
       "(array([1439.33109464, 1534.87295891, 1540.28990778]),\n",
       " array([402,  44, 404], dtype=int64))"
      ]
     },
     "execution_count": 23,
     "metadata": {},
     "output_type": "execute_result"
    }
   ],
   "source": [
    "dist[1], ind[1]"
   ]
  },
  {
   "cell_type": "code",
   "execution_count": 24,
   "metadata": {},
   "outputs": [
    {
     "data": {
      "text/plain": [
       "array(['0', '0', '0'], dtype='<U2')"
      ]
     },
     "execution_count": 24,
     "metadata": {},
     "output_type": "execute_result"
    }
   ],
   "source": [
    "train_y[ind[1]]"
   ]
  },
  {
   "cell_type": "code",
   "execution_count": 38,
   "metadata": {},
   "outputs": [],
   "source": [
    "#取出众数（平权投票）\n",
    "def mod(y):\n",
    "    if len(y)==1:\n",
    "            return y[0]\n",
    "    numDic = {} #建字典\n",
    "    for i in y:\n",
    "        if i in numDic.keys():\n",
    "            numDic[i] += 1 #如果有这个label就+1\n",
    "            if numDic.get(i)>=(len(y)+1)/2: #如果这个label的数量超过一半，直接返回label\n",
    "                    return i\n",
    "        else:\n",
    "            numDic[i] = 1\n",
    "    maxkey = 0\n",
    "    maxvalue = 0\n",
    "    for key, value in numDic.items():\n",
    "        if value > maxvalue: maxkey = key\n",
    "    return maxkey\n",
    "\n",
    "#预测函数\n",
    "def predict_(indices):\n",
    "    pred = []\n",
    "    for indice in indices:\n",
    "        p_labels = train_y[indice] #取出所有predict的label\n",
    "        p = mod(p_labels) #取出众数\n",
    "        pred.append(p)\n",
    "    return pred\n",
    "\n",
    "计算accuracy\n",
    "def acc(p, y):\n",
    "    count = 0\n",
    "    for i, pred in enumerate(p):\n",
    "        if p[i] == y[i]: count += 1\n",
    "    return count / len(p)"
   ]
  },
  {
   "cell_type": "code",
   "execution_count": 39,
   "metadata": {},
   "outputs": [],
   "source": [
    "pred = predict_(ind)"
   ]
  },
  {
   "cell_type": "code",
   "execution_count": 43,
   "metadata": {},
   "outputs": [
    {
     "name": "stdout",
     "output_type": "stream",
     "text": [
      "Accuracy:  0.7018220793140407\n",
      "No of Samples:  4665\n"
     ]
    }
   ],
   "source": [
    "print(\"Accuracy: \", acc(pred, test_y))\n",
    "print(\"No of Samples: \", len(pred))"
   ]
  },
  {
   "cell_type": "markdown",
   "metadata": {},
   "source": [
    "置信度为95%的置信区间：0.7018 +- 0.0132"
   ]
  },
  {
   "cell_type": "markdown",
   "metadata": {},
   "source": [
    "### 5.2 k值对准确率的影响"
   ]
  },
  {
   "cell_type": "code",
   "execution_count": 46,
   "metadata": {},
   "outputs": [
    {
     "name": "stdout",
     "output_type": "stream",
     "text": [
      "k =  1 \t Accuracy:  0.7018220793140407\n",
      "k =  2 \t Accuracy:  0.7168274383708467\n",
      "k =  3 \t Accuracy:  0.6891747052518756\n",
      "k =  4 \t Accuracy:  0.7018220793140407\n",
      "k =  5 \t Accuracy:  0.6806002143622722\n",
      "k =  6 \t Accuracy:  0.685101822079314\n",
      "k =  7 \t Accuracy:  0.6655948553054662\n",
      "k =  9 \t Accuracy:  0.6718113612004287\n",
      "k =  11 \t Accuracy:  0.6555198285101822\n",
      "k =  13 \t Accuracy:  0.6463022508038585\n",
      "k =  15 \t Accuracy:  0.6327974276527332\n",
      "k =  17 \t Accuracy:  0.6231511254019293\n",
      "k =  19 \t Accuracy:  0.6167202572347267\n",
      "k =  25 \t Accuracy:  0.6068595927116828\n",
      "k =  31 \t Accuracy:  0.5802786709539121\n",
      "k =  41 \t Accuracy:  0.5659163987138264\n",
      "k =  51 \t Accuracy:  0.5489817792068596\n"
     ]
    }
   ],
   "source": [
    "list_k = [1, 2, 3, 4, 5, 6, 7, 9, 11, 13, 15, 17, 19, 25, 31, 41, 51]\n",
    "\n",
    "accs = []\n",
    "\n",
    "for kvalue in list_k:\n",
    "    dist, ind = tree.query(test_x, k=kvalue)\n",
    "    a = acc(pred, test_y)\n",
    "    pred = predict_(ind)\n",
    "    print(\"k = \", kvalue, \"\\t Accuracy: \", a)\n",
    "    accs.append(a)"
   ]
  },
  {
   "cell_type": "code",
   "execution_count": 70,
   "metadata": {},
   "outputs": [
    {
     "data": {
      "text/plain": [
       "[<matplotlib.lines.Line2D at 0x25192665708>]"
      ]
     },
     "execution_count": 70,
     "metadata": {},
     "output_type": "execute_result"
    },
    {
     "data": {
      "image/png": "[encoded data removed]",
      "text/plain": [
       "<Figure size 432x288 with 1 Axes>"
      ]
     },
     "metadata": {
      "needs_background": "light"
     },
     "output_type": "display_data"
    }
   ],
   "source": [
    "import matplotlib.pyplot as plt\n",
    "error = []\n",
    "accs = np.array(accs)\n",
    "for i in accs:\n",
    "    err = 1.96 * np.sqrt(i*(1-i) / 4665) #95%置信区间的error\n",
    "    error.append(err)\n",
    "\n",
    "error = np.array(error)\n",
    "accupper = accs + error\n",
    "acclower = accs - error\n",
    "plt.plot(list_k,accs, color = 'blue')\n",
    "plt.plot(list_k,accupper,color = 'lightblue')\n",
    "plt.plot(list_k,acclower, color = 'lightblue')"
   ]
  },
  {
   "cell_type": "markdown",
   "metadata": {},
   "source": [
    "随着K的增长，准确率逐渐下降。其原因可能是更多距离较远的neighbour参与了平权投票，影响了最后predict出的结果。"
   ]
  },
  {
   "cell_type": "markdown",
   "metadata": {},
   "source": [
    "### 5.3 不同距离度量方式对模型效果的影响"
   ]
  },
  {
   "cell_type": "code",
   "execution_count": 57,
   "metadata": {},
   "outputs": [
    {
     "name": "stdout",
     "output_type": "stream",
     "text": [
      "metric:  manhattan \t Accuracy:  0.6921757770632369\n",
      "metric:  euclidean \t Accuracy:  0.6968917470525188\n",
      "metric:  chebyshev \t Accuracy:  0.4287245444801715\n"
     ]
    }
   ],
   "source": [
    "from sklearn.neighbors import KNeighborsClassifier\n",
    "\n",
    "metrics = ['manhattan', 'euclidean', 'chebyshev']\n",
    "accs2 = []\n",
    "for metric in metrics:\n",
    "    tree2 = KNeighborsClassifier(algorithm = 'kd_tree', leaf_size = 65,  metric = metric)\n",
    "    tree2.fit(train_x, train_y)\n",
    "    pred = tree2.predict(test_x)\n",
    "    a = acc(pred, test_y)\n",
    "    print(\"metric: \", metric, \"\\t Accuracy: \", a)\n",
    "    accs2.append(a)"
   ]
  },
  {
   "cell_type": "code",
   "execution_count": 71,
   "metadata": {},
   "outputs": [
    {
     "data": {
      "text/plain": [
       "<matplotlib.collections.PathCollection at 0x251926d3f48>"
      ]
     },
     "execution_count": 71,
     "metadata": {},
     "output_type": "execute_result"
    },
    {
     "data": {
      "image/png": "[encoded data removed]",
      "text/plain": [
       "<Figure size 432x288 with 1 Axes>"
      ]
     },
     "metadata": {
      "needs_background": "light"
     },
     "output_type": "display_data"
    }
   ],
   "source": [
    "error2 = []\n",
    "accs2 = np.array(accs2)\n",
    "for i in accs2:\n",
    "    err = 1.96 * np.sqrt(i*(1-i) / 4665) #95%置信区间的error\n",
    "    error2.append(err)\n",
    "\n",
    "error2 = np.array(error2)\n",
    "accupper2 = accs2 + error2\n",
    "acclower2 = accs2 - error2\n",
    "plt.scatter(metrics, accs2, color = 'blue')\n",
    "plt.scatter(metrics,accupper2, color = 'lightblue')\n",
    "plt.scatter(metrics,acclower2, color = 'lightblue')"
   ]
  },
  {
   "cell_type": "markdown",
   "metadata": {},
   "source": [
    "从图中可以发现，使用欧几里得距离和曼哈顿距离的效果近似，且都远好于使用切比雪夫距离。这说明切比雪夫距离不适用与这个模型中。"
   ]
  },
  {
   "cell_type": "markdown",
   "metadata": {},
   "source": [
    "### 5.4 加权对KNN的影响"
   ]
  },
  {
   "cell_type": "code",
   "execution_count": 67,
   "metadata": {},
   "outputs": [
    {
     "name": "stdout",
     "output_type": "stream",
     "text": [
      "Weight = 1 / distance\n",
      "k =  1 \t Accuracy:  0.7168274383708467\n",
      "k =  2 \t Accuracy:  0.7168274383708467\n",
      "k =  3 \t Accuracy:  0.7103965702036441\n",
      "k =  4 \t Accuracy:  0.7078242229367632\n",
      "k =  5 \t Accuracy:  0.7016077170418007\n",
      "k =  6 \t Accuracy:  0.6992497320471597\n",
      "k =  7 \t Accuracy:  0.6992497320471597\n",
      "k =  9 \t Accuracy:  0.6949624866023579\n",
      "k =  11 \t Accuracy:  0.6930332261521972\n",
      "k =  13 \t Accuracy:  0.6881028938906752\n",
      "k =  15 \t Accuracy:  0.6821007502679528\n",
      "k =  17 \t Accuracy:  0.6769560557341908\n",
      "k =  19 \t Accuracy:  0.6718113612004287\n",
      "k =  25 \t Accuracy:  0.6514469453376206\n",
      "k =  31 \t Accuracy:  0.6439442658092176\n",
      "k =  41 \t Accuracy:  0.6272240085744909\n",
      "k =  51 \t Accuracy:  0.6188638799571275\n"
     ]
    }
   ],
   "source": [
    "from sklearn.neighbors import KNeighborsClassifier\n",
    "accs3 = []\n",
    "print(\"Weight = 1 / distance\")\n",
    "for kvalue in list_k:\n",
    "    tree3 = KNeighborsClassifier(n_neighbors = kvalue, weights ='distance', algorithm = 'kd_tree', leaf_size = 65)\n",
    "    tree3.fit(train_x, train_y)\n",
    "    pred = tree3.predict(test_x)\n",
    "    a = acc(pred, test_y)\n",
    "    print(\"k = \", kvalue, \"\\t Accuracy: \", a)\n",
    "    accs3.append(a)"
   ]
  },
  {
   "cell_type": "code",
   "execution_count": 75,
   "metadata": {},
   "outputs": [
    {
     "data": {
      "text/plain": [
       "[<matplotlib.lines.Line2D at 0x251929c56c8>]"
      ]
     },
     "execution_count": 75,
     "metadata": {},
     "output_type": "execute_result"
    },
    {
     "data": {
      "image/png": "[encoded data removed]",
      "text/plain": [
       "<Figure size 432x288 with 1 Axes>"
      ]
     },
     "metadata": {
      "needs_background": "light"
     },
     "output_type": "display_data"
    }
   ],
   "source": [
    "error3 = []\n",
    "accs3 = np.array(accs3)\n",
    "for i in accs:\n",
    "    err = 1.96 * np.sqrt(i*(1-i) / 4665) #95%置信区间的error\n",
    "    error3.append(err)\n",
    "\n",
    "error3 = np.array(error3)\n",
    "accupper3 = accs3 + error3\n",
    "acclower3 = accs3 - error3\n",
    "plt.plot(list_k,accs3, color = 'blue', label = '加权')\n",
    "plt.plot(list_k,accupper3, color = 'lightblue')\n",
    "plt.plot(list_k,acclower3, color = 'lightblue' )\n",
    "plt.plot(list_k,accs, color = 'red', label = '平权')\n",
    "plt.plot(list_k,accupper,color = 'coral')\n",
    "plt.plot(list_k,acclower, color = 'coral')"
   ]
  },
  {
   "cell_type": "markdown",
   "metadata": {},
   "source": [
    "距离加权后，准确率总体提高了。且随着k值的增加，准确率下降趋势放缓，这说明距离加权后，越远的点对最终判断的影响越小。"
   ]
  },
  {
   "cell_type": "markdown",
   "metadata": {},
   "source": [
    "思考：距离加权，改变核宽度，会带来什么影响呢？"
   ]
  },
  {
   "cell_type": "code",
   "execution_count": 108,
   "metadata": {},
   "outputs": [],
   "source": [
    "#传入distance array, 核宽度（默认为1/16 * 256 = 16），返回weight array\n",
    "from copy import deepcopy\n",
    "from math import exp\n",
    "\n",
    "def kweight(dis, k = 16):\n",
    "    weights = deepcopy(dis)\n",
    "    for i, dist in enumerate(dis):\n",
    "        weights[i] = exp(-dist*dist/(k*k))\n",
    "    return weights\n",
    "\n",
    "def predict3_(dis, indices, kk):\n",
    "    pred = []\n",
    "    for i, indice in enumerate(indices):\n",
    "        p_labels = train_y[indice]\n",
    "        w = kweight(dis[i], kk)\n",
    "        uniq = list(set(p_labels))\n",
    "        ww = []\n",
    "        for label in uniq:\n",
    "            wcount = 0\n",
    "            for i, p in enumerate(p_labels):\n",
    "                if p == label: wcount += w[i]\n",
    "            ww.append(wcount)\n",
    "        p = uniq[np.argmax(ww)]\n",
    "        pred.append(p)\n",
    "        \n",
    "    return pred\n",
    "\n"
   ]
  },
  {
   "cell_type": "code",
   "execution_count": 104,
   "metadata": {},
   "outputs": [
    {
     "name": "stdout",
     "output_type": "stream",
     "text": [
      "KDTree has been trained.\n",
      "3 neighbours for each test sample has been found.\n"
     ]
    }
   ],
   "source": [
    "weightk = [1, 2, 4, 8, 16, 32, 64, 128, 256]\n",
    "tree = KDTree(train_x, leaf_size = 65)   \n",
    "print(\"KDTree has been trained.\")\n",
    "dist, ind = tree.query(test_x, k=3)\n",
    "print(\"3 neighbours for each test sample have been found.\")"
   ]
  },
  {
   "cell_type": "code",
   "execution_count": 109,
   "metadata": {},
   "outputs": [
    {
     "name": "stdout",
     "output_type": "stream",
     "text": [
      "k =  1 \t Accuracy:  0.742336548767417\n",
      "k =  2 \t Accuracy:  0.742336548767417\n",
      "k =  4 \t Accuracy:  0.742336548767417\n",
      "k =  8 \t Accuracy:  0.742336548767417\n",
      "k =  16 \t Accuracy:  0.742336548767417\n",
      "k =  32 \t Accuracy:  0.742550911039657\n",
      "k =  64 \t Accuracy:  0.7247588424437299\n",
      "k =  128 \t Accuracy:  0.717470525187567\n",
      "k =  256 \t Accuracy:  0.7187566988210075\n"
     ]
    }
   ],
   "source": [
    "accs5 = []\n",
    "for kk in weightk:   \n",
    "    pred = predict3_(dist, ind, kk)\n",
    "    a = acc(pred, test_y)\n",
    "    print(\"k = \", kk , \"\\t Accuracy: \", a)\n",
    "    accs5.append(a)"
   ]
  },
  {
   "cell_type": "code",
   "execution_count": 110,
   "metadata": {},
   "outputs": [
    {
     "name": "stdout",
     "output_type": "stream",
     "text": [
      "KDTree has been trained.\n",
      "30 neighbours for each test sample have been found.\n"
     ]
    }
   ],
   "source": [
    "tree = KDTree(train_x, leaf_size = 65)   \n",
    "print(\"KDTree has been trained.\")\n",
    "dist, ind = tree.query(test_x, k=30)\n",
    "print(\"30 neighbours for each test sample have been found.\")"
   ]
  },
  {
   "cell_type": "code",
   "execution_count": 111,
   "metadata": {},
   "outputs": [
    {
     "name": "stdout",
     "output_type": "stream",
     "text": [
      "k =  1 \t Accuracy:  0.5560557341907825\n",
      "k =  2 \t Accuracy:  0.5560557341907825\n",
      "k =  4 \t Accuracy:  0.5560557341907825\n",
      "k =  8 \t Accuracy:  0.5560557341907825\n",
      "k =  16 \t Accuracy:  0.5560557341907825\n",
      "k =  32 \t Accuracy:  0.5618435155412648\n",
      "k =  64 \t Accuracy:  0.685101822079314\n",
      "k =  128 \t Accuracy:  0.7176848874598071\n",
      "k =  256 \t Accuracy:  0.7181136120042872\n"
     ]
    }
   ],
   "source": [
    "accs6 = []\n",
    "for kk in weightk:   \n",
    "    pred = predict3_(dist, ind, kk)\n",
    "    a = acc(pred, test_y)\n",
    "    print(\"k = \", kk , \"\\t Accuracy: \", a)\n",
    "    accs6.append(a)"
   ]
  },
  {
   "cell_type": "markdown",
   "metadata": {},
   "source": [
    "有趣的现象，选择3个邻居时，随着核宽度的增加，Accuracy可能出现了下降趋势；但是选择30个邻居时，随着核宽度的增加，accuracy逐渐增加。\n",
    "\n",
    "\n",
    "思考：这是为什么呢？？"
   ]
  },
  {
   "cell_type": "markdown",
   "metadata": {},
   "source": [
    "### 5.5 训练集大小对测试结果的影响"
   ]
  },
  {
   "cell_type": "code",
   "execution_count": 88,
   "metadata": {},
   "outputs": [
    {
     "name": "stdout",
     "output_type": "stream",
     "text": [
      "n =  1 \t Accuracy:  0.07717041800643087\n",
      "n =  2 \t Accuracy:  0.2898177920685959\n",
      "n =  3 \t Accuracy:  0.362486602357985\n",
      "n =  4 \t Accuracy:  0.3969989281886388\n",
      "n =  5 \t Accuracy:  0.4398713826366559\n",
      "n =  6 \t Accuracy:  0.45209003215434085\n",
      "n =  7 \t Accuracy:  0.46966773847802784\n",
      "n =  8 \t Accuracy:  0.4739549839228296\n",
      "n =  9 \t Accuracy:  0.4979635584137192\n",
      "n =  10 \t Accuracy:  0.5018220793140408\n",
      "n =  15 \t Accuracy:  0.5393354769560558\n",
      "n =  20 \t Accuracy:  0.5573419078242229\n",
      "n =  30 \t Accuracy:  0.5933547695605573\n",
      "n =  50 \t Accuracy:  0.632583065380493\n",
      "n =  100 \t Accuracy:  0.6531618435155413\n",
      "n =  150 \t Accuracy:  0.6508038585209003\n",
      "n =  200 \t Accuracy:  0.6790996784565917\n",
      "n =  300 \t Accuracy:  0.7061093247588425\n"
     ]
    }
   ],
   "source": [
    "#每个分类，最多读取多少个样本\n",
    "nEach = [1, 2, 3, 4, 5, 6, 7, 8, 9, 10, 15, 20, 30, 50, 100, 150, 200, 300]\n",
    "\n",
    "accs4 = []\n",
    "\n",
    "def predict2_(indices):\n",
    "    pred = []\n",
    "    for indice in indices:\n",
    "        p_labels = train_y2[indice] #取出所有predict的label\n",
    "        p = mod(p_labels) #取出众数\n",
    "        pred.append(p)\n",
    "    return pred\n",
    "\n",
    "for neach in nEach:\n",
    "    path = r\"data/train\"\n",
    "    folders= os.listdir(path)\n",
    "    train_images2 = []\n",
    "    train_labels2 = []\n",
    "    for folder in folders:\n",
    "        j = 0\n",
    "        subpath = path + '\\\\'+ folder\n",
    "        files = os.listdir(subpath)\n",
    "        for file in files:\n",
    "            j+=1\n",
    "            if j <= neach: \n",
    "                position = subpath + '\\\\' + file\n",
    "                with Image.open(position) as img:    #打开文件\n",
    "                    pixels = np.array(img)\n",
    "                    train_images2.append(pixels)\n",
    "                    train_labels2.append(folder)\n",
    "    \n",
    "    train_x2 = np.array(train_images2).reshape(-1, 400)\n",
    "    train_y2 = np.array(train_labels2)\n",
    "\n",
    "    tree = KDTree(train_x2, leaf_size = 65)   \n",
    "    dist, ind = tree.query(test_x, k=3)\n",
    "    pred = predict2_(ind)\n",
    "    a = acc(pred, test_y)\n",
    "    print(\"n = \", neach, \"\\t Accuracy: \", a)\n",
    "    accs4.append(a)\n",
    "            \n"
   ]
  },
  {
   "cell_type": "code",
   "execution_count": 112,
   "metadata": {},
   "outputs": [
    {
     "data": {
      "image/png": "[encoded data removed]",
      "text/plain": [
       "<Figure size 432x288 with 2 Axes>"
      ]
     },
     "metadata": {
      "needs_background": "light"
     },
     "output_type": "display_data"
    }
   ],
   "source": [
    "accs4 = np.array(accs4)\n",
    "error4 = []\n",
    "for i in accs4:\n",
    "    err = 1.96 * np.sqrt(i*(1-i) / 4665) #95%置信区间的error\n",
    "    error4.append(err)\n",
    "\n",
    "error4 = np.array(error4)\n",
    "accupper4 = accs4 + error4\n",
    "acclower4 = accs4 - error4\n",
    "\n",
    "plt.subplot(1, 2, 1)\n",
    "plt.plot(nEach,accs4, color = 'blue')\n",
    "plt.plot(nEach,accupper4, color = 'lightblue')\n",
    "plt.plot(nEach,acclower4, color = 'lightblue' )\n",
    "plt.xlabel('# of sample of each label')\n",
    "\n",
    "plt.subplot(1, 2, 2)\n",
    "plt.plot(nEach,accs4, color = 'blue')\n",
    "plt.plot(nEach,accupper4, color = 'lightblue')\n",
    "plt.plot(nEach,acclower4, color = 'lightblue' )\n",
    "plt.xlabel('# of sample of each label')\n",
    "plt.xscale('log')"
   ]
  },
  {
   "cell_type": "markdown",
   "metadata": {},
   "source": [
    "随着训练集样本数量的增加，K=3的KNN准确率逐渐增加。当n<=5的时候，提升尤其明显。后期，随着n的增加，accuracy甚至可能下降，这可能是因为噪声的影响。\n",
    "总体上升的趋势说明，更大的有效训练集有利于提高模型的预测结果。"
   ]
  },
  {
   "cell_type": "markdown",
   "metadata": {},
   "source": [
    "## 六、总结"
   ]
  },
  {
   "cell_type": "markdown",
   "metadata": {},
   "source": [
    "在这次的实训案例中，学习实践了KNN模型的搭建，体会了k值、距离度量方式、加权方式、训练集大小对KNN模型效果的影响。对KNN有了更深入的了解，但同时也带来了很多疑惑和深入探究的可能。时间有限，很多地方没有再深入讨论。"
   ]
  }
 ],
 "metadata": {
  "kernelspec": {
   "display_name": "Python 3",
   "language": "python",
   "name": "python3"
  },
  "language_info": {
   "codemirror_mode": {
    "name": "ipython",
    "version": 3
   },
   "file_extension": ".py",
   "mimetype": "text/x-python",
   "name": "python",
   "nbconvert_exporter": "python",
   "pygments_lexer": "ipython3",
   "version": "3.7.8"
  }
 },
 "nbformat": 4,
 "nbformat_minor": 4
}
