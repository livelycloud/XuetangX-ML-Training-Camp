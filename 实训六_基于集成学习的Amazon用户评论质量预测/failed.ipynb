{
  "nbformat": 4,
  "nbformat_minor": 0,
  "metadata": {
    "colab": {
      "name": "failed.ipynb",
      "provenance": []
    },
    "kernelspec": {
      "name": "python3",
      "display_name": "Python 3"
    },
    "accelerator": "GPU"
  },
  "cells": [
    {
      "cell_type": "code",
      "metadata": {
        "id": "1SMl_ZVfDV3b"
      },
      "source": [
        "import torch\r\n",
        "import pandas as pd\r\n",
        "import numpy as np\r\n",
        "import torch.optim as optim \r\n",
        "import torch.nn.functional as F\r\n",
        "from sklearn.model_selection import train_test_split\r\n",
        "from torch.distributions.one_hot_categorical import OneHotCategorical"
      ],
      "execution_count": null,
      "outputs": []
    },
    {
      "cell_type": "code",
      "metadata": {
        "colab": {
          "base_uri": "https://localhost:8080/",
          "height": 619
        },
        "id": "t-qfJz1gDGP2",
        "outputId": "d401e9e1-10cd-49a2-c114-b5668dcc96e9"
      },
      "source": [
        "train_df = pd.read_csv('/content/drive/MyDrive/Colab Notebooks/xtzx/hw6/data/clean.csv', sep='\\t')\r\n",
        "train_df.head()  "
      ],
      "execution_count": null,
      "outputs": [
        {
          "output_type": "execute_result",
          "data": {
            "text/html": [
              "<div>\n",
              "<style scoped>\n",
              "    .dataframe tbody tr th:only-of-type {\n",
              "        vertical-align: middle;\n",
              "    }\n",
              "\n",
              "    .dataframe tbody tr th {\n",
              "        vertical-align: top;\n",
              "    }\n",
              "\n",
              "    .dataframe thead th {\n",
              "        text-align: right;\n",
              "    }\n",
              "</style>\n",
              "<table border=\"1\" class=\"dataframe\">\n",
              "  <thead>\n",
              "    <tr style=\"text-align: right;\">\n",
              "      <th></th>\n",
              "      <th>Unnamed: 0</th>\n",
              "      <th>reviewerID</th>\n",
              "      <th>asin</th>\n",
              "      <th>reviewText</th>\n",
              "      <th>overall</th>\n",
              "      <th>votes_up</th>\n",
              "      <th>votes_all</th>\n",
              "      <th>label</th>\n",
              "      <th>text_clean</th>\n",
              "      <th>sentiment</th>\n",
              "      <th>word_count</th>\n",
              "      <th>char_count</th>\n",
              "      <th>sentence_count</th>\n",
              "      <th>avg_word_length</th>\n",
              "      <th>avg_sentence_lenght</th>\n",
              "    </tr>\n",
              "  </thead>\n",
              "  <tbody>\n",
              "    <tr>\n",
              "      <th>0</th>\n",
              "      <td>0</td>\n",
              "      <td>7885</td>\n",
              "      <td>3901</td>\n",
              "      <td>First off, allow me to correct a common mistak...</td>\n",
              "      <td>5.0</td>\n",
              "      <td>6</td>\n",
              "      <td>7</td>\n",
              "      <td>0</td>\n",
              "      <td>first allow correct common mistake made one re...</td>\n",
              "      <td>0.198494</td>\n",
              "      <td>416</td>\n",
              "      <td>1987</td>\n",
              "      <td>13</td>\n",
              "      <td>4.776442</td>\n",
              "      <td>32.000000</td>\n",
              "    </tr>\n",
              "    <tr>\n",
              "      <th>1</th>\n",
              "      <td>1</td>\n",
              "      <td>52087</td>\n",
              "      <td>47978</td>\n",
              "      <td>I am really troubled by this Story and Enterta...</td>\n",
              "      <td>3.0</td>\n",
              "      <td>99</td>\n",
              "      <td>134</td>\n",
              "      <td>0</td>\n",
              "      <td>really troubled story entertained way presente...</td>\n",
              "      <td>0.030000</td>\n",
              "      <td>477</td>\n",
              "      <td>2225</td>\n",
              "      <td>21</td>\n",
              "      <td>4.664570</td>\n",
              "      <td>22.714286</td>\n",
              "    </tr>\n",
              "    <tr>\n",
              "      <th>2</th>\n",
              "      <td>2</td>\n",
              "      <td>5701</td>\n",
              "      <td>3667</td>\n",
              "      <td>A near-perfect film version of a downright glo...</td>\n",
              "      <td>4.0</td>\n",
              "      <td>14</td>\n",
              "      <td>14</td>\n",
              "      <td>1</td>\n",
              "      <td>nearperfect film version downright gloomy play...</td>\n",
              "      <td>0.221667</td>\n",
              "      <td>71</td>\n",
              "      <td>357</td>\n",
              "      <td>4</td>\n",
              "      <td>5.028169</td>\n",
              "      <td>17.750000</td>\n",
              "    </tr>\n",
              "    <tr>\n",
              "      <th>3</th>\n",
              "      <td>3</td>\n",
              "      <td>47191</td>\n",
              "      <td>40892</td>\n",
              "      <td>Keep your expectations low.  Really really low...</td>\n",
              "      <td>1.0</td>\n",
              "      <td>4</td>\n",
              "      <td>7</td>\n",
              "      <td>0</td>\n",
              "      <td>keep expectation low really really low may ent...</td>\n",
              "      <td>-0.106471</td>\n",
              "      <td>117</td>\n",
              "      <td>577</td>\n",
              "      <td>14</td>\n",
              "      <td>4.931624</td>\n",
              "      <td>8.357143</td>\n",
              "    </tr>\n",
              "    <tr>\n",
              "      <th>4</th>\n",
              "      <td>4</td>\n",
              "      <td>40957</td>\n",
              "      <td>15367</td>\n",
              "      <td>\"they dont make em like this no more...\"well.....</td>\n",
              "      <td>5.0</td>\n",
              "      <td>3</td>\n",
              "      <td>6</td>\n",
              "      <td>0</td>\n",
              "      <td>dont make em like morewell throw phrase window...</td>\n",
              "      <td>0.037500</td>\n",
              "      <td>98</td>\n",
              "      <td>461</td>\n",
              "      <td>21</td>\n",
              "      <td>4.704082</td>\n",
              "      <td>4.666667</td>\n",
              "    </tr>\n",
              "  </tbody>\n",
              "</table>\n",
              "</div>"
            ],
            "text/plain": [
              "   Unnamed: 0  reviewerID  ...  avg_word_length avg_sentence_lenght\n",
              "0           0        7885  ...         4.776442           32.000000\n",
              "1           1       52087  ...         4.664570           22.714286\n",
              "2           2        5701  ...         5.028169           17.750000\n",
              "3           3       47191  ...         4.931624            8.357143\n",
              "4           4       40957  ...         4.704082            4.666667\n",
              "\n",
              "[5 rows x 15 columns]"
            ]
          },
          "metadata": {
            "tags": []
          },
          "execution_count": 2
        }
      ]
    },
    {
      "cell_type": "code",
      "metadata": {
        "colab": {
          "base_uri": "https://localhost:8080/",
          "height": 585
        },
        "id": "xNl1bPleDdXa",
        "outputId": "1dd259c9-7c80-4a91-fdd7-64473cf5c827"
      },
      "source": [
        "test_df = pd.read_csv('/content/drive/MyDrive/Colab Notebooks/xtzx/hw6/data/clean_test.csv', sep='\\t')\r\n",
        "test_df.head()  "
      ],
      "execution_count": null,
      "outputs": [
        {
          "output_type": "execute_result",
          "data": {
            "text/html": [
              "<div>\n",
              "<style scoped>\n",
              "    .dataframe tbody tr th:only-of-type {\n",
              "        vertical-align: middle;\n",
              "    }\n",
              "\n",
              "    .dataframe tbody tr th {\n",
              "        vertical-align: top;\n",
              "    }\n",
              "\n",
              "    .dataframe thead th {\n",
              "        text-align: right;\n",
              "    }\n",
              "</style>\n",
              "<table border=\"1\" class=\"dataframe\">\n",
              "  <thead>\n",
              "    <tr style=\"text-align: right;\">\n",
              "      <th></th>\n",
              "      <th>Unnamed: 0</th>\n",
              "      <th>Id</th>\n",
              "      <th>reviewerID</th>\n",
              "      <th>asin</th>\n",
              "      <th>reviewText</th>\n",
              "      <th>overall</th>\n",
              "      <th>text_clean</th>\n",
              "      <th>sentiment</th>\n",
              "      <th>word_count</th>\n",
              "      <th>char_count</th>\n",
              "      <th>sentence_count</th>\n",
              "      <th>avg_word_length</th>\n",
              "      <th>avg_sentence_lenght</th>\n",
              "    </tr>\n",
              "  </thead>\n",
              "  <tbody>\n",
              "    <tr>\n",
              "      <th>0</th>\n",
              "      <td>0</td>\n",
              "      <td>0</td>\n",
              "      <td>82947</td>\n",
              "      <td>37386</td>\n",
              "      <td>I REALLY wanted this series but I am in SHOCK ...</td>\n",
              "      <td>1.0</td>\n",
              "      <td>really wanted series shock price series would ...</td>\n",
              "      <td>0.200000</td>\n",
              "      <td>39</td>\n",
              "      <td>158</td>\n",
              "      <td>4</td>\n",
              "      <td>4.051282</td>\n",
              "      <td>9.750000</td>\n",
              "    </tr>\n",
              "    <tr>\n",
              "      <th>1</th>\n",
              "      <td>1</td>\n",
              "      <td>1</td>\n",
              "      <td>10154</td>\n",
              "      <td>23543</td>\n",
              "      <td>I have to say that this is a work of art for m...</td>\n",
              "      <td>4.0</td>\n",
              "      <td>say work art movie production value definitely...</td>\n",
              "      <td>0.296491</td>\n",
              "      <td>169</td>\n",
              "      <td>777</td>\n",
              "      <td>11</td>\n",
              "      <td>4.597633</td>\n",
              "      <td>15.363636</td>\n",
              "    </tr>\n",
              "    <tr>\n",
              "      <th>2</th>\n",
              "      <td>2</td>\n",
              "      <td>2</td>\n",
              "      <td>5789</td>\n",
              "      <td>5724</td>\n",
              "      <td>Alien 3 is certainly the most controversal fil...</td>\n",
              "      <td>3.0</td>\n",
              "      <td>alien 3 certainly controversal film alien seri...</td>\n",
              "      <td>0.016857</td>\n",
              "      <td>365</td>\n",
              "      <td>1699</td>\n",
              "      <td>21</td>\n",
              "      <td>4.654795</td>\n",
              "      <td>17.380952</td>\n",
              "    </tr>\n",
              "    <tr>\n",
              "      <th>3</th>\n",
              "      <td>3</td>\n",
              "      <td>3</td>\n",
              "      <td>9198</td>\n",
              "      <td>5909</td>\n",
              "      <td>I love this film...preachy?  Well, of course i...</td>\n",
              "      <td>5.0</td>\n",
              "      <td>love filmpreachy well course also lyrical beau...</td>\n",
              "      <td>0.333766</td>\n",
              "      <td>71</td>\n",
              "      <td>326</td>\n",
              "      <td>14</td>\n",
              "      <td>4.591549</td>\n",
              "      <td>5.071429</td>\n",
              "    </tr>\n",
              "    <tr>\n",
              "      <th>4</th>\n",
              "      <td>4</td>\n",
              "      <td>4</td>\n",
              "      <td>33252</td>\n",
              "      <td>21214</td>\n",
              "      <td>Even though I previously bought the Gamera Dou...</td>\n",
              "      <td>5.0</td>\n",
              "      <td>even though previously bought gamera double fe...</td>\n",
              "      <td>0.246667</td>\n",
              "      <td>78</td>\n",
              "      <td>384</td>\n",
              "      <td>6</td>\n",
              "      <td>4.923077</td>\n",
              "      <td>13.000000</td>\n",
              "    </tr>\n",
              "  </tbody>\n",
              "</table>\n",
              "</div>"
            ],
            "text/plain": [
              "   Unnamed: 0  Id  ...  avg_word_length  avg_sentence_lenght\n",
              "0           0   0  ...         4.051282             9.750000\n",
              "1           1   1  ...         4.597633            15.363636\n",
              "2           2   2  ...         4.654795            17.380952\n",
              "3           3   3  ...         4.591549             5.071429\n",
              "4           4   4  ...         4.923077            13.000000\n",
              "\n",
              "[5 rows x 13 columns]"
            ]
          },
          "metadata": {
            "tags": []
          },
          "execution_count": 3
        }
      ]
    },
    {
      "cell_type": "code",
      "metadata": {
        "id": "A9rt3XxyK9sk"
      },
      "source": [
        "bert_train = np.load(\"/content/drive/MyDrive/Colab Notebooks/xtzx/hw6/data/bert_clean_train.npy\")\r\n",
        "# bert_test = np.load(\"/content/drive/MyDrive/Colab Notebooks/xtzx/hw6/data/bert_clean_test.npy\")"
      ],
      "execution_count": null,
      "outputs": []
    },
    {
      "cell_type": "code",
      "metadata": {
        "id": "Cq-16ZcQLTVo"
      },
      "source": [
        "small_batch_bert_train = bert_train[:2000]\r\n",
        "small_batch_labels = train_df['label'][:2000]\r\n",
        "X = small_batch_bert_train\r\n",
        "y = small_batch_labels\r\n",
        "\r\n",
        "x_train, x_test, y_train, y_test = train_test_split(X, y, test_size = 0.2, random_state = 2020)"
      ],
      "execution_count": null,
      "outputs": []
    },
    {
      "cell_type": "code",
      "metadata": {
        "id": "Uwj0TB038ad0"
      },
      "source": [
        "#一个简单的CNN模型\r\n",
        "class Net(torch.nn.Module):\r\n",
        "  def __init__(self):\r\n",
        "    super(Net, self).__init__()\r\n",
        "    self.l0 = torch.nn.Dropout(p = 0.2)\r\n",
        "    self.l1 = torch.nn.Linear(768, 512)\r\n",
        "    self.l2 = torch.nn.Linear(512, 256)\r\n",
        "    self.l3 = torch.nn.Linear(256, 128)\r\n",
        "    self.l4 = torch.nn.Linear(128, 64)\r\n",
        "    self.l5 = torch.nn.Linear(64, 10)\r\n",
        "\r\n",
        "  def forward(self, x):\r\n",
        "    x = x.view(-1, 768)\r\n",
        "    x = self.l0(x)\r\n",
        "    x = F.relu(self.l1(x))\r\n",
        "    x = F.relu(self.l2(x))\r\n",
        "    x = F.relu(self.l3(x))\r\n",
        "    x = F.relu(self.l4(x))\r\n",
        "    return self.l5(x)\r\n",
        "model = Net()\r\n",
        "criterion = torch.nn.CrossEntropyLoss()\r\n",
        "optimizer = optim.SGD(model.parameters(), lr=0.01, momentum=0.5)"
      ],
      "execution_count": null,
      "outputs": []
    },
    {
      "cell_type": "code",
      "metadata": {
        "colab": {
          "base_uri": "https://localhost:8080/"
        },
        "id": "yf_c2c2X_nRa",
        "outputId": "d53d5f67-a4bb-4900-873a-fd1f38c646c9"
      },
      "source": [
        "device = torch.device(\"cuda:0\" if torch.cuda.is_available() else \"cpu\")\r\n",
        "model.to(device)\r\n",
        "device"
      ],
      "execution_count": null,
      "outputs": [
        {
          "output_type": "execute_result",
          "data": {
            "text/plain": [
              "device(type='cuda', index=0)"
            ]
          },
          "metadata": {
            "tags": []
          },
          "execution_count": 25
        }
      ]
    },
    {
      "cell_type": "code",
      "metadata": {
        "id": "h5C5k7Yl_oM4"
      },
      "source": [
        "from torch.utils.data import Dataset, DataLoader\r\n",
        "class Mydata(Dataset):\r\n",
        "  def __init__(self):\r\n",
        "    self.bert_train = np.load(\"/content/drive/MyDrive/Colab Notebooks/xtzx/hw6/data/bert_clean_train.npy\")\r\n",
        "    # self.bert_test = np.load(\"/content/drive/MyDrive/Colab Notebooks/xtzx/hw6/data/bert_clean_test.npy\")\r\n",
        "    self.labels_train = train_df['label']\r\n",
        "    self.train_len = self.bert_train.shape[0]\r\n",
        "    # self.test_len = self.bert_test.shape[0]\r\n",
        "  \r\n",
        "  def __getitem__(self, index):\r\n",
        "    assert index < self.train_len\r\n",
        "    return self.bert_train[index], self.labels_train[index]\r\n",
        "  \r\n",
        "  def __len__(self):\r\n",
        "    return self.train_len\r\n",
        "\r\n",
        "dataset = Mydata()\r\n",
        "dataloader = DataLoader(dataset, batch_size = 32, shuffle = True, num_workers = 2)"
      ],
      "execution_count": null,
      "outputs": []
    },
    {
      "cell_type": "code",
      "metadata": {
        "id": "Xbo2gM78K7s8"
      },
      "source": [
        "batchsize = 32\r\n",
        "\r\n",
        "class Traindata(Dataset):\r\n",
        "  def __init__(self):\r\n",
        "    self.xs = x_train\r\n",
        "    self.ys = y_train\r\n",
        "    self.len = len(x_train)\r\n",
        "\r\n",
        "  def __getitem__(self, index):\r\n",
        "    assert index < self.len\r\n",
        "    return self.xs[index], self.ys[index]\r\n",
        "  \r\n",
        "  def __len__(self):\r\n",
        "    return self.len\r\n",
        "\r\n",
        "class Testdata(Dataset):\r\n",
        "  def __init__(self):\r\n",
        "    self.xs = x_test\r\n",
        "    self.ys = y_test\r\n",
        "    self.len = len(x_test)\r\n",
        "\r\n",
        "  def __getitem__(self, index):\r\n",
        "    assert index < self.len\r\n",
        "    return self.xs[index], self.ys[index]\r\n",
        "  \r\n",
        "  def __len__(self):\r\n",
        "    return self.len\r\n",
        "\r\n",
        "traindata = Traindata()\r\n",
        "testdata = Testdata()\r\n",
        "trainloader = DataLoader(traindata, batch_size = batchsize, shuffle = True, num_workers = 2)\r\n",
        "testloader = DataLoader(testdata, shuffle = False, batch_size = batchsize)"
      ],
      "execution_count": null,
      "outputs": []
    },
    {
      "cell_type": "code",
      "metadata": {
        "id": "gPxJGCXUE6Yp"
      },
      "source": [
        "def train(epoch):\r\n",
        "  running_loss = 0.0\r\n",
        "  for batch_idx, data in enumerate(trainloader, 0):\r\n",
        "    inputs, target = data\r\n",
        "    target = OneHotCategorical(target)\r\n",
        "    optimizer.zero_grad()\r\n",
        "\r\n",
        "    # forward + backward + update\r\n",
        "    outputs = model(inputs)\r\n",
        "    loss = criterion(outputs, target)\r\n",
        "    loss.backward()\r\n",
        "    optimizer.step()\r\n",
        "\r\n",
        "    running_loss += loss.item()\r\n",
        "    if batch_idx % 300 == 299:\r\n",
        "      print('[%d, %5d] loss: %.3f' % (epoch + 1, batch_idx + 1, running_loss / 300))\r\n",
        "      running_loss = 0.0"
      ],
      "execution_count": null,
      "outputs": []
    },
    {
      "cell_type": "code",
      "metadata": {
        "id": "sZdwGxv2KpBT"
      },
      "source": [
        "def test():\r\n",
        "  correct = 0\r\n",
        "  total = 0\r\n",
        "  with torch.no_grad():\r\n",
        "    for data in testloader:\r\n",
        "      images, labels = data\r\n",
        "      outputs = model(images)\r\n",
        "      _, predicted = torch.max(outputs.data, dim=1)\r\n",
        "      total += labels.size(0)\r\n",
        "      correct += (predicted == labels).sum().item()\r\n",
        "    print('Accuracy on test set: %d %%' % (100 * correct / total))"
      ],
      "execution_count": null,
      "outputs": []
    },
    {
      "cell_type": "code",
      "metadata": {
        "colab": {
          "base_uri": "https://localhost:8080/",
          "height": 850
        },
        "id": "iv3wdBKPOFiI",
        "outputId": "76dc337a-31a3-4622-c3c3-c48594e8e88e"
      },
      "source": [
        "if __name__ == '__main__':\r\n",
        "  for epoch in range(10):\r\n",
        "    train(epoch)\r\n",
        "    test()"
      ],
      "execution_count": null,
      "outputs": [
        {
          "output_type": "error",
          "ename": "KeyError",
          "evalue": "ignored",
          "traceback": [
            "\u001b[0;31m---------------------------------------------------------------------------\u001b[0m",
            "\u001b[0;31mKeyError\u001b[0m                                  Traceback (most recent call last)",
            "\u001b[0;32m<ipython-input-46-e0c0e5939d78>\u001b[0m in \u001b[0;36m<module>\u001b[0;34m()\u001b[0m\n\u001b[1;32m      1\u001b[0m \u001b[0;32mif\u001b[0m \u001b[0m__name__\u001b[0m \u001b[0;34m==\u001b[0m \u001b[0;34m'__main__'\u001b[0m\u001b[0;34m:\u001b[0m\u001b[0;34m\u001b[0m\u001b[0;34m\u001b[0m\u001b[0m\n\u001b[1;32m      2\u001b[0m   \u001b[0;32mfor\u001b[0m \u001b[0mepoch\u001b[0m \u001b[0;32min\u001b[0m \u001b[0mrange\u001b[0m\u001b[0;34m(\u001b[0m\u001b[0;36m10\u001b[0m\u001b[0;34m)\u001b[0m\u001b[0;34m:\u001b[0m\u001b[0;34m\u001b[0m\u001b[0;34m\u001b[0m\u001b[0m\n\u001b[0;32m----> 3\u001b[0;31m     \u001b[0mtrain\u001b[0m\u001b[0;34m(\u001b[0m\u001b[0mepoch\u001b[0m\u001b[0;34m)\u001b[0m\u001b[0;34m\u001b[0m\u001b[0;34m\u001b[0m\u001b[0m\n\u001b[0m\u001b[1;32m      4\u001b[0m     \u001b[0mtest\u001b[0m\u001b[0;34m(\u001b[0m\u001b[0;34m)\u001b[0m\u001b[0;34m\u001b[0m\u001b[0;34m\u001b[0m\u001b[0m\n",
            "\u001b[0;32m<ipython-input-32-58c9750f4f61>\u001b[0m in \u001b[0;36mtrain\u001b[0;34m(epoch)\u001b[0m\n\u001b[1;32m      1\u001b[0m \u001b[0;32mdef\u001b[0m \u001b[0mtrain\u001b[0m\u001b[0;34m(\u001b[0m\u001b[0mepoch\u001b[0m\u001b[0;34m)\u001b[0m\u001b[0;34m:\u001b[0m\u001b[0;34m\u001b[0m\u001b[0;34m\u001b[0m\u001b[0m\n\u001b[1;32m      2\u001b[0m   \u001b[0mrunning_loss\u001b[0m \u001b[0;34m=\u001b[0m \u001b[0;36m0.0\u001b[0m\u001b[0;34m\u001b[0m\u001b[0;34m\u001b[0m\u001b[0m\n\u001b[0;32m----> 3\u001b[0;31m   \u001b[0;32mfor\u001b[0m \u001b[0mbatch_idx\u001b[0m\u001b[0;34m,\u001b[0m \u001b[0mdata\u001b[0m \u001b[0;32min\u001b[0m \u001b[0menumerate\u001b[0m\u001b[0;34m(\u001b[0m\u001b[0mtrainloader\u001b[0m\u001b[0;34m,\u001b[0m \u001b[0;36m0\u001b[0m\u001b[0;34m)\u001b[0m\u001b[0;34m:\u001b[0m\u001b[0;34m\u001b[0m\u001b[0;34m\u001b[0m\u001b[0m\n\u001b[0m\u001b[1;32m      4\u001b[0m     \u001b[0minputs\u001b[0m\u001b[0;34m,\u001b[0m \u001b[0mtarget\u001b[0m \u001b[0;34m=\u001b[0m \u001b[0mdata\u001b[0m\u001b[0;34m\u001b[0m\u001b[0;34m\u001b[0m\u001b[0m\n\u001b[1;32m      5\u001b[0m     \u001b[0moptimizer\u001b[0m\u001b[0;34m.\u001b[0m\u001b[0mzero_grad\u001b[0m\u001b[0;34m(\u001b[0m\u001b[0;34m)\u001b[0m\u001b[0;34m\u001b[0m\u001b[0;34m\u001b[0m\u001b[0m\n",
            "\u001b[0;32m/usr/local/lib/python3.6/dist-packages/torch/utils/data/dataloader.py\u001b[0m in \u001b[0;36m__next__\u001b[0;34m(self)\u001b[0m\n\u001b[1;32m    433\u001b[0m         \u001b[0;32mif\u001b[0m \u001b[0mself\u001b[0m\u001b[0;34m.\u001b[0m\u001b[0m_sampler_iter\u001b[0m \u001b[0;32mis\u001b[0m \u001b[0;32mNone\u001b[0m\u001b[0;34m:\u001b[0m\u001b[0;34m\u001b[0m\u001b[0;34m\u001b[0m\u001b[0m\n\u001b[1;32m    434\u001b[0m             \u001b[0mself\u001b[0m\u001b[0;34m.\u001b[0m\u001b[0m_reset\u001b[0m\u001b[0;34m(\u001b[0m\u001b[0;34m)\u001b[0m\u001b[0;34m\u001b[0m\u001b[0;34m\u001b[0m\u001b[0m\n\u001b[0;32m--> 435\u001b[0;31m         \u001b[0mdata\u001b[0m \u001b[0;34m=\u001b[0m \u001b[0mself\u001b[0m\u001b[0;34m.\u001b[0m\u001b[0m_next_data\u001b[0m\u001b[0;34m(\u001b[0m\u001b[0;34m)\u001b[0m\u001b[0;34m\u001b[0m\u001b[0;34m\u001b[0m\u001b[0m\n\u001b[0m\u001b[1;32m    436\u001b[0m         \u001b[0mself\u001b[0m\u001b[0;34m.\u001b[0m\u001b[0m_num_yielded\u001b[0m \u001b[0;34m+=\u001b[0m \u001b[0;36m1\u001b[0m\u001b[0;34m\u001b[0m\u001b[0;34m\u001b[0m\u001b[0m\n\u001b[1;32m    437\u001b[0m         \u001b[0;32mif\u001b[0m \u001b[0mself\u001b[0m\u001b[0;34m.\u001b[0m\u001b[0m_dataset_kind\u001b[0m \u001b[0;34m==\u001b[0m \u001b[0m_DatasetKind\u001b[0m\u001b[0;34m.\u001b[0m\u001b[0mIterable\u001b[0m \u001b[0;32mand\u001b[0m\u001b[0;31m \u001b[0m\u001b[0;31m\\\u001b[0m\u001b[0;34m\u001b[0m\u001b[0;34m\u001b[0m\u001b[0m\n",
            "\u001b[0;32m/usr/local/lib/python3.6/dist-packages/torch/utils/data/dataloader.py\u001b[0m in \u001b[0;36m_next_data\u001b[0;34m(self)\u001b[0m\n\u001b[1;32m   1083\u001b[0m             \u001b[0;32melse\u001b[0m\u001b[0;34m:\u001b[0m\u001b[0;34m\u001b[0m\u001b[0;34m\u001b[0m\u001b[0m\n\u001b[1;32m   1084\u001b[0m                 \u001b[0;32mdel\u001b[0m \u001b[0mself\u001b[0m\u001b[0;34m.\u001b[0m\u001b[0m_task_info\u001b[0m\u001b[0;34m[\u001b[0m\u001b[0midx\u001b[0m\u001b[0;34m]\u001b[0m\u001b[0;34m\u001b[0m\u001b[0;34m\u001b[0m\u001b[0m\n\u001b[0;32m-> 1085\u001b[0;31m                 \u001b[0;32mreturn\u001b[0m \u001b[0mself\u001b[0m\u001b[0;34m.\u001b[0m\u001b[0m_process_data\u001b[0m\u001b[0;34m(\u001b[0m\u001b[0mdata\u001b[0m\u001b[0;34m)\u001b[0m\u001b[0;34m\u001b[0m\u001b[0;34m\u001b[0m\u001b[0m\n\u001b[0m\u001b[1;32m   1086\u001b[0m \u001b[0;34m\u001b[0m\u001b[0m\n\u001b[1;32m   1087\u001b[0m     \u001b[0;32mdef\u001b[0m \u001b[0m_try_put_index\u001b[0m\u001b[0;34m(\u001b[0m\u001b[0mself\u001b[0m\u001b[0;34m)\u001b[0m\u001b[0;34m:\u001b[0m\u001b[0;34m\u001b[0m\u001b[0;34m\u001b[0m\u001b[0m\n",
            "\u001b[0;32m/usr/local/lib/python3.6/dist-packages/torch/utils/data/dataloader.py\u001b[0m in \u001b[0;36m_process_data\u001b[0;34m(self, data)\u001b[0m\n\u001b[1;32m   1109\u001b[0m         \u001b[0mself\u001b[0m\u001b[0;34m.\u001b[0m\u001b[0m_try_put_index\u001b[0m\u001b[0;34m(\u001b[0m\u001b[0;34m)\u001b[0m\u001b[0;34m\u001b[0m\u001b[0;34m\u001b[0m\u001b[0m\n\u001b[1;32m   1110\u001b[0m         \u001b[0;32mif\u001b[0m \u001b[0misinstance\u001b[0m\u001b[0;34m(\u001b[0m\u001b[0mdata\u001b[0m\u001b[0;34m,\u001b[0m \u001b[0mExceptionWrapper\u001b[0m\u001b[0;34m)\u001b[0m\u001b[0;34m:\u001b[0m\u001b[0;34m\u001b[0m\u001b[0;34m\u001b[0m\u001b[0m\n\u001b[0;32m-> 1111\u001b[0;31m             \u001b[0mdata\u001b[0m\u001b[0;34m.\u001b[0m\u001b[0mreraise\u001b[0m\u001b[0;34m(\u001b[0m\u001b[0;34m)\u001b[0m\u001b[0;34m\u001b[0m\u001b[0;34m\u001b[0m\u001b[0m\n\u001b[0m\u001b[1;32m   1112\u001b[0m         \u001b[0;32mreturn\u001b[0m \u001b[0mdata\u001b[0m\u001b[0;34m\u001b[0m\u001b[0;34m\u001b[0m\u001b[0m\n\u001b[1;32m   1113\u001b[0m \u001b[0;34m\u001b[0m\u001b[0m\n",
            "\u001b[0;32m/usr/local/lib/python3.6/dist-packages/torch/_utils.py\u001b[0m in \u001b[0;36mreraise\u001b[0;34m(self)\u001b[0m\n\u001b[1;32m    426\u001b[0m             \u001b[0;31m# have message field\u001b[0m\u001b[0;34m\u001b[0m\u001b[0;34m\u001b[0m\u001b[0;34m\u001b[0m\u001b[0m\n\u001b[1;32m    427\u001b[0m             \u001b[0;32mraise\u001b[0m \u001b[0mself\u001b[0m\u001b[0;34m.\u001b[0m\u001b[0mexc_type\u001b[0m\u001b[0;34m(\u001b[0m\u001b[0mmessage\u001b[0m\u001b[0;34m=\u001b[0m\u001b[0mmsg\u001b[0m\u001b[0;34m)\u001b[0m\u001b[0;34m\u001b[0m\u001b[0;34m\u001b[0m\u001b[0m\n\u001b[0;32m--> 428\u001b[0;31m         \u001b[0;32mraise\u001b[0m \u001b[0mself\u001b[0m\u001b[0;34m.\u001b[0m\u001b[0mexc_type\u001b[0m\u001b[0;34m(\u001b[0m\u001b[0mmsg\u001b[0m\u001b[0;34m)\u001b[0m\u001b[0;34m\u001b[0m\u001b[0;34m\u001b[0m\u001b[0m\n\u001b[0m\u001b[1;32m    429\u001b[0m \u001b[0;34m\u001b[0m\u001b[0m\n\u001b[1;32m    430\u001b[0m \u001b[0;34m\u001b[0m\u001b[0m\n",
            "\u001b[0;31mKeyError\u001b[0m: Caught KeyError in DataLoader worker process 0.\nOriginal Traceback (most recent call last):\n  File \"/usr/local/lib/python3.6/dist-packages/pandas/core/indexes/base.py\", line 2898, in get_loc\n    return self._engine.get_loc(casted_key)\n  File \"pandas/_libs/index.pyx\", line 70, in pandas._libs.index.IndexEngine.get_loc\n  File \"pandas/_libs/index.pyx\", line 101, in pandas._libs.index.IndexEngine.get_loc\n  File \"pandas/_libs/hashtable_class_helper.pxi\", line 1032, in pandas._libs.hashtable.Int64HashTable.get_item\n  File \"pandas/_libs/hashtable_class_helper.pxi\", line 1039, in pandas._libs.hashtable.Int64HashTable.get_item\nKeyError: 1437\n\nThe above exception was the direct cause of the following exception:\n\nTraceback (most recent call last):\n  File \"/usr/local/lib/python3.6/dist-packages/torch/utils/data/_utils/worker.py\", line 198, in _worker_loop\n    data = fetcher.fetch(index)\n  File \"/usr/local/lib/python3.6/dist-packages/torch/utils/data/_utils/fetch.py\", line 44, in fetch\n    data = [self.dataset[idx] for idx in possibly_batched_index]\n  File \"/usr/local/lib/python3.6/dist-packages/torch/utils/data/_utils/fetch.py\", line 44, in <listcomp>\n    data = [self.dataset[idx] for idx in possibly_batched_index]\n  File \"<ipython-input-44-6100563fca00>\", line 11, in __getitem__\n    return self.xs[index], self.ys[index]\n  File \"/usr/local/lib/python3.6/dist-packages/pandas/core/series.py\", line 882, in __getitem__\n    return self._get_value(key)\n  File \"/usr/local/lib/python3.6/dist-packages/pandas/core/series.py\", line 990, in _get_value\n    loc = self.index.get_loc(label)\n  File \"/usr/local/lib/python3.6/dist-packages/pandas/core/indexes/base.py\", line 2900, in get_loc\n    raise KeyError(key) from err\nKeyError: 1437\n"
          ]
        }
      ]
    },
    {
      "cell_type": "code",
      "metadata": {
        "id": "2LJQnxupSLHc"
      },
      "source": [
        "from keras.models import Sequential\r\n",
        "from keras.layers import Dense\r\n",
        "from keras.utils import to_categorical\r\n",
        "data = x_train\r\n",
        "labels = to_categorical(y_train, 2)"
      ],
      "execution_count": null,
      "outputs": []
    },
    {
      "cell_type": "code",
      "metadata": {
        "colab": {
          "base_uri": "https://localhost:8080/"
        },
        "id": "cy-h5-_-UaFu",
        "outputId": "3c01e84d-cd65-4555-bbe3-057f7d60857c"
      },
      "source": [
        "data"
      ],
      "execution_count": null,
      "outputs": [
        {
          "output_type": "execute_result",
          "data": {
            "text/plain": [
              "array([[-0.39674768,  0.10702434, -0.22858253, ..., -0.72363347,\n",
              "         0.33960286,  0.3672473 ],\n",
              "       [ 0.04542475,  0.07650051,  0.2838936 , ..., -0.5203407 ,\n",
              "         0.4136464 ,  0.4638726 ],\n",
              "       [-0.20207046,  0.08581089,  0.17691663, ..., -0.21022011,\n",
              "         0.29110318, -0.00850555],\n",
              "       ...,\n",
              "       [-0.27130172, -0.37212682,  0.12394369, ..., -0.42785767,\n",
              "         0.07369038,  0.40573177],\n",
              "       [-0.33609942,  0.05083197,  0.04086212, ..., -0.3342563 ,\n",
              "         0.04610396,  0.08212136],\n",
              "       [ 0.05424136,  0.00892559,  0.30004242, ..., -0.5349041 ,\n",
              "         0.38205302,  0.2552742 ]], dtype=float32)"
            ]
          },
          "metadata": {
            "tags": []
          },
          "execution_count": 52
        }
      ]
    },
    {
      "cell_type": "code",
      "metadata": {
        "colab": {
          "base_uri": "https://localhost:8080/",
          "height": 381
        },
        "id": "Z3wVufZpOM2q",
        "outputId": "de0e0178-7f76-4ed9-d53f-812ab2836022"
      },
      "source": [
        "from keras.layers import Dropout\r\n",
        "from official.nlp import optimization \r\n",
        "model = Sequential()\r\n",
        "model.add(Dropout(0.1))\r\n",
        "model.add(Dense(1, activation= None, input_dim=768))\r\n",
        "\r\n",
        "\r\n",
        "epochs = 5\r\n",
        "steps_per_epoch = 200\r\n",
        "num_train_steps = steps_per_epoch * epochs\r\n",
        "num_warmup_steps = int(0.1*num_train_steps)\r\n",
        "init_lr = 3e-5\r\n",
        "loss = tf.keras.losses.BinaryCrossentropy(from_logits=True)\r\n",
        "metrics = tf.metrics.BinaryAccuracy()\r\n",
        "optimizer = optimization.create_optimizer(init_lr=init_lr,\r\n",
        "                                          num_train_steps=num_train_steps,\r\n",
        "                                          num_warmup_steps=num_warmup_steps,\r\n",
        "                                          optimizer_type='adamw')\r\n",
        "\r\n",
        "model.compile(optimizer=optimizer,\r\n",
        "                         loss=loss,\r\n",
        "                         metrics=metrics)\r\n",
        "\r\n",
        "model.fit(data,labels,epochs=10,batch_size=32)\r\n",
        "predictions = model.predict(data)"
      ],
      "execution_count": null,
      "outputs": [
        {
          "output_type": "error",
          "ename": "ModuleNotFoundError",
          "evalue": "ignored",
          "traceback": [
            "\u001b[0;31m---------------------------------------------------------------------------\u001b[0m",
            "\u001b[0;31mModuleNotFoundError\u001b[0m                       Traceback (most recent call last)",
            "\u001b[0;32m<ipython-input-56-19eff20b2af2>\u001b[0m in \u001b[0;36m<module>\u001b[0;34m()\u001b[0m\n\u001b[1;32m      1\u001b[0m \u001b[0;32mfrom\u001b[0m \u001b[0mkeras\u001b[0m\u001b[0;34m.\u001b[0m\u001b[0mlayers\u001b[0m \u001b[0;32mimport\u001b[0m \u001b[0mDropout\u001b[0m\u001b[0;34m\u001b[0m\u001b[0;34m\u001b[0m\u001b[0m\n\u001b[0;32m----> 2\u001b[0;31m \u001b[0;32mfrom\u001b[0m \u001b[0mofficial\u001b[0m\u001b[0;34m.\u001b[0m\u001b[0mnlp\u001b[0m \u001b[0;32mimport\u001b[0m \u001b[0moptimization\u001b[0m\u001b[0;34m\u001b[0m\u001b[0;34m\u001b[0m\u001b[0m\n\u001b[0m\u001b[1;32m      3\u001b[0m \u001b[0mmodel\u001b[0m \u001b[0;34m=\u001b[0m \u001b[0mSequential\u001b[0m\u001b[0;34m(\u001b[0m\u001b[0;34m)\u001b[0m\u001b[0;34m\u001b[0m\u001b[0;34m\u001b[0m\u001b[0m\n\u001b[1;32m      4\u001b[0m \u001b[0mmodel\u001b[0m\u001b[0;34m.\u001b[0m\u001b[0madd\u001b[0m\u001b[0;34m(\u001b[0m\u001b[0mDropout\u001b[0m\u001b[0;34m(\u001b[0m\u001b[0;36m0.1\u001b[0m\u001b[0;34m)\u001b[0m\u001b[0;34m)\u001b[0m\u001b[0;34m\u001b[0m\u001b[0;34m\u001b[0m\u001b[0m\n\u001b[1;32m      5\u001b[0m \u001b[0mmodel\u001b[0m\u001b[0;34m.\u001b[0m\u001b[0madd\u001b[0m\u001b[0;34m(\u001b[0m\u001b[0mDense\u001b[0m\u001b[0;34m(\u001b[0m\u001b[0;36m1\u001b[0m\u001b[0;34m,\u001b[0m \u001b[0mactivation\u001b[0m\u001b[0;34m=\u001b[0m \u001b[0;32mNone\u001b[0m\u001b[0;34m,\u001b[0m \u001b[0minput_dim\u001b[0m\u001b[0;34m=\u001b[0m\u001b[0;36m768\u001b[0m\u001b[0;34m)\u001b[0m\u001b[0;34m)\u001b[0m\u001b[0;34m\u001b[0m\u001b[0;34m\u001b[0m\u001b[0m\n",
            "\u001b[0;31mModuleNotFoundError\u001b[0m: No module named 'official'",
            "",
            "\u001b[0;31m---------------------------------------------------------------------------\u001b[0;32m\nNOTE: If your import is failing due to a missing package, you can\nmanually install dependencies using either !pip or !apt.\n\nTo view examples of installing some common dependencies, click the\n\"Open Examples\" button below.\n\u001b[0;31m---------------------------------------------------------------------------\u001b[0m\n"
          ]
        }
      ]
    },
    {
      "cell_type": "code",
      "metadata": {
        "colab": {
          "base_uri": "https://localhost:8080/"
        },
        "id": "BvKTZH0cSBzA",
        "outputId": "a89ee595-7b45-48fe-c7cf-0e5d675fc937"
      },
      "source": [
        "predictions"
      ],
      "execution_count": null,
      "outputs": [
        {
          "output_type": "execute_result",
          "data": {
            "text/plain": [
              "array([[0.52523816],\n",
              "       [0.4807741 ],\n",
              "       [0.47772846],\n",
              "       ...,\n",
              "       [0.6281905 ],\n",
              "       [0.404766  ],\n",
              "       [0.56619245]], dtype=float32)"
            ]
          },
          "metadata": {
            "tags": []
          },
          "execution_count": 53
        }
      ]
    },
    {
      "cell_type": "code",
      "metadata": {
        "colab": {
          "base_uri": "https://localhost:8080/",
          "height": 168
        },
        "id": "awmCwGIEUfGt",
        "outputId": "118d22d9-283f-4881-ce8b-d7f5cdf9599a"
      },
      "source": [
        "official.nlp"
      ],
      "execution_count": null,
      "outputs": [
        {
          "output_type": "error",
          "ename": "NameError",
          "evalue": "ignored",
          "traceback": [
            "\u001b[0;31m---------------------------------------------------------------------------\u001b[0m",
            "\u001b[0;31mNameError\u001b[0m                                 Traceback (most recent call last)",
            "\u001b[0;32m<ipython-input-59-9499ff01a5d7>\u001b[0m in \u001b[0;36m<module>\u001b[0;34m()\u001b[0m\n\u001b[0;32m----> 1\u001b[0;31m \u001b[0mofficial\u001b[0m\u001b[0;34m.\u001b[0m\u001b[0mnlp\u001b[0m\u001b[0;34m\u001b[0m\u001b[0;34m\u001b[0m\u001b[0m\n\u001b[0m",
            "\u001b[0;31mNameError\u001b[0m: name 'official' is not defined"
          ]
        }
      ]
    },
    {
      "cell_type": "code",
      "metadata": {
        "id": "yNLkKLuwVn1J"
      },
      "source": [
        ""
      ],
      "execution_count": null,
      "outputs": []
    }
  ]
}