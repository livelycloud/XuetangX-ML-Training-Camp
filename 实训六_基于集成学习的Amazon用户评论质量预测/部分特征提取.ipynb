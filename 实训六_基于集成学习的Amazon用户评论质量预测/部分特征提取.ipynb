{
  "nbformat": 4,
  "nbformat_minor": 0,
  "metadata": {
    "kernelspec": {
      "display_name": "Python 3",
      "language": "python",
      "name": "python3"
    },
    "language_info": {
      "codemirror_mode": {
        "name": "ipython",
        "version": 3
      },
      "file_extension": ".py",
      "mimetype": "text/x-python",
      "name": "python",
      "nbconvert_exporter": "python",
      "pygments_lexer": "ipython3",
      "version": "3.7.8"
    },
    "colab": {
      "name": "部分特征提取.ipynb",
      "provenance": [],
      "collapsed_sections": [],
      "toc_visible": true
    },
    "accelerator": "GPU",
    "widgets": {
      "application/vnd.jupyter.widget-state+json": {
        "a4fd49a834b64982beca6a05f50de877": {
          "model_module": "@jupyter-widgets/controls",
          "model_name": "HBoxModel",
          "state": {
            "_view_name": "HBoxView",
            "_dom_classes": [],
            "_model_name": "HBoxModel",
            "_view_module": "@jupyter-widgets/controls",
            "_model_module_version": "1.5.0",
            "_view_count": null,
            "_view_module_version": "1.5.0",
            "box_style": "",
            "layout": "IPY_MODEL_a743ae25aadb4f8692763805b8f149d3",
            "_model_module": "@jupyter-widgets/controls",
            "children": [
              "IPY_MODEL_dc5ef5dffa6247eda377451f7edb75ad",
              "IPY_MODEL_e1f99bef408b47809a2d4faa6daf0a8a"
            ]
          }
        },
        "a743ae25aadb4f8692763805b8f149d3": {
          "model_module": "@jupyter-widgets/base",
          "model_name": "LayoutModel",
          "state": {
            "_view_name": "LayoutView",
            "grid_template_rows": null,
            "right": null,
            "justify_content": null,
            "_view_module": "@jupyter-widgets/base",
            "overflow": null,
            "_model_module_version": "1.2.0",
            "_view_count": null,
            "flex_flow": null,
            "width": null,
            "min_width": null,
            "border": null,
            "align_items": null,
            "bottom": null,
            "_model_module": "@jupyter-widgets/base",
            "top": null,
            "grid_column": null,
            "overflow_y": null,
            "overflow_x": null,
            "grid_auto_flow": null,
            "grid_area": null,
            "grid_template_columns": null,
            "flex": null,
            "_model_name": "LayoutModel",
            "justify_items": null,
            "grid_row": null,
            "max_height": null,
            "align_content": null,
            "visibility": null,
            "align_self": null,
            "height": null,
            "min_height": null,
            "padding": null,
            "grid_auto_rows": null,
            "grid_gap": null,
            "max_width": null,
            "order": null,
            "_view_module_version": "1.2.0",
            "grid_template_areas": null,
            "object_position": null,
            "object_fit": null,
            "grid_auto_columns": null,
            "margin": null,
            "display": null,
            "left": null
          }
        },
        "dc5ef5dffa6247eda377451f7edb75ad": {
          "model_module": "@jupyter-widgets/controls",
          "model_name": "FloatProgressModel",
          "state": {
            "_view_name": "ProgressView",
            "style": "IPY_MODEL_69dbe5881e6f47e6a57674e7007af82f",
            "_dom_classes": [],
            "description": "Downloading: 100%",
            "_model_name": "FloatProgressModel",
            "bar_style": "success",
            "max": 231508,
            "_view_module": "@jupyter-widgets/controls",
            "_model_module_version": "1.5.0",
            "value": 231508,
            "_view_count": null,
            "_view_module_version": "1.5.0",
            "orientation": "horizontal",
            "min": 0,
            "description_tooltip": null,
            "_model_module": "@jupyter-widgets/controls",
            "layout": "IPY_MODEL_f907e0c037c04ec88c3d6750129396f6"
          }
        },
        "e1f99bef408b47809a2d4faa6daf0a8a": {
          "model_module": "@jupyter-widgets/controls",
          "model_name": "HTMLModel",
          "state": {
            "_view_name": "HTMLView",
            "style": "IPY_MODEL_1fb14d47df2a49ceb718a555852b07d7",
            "_dom_classes": [],
            "description": "",
            "_model_name": "HTMLModel",
            "placeholder": "​",
            "_view_module": "@jupyter-widgets/controls",
            "_model_module_version": "1.5.0",
            "value": " 232k/232k [00:00&lt;00:00, 1.45MB/s]",
            "_view_count": null,
            "_view_module_version": "1.5.0",
            "description_tooltip": null,
            "_model_module": "@jupyter-widgets/controls",
            "layout": "IPY_MODEL_9f56267779ca436ab0325de82964b1db"
          }
        },
        "69dbe5881e6f47e6a57674e7007af82f": {
          "model_module": "@jupyter-widgets/controls",
          "model_name": "ProgressStyleModel",
          "state": {
            "_view_name": "StyleView",
            "_model_name": "ProgressStyleModel",
            "description_width": "initial",
            "_view_module": "@jupyter-widgets/base",
            "_model_module_version": "1.5.0",
            "_view_count": null,
            "_view_module_version": "1.2.0",
            "bar_color": null,
            "_model_module": "@jupyter-widgets/controls"
          }
        },
        "f907e0c037c04ec88c3d6750129396f6": {
          "model_module": "@jupyter-widgets/base",
          "model_name": "LayoutModel",
          "state": {
            "_view_name": "LayoutView",
            "grid_template_rows": null,
            "right": null,
            "justify_content": null,
            "_view_module": "@jupyter-widgets/base",
            "overflow": null,
            "_model_module_version": "1.2.0",
            "_view_count": null,
            "flex_flow": null,
            "width": null,
            "min_width": null,
            "border": null,
            "align_items": null,
            "bottom": null,
            "_model_module": "@jupyter-widgets/base",
            "top": null,
            "grid_column": null,
            "overflow_y": null,
            "overflow_x": null,
            "grid_auto_flow": null,
            "grid_area": null,
            "grid_template_columns": null,
            "flex": null,
            "_model_name": "LayoutModel",
            "justify_items": null,
            "grid_row": null,
            "max_height": null,
            "align_content": null,
            "visibility": null,
            "align_self": null,
            "height": null,
            "min_height": null,
            "padding": null,
            "grid_auto_rows": null,
            "grid_gap": null,
            "max_width": null,
            "order": null,
            "_view_module_version": "1.2.0",
            "grid_template_areas": null,
            "object_position": null,
            "object_fit": null,
            "grid_auto_columns": null,
            "margin": null,
            "display": null,
            "left": null
          }
        },
        "1fb14d47df2a49ceb718a555852b07d7": {
          "model_module": "@jupyter-widgets/controls",
          "model_name": "DescriptionStyleModel",
          "state": {
            "_view_name": "StyleView",
            "_model_name": "DescriptionStyleModel",
            "description_width": "",
            "_view_module": "@jupyter-widgets/base",
            "_model_module_version": "1.5.0",
            "_view_count": null,
            "_view_module_version": "1.2.0",
            "_model_module": "@jupyter-widgets/controls"
          }
        },
        "9f56267779ca436ab0325de82964b1db": {
          "model_module": "@jupyter-widgets/base",
          "model_name": "LayoutModel",
          "state": {
            "_view_name": "LayoutView",
            "grid_template_rows": null,
            "right": null,
            "justify_content": null,
            "_view_module": "@jupyter-widgets/base",
            "overflow": null,
            "_model_module_version": "1.2.0",
            "_view_count": null,
            "flex_flow": null,
            "width": null,
            "min_width": null,
            "border": null,
            "align_items": null,
            "bottom": null,
            "_model_module": "@jupyter-widgets/base",
            "top": null,
            "grid_column": null,
            "overflow_y": null,
            "overflow_x": null,
            "grid_auto_flow": null,
            "grid_area": null,
            "grid_template_columns": null,
            "flex": null,
            "_model_name": "LayoutModel",
            "justify_items": null,
            "grid_row": null,
            "max_height": null,
            "align_content": null,
            "visibility": null,
            "align_self": null,
            "height": null,
            "min_height": null,
            "padding": null,
            "grid_auto_rows": null,
            "grid_gap": null,
            "max_width": null,
            "order": null,
            "_view_module_version": "1.2.0",
            "grid_template_areas": null,
            "object_position": null,
            "object_fit": null,
            "grid_auto_columns": null,
            "margin": null,
            "display": null,
            "left": null
          }
        },
        "253f747fa7dd4ee49a718a10bee3d903": {
          "model_module": "@jupyter-widgets/controls",
          "model_name": "HBoxModel",
          "state": {
            "_view_name": "HBoxView",
            "_dom_classes": [],
            "_model_name": "HBoxModel",
            "_view_module": "@jupyter-widgets/controls",
            "_model_module_version": "1.5.0",
            "_view_count": null,
            "_view_module_version": "1.5.0",
            "box_style": "",
            "layout": "IPY_MODEL_2bbbf4295a95479bac0613527d1888a0",
            "_model_module": "@jupyter-widgets/controls",
            "children": [
              "IPY_MODEL_c5058de0af8b42a7bc237c59ae3749dd",
              "IPY_MODEL_6bbf428d0ac94247bbcc1c7616c5ea2f"
            ]
          }
        },
        "2bbbf4295a95479bac0613527d1888a0": {
          "model_module": "@jupyter-widgets/base",
          "model_name": "LayoutModel",
          "state": {
            "_view_name": "LayoutView",
            "grid_template_rows": null,
            "right": null,
            "justify_content": null,
            "_view_module": "@jupyter-widgets/base",
            "overflow": null,
            "_model_module_version": "1.2.0",
            "_view_count": null,
            "flex_flow": null,
            "width": null,
            "min_width": null,
            "border": null,
            "align_items": null,
            "bottom": null,
            "_model_module": "@jupyter-widgets/base",
            "top": null,
            "grid_column": null,
            "overflow_y": null,
            "overflow_x": null,
            "grid_auto_flow": null,
            "grid_area": null,
            "grid_template_columns": null,
            "flex": null,
            "_model_name": "LayoutModel",
            "justify_items": null,
            "grid_row": null,
            "max_height": null,
            "align_content": null,
            "visibility": null,
            "align_self": null,
            "height": null,
            "min_height": null,
            "padding": null,
            "grid_auto_rows": null,
            "grid_gap": null,
            "max_width": null,
            "order": null,
            "_view_module_version": "1.2.0",
            "grid_template_areas": null,
            "object_position": null,
            "object_fit": null,
            "grid_auto_columns": null,
            "margin": null,
            "display": null,
            "left": null
          }
        },
        "c5058de0af8b42a7bc237c59ae3749dd": {
          "model_module": "@jupyter-widgets/controls",
          "model_name": "FloatProgressModel",
          "state": {
            "_view_name": "ProgressView",
            "style": "IPY_MODEL_f399a243456144598c7325a6730ae220",
            "_dom_classes": [],
            "description": "Downloading: 100%",
            "_model_name": "FloatProgressModel",
            "bar_style": "success",
            "max": 442,
            "_view_module": "@jupyter-widgets/controls",
            "_model_module_version": "1.5.0",
            "value": 442,
            "_view_count": null,
            "_view_module_version": "1.5.0",
            "orientation": "horizontal",
            "min": 0,
            "description_tooltip": null,
            "_model_module": "@jupyter-widgets/controls",
            "layout": "IPY_MODEL_03cd6c5baaa646d6b935c8f26f747d54"
          }
        },
        "6bbf428d0ac94247bbcc1c7616c5ea2f": {
          "model_module": "@jupyter-widgets/controls",
          "model_name": "HTMLModel",
          "state": {
            "_view_name": "HTMLView",
            "style": "IPY_MODEL_49fd5823fb02486c9b0056b91c4a90ee",
            "_dom_classes": [],
            "description": "",
            "_model_name": "HTMLModel",
            "placeholder": "​",
            "_view_module": "@jupyter-widgets/controls",
            "_model_module_version": "1.5.0",
            "value": " 442/442 [00:00&lt;00:00, 476B/s]",
            "_view_count": null,
            "_view_module_version": "1.5.0",
            "description_tooltip": null,
            "_model_module": "@jupyter-widgets/controls",
            "layout": "IPY_MODEL_d2c687766ce64193857bb0b2a9f7c62f"
          }
        },
        "f399a243456144598c7325a6730ae220": {
          "model_module": "@jupyter-widgets/controls",
          "model_name": "ProgressStyleModel",
          "state": {
            "_view_name": "StyleView",
            "_model_name": "ProgressStyleModel",
            "description_width": "initial",
            "_view_module": "@jupyter-widgets/base",
            "_model_module_version": "1.5.0",
            "_view_count": null,
            "_view_module_version": "1.2.0",
            "bar_color": null,
            "_model_module": "@jupyter-widgets/controls"
          }
        },
        "03cd6c5baaa646d6b935c8f26f747d54": {
          "model_module": "@jupyter-widgets/base",
          "model_name": "LayoutModel",
          "state": {
            "_view_name": "LayoutView",
            "grid_template_rows": null,
            "right": null,
            "justify_content": null,
            "_view_module": "@jupyter-widgets/base",
            "overflow": null,
            "_model_module_version": "1.2.0",
            "_view_count": null,
            "flex_flow": null,
            "width": null,
            "min_width": null,
            "border": null,
            "align_items": null,
            "bottom": null,
            "_model_module": "@jupyter-widgets/base",
            "top": null,
            "grid_column": null,
            "overflow_y": null,
            "overflow_x": null,
            "grid_auto_flow": null,
            "grid_area": null,
            "grid_template_columns": null,
            "flex": null,
            "_model_name": "LayoutModel",
            "justify_items": null,
            "grid_row": null,
            "max_height": null,
            "align_content": null,
            "visibility": null,
            "align_self": null,
            "height": null,
            "min_height": null,
            "padding": null,
            "grid_auto_rows": null,
            "grid_gap": null,
            "max_width": null,
            "order": null,
            "_view_module_version": "1.2.0",
            "grid_template_areas": null,
            "object_position": null,
            "object_fit": null,
            "grid_auto_columns": null,
            "margin": null,
            "display": null,
            "left": null
          }
        },
        "49fd5823fb02486c9b0056b91c4a90ee": {
          "model_module": "@jupyter-widgets/controls",
          "model_name": "DescriptionStyleModel",
          "state": {
            "_view_name": "StyleView",
            "_model_name": "DescriptionStyleModel",
            "description_width": "",
            "_view_module": "@jupyter-widgets/base",
            "_model_module_version": "1.5.0",
            "_view_count": null,
            "_view_module_version": "1.2.0",
            "_model_module": "@jupyter-widgets/controls"
          }
        },
        "d2c687766ce64193857bb0b2a9f7c62f": {
          "model_module": "@jupyter-widgets/base",
          "model_name": "LayoutModel",
          "state": {
            "_view_name": "LayoutView",
            "grid_template_rows": null,
            "right": null,
            "justify_content": null,
            "_view_module": "@jupyter-widgets/base",
            "overflow": null,
            "_model_module_version": "1.2.0",
            "_view_count": null,
            "flex_flow": null,
            "width": null,
            "min_width": null,
            "border": null,
            "align_items": null,
            "bottom": null,
            "_model_module": "@jupyter-widgets/base",
            "top": null,
            "grid_column": null,
            "overflow_y": null,
            "overflow_x": null,
            "grid_auto_flow": null,
            "grid_area": null,
            "grid_template_columns": null,
            "flex": null,
            "_model_name": "LayoutModel",
            "justify_items": null,
            "grid_row": null,
            "max_height": null,
            "align_content": null,
            "visibility": null,
            "align_self": null,
            "height": null,
            "min_height": null,
            "padding": null,
            "grid_auto_rows": null,
            "grid_gap": null,
            "max_width": null,
            "order": null,
            "_view_module_version": "1.2.0",
            "grid_template_areas": null,
            "object_position": null,
            "object_fit": null,
            "grid_auto_columns": null,
            "margin": null,
            "display": null,
            "left": null
          }
        },
        "393738455ce346308115b02f76a7142a": {
          "model_module": "@jupyter-widgets/controls",
          "model_name": "HBoxModel",
          "state": {
            "_view_name": "HBoxView",
            "_dom_classes": [],
            "_model_name": "HBoxModel",
            "_view_module": "@jupyter-widgets/controls",
            "_model_module_version": "1.5.0",
            "_view_count": null,
            "_view_module_version": "1.5.0",
            "box_style": "",
            "layout": "IPY_MODEL_af3d215f655848e19aed6ddd91bae468",
            "_model_module": "@jupyter-widgets/controls",
            "children": [
              "IPY_MODEL_257fb69ba027479087eb2f067df445df",
              "IPY_MODEL_466b4b85572749a1ae5c54534d02047e"
            ]
          }
        },
        "af3d215f655848e19aed6ddd91bae468": {
          "model_module": "@jupyter-widgets/base",
          "model_name": "LayoutModel",
          "state": {
            "_view_name": "LayoutView",
            "grid_template_rows": null,
            "right": null,
            "justify_content": null,
            "_view_module": "@jupyter-widgets/base",
            "overflow": null,
            "_model_module_version": "1.2.0",
            "_view_count": null,
            "flex_flow": null,
            "width": null,
            "min_width": null,
            "border": null,
            "align_items": null,
            "bottom": null,
            "_model_module": "@jupyter-widgets/base",
            "top": null,
            "grid_column": null,
            "overflow_y": null,
            "overflow_x": null,
            "grid_auto_flow": null,
            "grid_area": null,
            "grid_template_columns": null,
            "flex": null,
            "_model_name": "LayoutModel",
            "justify_items": null,
            "grid_row": null,
            "max_height": null,
            "align_content": null,
            "visibility": null,
            "align_self": null,
            "height": null,
            "min_height": null,
            "padding": null,
            "grid_auto_rows": null,
            "grid_gap": null,
            "max_width": null,
            "order": null,
            "_view_module_version": "1.2.0",
            "grid_template_areas": null,
            "object_position": null,
            "object_fit": null,
            "grid_auto_columns": null,
            "margin": null,
            "display": null,
            "left": null
          }
        },
        "257fb69ba027479087eb2f067df445df": {
          "model_module": "@jupyter-widgets/controls",
          "model_name": "FloatProgressModel",
          "state": {
            "_view_name": "ProgressView",
            "style": "IPY_MODEL_4eb1e381a5a644139e6aed7c9671fdc4",
            "_dom_classes": [],
            "description": "Downloading: 100%",
            "_model_name": "FloatProgressModel",
            "bar_style": "success",
            "max": 267967963,
            "_view_module": "@jupyter-widgets/controls",
            "_model_module_version": "1.5.0",
            "value": 267967963,
            "_view_count": null,
            "_view_module_version": "1.5.0",
            "orientation": "horizontal",
            "min": 0,
            "description_tooltip": null,
            "_model_module": "@jupyter-widgets/controls",
            "layout": "IPY_MODEL_f2c1b26f24bd4a138b35930cb30f2207"
          }
        },
        "466b4b85572749a1ae5c54534d02047e": {
          "model_module": "@jupyter-widgets/controls",
          "model_name": "HTMLModel",
          "state": {
            "_view_name": "HTMLView",
            "style": "IPY_MODEL_53a86f6ce32f486aa214f97ef2d4690d",
            "_dom_classes": [],
            "description": "",
            "_model_name": "HTMLModel",
            "placeholder": "​",
            "_view_module": "@jupyter-widgets/controls",
            "_model_module_version": "1.5.0",
            "value": " 268M/268M [00:40&lt;00:00, 6.55MB/s]",
            "_view_count": null,
            "_view_module_version": "1.5.0",
            "description_tooltip": null,
            "_model_module": "@jupyter-widgets/controls",
            "layout": "IPY_MODEL_79abc6f26ffb42b1ae09e64f87165c2a"
          }
        },
        "4eb1e381a5a644139e6aed7c9671fdc4": {
          "model_module": "@jupyter-widgets/controls",
          "model_name": "ProgressStyleModel",
          "state": {
            "_view_name": "StyleView",
            "_model_name": "ProgressStyleModel",
            "description_width": "initial",
            "_view_module": "@jupyter-widgets/base",
            "_model_module_version": "1.5.0",
            "_view_count": null,
            "_view_module_version": "1.2.0",
            "bar_color": null,
            "_model_module": "@jupyter-widgets/controls"
          }
        },
        "f2c1b26f24bd4a138b35930cb30f2207": {
          "model_module": "@jupyter-widgets/base",
          "model_name": "LayoutModel",
          "state": {
            "_view_name": "LayoutView",
            "grid_template_rows": null,
            "right": null,
            "justify_content": null,
            "_view_module": "@jupyter-widgets/base",
            "overflow": null,
            "_model_module_version": "1.2.0",
            "_view_count": null,
            "flex_flow": null,
            "width": null,
            "min_width": null,
            "border": null,
            "align_items": null,
            "bottom": null,
            "_model_module": "@jupyter-widgets/base",
            "top": null,
            "grid_column": null,
            "overflow_y": null,
            "overflow_x": null,
            "grid_auto_flow": null,
            "grid_area": null,
            "grid_template_columns": null,
            "flex": null,
            "_model_name": "LayoutModel",
            "justify_items": null,
            "grid_row": null,
            "max_height": null,
            "align_content": null,
            "visibility": null,
            "align_self": null,
            "height": null,
            "min_height": null,
            "padding": null,
            "grid_auto_rows": null,
            "grid_gap": null,
            "max_width": null,
            "order": null,
            "_view_module_version": "1.2.0",
            "grid_template_areas": null,
            "object_position": null,
            "object_fit": null,
            "grid_auto_columns": null,
            "margin": null,
            "display": null,
            "left": null
          }
        },
        "53a86f6ce32f486aa214f97ef2d4690d": {
          "model_module": "@jupyter-widgets/controls",
          "model_name": "DescriptionStyleModel",
          "state": {
            "_view_name": "StyleView",
            "_model_name": "DescriptionStyleModel",
            "description_width": "",
            "_view_module": "@jupyter-widgets/base",
            "_model_module_version": "1.5.0",
            "_view_count": null,
            "_view_module_version": "1.2.0",
            "_model_module": "@jupyter-widgets/controls"
          }
        },
        "79abc6f26ffb42b1ae09e64f87165c2a": {
          "model_module": "@jupyter-widgets/base",
          "model_name": "LayoutModel",
          "state": {
            "_view_name": "LayoutView",
            "grid_template_rows": null,
            "right": null,
            "justify_content": null,
            "_view_module": "@jupyter-widgets/base",
            "overflow": null,
            "_model_module_version": "1.2.0",
            "_view_count": null,
            "flex_flow": null,
            "width": null,
            "min_width": null,
            "border": null,
            "align_items": null,
            "bottom": null,
            "_model_module": "@jupyter-widgets/base",
            "top": null,
            "grid_column": null,
            "overflow_y": null,
            "overflow_x": null,
            "grid_auto_flow": null,
            "grid_area": null,
            "grid_template_columns": null,
            "flex": null,
            "_model_name": "LayoutModel",
            "justify_items": null,
            "grid_row": null,
            "max_height": null,
            "align_content": null,
            "visibility": null,
            "align_self": null,
            "height": null,
            "min_height": null,
            "padding": null,
            "grid_auto_rows": null,
            "grid_gap": null,
            "max_width": null,
            "order": null,
            "_view_module_version": "1.2.0",
            "grid_template_areas": null,
            "object_position": null,
            "object_fit": null,
            "grid_auto_columns": null,
            "margin": null,
            "display": null,
            "left": null
          }
        }
      }
    }
  },
  "cells": [
    {
      "cell_type": "markdown",
      "metadata": {
        "id": "Ebff_enkeyZQ"
      },
      "source": [
        "# Exp6: 基于集成学习的 Amazon 用户评论质量预测"
      ]
    },
    {
      "cell_type": "code",
      "metadata": {
        "id": "u1AKW20CfNpg",
        "colab": {
          "base_uri": "https://localhost:8080/"
        },
        "outputId": "3226b321-c8e1-4cb2-ac92-ae1595cd3e06"
      },
      "source": [
        "from google.colab import drive\n",
        "drive.mount('/content/drive')"
      ],
      "execution_count": null,
      "outputs": [
        {
          "output_type": "stream",
          "text": [
            "Mounted at /content/drive\n"
          ],
          "name": "stdout"
        }
      ]
    },
    {
      "cell_type": "markdown",
      "metadata": {
        "id": "EHRx7ynHFWBF"
      },
      "source": [
        "读取数据"
      ]
    },
    {
      "cell_type": "code",
      "metadata": {
        "id": "TILV2MuleyZf"
      },
      "source": [
        "import pandas as pd \n",
        "import numpy as np"
      ],
      "execution_count": null,
      "outputs": []
    },
    {
      "cell_type": "code",
      "metadata": {
        "colab": {
          "base_uri": "https://localhost:8080/",
          "height": 419
        },
        "id": "W3BKk7B0eyZg",
        "outputId": "1708eb6a-1f6e-409c-a215-94ce2c06c310"
      },
      "source": [
        "#读取train数据\n",
        "train_df = pd.read_csv('/content/drive/MyDrive/Colab Notebooks/xtzx/hw6/data/train.csv', sep='\\t')\n",
        "train_df                    "
      ],
      "execution_count": null,
      "outputs": [
        {
          "output_type": "execute_result",
          "data": {
            "text/html": [
              "<div>\n",
              "<style scoped>\n",
              "    .dataframe tbody tr th:only-of-type {\n",
              "        vertical-align: middle;\n",
              "    }\n",
              "\n",
              "    .dataframe tbody tr th {\n",
              "        vertical-align: top;\n",
              "    }\n",
              "\n",
              "    .dataframe thead th {\n",
              "        text-align: right;\n",
              "    }\n",
              "</style>\n",
              "<table border=\"1\" class=\"dataframe\">\n",
              "  <thead>\n",
              "    <tr style=\"text-align: right;\">\n",
              "      <th></th>\n",
              "      <th>reviewerID</th>\n",
              "      <th>asin</th>\n",
              "      <th>reviewText</th>\n",
              "      <th>overall</th>\n",
              "      <th>votes_up</th>\n",
              "      <th>votes_all</th>\n",
              "      <th>label</th>\n",
              "    </tr>\n",
              "  </thead>\n",
              "  <tbody>\n",
              "    <tr>\n",
              "      <th>0</th>\n",
              "      <td>7885</td>\n",
              "      <td>3901</td>\n",
              "      <td>First off, allow me to correct a common mistak...</td>\n",
              "      <td>5.0</td>\n",
              "      <td>6</td>\n",
              "      <td>7</td>\n",
              "      <td>0</td>\n",
              "    </tr>\n",
              "    <tr>\n",
              "      <th>1</th>\n",
              "      <td>52087</td>\n",
              "      <td>47978</td>\n",
              "      <td>I am really troubled by this Story and Enterta...</td>\n",
              "      <td>3.0</td>\n",
              "      <td>99</td>\n",
              "      <td>134</td>\n",
              "      <td>0</td>\n",
              "    </tr>\n",
              "    <tr>\n",
              "      <th>2</th>\n",
              "      <td>5701</td>\n",
              "      <td>3667</td>\n",
              "      <td>A near-perfect film version of a downright glo...</td>\n",
              "      <td>4.0</td>\n",
              "      <td>14</td>\n",
              "      <td>14</td>\n",
              "      <td>1</td>\n",
              "    </tr>\n",
              "    <tr>\n",
              "      <th>3</th>\n",
              "      <td>47191</td>\n",
              "      <td>40892</td>\n",
              "      <td>Keep your expectations low.  Really really low...</td>\n",
              "      <td>1.0</td>\n",
              "      <td>4</td>\n",
              "      <td>7</td>\n",
              "      <td>0</td>\n",
              "    </tr>\n",
              "    <tr>\n",
              "      <th>4</th>\n",
              "      <td>40957</td>\n",
              "      <td>15367</td>\n",
              "      <td>\"they dont make em like this no more...\"well.....</td>\n",
              "      <td>5.0</td>\n",
              "      <td>3</td>\n",
              "      <td>6</td>\n",
              "      <td>0</td>\n",
              "    </tr>\n",
              "    <tr>\n",
              "      <th>...</th>\n",
              "      <td>...</td>\n",
              "      <td>...</td>\n",
              "      <td>...</td>\n",
              "      <td>...</td>\n",
              "      <td>...</td>\n",
              "      <td>...</td>\n",
              "      <td>...</td>\n",
              "    </tr>\n",
              "    <tr>\n",
              "      <th>57034</th>\n",
              "      <td>58315</td>\n",
              "      <td>29374</td>\n",
              "      <td>If you like beautifully shot, well acted films...</td>\n",
              "      <td>2.0</td>\n",
              "      <td>12</td>\n",
              "      <td>21</td>\n",
              "      <td>0</td>\n",
              "    </tr>\n",
              "    <tr>\n",
              "      <th>57035</th>\n",
              "      <td>23328</td>\n",
              "      <td>45548</td>\n",
              "      <td>This is a great set of films Wayne did Fox and...</td>\n",
              "      <td>5.0</td>\n",
              "      <td>15</td>\n",
              "      <td>18</td>\n",
              "      <td>0</td>\n",
              "    </tr>\n",
              "    <tr>\n",
              "      <th>57036</th>\n",
              "      <td>27203</td>\n",
              "      <td>42453</td>\n",
              "      <td>It's what's known as a comedy of manners. It's...</td>\n",
              "      <td>3.0</td>\n",
              "      <td>4</td>\n",
              "      <td>5</td>\n",
              "      <td>0</td>\n",
              "    </tr>\n",
              "    <tr>\n",
              "      <th>57037</th>\n",
              "      <td>33992</td>\n",
              "      <td>44891</td>\n",
              "      <td>Ellen can do no wrong as far a creating wonder...</td>\n",
              "      <td>5.0</td>\n",
              "      <td>4</td>\n",
              "      <td>5</td>\n",
              "      <td>0</td>\n",
              "    </tr>\n",
              "    <tr>\n",
              "      <th>57038</th>\n",
              "      <td>27478</td>\n",
              "      <td>19198</td>\n",
              "      <td>I agree with everyone else that this is a grea...</td>\n",
              "      <td>2.0</td>\n",
              "      <td>5</td>\n",
              "      <td>5</td>\n",
              "      <td>1</td>\n",
              "    </tr>\n",
              "  </tbody>\n",
              "</table>\n",
              "<p>57039 rows × 7 columns</p>\n",
              "</div>"
            ],
            "text/plain": [
              "       reviewerID   asin  ... votes_all  label\n",
              "0            7885   3901  ...         7      0\n",
              "1           52087  47978  ...       134      0\n",
              "2            5701   3667  ...        14      1\n",
              "3           47191  40892  ...         7      0\n",
              "4           40957  15367  ...         6      0\n",
              "...           ...    ...  ...       ...    ...\n",
              "57034       58315  29374  ...        21      0\n",
              "57035       23328  45548  ...        18      0\n",
              "57036       27203  42453  ...         5      0\n",
              "57037       33992  44891  ...         5      0\n",
              "57038       27478  19198  ...         5      1\n",
              "\n",
              "[57039 rows x 7 columns]"
            ]
          },
          "metadata": {
            "tags": []
          },
          "execution_count": 3
        }
      ]
    },
    {
      "cell_type": "code",
      "metadata": {
        "colab": {
          "base_uri": "https://localhost:8080/",
          "height": 419
        },
        "id": "BPA9zCbPeyZl",
        "outputId": "ba316891-2f48-440d-8be8-e67818a34b80"
      },
      "source": [
        "#读取test数据\n",
        "test_df = pd.read_csv('/content/drive/MyDrive/Colab Notebooks/xtzx/hw6/data/test.csv', sep='\\t')\n",
        "test_df"
      ],
      "execution_count": null,
      "outputs": [
        {
          "output_type": "execute_result",
          "data": {
            "text/html": [
              "<div>\n",
              "<style scoped>\n",
              "    .dataframe tbody tr th:only-of-type {\n",
              "        vertical-align: middle;\n",
              "    }\n",
              "\n",
              "    .dataframe tbody tr th {\n",
              "        vertical-align: top;\n",
              "    }\n",
              "\n",
              "    .dataframe thead th {\n",
              "        text-align: right;\n",
              "    }\n",
              "</style>\n",
              "<table border=\"1\" class=\"dataframe\">\n",
              "  <thead>\n",
              "    <tr style=\"text-align: right;\">\n",
              "      <th></th>\n",
              "      <th>Id</th>\n",
              "      <th>reviewerID</th>\n",
              "      <th>asin</th>\n",
              "      <th>reviewText</th>\n",
              "      <th>overall</th>\n",
              "    </tr>\n",
              "  </thead>\n",
              "  <tbody>\n",
              "    <tr>\n",
              "      <th>0</th>\n",
              "      <td>0</td>\n",
              "      <td>82947</td>\n",
              "      <td>37386</td>\n",
              "      <td>I REALLY wanted this series but I am in SHOCK ...</td>\n",
              "      <td>1.0</td>\n",
              "    </tr>\n",
              "    <tr>\n",
              "      <th>1</th>\n",
              "      <td>1</td>\n",
              "      <td>10154</td>\n",
              "      <td>23543</td>\n",
              "      <td>I have to say that this is a work of art for m...</td>\n",
              "      <td>4.0</td>\n",
              "    </tr>\n",
              "    <tr>\n",
              "      <th>2</th>\n",
              "      <td>2</td>\n",
              "      <td>5789</td>\n",
              "      <td>5724</td>\n",
              "      <td>Alien 3 is certainly the most controversal fil...</td>\n",
              "      <td>3.0</td>\n",
              "    </tr>\n",
              "    <tr>\n",
              "      <th>3</th>\n",
              "      <td>3</td>\n",
              "      <td>9198</td>\n",
              "      <td>5909</td>\n",
              "      <td>I love this film...preachy?  Well, of course i...</td>\n",
              "      <td>5.0</td>\n",
              "    </tr>\n",
              "    <tr>\n",
              "      <th>4</th>\n",
              "      <td>4</td>\n",
              "      <td>33252</td>\n",
              "      <td>21214</td>\n",
              "      <td>Even though I previously bought the Gamera Dou...</td>\n",
              "      <td>5.0</td>\n",
              "    </tr>\n",
              "    <tr>\n",
              "      <th>...</th>\n",
              "      <td>...</td>\n",
              "      <td>...</td>\n",
              "      <td>...</td>\n",
              "      <td>...</td>\n",
              "      <td>...</td>\n",
              "    </tr>\n",
              "    <tr>\n",
              "      <th>11203</th>\n",
              "      <td>11203</td>\n",
              "      <td>18250</td>\n",
              "      <td>35309</td>\n",
              "      <td>I honestly never heard of the graphic novel un...</td>\n",
              "      <td>5.0</td>\n",
              "    </tr>\n",
              "    <tr>\n",
              "      <th>11204</th>\n",
              "      <td>11204</td>\n",
              "      <td>3200</td>\n",
              "      <td>2130</td>\n",
              "      <td>Archie Bunker's command to stifle YOURSELF! wa...</td>\n",
              "      <td>5.0</td>\n",
              "    </tr>\n",
              "    <tr>\n",
              "      <th>11205</th>\n",
              "      <td>11205</td>\n",
              "      <td>37366</td>\n",
              "      <td>41971</td>\n",
              "      <td>In LSD - My Problem Child, Albert Hoffman wrot...</td>\n",
              "      <td>5.0</td>\n",
              "    </tr>\n",
              "    <tr>\n",
              "      <th>11206</th>\n",
              "      <td>11206</td>\n",
              "      <td>1781</td>\n",
              "      <td>33089</td>\n",
              "      <td>I have owned this DVD for over a year now and ...</td>\n",
              "      <td>5.0</td>\n",
              "    </tr>\n",
              "    <tr>\n",
              "      <th>11207</th>\n",
              "      <td>11207</td>\n",
              "      <td>26372</td>\n",
              "      <td>35457</td>\n",
              "      <td>This movie is just a slap in the face [or othe...</td>\n",
              "      <td>1.0</td>\n",
              "    </tr>\n",
              "  </tbody>\n",
              "</table>\n",
              "<p>11208 rows × 5 columns</p>\n",
              "</div>"
            ],
            "text/plain": [
              "          Id  ...  overall\n",
              "0          0  ...      1.0\n",
              "1          1  ...      4.0\n",
              "2          2  ...      3.0\n",
              "3          3  ...      5.0\n",
              "4          4  ...      5.0\n",
              "...      ...  ...      ...\n",
              "11203  11203  ...      5.0\n",
              "11204  11204  ...      5.0\n",
              "11205  11205  ...      5.0\n",
              "11206  11206  ...      5.0\n",
              "11207  11207  ...      1.0\n",
              "\n",
              "[11208 rows x 5 columns]"
            ]
          },
          "metadata": {
            "tags": []
          },
          "execution_count": 4
        }
      ]
    },
    {
      "cell_type": "markdown",
      "metadata": {
        "id": "R_wvkga3FY3S"
      },
      "source": [
        "清理文本"
      ]
    },
    {
      "cell_type": "code",
      "metadata": {
        "colab": {
          "base_uri": "https://localhost:8080/"
        },
        "id": "F3saIF-hf1OD",
        "outputId": "57926930-acbd-4c8c-8dc3-a6cff0a9b88a"
      },
      "source": [
        "#调用nltk库，删除文本中的“stopword”, 并进行词干化（stemming）/词元化（lemmatisation），最后，只取前20个词返回。储存在‘text_clean’列中。\r\n",
        "\r\n",
        "import nltk ## for language detection \r\n",
        "import re\r\n",
        "''' \r\n",
        "Preprocess a string. \r\n",
        ":parameter \r\n",
        "    :param text: string - name of column containing text \r\n",
        "    :param lst_stopwords: list - list of stopwords to remove \r\n",
        "    :param flg_stemm: bool - whether stemming is to be applied \r\n",
        "    :param flg_lemm: bool - whether lemmitisation is to be applied \r\n",
        "    :param max_len: int - max number of words in the text\r\n",
        ":return \r\n",
        "    cleaned text \r\n",
        "''' \r\n",
        "nltk.download('stopwords')\r\n",
        "nltk.download('wordnet')\r\n",
        "def utils_preprocess_text(text, flg_stemm=False, flg_lemm=True, lst_stopwords=None, max_len = 20): \r\n",
        "    ## clean (convert to lowercase and remove punctuations and characters and then strip) \r\n",
        "    text = re.sub(r'[^\\w\\s]', '', str(text).lower().strip()) \r\n",
        " \r\n",
        "    ## Tokenize (convert from string to list) \r\n",
        "    lst_text = text.split()    ## remove Stopwords \r\n",
        "    if lst_stopwords is not None: \r\n",
        "        lst_text = [word for word in lst_text if word not in  \r\n",
        "                    lst_stopwords] \r\n",
        " \r\n",
        "    ## Stemming (remove -ing, -ly, ...) \r\n",
        "    if flg_stemm == True: \r\n",
        "        ps = nltk.stem.porter.PorterStemmer() \r\n",
        "        lst_text = [ps.stem(word) for word in lst_text] \r\n",
        " \r\n",
        "    ## Lemmatisation (convert the word into root word) \r\n",
        "    if flg_lemm == True: \r\n",
        "        lem = nltk.stem.wordnet.WordNetLemmatizer() \r\n",
        "        lst_text = [lem.lemmatize(word) for word in lst_text] \r\n",
        "      \r\n",
        "    lst_text = lst_text[:max_len]\r\n",
        " \r\n",
        "    ## back to string from list \r\n",
        "    text = \" \".join(lst_text) \r\n",
        "    return text"
      ],
      "execution_count": null,
      "outputs": [
        {
          "output_type": "stream",
          "text": [
            "[nltk_data] Downloading package stopwords to /root/nltk_data...\n",
            "[nltk_data]   Package stopwords is already up-to-date!\n",
            "[nltk_data] Downloading package wordnet to /root/nltk_data...\n",
            "[nltk_data]   Unzipping corpora/wordnet.zip.\n"
          ],
          "name": "stdout"
        }
      ]
    },
    {
      "cell_type": "code",
      "metadata": {
        "id": "M1WuNSGklJVE"
      },
      "source": [
        "from nltk.corpus import stopwords\r\n",
        "\r\n",
        "lst_stopwords = nltk.corpus.stopwords.words(\"english\") \r\n",
        "maxlen = 20\r\n",
        "train_df[\"text_clean\"] = train_df[\"reviewText\"].apply(lambda x: utils_preprocess_text(x, flg_stemm=False, flg_lemm=True,\r\n",
        "                                                                                      lst_stopwords=lst_stopwords, max_len = maxlen)) \r\n",
        "clean_df = train_df.copy()"
      ],
      "execution_count": null,
      "outputs": []
    },
    {
      "cell_type": "code",
      "metadata": {
        "colab": {
          "base_uri": "https://localhost:8080/",
          "height": 602
        },
        "id": "fL5umG-zo4gs",
        "outputId": "a7a832ba-d60c-443a-c604-08ec06d0d7e3"
      },
      "source": [
        "# 新增情绪列\r\n",
        "from textblob import TextBlob\r\n",
        "clean_df[\"sentiment\"] = clean_df['reviewText'].apply(lambda x: TextBlob(x).sentiment.polarity)\r\n",
        "\r\n",
        "#增加计数列\r\n",
        "clean_df['word_count'] = clean_df[\"reviewText\"].apply(lambda x: len(str(x).split(\" \"))) \r\n",
        "clean_df['char_count'] = clean_df[\"reviewText\"].apply(lambda x: sum(len(word) for word in str(x).split(\" \"))) \r\n",
        "clean_df['sentence_count'] = clean_df[\"reviewText\"].apply(lambda x: len(str(x).split(\".\"))) \r\n",
        "clean_df['avg_word_length'] = clean_df['char_count'] / clean_df['word_count'] \r\n",
        "clean_df['avg_sentence_lenght'] = clean_df['word_count'] / clean_df['sentence_count'] \r\n",
        "\r\n",
        "# clean_df = clean_df.drop(columns = ['reviewText'])\r\n",
        "clean_df.head()"
      ],
      "execution_count": null,
      "outputs": [
        {
          "output_type": "execute_result",
          "data": {
            "text/html": [
              "<div>\n",
              "<style scoped>\n",
              "    .dataframe tbody tr th:only-of-type {\n",
              "        vertical-align: middle;\n",
              "    }\n",
              "\n",
              "    .dataframe tbody tr th {\n",
              "        vertical-align: top;\n",
              "    }\n",
              "\n",
              "    .dataframe thead th {\n",
              "        text-align: right;\n",
              "    }\n",
              "</style>\n",
              "<table border=\"1\" class=\"dataframe\">\n",
              "  <thead>\n",
              "    <tr style=\"text-align: right;\">\n",
              "      <th></th>\n",
              "      <th>reviewerID</th>\n",
              "      <th>asin</th>\n",
              "      <th>reviewText</th>\n",
              "      <th>overall</th>\n",
              "      <th>votes_up</th>\n",
              "      <th>votes_all</th>\n",
              "      <th>label</th>\n",
              "      <th>text_clean</th>\n",
              "      <th>sentiment</th>\n",
              "      <th>word_count</th>\n",
              "      <th>char_count</th>\n",
              "      <th>sentence_count</th>\n",
              "      <th>avg_word_length</th>\n",
              "      <th>avg_sentence_lenght</th>\n",
              "    </tr>\n",
              "  </thead>\n",
              "  <tbody>\n",
              "    <tr>\n",
              "      <th>0</th>\n",
              "      <td>7885</td>\n",
              "      <td>3901</td>\n",
              "      <td>First off, allow me to correct a common mistak...</td>\n",
              "      <td>5.0</td>\n",
              "      <td>6</td>\n",
              "      <td>7</td>\n",
              "      <td>0</td>\n",
              "      <td>first allow correct common mistake made one re...</td>\n",
              "      <td>0.198494</td>\n",
              "      <td>416</td>\n",
              "      <td>1987</td>\n",
              "      <td>13</td>\n",
              "      <td>4.776442</td>\n",
              "      <td>32.000000</td>\n",
              "    </tr>\n",
              "    <tr>\n",
              "      <th>1</th>\n",
              "      <td>52087</td>\n",
              "      <td>47978</td>\n",
              "      <td>I am really troubled by this Story and Enterta...</td>\n",
              "      <td>3.0</td>\n",
              "      <td>99</td>\n",
              "      <td>134</td>\n",
              "      <td>0</td>\n",
              "      <td>really troubled story entertained way presente...</td>\n",
              "      <td>0.030000</td>\n",
              "      <td>477</td>\n",
              "      <td>2225</td>\n",
              "      <td>21</td>\n",
              "      <td>4.664570</td>\n",
              "      <td>22.714286</td>\n",
              "    </tr>\n",
              "    <tr>\n",
              "      <th>2</th>\n",
              "      <td>5701</td>\n",
              "      <td>3667</td>\n",
              "      <td>A near-perfect film version of a downright glo...</td>\n",
              "      <td>4.0</td>\n",
              "      <td>14</td>\n",
              "      <td>14</td>\n",
              "      <td>1</td>\n",
              "      <td>nearperfect film version downright gloomy play...</td>\n",
              "      <td>0.221667</td>\n",
              "      <td>71</td>\n",
              "      <td>357</td>\n",
              "      <td>4</td>\n",
              "      <td>5.028169</td>\n",
              "      <td>17.750000</td>\n",
              "    </tr>\n",
              "    <tr>\n",
              "      <th>3</th>\n",
              "      <td>47191</td>\n",
              "      <td>40892</td>\n",
              "      <td>Keep your expectations low.  Really really low...</td>\n",
              "      <td>1.0</td>\n",
              "      <td>4</td>\n",
              "      <td>7</td>\n",
              "      <td>0</td>\n",
              "      <td>keep expectation low really really low may ent...</td>\n",
              "      <td>-0.106471</td>\n",
              "      <td>117</td>\n",
              "      <td>577</td>\n",
              "      <td>14</td>\n",
              "      <td>4.931624</td>\n",
              "      <td>8.357143</td>\n",
              "    </tr>\n",
              "    <tr>\n",
              "      <th>4</th>\n",
              "      <td>40957</td>\n",
              "      <td>15367</td>\n",
              "      <td>\"they dont make em like this no more...\"well.....</td>\n",
              "      <td>5.0</td>\n",
              "      <td>3</td>\n",
              "      <td>6</td>\n",
              "      <td>0</td>\n",
              "      <td>dont make em like morewell throw phrase window...</td>\n",
              "      <td>0.037500</td>\n",
              "      <td>98</td>\n",
              "      <td>461</td>\n",
              "      <td>21</td>\n",
              "      <td>4.704082</td>\n",
              "      <td>4.666667</td>\n",
              "    </tr>\n",
              "  </tbody>\n",
              "</table>\n",
              "</div>"
            ],
            "text/plain": [
              "   reviewerID   asin  ... avg_word_length  avg_sentence_lenght\n",
              "0        7885   3901  ...        4.776442            32.000000\n",
              "1       52087  47978  ...        4.664570            22.714286\n",
              "2        5701   3667  ...        5.028169            17.750000\n",
              "3       47191  40892  ...        4.931624             8.357143\n",
              "4       40957  15367  ...        4.704082             4.666667\n",
              "\n",
              "[5 rows x 14 columns]"
            ]
          },
          "metadata": {
            "tags": []
          },
          "execution_count": 67
        }
      ]
    },
    {
      "cell_type": "code",
      "metadata": {
        "id": "b2t_KxKJmmkk"
      },
      "source": [
        "# clean_df.to_csv('/content/drive/MyDrive/Colab Notebooks/xtzx/hw6/data/clean.csv', sep = '\\t')"
      ],
      "execution_count": null,
      "outputs": []
    },
    {
      "cell_type": "code",
      "metadata": {
        "colab": {
          "base_uri": "https://localhost:8080/",
          "height": 568
        },
        "id": "3Tx-zqjbofy0",
        "outputId": "7f1729b7-0d26-4e28-f44f-12a810715fd1"
      },
      "source": [
        "lst_stopwords = nltk.corpus.stopwords.words(\"english\") \r\n",
        "maxlen = 20\r\n",
        "test_df[\"text_clean\"] = test_df[\"reviewText\"].apply(lambda x: utils_preprocess_text(x, flg_stemm=False, flg_lemm=True,\r\n",
        "                                                                                      lst_stopwords=lst_stopwords, max_len = maxlen)) \r\n",
        "\r\n",
        "# 新增情绪列\r\n",
        "from textblob import TextBlob\r\n",
        "test_df[\"sentiment\"] = test_df['reviewText'].apply(lambda x: TextBlob(x).sentiment.polarity)\r\n",
        "\r\n",
        "#增加计数列\r\n",
        "test_df['word_count'] = test_df[\"reviewText\"].apply(lambda x: len(str(x).split(\" \"))) \r\n",
        "test_df['char_count'] = test_df[\"reviewText\"].apply(lambda x: sum(len(word) for word in str(x).split(\" \"))) \r\n",
        "test_df['sentence_count'] = test_df[\"reviewText\"].apply(lambda x: len(str(x).split(\".\"))) \r\n",
        "test_df['avg_word_length'] = test_df['char_count'] / test_df['word_count'] \r\n",
        "test_df['avg_sentence_lenght'] = test_df['word_count'] / test_df['sentence_count'] \r\n",
        "\r\n",
        "test_df.head()\r\n"
      ],
      "execution_count": null,
      "outputs": [
        {
          "output_type": "execute_result",
          "data": {
            "text/html": [
              "<div>\n",
              "<style scoped>\n",
              "    .dataframe tbody tr th:only-of-type {\n",
              "        vertical-align: middle;\n",
              "    }\n",
              "\n",
              "    .dataframe tbody tr th {\n",
              "        vertical-align: top;\n",
              "    }\n",
              "\n",
              "    .dataframe thead th {\n",
              "        text-align: right;\n",
              "    }\n",
              "</style>\n",
              "<table border=\"1\" class=\"dataframe\">\n",
              "  <thead>\n",
              "    <tr style=\"text-align: right;\">\n",
              "      <th></th>\n",
              "      <th>Id</th>\n",
              "      <th>reviewerID</th>\n",
              "      <th>asin</th>\n",
              "      <th>reviewText</th>\n",
              "      <th>overall</th>\n",
              "      <th>text_clean</th>\n",
              "      <th>sentiment</th>\n",
              "      <th>word_count</th>\n",
              "      <th>char_count</th>\n",
              "      <th>sentence_count</th>\n",
              "      <th>avg_word_length</th>\n",
              "      <th>avg_sentence_lenght</th>\n",
              "    </tr>\n",
              "  </thead>\n",
              "  <tbody>\n",
              "    <tr>\n",
              "      <th>0</th>\n",
              "      <td>0</td>\n",
              "      <td>82947</td>\n",
              "      <td>37386</td>\n",
              "      <td>I REALLY wanted this series but I am in SHOCK ...</td>\n",
              "      <td>1.0</td>\n",
              "      <td>really wanted series shock price series would ...</td>\n",
              "      <td>0.200000</td>\n",
              "      <td>39</td>\n",
              "      <td>158</td>\n",
              "      <td>4</td>\n",
              "      <td>4.051282</td>\n",
              "      <td>9.750000</td>\n",
              "    </tr>\n",
              "    <tr>\n",
              "      <th>1</th>\n",
              "      <td>1</td>\n",
              "      <td>10154</td>\n",
              "      <td>23543</td>\n",
              "      <td>I have to say that this is a work of art for m...</td>\n",
              "      <td>4.0</td>\n",
              "      <td>say work art movie production value definitely...</td>\n",
              "      <td>0.296491</td>\n",
              "      <td>169</td>\n",
              "      <td>777</td>\n",
              "      <td>11</td>\n",
              "      <td>4.597633</td>\n",
              "      <td>15.363636</td>\n",
              "    </tr>\n",
              "    <tr>\n",
              "      <th>2</th>\n",
              "      <td>2</td>\n",
              "      <td>5789</td>\n",
              "      <td>5724</td>\n",
              "      <td>Alien 3 is certainly the most controversal fil...</td>\n",
              "      <td>3.0</td>\n",
              "      <td>alien 3 certainly controversal film alien seri...</td>\n",
              "      <td>0.016857</td>\n",
              "      <td>365</td>\n",
              "      <td>1699</td>\n",
              "      <td>21</td>\n",
              "      <td>4.654795</td>\n",
              "      <td>17.380952</td>\n",
              "    </tr>\n",
              "    <tr>\n",
              "      <th>3</th>\n",
              "      <td>3</td>\n",
              "      <td>9198</td>\n",
              "      <td>5909</td>\n",
              "      <td>I love this film...preachy?  Well, of course i...</td>\n",
              "      <td>5.0</td>\n",
              "      <td>love filmpreachy well course also lyrical beau...</td>\n",
              "      <td>0.333766</td>\n",
              "      <td>71</td>\n",
              "      <td>326</td>\n",
              "      <td>14</td>\n",
              "      <td>4.591549</td>\n",
              "      <td>5.071429</td>\n",
              "    </tr>\n",
              "    <tr>\n",
              "      <th>4</th>\n",
              "      <td>4</td>\n",
              "      <td>33252</td>\n",
              "      <td>21214</td>\n",
              "      <td>Even though I previously bought the Gamera Dou...</td>\n",
              "      <td>5.0</td>\n",
              "      <td>even though previously bought gamera double fe...</td>\n",
              "      <td>0.246667</td>\n",
              "      <td>78</td>\n",
              "      <td>384</td>\n",
              "      <td>6</td>\n",
              "      <td>4.923077</td>\n",
              "      <td>13.000000</td>\n",
              "    </tr>\n",
              "  </tbody>\n",
              "</table>\n",
              "</div>"
            ],
            "text/plain": [
              "   Id  reviewerID   asin  ... sentence_count  avg_word_length avg_sentence_lenght\n",
              "0   0       82947  37386  ...              4         4.051282            9.750000\n",
              "1   1       10154  23543  ...             11         4.597633           15.363636\n",
              "2   2        5789   5724  ...             21         4.654795           17.380952\n",
              "3   3        9198   5909  ...             14         4.591549            5.071429\n",
              "4   4       33252  21214  ...              6         4.923077           13.000000\n",
              "\n",
              "[5 rows x 12 columns]"
            ]
          },
          "metadata": {
            "tags": []
          },
          "execution_count": 71
        }
      ]
    },
    {
      "cell_type": "code",
      "metadata": {
        "id": "fuZEPfAKnZM5"
      },
      "source": [
        "test_df.to_csv('/content/drive/MyDrive/Colab Notebooks/xtzx/hw6/data/clean_test.csv', sep = '\\t')"
      ],
      "execution_count": null,
      "outputs": []
    },
    {
      "cell_type": "markdown",
      "metadata": {
        "id": "uZqzwCRjFdWA"
      },
      "source": [
        "bert特征提取"
      ]
    },
    {
      "cell_type": "code",
      "metadata": {
        "id": "n5gTKBTFS0gU"
      },
      "source": [
        "#bert embedding 提取前20个有效词中的文本特种，返回值为768维向量\r\n",
        "\r\n",
        "import time\r\n",
        "import torch\r\n",
        "import transformers as ppb\r\n",
        "from transformers import BertTokenizer, BertModel\r\n",
        "\r\n",
        "tokenizer = BertTokenizer.from_pretrained('bert-base-uncased') #加载预训练模型\r\n",
        "model1 = BertModel.from_pretrained(\"bert-base-uncased\")\r\n",
        "model = model1.to('cuda') # If you have GPU shift the model to GPU #利用GPU进行加速\r\n",
        "\r\n"
      ],
      "execution_count": null,
      "outputs": []
    },
    {
      "cell_type": "code",
      "metadata": {
        "colab": {
          "base_uri": "https://localhost:8080/"
        },
        "id": "PhFyxfMttd1i",
        "outputId": "61add319-a27a-4b87-ac9e-157ca9754f44"
      },
      "source": [
        "#提取测试集中第一个数据的文本特征\r\n",
        "text = test_df['text_clean'][0] #取出文本\r\n",
        "encoded_input = tokenizer(text, return_tensors='pt').to('cuda') #将数据传到GPU\r\n",
        "output = model(**encoded_input)\r\n",
        "feature = output[0][:,0,:].cpu().detach().numpy() #取出需要的特征，768维向量\r\n",
        "feature.shape"
      ],
      "execution_count": null,
      "outputs": [
        {
          "output_type": "execute_result",
          "data": {
            "text/plain": [
              "(1, 768)"
            ]
          },
          "metadata": {
            "tags": []
          },
          "execution_count": 85
        }
      ]
    },
    {
      "cell_type": "code",
      "metadata": {
        "colab": {
          "base_uri": "https://localhost:8080/"
        },
        "id": "nTiuYHO7tnr_",
        "outputId": "839573a0-c711-4de8-a0b6-d3971021c1d6"
      },
      "source": [
        "#提取测试集中第二个数据的文本特征\r\n",
        "text = test_df['text_clean'][1]\r\n",
        "encoded_input = tokenizer(text, return_tensors='pt').to('cuda')\r\n",
        "output = model(**encoded_input)\r\n",
        "feature2 = output[0][:,0,:].cpu().detach().numpy()\r\n",
        "feature2.shape"
      ],
      "execution_count": null,
      "outputs": [
        {
          "output_type": "execute_result",
          "data": {
            "text/plain": [
              "(1, 768)"
            ]
          },
          "metadata": {
            "tags": []
          },
          "execution_count": 86
        }
      ]
    },
    {
      "cell_type": "code",
      "metadata": {
        "colab": {
          "base_uri": "https://localhost:8080/"
        },
        "id": "3SIsCQYUtxGm",
        "outputId": "cedea256-8e5f-4e7b-8429-e5caaa2cd6c1"
      },
      "source": [
        "test_bert = np.vstack((feature, feature2))\r\n",
        "test_bert"
      ],
      "execution_count": null,
      "outputs": [
        {
          "output_type": "execute_result",
          "data": {
            "text/plain": [
              "array([[-0.16238534, -0.5062264 ,  0.34817144, ..., -0.61204606,\n",
              "         0.24835233,  0.0076165 ],\n",
              "       [-0.37093663, -0.17470673, -0.09768231, ..., -0.6112864 ,\n",
              "         0.40850037,  0.09287984]], dtype=float32)"
            ]
          },
          "metadata": {
            "tags": []
          },
          "execution_count": 87
        }
      ]
    },
    {
      "cell_type": "code",
      "metadata": {
        "id": "aS-deB_Strdm"
      },
      "source": [
        "t0 = time()\r\n",
        "for i in range(2, 11208):\r\n",
        "  text = test_df['text_clean'][i]\r\n",
        "  encoded_input = tokenizer(text, return_tensors='pt').to('cuda')\r\n",
        "  output = model(**encoded_input)\r\n",
        "  featurei = output[0][:,0,:].cpu().detach().numpy()\r\n",
        "  test_bert = np.vstack((test_bert, featurei))\r\n",
        "  if i % 1000 == 0:\r\n",
        "    print(i)\r\n",
        "\r\n",
        "print(\"done in \", time() - t0, \"sec\")"
      ],
      "execution_count": null,
      "outputs": []
    },
    {
      "cell_type": "code",
      "metadata": {
        "colab": {
          "base_uri": "https://localhost:8080/"
        },
        "id": "aRjTsnyhBd8C",
        "outputId": "b17879a9-dfb7-47f3-d492-3c7dac759093"
      },
      "source": [
        "test_bert.shape"
      ],
      "execution_count": null,
      "outputs": [
        {
          "output_type": "execute_result",
          "data": {
            "text/plain": [
              "(11208, 768)"
            ]
          },
          "metadata": {
            "tags": []
          },
          "execution_count": 91
        }
      ]
    },
    {
      "cell_type": "code",
      "metadata": {
        "id": "Pl8k5c4Ct5B0"
      },
      "source": [
        "#将提取好的特征保存成numpy矩阵格式，方便下次调用\r\n",
        "# np.save('/content/drive/MyDrive/Colab Notebooks/xtzx/hw6/data/bert_clean_test.npy',test_bert) "
      ],
      "execution_count": null,
      "outputs": []
    },
    {
      "cell_type": "code",
      "metadata": {
        "id": "ebSKHVuV_M2K"
      },
      "source": [
        "del test_bert #释放内存"
      ],
      "execution_count": null,
      "outputs": []
    },
    {
      "cell_type": "code",
      "metadata": {
        "id": "QzDZdiEMUXoG"
      },
      "source": [
        "#提取train集中第一个文本的特征\r\n",
        "text = train_df['text_clean'][0]\r\n",
        "encoded_input = tokenizer(text, return_tensors='pt').to('cuda')\r\n",
        "output = model(**encoded_input)"
      ],
      "execution_count": null,
      "outputs": []
    },
    {
      "cell_type": "code",
      "metadata": {
        "colab": {
          "base_uri": "https://localhost:8080/"
        },
        "id": "0D2hZuseUs2e",
        "outputId": "05bd3c7b-34c5-44a3-8942-aaaf076f73b6"
      },
      "source": [
        "feature = output[0][:,0,:].cpu().detach().numpy()\r\n",
        "feature.shape"
      ],
      "execution_count": null,
      "outputs": [
        {
          "output_type": "execute_result",
          "data": {
            "text/plain": [
              "(1, 768)"
            ]
          },
          "metadata": {
            "tags": []
          },
          "execution_count": 76
        }
      ]
    },
    {
      "cell_type": "code",
      "metadata": {
        "colab": {
          "base_uri": "https://localhost:8080/"
        },
        "id": "B_ZNpBX-fmpj",
        "outputId": "002be6a6-2a68-4a50-a2d1-b8bd7dfb5b66"
      },
      "source": [
        "#提取train集中第二个文本的特征\r\n",
        "text = train_df['text_clean'][1]\r\n",
        "encoded_input = tokenizer(text, return_tensors='pt').to('cuda')\r\n",
        "output = model(**encoded_input)\r\n",
        "feature2 = output[0][:,0,:].cpu().detach().numpy()\r\n",
        "feature2.shape"
      ],
      "execution_count": null,
      "outputs": [
        {
          "output_type": "execute_result",
          "data": {
            "text/plain": [
              "(1, 768)"
            ]
          },
          "metadata": {
            "tags": []
          },
          "execution_count": 78
        }
      ]
    },
    {
      "cell_type": "code",
      "metadata": {
        "id": "h1cM7iYDf1_I"
      },
      "source": [
        "old = np.vstack((feature, feature2))\r\n",
        "all_bert = old.copy()"
      ],
      "execution_count": null,
      "outputs": []
    },
    {
      "cell_type": "code",
      "metadata": {
        "colab": {
          "base_uri": "https://localhost:8080/"
        },
        "id": "WR3yIPupg5dX",
        "outputId": "6606c783-f8f8-4294-db32-7123fd351109"
      },
      "source": [
        "all_bert"
      ],
      "execution_count": null,
      "outputs": [
        {
          "output_type": "execute_result",
          "data": {
            "text/plain": [
              "array([[-0.4800572 , -0.03585712,  0.23369914, ..., -0.4476912 ,\n",
              "         0.51827276,  0.46136004],\n",
              "       [-0.37914237,  0.09411145,  0.05395877, ..., -0.47702298,\n",
              "         0.60461056,  0.29169947]], dtype=float32)"
            ]
          },
          "metadata": {
            "tags": []
          },
          "execution_count": 80
        }
      ]
    },
    {
      "cell_type": "code",
      "metadata": {
        "colab": {
          "base_uri": "https://localhost:8080/"
        },
        "id": "ucXhbBjfgEEt",
        "outputId": "b5a4967f-b9f9-4be2-8ce5-f080c097724f"
      },
      "source": [
        "#提取train集中所有文本的特征\r\n",
        "t0 = time()\r\n",
        "for i in range(2, 57039):\r\n",
        "  text = train_df['text_clean'][i]\r\n",
        "  encoded_input = tokenizer(text, return_tensors='pt').to('cuda')\r\n",
        "  output = model(**encoded_input)\r\n",
        "  featurei = output[0][:,0,:].cpu().detach().numpy()\r\n",
        "  all_bert = np.vstack((all_bert, featurei))\r\n",
        "  if i % 1000 == 0:\r\n",
        "    print(i)\r\n",
        "    np.save('/content/drive/MyDrive/Colab Notebooks/xtzx/hw6/data/bert_clean.npy', all_bert)\r\n",
        "\r\n",
        "print(\"done in \", time() - t0, \"sec\")"
      ],
      "execution_count": null,
      "outputs": [
        {
          "output_type": "stream",
          "text": [
            "1000\n",
            "2000\n",
            "3000\n",
            "4000\n",
            "5000\n",
            "6000\n",
            "7000\n",
            "8000\n",
            "9000\n",
            "10000\n",
            "11000\n",
            "12000\n",
            "13000\n",
            "14000\n",
            "15000\n",
            "16000\n",
            "17000\n",
            "18000\n",
            "19000\n",
            "20000\n",
            "21000\n",
            "22000\n",
            "23000\n",
            "24000\n",
            "25000\n",
            "26000\n",
            "27000\n",
            "28000\n",
            "29000\n",
            "30000\n",
            "31000\n",
            "32000\n",
            "33000\n",
            "34000\n",
            "35000\n",
            "36000\n",
            "37000\n",
            "38000\n",
            "39000\n",
            "40000\n",
            "41000\n",
            "42000\n",
            "43000\n",
            "44000\n",
            "45000\n",
            "46000\n",
            "47000\n",
            "48000\n",
            "49000\n",
            "50000\n",
            "51000\n",
            "52000\n",
            "53000\n",
            "54000\n",
            "55000\n",
            "56000\n",
            "57000\n",
            "done in  2243.788642883301 sec\n"
          ],
          "name": "stdout"
        }
      ]
    },
    {
      "cell_type": "code",
      "metadata": {
        "id": "ZBm9qk1ud33K"
      },
      "source": [
        "#保存train集的文本特征\r\n",
        "# np.save('/content/drive/MyDrive/Colab Notebooks/xtzx/hw6/data/bert_clean_train.npy', all_bert)"
      ],
      "execution_count": null,
      "outputs": []
    },
    {
      "cell_type": "code",
      "metadata": {
        "id": "HISIlCoV-nJH"
      },
      "source": [
        "del all_bert #释放内存"
      ],
      "execution_count": null,
      "outputs": []
    },
    {
      "cell_type": "code",
      "metadata": {
        "id": "Xm3f77DNxEMS"
      },
      "source": [
        ""
      ],
      "execution_count": null,
      "outputs": []
    },
    {
      "cell_type": "code",
      "metadata": {
        "id": "nkfJV-56d3Co"
      },
      "source": [
        ""
      ],
      "execution_count": null,
      "outputs": []
    },
    {
      "cell_type": "markdown",
      "metadata": {
        "id": "KoChmrjDGPYn"
      },
      "source": [
        "看到这里或许就可以停了，后面是其他的一些尝试（有的成功，有的失败），但由于运行速度太慢或者占内存太多无法顺利运行等原因最终没有使用。"
      ]
    },
    {
      "cell_type": "code",
      "metadata": {
        "id": "F0Z1m3tReyZm"
      },
      "source": [
        "#把content的内容缩减到200个字符（约40词） 之后再加\n",
        "# maxchar = 200\n",
        "# train_df['content'] = 0\n",
        "# for i in range(len(train_df['reviewText'])):\n",
        "#   train_df['content'][i] = train_df['reviewText'][i][:maxchar]\n",
        "\n",
        "# test_df['content'] = 0\n",
        "# for i in range(len(test_df['reviewText'])):\n",
        "#   test_df['content'][i] = test_df['reviewText'][i][:maxchar]\n",
        "\n",
        "#把内容缩减到20个词\n",
        "# maxlen = 20\n",
        "# train_df['fcontent'] = 0\n",
        "# for i in range(len(train_df['reviewText'])):\n",
        "#     train_df['fcontent'][i] = \" \".join(train_df['reviewText'][i].split(sep = ' ')[:maxlen])"
      ],
      "execution_count": null,
      "outputs": []
    },
    {
      "cell_type": "code",
      "metadata": {
        "colab": {
          "base_uri": "https://localhost:8080/",
          "height": 402
        },
        "id": "HeSJePvG4B3g",
        "outputId": "7c8f3bf9-f92b-4255-9cd6-ea510604070a"
      },
      "source": [
        "# test_df['fcontent'] = 0\r\n",
        "# for i in range(len(test_df['reviewText'])):\r\n",
        "#     test_df['fcontent'][i] = \" \".join(test_df['reviewText'][i].split(sep = ' ')[:maxlen])\r\n",
        "\r\n",
        "# test_df"
      ],
      "execution_count": null,
      "outputs": [
        {
          "output_type": "execute_result",
          "data": {
            "text/html": [
              "<div>\n",
              "<style scoped>\n",
              "    .dataframe tbody tr th:only-of-type {\n",
              "        vertical-align: middle;\n",
              "    }\n",
              "\n",
              "    .dataframe tbody tr th {\n",
              "        vertical-align: top;\n",
              "    }\n",
              "\n",
              "    .dataframe thead th {\n",
              "        text-align: right;\n",
              "    }\n",
              "</style>\n",
              "<table border=\"1\" class=\"dataframe\">\n",
              "  <thead>\n",
              "    <tr style=\"text-align: right;\">\n",
              "      <th></th>\n",
              "      <th>Id</th>\n",
              "      <th>reviewerID</th>\n",
              "      <th>asin</th>\n",
              "      <th>reviewText</th>\n",
              "      <th>overall</th>\n",
              "      <th>fcontent</th>\n",
              "    </tr>\n",
              "  </thead>\n",
              "  <tbody>\n",
              "    <tr>\n",
              "      <th>0</th>\n",
              "      <td>0</td>\n",
              "      <td>82947</td>\n",
              "      <td>37386</td>\n",
              "      <td>I REALLY wanted this series but I am in SHOCK ...</td>\n",
              "      <td>1.0</td>\n",
              "      <td>I REALLY wanted this series but I am in SHOCK ...</td>\n",
              "    </tr>\n",
              "    <tr>\n",
              "      <th>1</th>\n",
              "      <td>1</td>\n",
              "      <td>10154</td>\n",
              "      <td>23543</td>\n",
              "      <td>I have to say that this is a work of art for m...</td>\n",
              "      <td>4.0</td>\n",
              "      <td>I have to say that this is a work of art for m...</td>\n",
              "    </tr>\n",
              "    <tr>\n",
              "      <th>2</th>\n",
              "      <td>2</td>\n",
              "      <td>5789</td>\n",
              "      <td>5724</td>\n",
              "      <td>Alien 3 is certainly the most controversal fil...</td>\n",
              "      <td>3.0</td>\n",
              "      <td>Alien 3 is certainly the most controversal fil...</td>\n",
              "    </tr>\n",
              "    <tr>\n",
              "      <th>3</th>\n",
              "      <td>3</td>\n",
              "      <td>9198</td>\n",
              "      <td>5909</td>\n",
              "      <td>I love this film...preachy?  Well, of course i...</td>\n",
              "      <td>5.0</td>\n",
              "      <td>I love this film...preachy?  Well, of course i...</td>\n",
              "    </tr>\n",
              "    <tr>\n",
              "      <th>4</th>\n",
              "      <td>4</td>\n",
              "      <td>33252</td>\n",
              "      <td>21214</td>\n",
              "      <td>Even though I previously bought the Gamera Dou...</td>\n",
              "      <td>5.0</td>\n",
              "      <td>Even though I previously bought the Gamera Dou...</td>\n",
              "    </tr>\n",
              "    <tr>\n",
              "      <th>...</th>\n",
              "      <td>...</td>\n",
              "      <td>...</td>\n",
              "      <td>...</td>\n",
              "      <td>...</td>\n",
              "      <td>...</td>\n",
              "      <td>...</td>\n",
              "    </tr>\n",
              "    <tr>\n",
              "      <th>11203</th>\n",
              "      <td>11203</td>\n",
              "      <td>18250</td>\n",
              "      <td>35309</td>\n",
              "      <td>I honestly never heard of the graphic novel un...</td>\n",
              "      <td>5.0</td>\n",
              "      <td>I honestly never heard of the graphic novel un...</td>\n",
              "    </tr>\n",
              "    <tr>\n",
              "      <th>11204</th>\n",
              "      <td>11204</td>\n",
              "      <td>3200</td>\n",
              "      <td>2130</td>\n",
              "      <td>Archie Bunker's command to stifle YOURSELF! wa...</td>\n",
              "      <td>5.0</td>\n",
              "      <td>Archie Bunker's command to stifle YOURSELF! wa...</td>\n",
              "    </tr>\n",
              "    <tr>\n",
              "      <th>11205</th>\n",
              "      <td>11205</td>\n",
              "      <td>37366</td>\n",
              "      <td>41971</td>\n",
              "      <td>In LSD - My Problem Child, Albert Hoffman wrot...</td>\n",
              "      <td>5.0</td>\n",
              "      <td>In LSD - My Problem Child, Albert Hoffman wrot...</td>\n",
              "    </tr>\n",
              "    <tr>\n",
              "      <th>11206</th>\n",
              "      <td>11206</td>\n",
              "      <td>1781</td>\n",
              "      <td>33089</td>\n",
              "      <td>I have owned this DVD for over a year now and ...</td>\n",
              "      <td>5.0</td>\n",
              "      <td>I have owned this DVD for over a year now and ...</td>\n",
              "    </tr>\n",
              "    <tr>\n",
              "      <th>11207</th>\n",
              "      <td>11207</td>\n",
              "      <td>26372</td>\n",
              "      <td>35457</td>\n",
              "      <td>This movie is just a slap in the face [or othe...</td>\n",
              "      <td>1.0</td>\n",
              "      <td>This movie is just a slap in the face [or othe...</td>\n",
              "    </tr>\n",
              "  </tbody>\n",
              "</table>\n",
              "<p>11208 rows × 6 columns</p>\n",
              "</div>"
            ],
            "text/plain": [
              "          Id  ...                                           fcontent\n",
              "0          0  ...  I REALLY wanted this series but I am in SHOCK ...\n",
              "1          1  ...  I have to say that this is a work of art for m...\n",
              "2          2  ...  Alien 3 is certainly the most controversal fil...\n",
              "3          3  ...  I love this film...preachy?  Well, of course i...\n",
              "4          4  ...  Even though I previously bought the Gamera Dou...\n",
              "...      ...  ...                                                ...\n",
              "11203  11203  ...  I honestly never heard of the graphic novel un...\n",
              "11204  11204  ...  Archie Bunker's command to stifle YOURSELF! wa...\n",
              "11205  11205  ...  In LSD - My Problem Child, Albert Hoffman wrot...\n",
              "11206  11206  ...  I have owned this DVD for over a year now and ...\n",
              "11207  11207  ...  This movie is just a slap in the face [or othe...\n",
              "\n",
              "[11208 rows x 6 columns]"
            ]
          },
          "metadata": {
            "tags": []
          },
          "execution_count": 20
        }
      ]
    },
    {
      "cell_type": "code",
      "metadata": {
        "colab": {
          "base_uri": "https://localhost:8080/",
          "height": 402
        },
        "id": "dd2zPPTnroVT",
        "outputId": "104dfdcd-69d0-40b0-d33f-957abe66e432"
      },
      "source": [
        "#小训练集选取时，label 1 和 0 的数量相同\r\n",
        "small_batch_df = pd.concat([train_df[train_df['label'] == 0][:12000], train_df[train_df['label'] == 1][:12000]])\r\n",
        "small_batch_df\r\n",
        "from sklearn.utils import shuffle\r\n",
        "small_batch_df = shuffle(small_batch_df, random_state = 520)\r\n",
        "\r\n",
        "small_batch_df"
      ],
      "execution_count": null,
      "outputs": [
        {
          "output_type": "execute_result",
          "data": {
            "text/html": [
              "<div>\n",
              "<style scoped>\n",
              "    .dataframe tbody tr th:only-of-type {\n",
              "        vertical-align: middle;\n",
              "    }\n",
              "\n",
              "    .dataframe tbody tr th {\n",
              "        vertical-align: top;\n",
              "    }\n",
              "\n",
              "    .dataframe thead th {\n",
              "        text-align: right;\n",
              "    }\n",
              "</style>\n",
              "<table border=\"1\" class=\"dataframe\">\n",
              "  <thead>\n",
              "    <tr style=\"text-align: right;\">\n",
              "      <th></th>\n",
              "      <th>content</th>\n",
              "      <th>label</th>\n",
              "    </tr>\n",
              "  </thead>\n",
              "  <tbody>\n",
              "    <tr>\n",
              "      <th>2936</th>\n",
              "      <td>Maxium Overdrive written and directed by Steph...</td>\n",
              "      <td>0</td>\n",
              "    </tr>\n",
              "    <tr>\n",
              "      <th>10566</th>\n",
              "      <td>Thank you New Video Group for bringing us this...</td>\n",
              "      <td>0</td>\n",
              "    </tr>\n",
              "    <tr>\n",
              "      <th>5667</th>\n",
              "      <td>Masterful work of Italian neo-realism by the g...</td>\n",
              "      <td>0</td>\n",
              "    </tr>\n",
              "    <tr>\n",
              "      <th>10074</th>\n",
              "      <td>For young and old who are fascinated with dino...</td>\n",
              "      <td>1</td>\n",
              "    </tr>\n",
              "    <tr>\n",
              "      <th>8621</th>\n",
              "      <td>I saw this movie on the satellite and went and...</td>\n",
              "      <td>0</td>\n",
              "    </tr>\n",
              "    <tr>\n",
              "      <th>...</th>\n",
              "      <td>...</td>\n",
              "      <td>...</td>\n",
              "    </tr>\n",
              "    <tr>\n",
              "      <th>5266</th>\n",
              "      <td>I have seen many a cool collector's movie set,...</td>\n",
              "      <td>0</td>\n",
              "    </tr>\n",
              "    <tr>\n",
              "      <th>39874</th>\n",
              "      <td>I can't tell you how long I waited in trepidat...</td>\n",
              "      <td>1</td>\n",
              "    </tr>\n",
              "    <tr>\n",
              "      <th>21290</th>\n",
              "      <td>This is a well-written, well acted, very origi...</td>\n",
              "      <td>1</td>\n",
              "    </tr>\n",
              "    <tr>\n",
              "      <th>4812</th>\n",
              "      <td>This is the same wonderful series I remember f...</td>\n",
              "      <td>0</td>\n",
              "    </tr>\n",
              "    <tr>\n",
              "      <th>8817</th>\n",
              "      <td>Sucker Punch, starring Emily Browning, arrived...</td>\n",
              "      <td>0</td>\n",
              "    </tr>\n",
              "  </tbody>\n",
              "</table>\n",
              "<p>24000 rows × 2 columns</p>\n",
              "</div>"
            ],
            "text/plain": [
              "                                                 content  label\n",
              "2936   Maxium Overdrive written and directed by Steph...      0\n",
              "10566  Thank you New Video Group for bringing us this...      0\n",
              "5667   Masterful work of Italian neo-realism by the g...      0\n",
              "10074  For young and old who are fascinated with dino...      1\n",
              "8621   I saw this movie on the satellite and went and...      0\n",
              "...                                                  ...    ...\n",
              "5266   I have seen many a cool collector's movie set,...      0\n",
              "39874  I can't tell you how long I waited in trepidat...      1\n",
              "21290  This is a well-written, well acted, very origi...      1\n",
              "4812   This is the same wonderful series I remember f...      0\n",
              "8817   Sucker Punch, starring Emily Browning, arrived...      0\n",
              "\n",
              "[24000 rows x 2 columns]"
            ]
          },
          "metadata": {
            "tags": []
          },
          "execution_count": 37
        }
      ]
    },
    {
      "cell_type": "code",
      "metadata": {
        "colab": {
          "base_uri": "https://localhost:8080/"
        },
        "id": "svCMNiTii9R-",
        "outputId": "d696fe35-b82b-4cc1-8d89-2bc59fd4595c"
      },
      "source": [
        "len(train_df['content'][100])"
      ],
      "execution_count": null,
      "outputs": [
        {
          "output_type": "execute_result",
          "data": {
            "text/plain": [
              "115"
            ]
          },
          "metadata": {
            "tags": []
          },
          "execution_count": 38
        }
      ]
    },
    {
      "cell_type": "code",
      "metadata": {
        "colab": {
          "base_uri": "https://localhost:8080/",
          "height": 35
        },
        "id": "fbGVKupRjrjV",
        "outputId": "a49c567c-b325-4f80-da20-721c38ea90db"
      },
      "source": [
        "test_df['content'][1]"
      ],
      "execution_count": null,
      "outputs": [
        {
          "output_type": "execute_result",
          "data": {
            "application/vnd.google.colaboratory.intrinsic+json": {
              "type": "string"
            },
            "text/plain": [
              "'I have to say that this is a work of art for movies. The production values are definitely some of'"
            ]
          },
          "metadata": {
            "tags": []
          },
          "execution_count": 39
        }
      ]
    },
    {
      "cell_type": "code",
      "metadata": {
        "colab": {
          "base_uri": "https://localhost:8080/"
        },
        "id": "Y2QBuf35lgmf",
        "outputId": "d0ef4ed7-3e62-464b-c96f-0a097233c4c5"
      },
      "source": [
        "!pip install transformers"
      ],
      "execution_count": null,
      "outputs": [
        {
          "output_type": "stream",
          "text": [
            "Collecting transformers\n",
            "\u001b[?25l  Downloading https://files.pythonhosted.org/packages/50/0c/7d5950fcd80b029be0a8891727ba21e0cd27692c407c51261c3c921f6da3/transformers-4.1.1-py3-none-any.whl (1.5MB)\n",
            "\u001b[K     |████████████████████████████████| 1.5MB 5.9MB/s \n",
            "\u001b[?25hRequirement already satisfied: filelock in /usr/local/lib/python3.6/dist-packages (from transformers) (3.0.12)\n",
            "Requirement already satisfied: regex!=2019.12.17 in /usr/local/lib/python3.6/dist-packages (from transformers) (2019.12.20)\n",
            "Requirement already satisfied: tqdm>=4.27 in /usr/local/lib/python3.6/dist-packages (from transformers) (4.41.1)\n",
            "Requirement already satisfied: packaging in /usr/local/lib/python3.6/dist-packages (from transformers) (20.8)\n",
            "Requirement already satisfied: dataclasses; python_version < \"3.7\" in /usr/local/lib/python3.6/dist-packages (from transformers) (0.8)\n",
            "Collecting sacremoses\n",
            "\u001b[?25l  Downloading https://files.pythonhosted.org/packages/7d/34/09d19aff26edcc8eb2a01bed8e98f13a1537005d31e95233fd48216eed10/sacremoses-0.0.43.tar.gz (883kB)\n",
            "\u001b[K     |████████████████████████████████| 890kB 38.8MB/s \n",
            "\u001b[?25hRequirement already satisfied: numpy in /usr/local/lib/python3.6/dist-packages (from transformers) (1.19.4)\n",
            "Requirement already satisfied: requests in /usr/local/lib/python3.6/dist-packages (from transformers) (2.23.0)\n",
            "Collecting tokenizers==0.9.4\n",
            "\u001b[?25l  Downloading https://files.pythonhosted.org/packages/0f/1c/e789a8b12e28be5bc1ce2156cf87cb522b379be9cadc7ad8091a4cc107c4/tokenizers-0.9.4-cp36-cp36m-manylinux2010_x86_64.whl (2.9MB)\n",
            "\u001b[K     |████████████████████████████████| 2.9MB 41.8MB/s \n",
            "\u001b[?25hRequirement already satisfied: pyparsing>=2.0.2 in /usr/local/lib/python3.6/dist-packages (from packaging->transformers) (2.4.7)\n",
            "Requirement already satisfied: six in /usr/local/lib/python3.6/dist-packages (from sacremoses->transformers) (1.15.0)\n",
            "Requirement already satisfied: click in /usr/local/lib/python3.6/dist-packages (from sacremoses->transformers) (7.1.2)\n",
            "Requirement already satisfied: joblib in /usr/local/lib/python3.6/dist-packages (from sacremoses->transformers) (1.0.0)\n",
            "Requirement already satisfied: idna<3,>=2.5 in /usr/local/lib/python3.6/dist-packages (from requests->transformers) (2.10)\n",
            "Requirement already satisfied: certifi>=2017.4.17 in /usr/local/lib/python3.6/dist-packages (from requests->transformers) (2020.12.5)\n",
            "Requirement already satisfied: urllib3!=1.25.0,!=1.25.1,<1.26,>=1.21.1 in /usr/local/lib/python3.6/dist-packages (from requests->transformers) (1.24.3)\n",
            "Requirement already satisfied: chardet<4,>=3.0.2 in /usr/local/lib/python3.6/dist-packages (from requests->transformers) (3.0.4)\n",
            "Building wheels for collected packages: sacremoses\n",
            "  Building wheel for sacremoses (setup.py) ... \u001b[?25l\u001b[?25hdone\n",
            "  Created wheel for sacremoses: filename=sacremoses-0.0.43-cp36-none-any.whl size=893261 sha256=021b959a5da1620d3eaf033061330836197b2edfc22a06f662ac2b4d785119ef\n",
            "  Stored in directory: /root/.cache/pip/wheels/29/3c/fd/7ce5c3f0666dab31a50123635e6fb5e19ceb42ce38d4e58f45\n",
            "Successfully built sacremoses\n",
            "Installing collected packages: sacremoses, tokenizers, transformers\n",
            "Successfully installed sacremoses-0.0.43 tokenizers-0.9.4 transformers-4.1.1\n"
          ],
          "name": "stdout"
        }
      ]
    },
    {
      "cell_type": "code",
      "metadata": {
        "id": "nXEaO9QjlbwT"
      },
      "source": [
        "import numpy as np\r\n",
        "import pandas as pd\r\n",
        "from sklearn.model_selection import train_test_split\r\n",
        "from sklearn.linear_model import LogisticRegression\r\n",
        "from sklearn.model_selection import GridSearchCV\r\n",
        "from sklearn.model_selection import cross_val_score\r\n",
        "import torch\r\n",
        "import transformers as ppb\r\n",
        "import warnings\r\n",
        "warnings.filterwarnings('ignore')"
      ],
      "execution_count": null,
      "outputs": []
    },
    {
      "cell_type": "code",
      "metadata": {
        "id": "WRV8FIvHkTuz"
      },
      "source": [
        "whole_X = pd.concat([small_batch_df, test_df], keys = ['train', 'test'])"
      ],
      "execution_count": null,
      "outputs": []
    },
    {
      "cell_type": "code",
      "metadata": {
        "colab": {
          "base_uri": "https://localhost:8080/",
          "height": 402
        },
        "id": "EP_xOB_utthP",
        "outputId": "0b0fc38a-350c-49d7-f18e-02896b6300be"
      },
      "source": [
        "whole_X"
      ],
      "execution_count": null,
      "outputs": [
        {
          "output_type": "execute_result",
          "data": {
            "text/html": [
              "<div>\n",
              "<style scoped>\n",
              "    .dataframe tbody tr th:only-of-type {\n",
              "        vertical-align: middle;\n",
              "    }\n",
              "\n",
              "    .dataframe tbody tr th {\n",
              "        vertical-align: top;\n",
              "    }\n",
              "\n",
              "    .dataframe thead th {\n",
              "        text-align: right;\n",
              "    }\n",
              "</style>\n",
              "<table border=\"1\" class=\"dataframe\">\n",
              "  <thead>\n",
              "    <tr style=\"text-align: right;\">\n",
              "      <th></th>\n",
              "      <th></th>\n",
              "      <th>content</th>\n",
              "      <th>label</th>\n",
              "      <th>Id</th>\n",
              "    </tr>\n",
              "  </thead>\n",
              "  <tbody>\n",
              "    <tr>\n",
              "      <th rowspan=\"5\" valign=\"top\">train</th>\n",
              "      <th>2936</th>\n",
              "      <td>Maxium Overdrive written and directed by Steph...</td>\n",
              "      <td>0.0</td>\n",
              "      <td>NaN</td>\n",
              "    </tr>\n",
              "    <tr>\n",
              "      <th>10566</th>\n",
              "      <td>Thank you New Video Group for bringing us this...</td>\n",
              "      <td>0.0</td>\n",
              "      <td>NaN</td>\n",
              "    </tr>\n",
              "    <tr>\n",
              "      <th>5667</th>\n",
              "      <td>Masterful work of Italian neo-realism by the g...</td>\n",
              "      <td>0.0</td>\n",
              "      <td>NaN</td>\n",
              "    </tr>\n",
              "    <tr>\n",
              "      <th>10074</th>\n",
              "      <td>For young and old who are fascinated with dino...</td>\n",
              "      <td>1.0</td>\n",
              "      <td>NaN</td>\n",
              "    </tr>\n",
              "    <tr>\n",
              "      <th>8621</th>\n",
              "      <td>I saw this movie on the satellite and went and...</td>\n",
              "      <td>0.0</td>\n",
              "      <td>NaN</td>\n",
              "    </tr>\n",
              "    <tr>\n",
              "      <th>...</th>\n",
              "      <th>...</th>\n",
              "      <td>...</td>\n",
              "      <td>...</td>\n",
              "      <td>...</td>\n",
              "    </tr>\n",
              "    <tr>\n",
              "      <th rowspan=\"5\" valign=\"top\">test</th>\n",
              "      <th>11203</th>\n",
              "      <td>I honestly never heard of the graphic novel un...</td>\n",
              "      <td>NaN</td>\n",
              "      <td>11203.0</td>\n",
              "    </tr>\n",
              "    <tr>\n",
              "      <th>11204</th>\n",
              "      <td>Archie Bunker's command to stifle YOURSELF! wa...</td>\n",
              "      <td>NaN</td>\n",
              "      <td>11204.0</td>\n",
              "    </tr>\n",
              "    <tr>\n",
              "      <th>11205</th>\n",
              "      <td>In LSD - My Problem Child, Albert Hoffman wrot...</td>\n",
              "      <td>NaN</td>\n",
              "      <td>11205.0</td>\n",
              "    </tr>\n",
              "    <tr>\n",
              "      <th>11206</th>\n",
              "      <td>I have owned this DVD for over a year now and ...</td>\n",
              "      <td>NaN</td>\n",
              "      <td>11206.0</td>\n",
              "    </tr>\n",
              "    <tr>\n",
              "      <th>11207</th>\n",
              "      <td>This movie is just a slap in the face [or othe...</td>\n",
              "      <td>NaN</td>\n",
              "      <td>11207.0</td>\n",
              "    </tr>\n",
              "  </tbody>\n",
              "</table>\n",
              "<p>35208 rows × 3 columns</p>\n",
              "</div>"
            ],
            "text/plain": [
              "                                                       content  label       Id\n",
              "train 2936   Maxium Overdrive written and directed by Steph...    0.0      NaN\n",
              "      10566  Thank you New Video Group for bringing us this...    0.0      NaN\n",
              "      5667   Masterful work of Italian neo-realism by the g...    0.0      NaN\n",
              "      10074  For young and old who are fascinated with dino...    1.0      NaN\n",
              "      8621   I saw this movie on the satellite and went and...    0.0      NaN\n",
              "...                                                        ...    ...      ...\n",
              "test  11203  I honestly never heard of the graphic novel un...    NaN  11203.0\n",
              "      11204  Archie Bunker's command to stifle YOURSELF! wa...    NaN  11204.0\n",
              "      11205  In LSD - My Problem Child, Albert Hoffman wrot...    NaN  11205.0\n",
              "      11206  I have owned this DVD for over a year now and ...    NaN  11206.0\n",
              "      11207  This movie is just a slap in the face [or othe...    NaN  11207.0\n",
              "\n",
              "[35208 rows x 3 columns]"
            ]
          },
          "metadata": {
            "tags": []
          },
          "execution_count": 42
        }
      ]
    },
    {
      "cell_type": "code",
      "metadata": {
        "colab": {
          "base_uri": "https://localhost:8080/"
        },
        "id": "9-v3R7bclB5e",
        "outputId": "c7599331-4136-4229-956f-bd9206c48647"
      },
      "source": [
        "whole_X['label'].value_counts()"
      ],
      "execution_count": null,
      "outputs": [
        {
          "output_type": "execute_result",
          "data": {
            "text/plain": [
              "1.0    12000\n",
              "0.0    12000\n",
              "Name: label, dtype: int64"
            ]
          },
          "metadata": {
            "tags": []
          },
          "execution_count": 43
        }
      ]
    },
    {
      "cell_type": "code",
      "metadata": {
        "id": "6RkUoc_qlD4W",
        "colab": {
          "base_uri": "https://localhost:8080/",
          "height": 163,
          "referenced_widgets": [
            "a4fd49a834b64982beca6a05f50de877",
            "a743ae25aadb4f8692763805b8f149d3",
            "dc5ef5dffa6247eda377451f7edb75ad",
            "e1f99bef408b47809a2d4faa6daf0a8a",
            "69dbe5881e6f47e6a57674e7007af82f",
            "f907e0c037c04ec88c3d6750129396f6",
            "1fb14d47df2a49ceb718a555852b07d7",
            "9f56267779ca436ab0325de82964b1db",
            "253f747fa7dd4ee49a718a10bee3d903",
            "2bbbf4295a95479bac0613527d1888a0",
            "c5058de0af8b42a7bc237c59ae3749dd",
            "6bbf428d0ac94247bbcc1c7616c5ea2f",
            "f399a243456144598c7325a6730ae220",
            "03cd6c5baaa646d6b935c8f26f747d54",
            "49fd5823fb02486c9b0056b91c4a90ee",
            "d2c687766ce64193857bb0b2a9f7c62f",
            "393738455ce346308115b02f76a7142a",
            "af3d215f655848e19aed6ddd91bae468",
            "257fb69ba027479087eb2f067df445df",
            "466b4b85572749a1ae5c54534d02047e",
            "4eb1e381a5a644139e6aed7c9671fdc4",
            "f2c1b26f24bd4a138b35930cb30f2207",
            "53a86f6ce32f486aa214f97ef2d4690d",
            "79abc6f26ffb42b1ae09e64f87165c2a"
          ]
        },
        "outputId": "7e3f4008-3e5c-41a3-b6ef-e5bec2c66b3a"
      },
      "source": [
        "# For DistilBERT:\r\n",
        "model_class, tokenizer_class, pretrained_weights = (ppb.DistilBertModel, ppb.DistilBertTokenizer, 'distilbert-base-uncased')\r\n",
        "\r\n",
        "## Want BERT instead of distilBERT? Uncomment the following line:\r\n",
        "#model_class, tokenizer_class, pretrained_weights = (ppb.BertModel, ppb.BertTokenizer, 'bert-base-uncased')\r\n",
        "\r\n",
        "# Load pretrained model/tokenizer\r\n",
        "tokenizer = tokenizer_class.from_pretrained(pretrained_weights)\r\n",
        "model = model_class.from_pretrained(pretrained_weights)"
      ],
      "execution_count": null,
      "outputs": [
        {
          "output_type": "display_data",
          "data": {
            "application/vnd.jupyter.widget-view+json": {
              "model_id": "a4fd49a834b64982beca6a05f50de877",
              "version_minor": 0,
              "version_major": 2
            },
            "text/plain": [
              "HBox(children=(FloatProgress(value=0.0, description='Downloading', max=231508.0, style=ProgressStyle(descripti…"
            ]
          },
          "metadata": {
            "tags": []
          }
        },
        {
          "output_type": "stream",
          "text": [
            "\n"
          ],
          "name": "stdout"
        },
        {
          "output_type": "display_data",
          "data": {
            "application/vnd.jupyter.widget-view+json": {
              "model_id": "253f747fa7dd4ee49a718a10bee3d903",
              "version_minor": 0,
              "version_major": 2
            },
            "text/plain": [
              "HBox(children=(FloatProgress(value=0.0, description='Downloading', max=442.0, style=ProgressStyle(description_…"
            ]
          },
          "metadata": {
            "tags": []
          }
        },
        {
          "output_type": "stream",
          "text": [
            "\n"
          ],
          "name": "stdout"
        },
        {
          "output_type": "display_data",
          "data": {
            "application/vnd.jupyter.widget-view+json": {
              "model_id": "393738455ce346308115b02f76a7142a",
              "version_minor": 0,
              "version_major": 2
            },
            "text/plain": [
              "HBox(children=(FloatProgress(value=0.0, description='Downloading', max=267967963.0, style=ProgressStyle(descri…"
            ]
          },
          "metadata": {
            "tags": []
          }
        },
        {
          "output_type": "stream",
          "text": [
            "\n"
          ],
          "name": "stdout"
        }
      ]
    },
    {
      "cell_type": "code",
      "metadata": {
        "colab": {
          "base_uri": "https://localhost:8080/"
        },
        "id": "CFnxodAGmLd7",
        "outputId": "bf115ced-d804-4a8e-a7af-09a0de95f4b4"
      },
      "source": [
        "tokenizer"
      ],
      "execution_count": null,
      "outputs": [
        {
          "output_type": "execute_result",
          "data": {
            "text/plain": [
              "PreTrainedTokenizer(name_or_path='distilbert-base-uncased', vocab_size=30522, model_max_len=512, is_fast=False, padding_side='right', special_tokens={'unk_token': '[UNK]', 'sep_token': '[SEP]', 'pad_token': '[PAD]', 'cls_token': '[CLS]', 'mask_token': '[MASK]'})"
            ]
          },
          "metadata": {
            "tags": []
          },
          "execution_count": 44
        }
      ]
    },
    {
      "cell_type": "code",
      "metadata": {
        "id": "6NnpMKG1lXSO"
      },
      "source": [
        "tokenized = whole_X['content'].apply((lambda x: tokenizer.encode(x, add_special_tokens=True)))"
      ],
      "execution_count": null,
      "outputs": []
    },
    {
      "cell_type": "code",
      "metadata": {
        "id": "AMHP5CJpmEaO"
      },
      "source": [
        "max_len = 0\r\n",
        "for i in tokenized.values:\r\n",
        "    if len(i) > max_len:\r\n",
        "        max_len = len(i)\r\n",
        "\r\n",
        "padded = np.array([i + [0]*(max_len-len(i)) for i in tokenized.values])"
      ],
      "execution_count": null,
      "outputs": []
    },
    {
      "cell_type": "code",
      "metadata": {
        "colab": {
          "base_uri": "https://localhost:8080/"
        },
        "id": "gn13HvJj6y33",
        "outputId": "30d58604-1ad1-47dd-9033-0bed0c807c57"
      },
      "source": [
        "padded[1]"
      ],
      "execution_count": null,
      "outputs": [
        {
          "output_type": "execute_result",
          "data": {
            "text/plain": [
              "array([  101,  4067,  2017,  2047,  2678,  2177,  2005,  5026,  2149,\n",
              "        2023, 13164,  2275,  1997,  7742, 11721, 24291,  1998,  2074,\n",
              "        2066,  1996, 16794, 13164,   102,     0,     0,     0,     0,\n",
              "           0,     0,     0,     0,     0,     0,     0,     0,     0,\n",
              "           0,     0,     0,     0,     0,     0,     0,     0,     0,\n",
              "           0,     0,     0,     0,     0,     0,     0,     0,     0,\n",
              "           0,     0,     0,     0,     0,     0,     0,     0,     0,\n",
              "           0,     0,     0,     0,     0,     0,     0,     0,     0,\n",
              "           0,     0,     0,     0,     0,     0,     0,     0,     0,\n",
              "           0,     0,     0,     0,     0,     0,     0,     0,     0,\n",
              "           0,     0,     0,     0,     0,     0,     0,     0,     0,\n",
              "           0,     0,     0,     0,     0,     0,     0,     0,     0,\n",
              "           0,     0,     0])"
            ]
          },
          "metadata": {
            "tags": []
          },
          "execution_count": 47
        }
      ]
    },
    {
      "cell_type": "code",
      "metadata": {
        "colab": {
          "base_uri": "https://localhost:8080/"
        },
        "id": "6_GVgESTmYyK",
        "outputId": "330b65d6-f233-45c0-9436-871911c6e9ee"
      },
      "source": [
        "np.array(padded).shape"
      ],
      "execution_count": null,
      "outputs": [
        {
          "output_type": "execute_result",
          "data": {
            "text/plain": [
              "(35208, 111)"
            ]
          },
          "metadata": {
            "tags": []
          },
          "execution_count": 48
        }
      ]
    },
    {
      "cell_type": "code",
      "metadata": {
        "colab": {
          "base_uri": "https://localhost:8080/"
        },
        "id": "CZ5C2keomalC",
        "outputId": "d975234e-5fcd-4851-e7af-e23d64ac1bdd"
      },
      "source": [
        "attention_mask = np.where(padded != 0, 1, 0)\r\n",
        "attention_mask.shape"
      ],
      "execution_count": null,
      "outputs": [
        {
          "output_type": "execute_result",
          "data": {
            "text/plain": [
              "(35208, 111)"
            ]
          },
          "metadata": {
            "tags": []
          },
          "execution_count": 49
        }
      ]
    },
    {
      "cell_type": "code",
      "metadata": {
        "colab": {
          "base_uri": "https://localhost:8080/"
        },
        "id": "bhFjfZapKg2r",
        "outputId": "74c4ac03-c5e5-435a-b8db-2ba6c072222f"
      },
      "source": [
        "labels = whole_X['label']\r\n",
        "labels.value_counts()"
      ],
      "execution_count": null,
      "outputs": [
        {
          "output_type": "execute_result",
          "data": {
            "text/plain": [
              "1.0    12000\n",
              "0.0    12000\n",
              "Name: label, dtype: int64"
            ]
          },
          "metadata": {
            "tags": []
          },
          "execution_count": 50
        }
      ]
    },
    {
      "cell_type": "code",
      "metadata": {
        "colab": {
          "base_uri": "https://localhost:8080/"
        },
        "id": "UumZLXt1XXGp",
        "outputId": "706f75d7-ed37-41d4-ed79-65c8c328f93a"
      },
      "source": [
        "#测试用\r\n",
        "padded[1]\r\n",
        "np.array(padded[1]).reshape(1, -1)"
      ],
      "execution_count": null,
      "outputs": [
        {
          "output_type": "execute_result",
          "data": {
            "text/plain": [
              "array([[ 101, 5860, 1015, 1010, 2217, 1037, 1024, 3873, 4665, 1006, 2727,\n",
              "        1011, 2722, 1007, 1025, 2217, 1038, 1024, 2709, 2000, 3873, 4665,\n",
              "        1006, 2722, 1011, 2687, 1007, 5860, 1016, 1010, 2217, 1037, 1024,\n",
              "        3873, 4665,  102,    0,    0,    0,    0,    0,    0,    0,    0,\n",
              "           0,    0,    0,    0,    0,    0,    0,    0,    0,    0,    0,\n",
              "           0,    0,    0,    0,    0,    0,    0,    0,    0,    0,    0,\n",
              "           0,    0,    0,    0,    0,    0,    0,    0,    0,    0,    0,\n",
              "           0,    0,    0,    0,    0,    0,    0,    0,    0,    0,    0,\n",
              "           0,    0,    0,    0,    0,    0,    0,    0,    0,    0,    0,\n",
              "           0,    0,    0,    0,    0,    0,    0,    0,    0,    0,    0,\n",
              "           0]])"
            ]
          },
          "metadata": {
            "tags": []
          },
          "execution_count": 50
        }
      ]
    },
    {
      "cell_type": "code",
      "metadata": {
        "id": "88HNX7W8WcTg"
      },
      "source": [
        "#直接用bert模型一个个提取特征\r\n",
        "# for j in range(1,352):\r\n",
        "#   print(j)\r\n",
        "f100b = []\r\n",
        "#   i0 = j * 100\r\n",
        "#   i1 = i0 + 100\r\n",
        "for i in range(35200, 35208):\r\n",
        "  pad1 = np.array(padded[i]).reshape(1, -1)\r\n",
        "  am1 = np.array(attention_mask[i]).reshape(1, -1)\r\n",
        "\r\n",
        "  input_ids = torch.tensor(pad1)  \r\n",
        "  attention_mask2 = torch.tensor(am1)\r\n",
        "\r\n",
        "  with torch.no_grad():\r\n",
        "    last_hidden_states = model(input_ids, attention_mask=attention_mask2)\r\n",
        "  \r\n",
        "  features = last_hidden_states[0][:,0,:].numpy()\r\n",
        "\r\n",
        "  f100b.append(features)\r\n",
        "\r\n",
        "f100b = np.array(f100b)\r\n",
        "f100b = f100b.reshape(8, -1)\r\n",
        "\r\n",
        "tryyy = np.load('/content/drive/MyDrive/Colab Notebooks/xtzx/hw6/data/bertf3.npy')\r\n",
        "\r\n",
        "save_array_new = np.hstack((f100b, np.array(whole_X['label'][35200:35208]).reshape(8, -1)))\r\n",
        "save_array = np.vstack((tryyy, save_array_new))\r\n",
        "# np.save('/content/drive/MyDrive/Colab Notebooks/xtzx/hw6/data/bertf3.npy', save_array)\r\n"
      ],
      "execution_count": null,
      "outputs": []
    },
    {
      "cell_type": "code",
      "metadata": {
        "id": "1AqEnkDCZvFz"
      },
      "source": [
        "f100b = np.array(f100b)\r\n",
        "f100b = f100b.reshape(100, -1)"
      ],
      "execution_count": null,
      "outputs": []
    },
    {
      "cell_type": "code",
      "metadata": {
        "id": "5F9jXI9VhDrK"
      },
      "source": [
        "save_array_new = np.hstack((f100b, np.array(whole_X['label'][100:200]).reshape(100, -1)))\r\n",
        "save_array = np.vstack((tryy, save_array_new))\r\n",
        "np.save('/content/drive/MyDrive/Colab Notebooks/xtzx/hw6/data/bertf2.npy', save_array)"
      ],
      "execution_count": null,
      "outputs": []
    },
    {
      "cell_type": "code",
      "metadata": {
        "colab": {
          "base_uri": "https://localhost:8080/"
        },
        "id": "JaKG7iwRaUxu",
        "outputId": "1895a900-5fb2-45d8-e634-ea18c75b72f1"
      },
      "source": [
        "np.array(whole_X['label'][:100])"
      ],
      "execution_count": null,
      "outputs": [
        {
          "output_type": "execute_result",
          "data": {
            "text/plain": [
              "array([1., 1., 1., 1., 0., 0., 0., 0., 0., 1., 1., 1., 0., 0., 0., 1., 1.,\n",
              "       0., 1., 0., 1., 0., 0., 0., 0., 0., 1., 0., 0., 0., 1., 0., 0., 0.,\n",
              "       0., 0., 1., 0., 1., 0., 0., 1., 0., 1., 1., 0., 1., 1., 0., 1., 1.,\n",
              "       1., 1., 0., 0., 0., 1., 0., 0., 0., 1., 1., 1., 0., 1., 1., 0., 1.,\n",
              "       0., 1., 0., 1., 1., 0., 0., 1., 0., 0., 1., 1., 0., 1., 0., 1., 0.,\n",
              "       0., 1., 0., 0., 1., 1., 1., 1., 0., 0., 0., 0., 0., 0., 0.])"
            ]
          },
          "metadata": {
            "tags": []
          },
          "execution_count": 77
        }
      ]
    },
    {
      "cell_type": "code",
      "metadata": {
        "id": "FLBJLo_6cign"
      },
      "source": [
        "save_array = np.hstack((f100a, np.array(whole_X['label'][:100]).reshape(100, -1)))\r\n",
        "\r\n",
        "np.save('/content/drive/MyDrive/Colab Notebooks/xtzx/hw6/data/bertf.npy', save_array)"
      ],
      "execution_count": null,
      "outputs": []
    },
    {
      "cell_type": "code",
      "metadata": {
        "id": "27ni9C6LeQkK"
      },
      "source": [
        "tryy = np.load('/content/drive/MyDrive/Colab Notebooks/xtzx/hw6/data/bertf.npy')\r\n",
        "np.save('/content/drive/MyDrive/Colab Notebooks/xtzx/hw6/data/bertf3.npy', tryy)"
      ],
      "execution_count": null,
      "outputs": []
    },
    {
      "cell_type": "code",
      "metadata": {
        "id": "vQmAHSoQjY2f"
      },
      "source": [
        ""
      ],
      "execution_count": null,
      "outputs": []
    },
    {
      "cell_type": "code",
      "metadata": {
        "colab": {
          "base_uri": "https://localhost:8080/"
        },
        "id": "TyzNvcsTehDL",
        "outputId": "6c32dcb1-6693-4440-c8a3-0f6f5783fa00"
      },
      "source": [
        "tryyy = np.load('/content/drive/MyDrive/Colab Notebooks/xtzx/hw6/data/bertf3.npy')\r\n",
        "tryyy.shape"
      ],
      "execution_count": null,
      "outputs": [
        {
          "output_type": "execute_result",
          "data": {
            "text/plain": [
              "(35200, 769)"
            ]
          },
          "metadata": {
            "tags": []
          },
          "execution_count": 106
        }
      ]
    },
    {
      "cell_type": "code",
      "metadata": {
        "colab": {
          "base_uri": "https://localhost:8080/"
        },
        "id": "hCM4Ob5KZ-wH",
        "outputId": "46b8ea6a-c0de-40e6-9447-fb82ca5097ea"
      },
      "source": [
        "train_features, test_features, train_labels, test_labels = train_test_split(f100a, labels, train_size = 80, shuffle = False)\r\n",
        "\r\n",
        "lr_clf = LogisticRegression()\r\n",
        "lr_clf.fit(train_features, train_labels)\r\n",
        "\r\n",
        "print(\"train score:\", lr_clf.score(train_features, train_labels))\r\n",
        "\r\n",
        "pred = lr_clf.predict(test_features)\r\n"
      ],
      "execution_count": null,
      "outputs": [
        {
          "output_type": "stream",
          "text": [
            "train score: 0.9875\n"
          ],
          "name": "stdout"
        }
      ]
    },
    {
      "cell_type": "code",
      "metadata": {
        "colab": {
          "base_uri": "https://localhost:8080/"
        },
        "id": "Vodiy6n1aq6x",
        "outputId": "36243d05-9eec-44a2-aefe-9ce735f46dca"
      },
      "source": [
        "print(\"test score:\", lr_clf.score(test_features, test_labels))"
      ],
      "execution_count": null,
      "outputs": [
        {
          "output_type": "stream",
          "text": [
            "test score: 0.65\n"
          ],
          "name": "stdout"
        }
      ]
    },
    {
      "cell_type": "code",
      "metadata": {
        "colab": {
          "base_uri": "https://localhost:8080/"
        },
        "id": "OSCZsk9maKz1",
        "outputId": "a535d1fa-72ab-404d-e985-cb4db4bf9c11"
      },
      "source": [
        ""
      ],
      "execution_count": null,
      "outputs": [
        {
          "output_type": "execute_result",
          "data": {
            "text/plain": [
              "(100, 768)"
            ]
          },
          "metadata": {
            "tags": []
          },
          "execution_count": 59
        }
      ]
    },
    {
      "cell_type": "code",
      "metadata": {
        "id": "fDLlyO5AERgy"
      },
      "source": [
        "def bertpred(padded, attention_mask, labels):\r\n",
        "  ti = time()\r\n",
        "  input_ids = torch.tensor(padded)  \r\n",
        "  attention_mask = torch.tensor(attention_mask)\r\n",
        "\r\n",
        "  with torch.no_grad():\r\n",
        "    last_hidden_states = model(input_ids, attention_mask=attention_mask)\r\n",
        "  \r\n",
        "  features = last_hidden_states[0][:,0,:].numpy()\r\n",
        "\r\n",
        "  train_features, test_features, train_labels, test_labels = train_test_split(features, labels, train_size = 1000, shuffle = False)\r\n",
        "\r\n",
        "  lr_clf = LogisticRegression()\r\n",
        "  lr_clf.fit(train_features, train_labels)\r\n",
        "\r\n",
        "  print(\"train score:\", lr_clf.score(train_features, train_labels))\r\n",
        "\r\n",
        "  pred = lr_clf.predict(test_features)\r\n",
        "\r\n",
        "  print(\"pred done in\", ti - time(), 'sec')\r\n",
        "\r\n",
        "  return pred\r\n",
        "\r\n"
      ],
      "execution_count": null,
      "outputs": []
    },
    {
      "cell_type": "code",
      "metadata": {
        "id": "YA__HS-vZ9zo"
      },
      "source": [
        ""
      ],
      "execution_count": null,
      "outputs": []
    },
    {
      "cell_type": "code",
      "metadata": {
        "id": "YlanZtzeVzMt"
      },
      "source": [
        ""
      ],
      "execution_count": null,
      "outputs": []
    },
    {
      "cell_type": "code",
      "metadata": {
        "id": "tNWnmzf-LfVo"
      },
      "source": [
        "# Ada+bert\r\n",
        "# padded / attention_mask 前24000是train，后11208是test\r\n",
        "# 想要反复利用前面24000，推测后面11208的标签\r\n",
        "train_padded = padded[:24000]\r\n",
        "test_padded = padded[24000:]\r\n",
        "train_am = attention_mask[:24000]\r\n",
        "test_am = attention_mask[24000:]\r\n",
        "trlabels = whole_X['label'][:24000]"
      ],
      "execution_count": null,
      "outputs": []
    },
    {
      "cell_type": "code",
      "metadata": {
        "colab": {
          "base_uri": "https://localhost:8080/",
          "height": 162
        },
        "id": "WTNvLPxqLiVG",
        "outputId": "11f73ff4-c973-4084-b499-24bd84c8b4d8"
      },
      "source": [
        "train_p.shape, train_a.shape, train_labels.shape, notuse_p.shape, notuse_a.shape, notuse_l.shape"
      ],
      "execution_count": null,
      "outputs": [
        {
          "output_type": "error",
          "ename": "NameError",
          "evalue": "ignored",
          "traceback": [
            "\u001b[0;31m---------------------------------------------------------------------------\u001b[0m",
            "\u001b[0;31mNameError\u001b[0m                                 Traceback (most recent call last)",
            "\u001b[0;32m<ipython-input-1-cc61d6d8cec0>\u001b[0m in \u001b[0;36m<module>\u001b[0;34m()\u001b[0m\n\u001b[0;32m----> 1\u001b[0;31m \u001b[0mtrain_p\u001b[0m\u001b[0;34m.\u001b[0m\u001b[0mshape\u001b[0m\u001b[0;34m,\u001b[0m \u001b[0mtrain_a\u001b[0m\u001b[0;34m.\u001b[0m\u001b[0mshape\u001b[0m\u001b[0;34m,\u001b[0m \u001b[0mtrain_labels\u001b[0m\u001b[0;34m.\u001b[0m\u001b[0mshape\u001b[0m\u001b[0;34m,\u001b[0m \u001b[0mnotuse_p\u001b[0m\u001b[0;34m.\u001b[0m\u001b[0mshape\u001b[0m\u001b[0;34m,\u001b[0m \u001b[0mnotuse_a\u001b[0m\u001b[0;34m.\u001b[0m\u001b[0mshape\u001b[0m\u001b[0;34m,\u001b[0m \u001b[0mnotuse_l\u001b[0m\u001b[0;34m.\u001b[0m\u001b[0mshape\u001b[0m\u001b[0;34m\u001b[0m\u001b[0;34m\u001b[0m\u001b[0m\n\u001b[0m",
            "\u001b[0;31mNameError\u001b[0m: name 'train_p' is not defined"
          ]
        }
      ]
    },
    {
      "cell_type": "code",
      "metadata": {
        "colab": {
          "base_uri": "https://localhost:8080/"
        },
        "id": "8pJUwVIAQMTJ",
        "outputId": "1a1e11df-9087-4a24-f1d0-55ddb45b5ff3"
      },
      "source": [
        "np.array(whole_X['label'][24000:])"
      ],
      "execution_count": null,
      "outputs": [
        {
          "output_type": "execute_result",
          "data": {
            "text/plain": [
              "array([nan, nan, nan, ..., nan, nan, nan])"
            ]
          },
          "metadata": {
            "tags": []
          },
          "execution_count": 31
        }
      ]
    },
    {
      "cell_type": "code",
      "metadata": {
        "id": "HtP8sTPUFgBw"
      },
      "source": [
        "#先对前1000个数据进行预测\r\n",
        "from time import time\r\n",
        "test_am1000 = test_am[:1000]\r\n",
        "test_padded1000 = test_padded[:1000]\r\n",
        "pred1000 = []\r\n",
        "for i in range(5):\r\n",
        "  i = 0\r\n",
        "  ti = time()\r\n",
        "  train_p, notuse_p, train_a,  notuse_a, train_labels, notuse_l = train_test_split(train_padded, train_am, trlabels, train_size = 1000, random_state=520 + i)\r\n",
        "  newpad = np.vstack((train_p, test_padded1000))\r\n",
        "  newam = np.vstack((train_a, test_am1000))\r\n",
        "  newlabels = np.hstack((np.array(train_labels), np.array(whole_X['label'][24000:25000])))\r\n",
        "\r\n",
        "  pred = bertpred(padded, attention_mask, newlabels)\r\n",
        "\r\n",
        "  pred1000.append(pred)\r\n",
        "\r\n",
        "  print(\"round \", i , \"done in \", ti - time(), \"sec\")\r\n",
        "\r\n"
      ],
      "execution_count": null,
      "outputs": []
    },
    {
      "cell_type": "code",
      "metadata": {
        "colab": {
          "base_uri": "https://localhost:8080/"
        },
        "id": "gIjRcJ57UdC1",
        "outputId": "1b823d0a-4383-481e-e238-7247e8756e1d"
      },
      "source": [
        "#2000个数据测试一下\r\n",
        "\r\n",
        "tokenized = whole_X['content'][:2000].apply((lambda x: tokenizer.encode(x, add_special_tokens=True)))\r\n",
        "max_len = 0\r\n",
        "for i in tokenized.values:\r\n",
        "    if len(i) > max_len:\r\n",
        "        max_len = len(i)\r\n",
        "\r\n",
        "padded = np.array([i + [0]*(max_len-len(i)) for i in tokenized.values])\r\n",
        "\r\n",
        "attention_mask = np.where(padded != 0, 1, 0)\r\n",
        "attention_mask.shape\r\n",
        "\r\n",
        "\r\n",
        "small_padded = padded[:2000]\r\n",
        "small_am = attention_mask[:2000]\r\n",
        "small_labels = whole_X['label'][:2000]\r\n",
        "\r\n",
        "small_padded.shape, small_am.shape, small_labels.shape"
      ],
      "execution_count": null,
      "outputs": [
        {
          "output_type": "execute_result",
          "data": {
            "text/plain": [
              "((2000, 62), (2000, 62), (2000,))"
            ]
          },
          "metadata": {
            "tags": []
          },
          "execution_count": 52
        }
      ]
    },
    {
      "cell_type": "code",
      "metadata": {
        "id": "tvfQZ6PBmdRR",
        "colab": {
          "base_uri": "https://localhost:8080/",
          "height": 212
        },
        "outputId": "f15e380f-f5fb-4696-b538-af6d49f00213"
      },
      "source": [
        "\r\n",
        "from time import time\r\n",
        "t0 = time()\r\n",
        "input_ids = torch.tensor(small_padded)  \r\n",
        "am_tensor = torch.tensor(small_am)\r\n",
        "\r\n",
        "with torch.no_grad():\r\n",
        "    last_hidden_states = model(input_ids, attention_mask=am_tensor)\r\n",
        "\r\n",
        "print(\"done in \", time() - t0, 'sec')\r\n",
        "\r\n",
        "features = last_hidden_states[0][:,0,:].numpy()\r\n",
        "features.shape()"
      ],
      "execution_count": null,
      "outputs": [
        {
          "output_type": "stream",
          "text": [
            "done in  177.38574266433716 sec\n"
          ],
          "name": "stdout"
        },
        {
          "output_type": "error",
          "ename": "TypeError",
          "evalue": "ignored",
          "traceback": [
            "\u001b[0;31m---------------------------------------------------------------------------\u001b[0m",
            "\u001b[0;31mTypeError\u001b[0m                                 Traceback (most recent call last)",
            "\u001b[0;32m<ipython-input-58-a5ee70085b36>\u001b[0m in \u001b[0;36m<module>\u001b[0;34m()\u001b[0m\n\u001b[1;32m     11\u001b[0m \u001b[0;34m\u001b[0m\u001b[0m\n\u001b[1;32m     12\u001b[0m \u001b[0mfeatures\u001b[0m \u001b[0;34m=\u001b[0m \u001b[0mlast_hidden_states\u001b[0m\u001b[0;34m[\u001b[0m\u001b[0;36m0\u001b[0m\u001b[0;34m]\u001b[0m\u001b[0;34m[\u001b[0m\u001b[0;34m:\u001b[0m\u001b[0;34m,\u001b[0m\u001b[0;36m0\u001b[0m\u001b[0;34m,\u001b[0m\u001b[0;34m:\u001b[0m\u001b[0;34m]\u001b[0m\u001b[0;34m.\u001b[0m\u001b[0mnumpy\u001b[0m\u001b[0;34m(\u001b[0m\u001b[0;34m)\u001b[0m\u001b[0;34m\u001b[0m\u001b[0;34m\u001b[0m\u001b[0m\n\u001b[0;32m---> 13\u001b[0;31m \u001b[0mfeatures\u001b[0m\u001b[0;34m.\u001b[0m\u001b[0mshape\u001b[0m\u001b[0;34m(\u001b[0m\u001b[0;34m)\u001b[0m\u001b[0;34m\u001b[0m\u001b[0;34m\u001b[0m\u001b[0m\n\u001b[0m",
            "\u001b[0;31mTypeError\u001b[0m: 'tuple' object is not callable"
          ]
        }
      ]
    },
    {
      "cell_type": "code",
      "metadata": {
        "id": "SeqED-Yqmfga"
      },
      "source": [
        "train_features, test_features, train_labels, test_labels = train_test_split(features, small_labels, train_size = 1000, shuffle = False)"
      ],
      "execution_count": null,
      "outputs": []
    },
    {
      "cell_type": "code",
      "metadata": {
        "colab": {
          "base_uri": "https://localhost:8080/"
        },
        "id": "OI2Kt0Ub7Yth",
        "outputId": "bc2fb4b2-cc3e-4050-9e7f-0d26de796d4c"
      },
      "source": [
        "lr_clf = LogisticRegression()\r\n",
        "lr_clf.fit(train_features, train_labels)\r\n"
      ],
      "execution_count": null,
      "outputs": [
        {
          "output_type": "execute_result",
          "data": {
            "text/plain": [
              "LogisticRegression(C=1.0, class_weight=None, dual=False, fit_intercept=True,\n",
              "                   intercept_scaling=1, l1_ratio=None, max_iter=100,\n",
              "                   multi_class='auto', n_jobs=None, penalty='l2',\n",
              "                   random_state=None, solver='lbfgs', tol=0.0001, verbose=0,\n",
              "                   warm_start=False)"
            ]
          },
          "metadata": {
            "tags": []
          },
          "execution_count": 55
        }
      ]
    },
    {
      "cell_type": "code",
      "metadata": {
        "colab": {
          "base_uri": "https://localhost:8080/"
        },
        "id": "vZk8txiZ7y2q",
        "outputId": "823f2d2d-8a45-4806-ee32-c96621421322"
      },
      "source": [
        "lr_clf.score(test_features, test_labels)"
      ],
      "execution_count": null,
      "outputs": [
        {
          "output_type": "execute_result",
          "data": {
            "text/plain": [
              "0.623"
            ]
          },
          "metadata": {
            "tags": []
          },
          "execution_count": 56
        }
      ]
    },
    {
      "cell_type": "code",
      "metadata": {
        "id": "lweJOubBmlDh",
        "colab": {
          "base_uri": "https://localhost:8080/"
        },
        "outputId": "f3894b41-98d6-4aef-93f4-988b8580e5d9"
      },
      "source": [
        "lr_clf.score(train_features, train_labels)"
      ],
      "execution_count": null,
      "outputs": [
        {
          "output_type": "execute_result",
          "data": {
            "text/plain": [
              "0.845"
            ]
          },
          "metadata": {
            "tags": []
          },
          "execution_count": 57
        }
      ]
    },
    {
      "cell_type": "code",
      "metadata": {
        "id": "kqhakQ9MKMXc"
      },
      "source": [
        ""
      ],
      "execution_count": null,
      "outputs": []
    },
    {
      "cell_type": "code",
      "metadata": {
        "id": "nm3v-TG-mnmF"
      },
      "source": [
        "train_features, test_features, train_labels, test_labels = train_test_split(features, labels, train_size = 1000, shuffle = False)"
      ],
      "execution_count": null,
      "outputs": []
    },
    {
      "cell_type": "code",
      "metadata": {
        "colab": {
          "base_uri": "https://localhost:8080/"
        },
        "id": "f55OVi5CmshD",
        "outputId": "55828839-7e47-4d6d-a9c0-6c117e2d3bc5"
      },
      "source": [
        "lr_clf = LogisticRegression()\r\n",
        "lr_clf.fit(train_features, train_labels)"
      ],
      "execution_count": null,
      "outputs": [
        {
          "output_type": "execute_result",
          "data": {
            "text/plain": [
              "LogisticRegression(C=1.0, class_weight=None, dual=False, fit_intercept=True,\n",
              "                   intercept_scaling=1, l1_ratio=None, max_iter=100,\n",
              "                   multi_class='auto', n_jobs=None, penalty='l2',\n",
              "                   random_state=None, solver='lbfgs', tol=0.0001, verbose=0,\n",
              "                   warm_start=False)"
            ]
          },
          "metadata": {
            "tags": []
          },
          "execution_count": 67
        }
      ]
    },
    {
      "cell_type": "code",
      "metadata": {
        "colab": {
          "base_uri": "https://localhost:8080/"
        },
        "id": "w2YvSfMPmubc",
        "outputId": "783d047e-44d0-4c59-96dc-ad93972e97d8"
      },
      "source": [
        "lr_clf.score(test_features, test_labels)"
      ],
      "execution_count": null,
      "outputs": [
        {
          "output_type": "execute_result",
          "data": {
            "text/plain": [
              "0.748"
            ]
          },
          "metadata": {
            "tags": []
          },
          "execution_count": 62
        }
      ]
    },
    {
      "cell_type": "code",
      "metadata": {
        "colab": {
          "base_uri": "https://localhost:8080/"
        },
        "id": "3ls_LOhI9IPK",
        "outputId": "a02592ff-1a72-4539-be8e-c1a5b88f46cd"
      },
      "source": [
        "lr_clf.score(train_features, train_labels)"
      ],
      "execution_count": null,
      "outputs": [
        {
          "output_type": "execute_result",
          "data": {
            "text/plain": [
              "0.812"
            ]
          },
          "metadata": {
            "tags": []
          },
          "execution_count": 68
        }
      ]
    },
    {
      "cell_type": "code",
      "metadata": {
        "id": "AXyRep9M9ROC"
      },
      "source": [
        "pred = lr_clf.predict(test_features)"
      ],
      "execution_count": null,
      "outputs": []
    },
    {
      "cell_type": "code",
      "metadata": {
        "colab": {
          "base_uri": "https://localhost:8080/"
        },
        "id": "M-AxHCJ89d6Z",
        "outputId": "5772e53b-9ec7-4ec9-86bb-f90cb77b4058"
      },
      "source": [
        "pred"
      ],
      "execution_count": null,
      "outputs": [
        {
          "output_type": "execute_result",
          "data": {
            "text/plain": [
              "array([1., 1., 1., 0., 1., 1., 1., 1., 0., 0., 1., 0., 0., 0., 0., 0., 0.,\n",
              "       0., 1., 1., 0., 1., 0., 1., 0., 1., 0., 1., 0., 1., 0., 0., 0., 1.,\n",
              "       1., 0., 1., 0., 1., 0., 0., 0., 0., 1., 0., 0., 1., 0., 0., 0., 0.,\n",
              "       0., 1., 1., 0., 1., 1., 0., 0., 1., 0., 0., 0., 0., 1., 1., 0., 0.,\n",
              "       1., 1., 1., 0., 0., 0., 0., 0., 1., 1., 1., 1., 1., 0., 0., 0., 0.,\n",
              "       0., 0., 1., 1., 0., 0., 0., 0., 0., 0., 1., 0., 1., 1., 0., 1., 0.,\n",
              "       0., 1., 0., 0., 0., 1., 0., 1., 1., 0., 1., 0., 1., 1., 0., 1., 1.,\n",
              "       1., 0., 1., 0., 0., 0., 0., 0., 0., 1., 1., 0., 0., 0., 1., 0., 0.,\n",
              "       1., 0., 0., 0., 1., 0., 1., 1., 1., 1., 1., 1., 1., 0., 0., 1., 1.,\n",
              "       1., 1., 1., 0., 1., 1., 1., 0., 0., 0., 0., 0., 0., 1., 0., 1., 1.,\n",
              "       1., 1., 1., 0., 0., 1., 1., 0., 1., 0., 1., 1., 0., 1., 0., 1., 0.,\n",
              "       1., 0., 0., 1., 1., 1., 0., 0., 1., 0., 0., 1., 1., 1., 0., 0., 1.,\n",
              "       0., 1., 0., 1., 1., 0., 0., 0., 0., 0., 0., 0., 0., 0., 1., 0., 1.,\n",
              "       1., 0., 1., 1., 1., 0., 0., 1., 0., 0., 1., 0., 0., 0., 1., 1., 0.,\n",
              "       0., 0., 0., 0., 1., 1., 0., 0., 1., 1., 0., 0., 1., 1., 1., 1., 1.,\n",
              "       1., 0., 0., 1., 1., 1., 1., 1., 1., 0., 0., 1., 0., 0., 0., 0., 0.,\n",
              "       0., 0., 0., 1., 1., 1., 0., 0., 1., 0., 0., 1., 1., 1., 0., 0., 0.,\n",
              "       0., 0., 1., 1., 0., 1., 0., 1., 0., 1., 0., 0., 0., 1., 1., 1., 1.,\n",
              "       0., 0., 0., 1., 0., 1., 1., 1., 0., 1., 1., 1., 0., 0., 1., 0., 0.,\n",
              "       1., 1., 1., 1., 1., 0., 0., 1., 0., 1., 0., 0., 0., 1., 0., 1., 0.,\n",
              "       0., 0., 0., 0., 0., 0., 1., 0., 0., 1., 1., 0., 1., 0., 0., 0., 1.,\n",
              "       0., 0., 0., 1., 0., 0., 0., 0., 0., 0., 0., 1., 1., 0., 1., 0., 0.,\n",
              "       0., 0., 0., 0., 1., 0., 0., 0., 0., 0., 1., 0., 0., 0., 0., 0., 1.,\n",
              "       1., 1., 1., 1., 0., 0., 0., 0., 0., 0., 0., 0., 0., 1., 1., 1., 0.,\n",
              "       1., 0., 0., 0., 1., 0., 0., 0., 1., 0., 1., 0., 0., 1., 1., 0., 0.,\n",
              "       0., 0., 1., 0., 1., 0., 1., 0., 0., 1., 0., 0., 0., 1., 1., 0., 0.,\n",
              "       0., 0., 1., 1., 1., 1., 1., 1., 0., 1., 0., 1., 0., 1., 1., 1., 0.,\n",
              "       1., 0., 0., 0., 1., 0., 1., 0., 1., 0., 1., 0., 0., 1., 1., 0., 1.,\n",
              "       1., 1., 0., 1., 1., 1., 0., 1., 1., 1., 0., 1., 1., 1., 0., 1., 0.,\n",
              "       0., 0., 0., 1., 1., 0., 1., 1., 1., 1., 0., 1., 0., 0., 0., 0., 1.,\n",
              "       0., 1., 0., 0., 1., 0., 0., 0., 0., 0., 0., 0., 1., 1., 1., 1., 0.,\n",
              "       1., 0., 0., 1., 1., 0., 1., 1., 0., 0., 1., 0., 0., 1., 1., 0., 0.,\n",
              "       0., 1., 0., 0., 1., 0., 0., 0., 0., 0., 0., 0., 0., 1., 0., 1., 0.,\n",
              "       1., 1., 1., 1., 0., 1., 1., 0., 0., 0., 0., 0., 0., 0., 1., 0., 0.,\n",
              "       1., 1., 0., 0., 0., 1., 1., 0., 1., 1., 1., 0., 0., 0., 1., 1., 0.,\n",
              "       0., 0., 1., 1., 0., 0., 1., 0., 0., 0., 0., 0., 1., 1., 0., 1., 0.,\n",
              "       0., 0., 1., 0., 1., 1., 0., 0., 1., 0., 1., 1., 0., 1., 1., 0., 1.,\n",
              "       1., 0., 0., 0., 0., 0., 1., 1., 1., 0., 0., 0., 1., 0., 0., 1., 1.,\n",
              "       0., 0., 0., 0., 0., 1., 0., 1., 0., 1., 0., 1., 1., 1., 1., 0., 1.,\n",
              "       1., 0., 1., 1., 1., 1., 1., 1., 0., 1., 1., 1., 1., 0., 1., 1., 1.,\n",
              "       1., 1., 0., 1., 1., 0., 1., 0., 0., 0., 0., 0., 1., 1., 1., 0., 0.,\n",
              "       0., 1., 1., 1., 0., 1., 1., 0., 1., 0., 0., 1., 0., 0., 0., 1., 0.,\n",
              "       0., 1., 1., 1., 0., 0., 0., 1., 0., 0., 1., 0., 1., 1., 0., 0., 1.,\n",
              "       1., 0., 0., 1., 1., 1., 1., 1., 1., 1., 1., 0., 0., 0., 1., 1., 1.,\n",
              "       0., 1., 0., 1., 1., 1., 1., 1., 0., 1., 1., 0., 1., 1., 0., 0., 0.,\n",
              "       1., 1., 0., 0., 1., 1., 0., 0., 1., 0., 1., 1., 1., 1., 0., 0., 0.,\n",
              "       0., 1., 0., 0., 1., 0., 0., 1., 1., 0., 0., 1., 0., 1., 0., 0., 1.,\n",
              "       0., 0., 0., 1., 1., 0., 0., 0., 0., 0., 0., 0., 1., 0., 1., 1., 0.,\n",
              "       0., 0., 0., 1., 1., 0., 0., 1., 0., 0., 1., 1., 0., 1., 1., 0., 1.,\n",
              "       1., 1., 1., 1., 1., 1., 0., 0., 0., 0., 1., 0., 1., 1., 1., 0., 0.,\n",
              "       0., 1., 0., 1., 0., 0., 1., 0., 1., 0., 0., 1., 1., 0., 0., 0., 0.,\n",
              "       1., 0., 0., 1., 1., 0., 0., 1., 0., 0., 1., 0., 1., 1., 0., 1., 1.,\n",
              "       0., 0., 1., 1., 0., 0., 0., 1., 1., 1., 1., 0., 0., 0., 1., 1., 0.,\n",
              "       1., 0., 1., 0., 1., 1., 0., 1., 0., 1., 0., 1., 0., 0., 1., 1., 0.,\n",
              "       1., 0., 1., 1., 0., 1., 0., 0., 0., 0., 1., 1., 0., 0., 1., 0., 0.,\n",
              "       1., 1., 0., 1., 1., 1., 1., 0., 0., 0., 0., 1., 1., 0., 1., 0., 1.,\n",
              "       0., 1., 0., 1., 0., 0., 1., 0., 0., 1., 1., 0., 0., 1., 0., 1., 0.,\n",
              "       0., 1., 0., 1., 1., 1., 0., 0., 1., 0., 1., 0., 1., 0., 0., 1., 1.,\n",
              "       0., 1., 1., 1., 1., 1., 0., 1., 0., 1., 1., 0., 1., 0.])"
            ]
          },
          "metadata": {
            "tags": []
          },
          "execution_count": 32
        }
      ]
    },
    {
      "cell_type": "code",
      "metadata": {
        "colab": {
          "base_uri": "https://localhost:8080/"
        },
        "id": "e_g2k2ZUmwwa",
        "outputId": "dddc8f1a-1367-4d0f-c554-4fc0579217d2"
      },
      "source": [
        "from sklearn.dummy import DummyClassifier\r\n",
        "clf = DummyClassifier()\r\n",
        "\r\n",
        "scores = cross_val_score(clf, train_features, train_labels)\r\n",
        "print(\"Dummy classifier score: %0.3f (+/- %0.2f)\" % (scores.mean(), scores.std() * 2))"
      ],
      "execution_count": null,
      "outputs": [
        {
          "output_type": "stream",
          "text": [
            "Dummy classifier score: 0.631 (+/- 0.06)\n"
          ],
          "name": "stdout"
        }
      ]
    },
    {
      "cell_type": "code",
      "metadata": {
        "id": "XVLEor9S9dg3"
      },
      "source": [
        ""
      ],
      "execution_count": null,
      "outputs": []
    },
    {
      "cell_type": "code",
      "metadata": {
        "id": "RMRV-2JFnLcy"
      },
      "source": [
        "pred = lr_clf.predict(test_features)"
      ],
      "execution_count": null,
      "outputs": []
    },
    {
      "cell_type": "code",
      "metadata": {
        "colab": {
          "base_uri": "https://localhost:8080/"
        },
        "id": "NQT7WZW7o9ft",
        "outputId": "47c51a30-f29b-46bc-eb51-257927eefdae"
      },
      "source": [
        "pred"
      ],
      "execution_count": null,
      "outputs": [
        {
          "output_type": "execute_result",
          "data": {
            "text/plain": [
              "array([1, 0, 0, 1, 0, 0, 1, 0, 0, 0, 0, 0, 0, 0, 0, 0, 0, 0, 0, 1, 1, 0,\n",
              "       0, 0, 0, 0, 1, 1, 0, 1, 0, 0, 0, 0, 0, 0, 0, 0, 0, 0, 0, 0, 0, 0,\n",
              "       0, 0, 0, 0, 0, 0, 0, 0, 0, 0, 1, 0, 0, 0, 0, 0, 0, 1, 0, 0, 0, 0,\n",
              "       0, 0, 0, 0, 0, 0, 0, 0, 0, 0, 0, 0, 0, 0, 1, 0, 0, 0, 1, 0, 0, 0,\n",
              "       0, 0, 0, 0, 1, 1, 0, 0, 0, 1, 1, 0, 0, 0, 0, 0, 0, 0, 0, 0, 1, 0,\n",
              "       1, 0, 0, 0, 0, 0, 0, 0, 0, 0, 0, 0, 1, 0, 1, 0, 0, 0, 1, 0, 0, 0,\n",
              "       0, 0, 1, 0, 1, 0, 0, 0, 0, 0, 0, 0, 0, 0, 1, 1, 0, 0, 0, 1, 0, 1,\n",
              "       0, 0, 0, 0, 0, 0, 1, 0, 0, 0, 0, 0, 0, 0, 0, 0, 0, 0, 0, 0, 1, 0,\n",
              "       0, 0, 0, 1, 0, 0, 0, 0, 0, 0, 0, 0, 0, 1, 0, 0, 0, 1, 0, 0, 0, 0,\n",
              "       0, 0, 0, 0, 1, 0, 0, 0, 0, 0, 0, 0, 1, 0, 1, 0, 0, 1, 0, 0, 0, 0,\n",
              "       0, 0, 0, 0, 1, 0, 0, 0, 0, 0, 0, 0, 0, 0, 0, 0, 0, 0, 0, 0, 0, 0,\n",
              "       0, 1, 0, 0, 0, 0, 0, 0, 0, 1, 0, 0, 1, 0, 0, 0, 0, 0, 0, 0, 0, 1,\n",
              "       0, 0, 0, 0, 0, 0, 0, 0, 0, 1, 0, 0, 0, 0, 0, 0, 0, 0, 0, 0, 0, 0,\n",
              "       0, 0, 0, 0, 0, 0, 0, 0, 0, 0, 0, 0, 0, 0, 1, 0, 0, 0, 0, 0, 0, 0,\n",
              "       0, 0, 0, 0, 1, 1, 0, 1, 0, 0, 0, 0, 0, 0, 1, 0, 1, 1, 0, 0, 0, 0,\n",
              "       0, 0, 0, 0, 0, 1, 0, 0, 0, 0, 0, 0, 1, 0, 0, 1, 1, 0, 0, 0, 0, 0,\n",
              "       0, 0, 1, 0, 0, 0, 0, 0, 0, 0, 1, 0, 0, 0, 0, 0, 0, 1, 0, 0, 1, 0,\n",
              "       0, 1, 0, 0, 0, 0, 0, 0, 0, 0, 1, 0, 0, 0, 0, 0, 1, 0, 0, 0, 0, 0,\n",
              "       0, 1, 0, 0, 0, 0, 0, 0, 0, 1, 0, 0, 0, 0, 0, 0, 0, 0, 0, 0, 0, 0,\n",
              "       0, 0, 0, 0, 0, 0, 0, 0, 0, 0, 0, 0, 0, 0, 0, 1, 0, 0, 0, 0, 0, 0,\n",
              "       1, 0, 0, 0, 0, 0, 0, 0, 1, 0, 0, 0, 0, 1, 0, 0, 0, 1, 0, 0, 1, 1,\n",
              "       0, 0, 0, 0, 0, 0, 0, 0, 0, 0, 0, 0, 0, 0, 0, 0, 0, 0, 0, 0, 0, 1,\n",
              "       0, 0, 0, 0, 0, 1, 0, 0, 0, 0, 0, 1, 0, 1, 0, 0])"
            ]
          },
          "metadata": {
            "tags": []
          },
          "execution_count": 71
        }
      ]
    },
    {
      "cell_type": "code",
      "metadata": {
        "id": "RIhA5BQUo-XZ"
      },
      "source": [
        ""
      ],
      "execution_count": null,
      "outputs": []
    }
  ]
}