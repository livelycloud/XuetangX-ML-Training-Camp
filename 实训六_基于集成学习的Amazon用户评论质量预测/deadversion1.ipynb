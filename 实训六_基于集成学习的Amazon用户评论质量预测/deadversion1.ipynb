{
 "cells": [
  {
   "cell_type": "markdown",
   "metadata": {},
   "source": [
    "## 比赛标题\n",
    "Exp6: 基于集成学习的 Amazon 用户评论质量预测"
   ]
  },
  {
   "cell_type": "markdown",
   "metadata": {},
   "source": [
    "## 比赛描述\n",
    "\n",
    "本案例中我们将基于集成学习的方法对 Amazon 现实场景中的评论质量进行预测。需要大家完成两种集成学习算法的实现（Bagging、AdaBoost.M1），其中基分类器使用 SVM 和决策树两种，对结果进行对比分析。\n"
   ]
  },
  {
   "cell_type": "markdown",
   "metadata": {},
   "source": [
    "## 比赛介绍\n",
    "\n",
    "### 案例背景\n",
    "\n",
    "随着电商平台的兴起，以及疫情的持续影响，线上购物在我们的日常生活中扮演着越来越重要的角色。在进行线上商品挑选时，评论往往是我们十分关注的一个方面。然而目前电商网站的评论质量参差不齐，甚至有水军刷好评或者恶意差评的情况出现，严重影响了顾客的购物体验。因此，对于评论质量的预测成为电商平台越来越关注的话题，如果能自动对评论质量进行评估，就能根据预测结果避免展现低质量的评论。本案例中我们将基于集成学习的方法对 Amazon 现实场景中的评论质量进行预测。\n",
    "\n",
    "### 任务\n",
    "\n",
    "本案例中需要完成两种集成学习算法的实现（Bagging、AdaBoost.M1），其中基分类器要求使用 SVM 和决策树两种，因此，一共需要对比四组结果（[AUC](https://scikit-learn.org/stable/modules/model_evaluation.html#roc-metrics) 作为评价指标）：\n",
    "\n",
    "* Bagging + SVM\n",
    "* Bagging + 决策树\n",
    "* AdaBoost.M1 + SVM\n",
    "* AdaBoost.M1 + 决策树\n",
    "\n",
    "注意集成学习的核心算法需要**手动进行实现**，基分类器可以调库。\n",
    "\n",
    "### 基本要求\n",
    "\n",
    "* 根据数据格式设计特征的表示\n",
    "* 汇报不同组合下得到的 AUC\n",
    "* 结合不同集成学习算法的特点分析结果之间的差异\n",
    "* （使用 sklearn 等第三方库的集成学习算法会酌情扣分）\n",
    "\n",
    "### 扩展要求\n",
    "\n",
    "* 尝试其他基分类器（如 k-NN、朴素贝叶斯）\n",
    "* 分析不同特征的影响\n",
    "* 分析集成学习算法参数的影响\n",
    "* 尝试各种方法提升排行榜上预测性能\n",
    "\n",
    "\n",
    "\n",
    "\n",
    "## 赛题说明\n",
    "### 数据描述\n",
    "\n",
    "本次数据来源于 Amazon 电商平台，包含超过 50,000 条用户在购买商品后留下的评论，各列的含义如下：\n",
    "\n",
    "* reviewerID：用户 ID\n",
    "* asin：商品 ID\n",
    "* reviewText：英文评论文本\n",
    "* overall：用户对商品的打分（1-5）\n",
    "* votes_up：认为评论有用的点赞数（只在训练集出现）\n",
    "* votes_all：该评论得到的总评价数（只在训练集出现）\n",
    "* label：评论质量的 label，1 表示高质量，0 表示低质量（只在训练集出现）\n",
    "\n",
    "评论质量的 label 来自于其他用户对评论的 votes，votes_up/votes_all ≥ 0.9 的作为高质量评论。此外测试集包含一个额外的列`Id`，标识了每一个测试的样例。\n",
    "\n",
    "### 文件说明\n",
    "\n",
    "* train.csv：训练集\n",
    "* test.csv：测试集，用户和商品保证在训练集中出现过，没有关于 votes 和 label 的列\n",
    "\n",
    "文件使用 \\t 分隔，可以使用 pandas 进行读取：\n",
    "\n",
    "```python\n",
    "import pandas as pd\n",
    "train_df = pd.read_csv('train.csv', sep='\\t')\n",
    "```\n",
    "\n",
    "### 提交格式\n",
    "\n",
    "提交文件需要对测试集中每一条评论给出预测为高质量的**概率**，每行包括一个`Id`（和测试集对应）以及预测的概率`Predicted`（0-1的浮点数），用逗号分隔。示例提交格式如下：\n",
    "\n",
    "```\n",
    "Id,Predicted\n",
    "0,0.9\n",
    "1,0.45\n",
    "2,0.78\n",
    "...\n",
    "```\n",
    "\n",
    "提交文件需要命名为`result.csv`"
   ]
  },
  {
   "cell_type": "markdown",
   "metadata": {},
   "source": [
    "## 一、提取特征"
   ]
  },
  {
   "cell_type": "code",
   "execution_count": 1,
   "metadata": {},
   "outputs": [],
   "source": [
    "import pandas as pd\n",
    "import numpy as np\n",
    "import matplotlib.pyplot as plt"
   ]
  },
  {
   "cell_type": "code",
   "execution_count": 2,
   "metadata": {},
   "outputs": [
    {
     "data": {
      "text/html": [
       "<div>\n",
       "<style scoped>\n",
       "    .dataframe tbody tr th:only-of-type {\n",
       "        vertical-align: middle;\n",
       "    }\n",
       "\n",
       "    .dataframe tbody tr th {\n",
       "        vertical-align: top;\n",
       "    }\n",
       "\n",
       "    .dataframe thead th {\n",
       "        text-align: right;\n",
       "    }\n",
       "</style>\n",
       "<table border=\"1\" class=\"dataframe\">\n",
       "  <thead>\n",
       "    <tr style=\"text-align: right;\">\n",
       "      <th></th>\n",
       "      <th>reviewerID</th>\n",
       "      <th>asin</th>\n",
       "      <th>reviewText</th>\n",
       "      <th>overall</th>\n",
       "      <th>votes_up</th>\n",
       "      <th>votes_all</th>\n",
       "      <th>label</th>\n",
       "    </tr>\n",
       "  </thead>\n",
       "  <tbody>\n",
       "    <tr>\n",
       "      <th>0</th>\n",
       "      <td>7885</td>\n",
       "      <td>3901</td>\n",
       "      <td>First off, allow me to correct a common mistak...</td>\n",
       "      <td>5.0</td>\n",
       "      <td>6</td>\n",
       "      <td>7</td>\n",
       "      <td>0</td>\n",
       "    </tr>\n",
       "    <tr>\n",
       "      <th>1</th>\n",
       "      <td>52087</td>\n",
       "      <td>47978</td>\n",
       "      <td>I am really troubled by this Story and Enterta...</td>\n",
       "      <td>3.0</td>\n",
       "      <td>99</td>\n",
       "      <td>134</td>\n",
       "      <td>0</td>\n",
       "    </tr>\n",
       "    <tr>\n",
       "      <th>2</th>\n",
       "      <td>5701</td>\n",
       "      <td>3667</td>\n",
       "      <td>A near-perfect film version of a downright glo...</td>\n",
       "      <td>4.0</td>\n",
       "      <td>14</td>\n",
       "      <td>14</td>\n",
       "      <td>1</td>\n",
       "    </tr>\n",
       "    <tr>\n",
       "      <th>3</th>\n",
       "      <td>47191</td>\n",
       "      <td>40892</td>\n",
       "      <td>Keep your expectations low.  Really really low...</td>\n",
       "      <td>1.0</td>\n",
       "      <td>4</td>\n",
       "      <td>7</td>\n",
       "      <td>0</td>\n",
       "    </tr>\n",
       "    <tr>\n",
       "      <th>4</th>\n",
       "      <td>40957</td>\n",
       "      <td>15367</td>\n",
       "      <td>\"they dont make em like this no more...\"well.....</td>\n",
       "      <td>5.0</td>\n",
       "      <td>3</td>\n",
       "      <td>6</td>\n",
       "      <td>0</td>\n",
       "    </tr>\n",
       "    <tr>\n",
       "      <th>...</th>\n",
       "      <td>...</td>\n",
       "      <td>...</td>\n",
       "      <td>...</td>\n",
       "      <td>...</td>\n",
       "      <td>...</td>\n",
       "      <td>...</td>\n",
       "      <td>...</td>\n",
       "    </tr>\n",
       "    <tr>\n",
       "      <th>57034</th>\n",
       "      <td>58315</td>\n",
       "      <td>29374</td>\n",
       "      <td>If you like beautifully shot, well acted films...</td>\n",
       "      <td>2.0</td>\n",
       "      <td>12</td>\n",
       "      <td>21</td>\n",
       "      <td>0</td>\n",
       "    </tr>\n",
       "    <tr>\n",
       "      <th>57035</th>\n",
       "      <td>23328</td>\n",
       "      <td>45548</td>\n",
       "      <td>This is a great set of films Wayne did Fox and...</td>\n",
       "      <td>5.0</td>\n",
       "      <td>15</td>\n",
       "      <td>18</td>\n",
       "      <td>0</td>\n",
       "    </tr>\n",
       "    <tr>\n",
       "      <th>57036</th>\n",
       "      <td>27203</td>\n",
       "      <td>42453</td>\n",
       "      <td>It's what's known as a comedy of manners. It's...</td>\n",
       "      <td>3.0</td>\n",
       "      <td>4</td>\n",
       "      <td>5</td>\n",
       "      <td>0</td>\n",
       "    </tr>\n",
       "    <tr>\n",
       "      <th>57037</th>\n",
       "      <td>33992</td>\n",
       "      <td>44891</td>\n",
       "      <td>Ellen can do no wrong as far a creating wonder...</td>\n",
       "      <td>5.0</td>\n",
       "      <td>4</td>\n",
       "      <td>5</td>\n",
       "      <td>0</td>\n",
       "    </tr>\n",
       "    <tr>\n",
       "      <th>57038</th>\n",
       "      <td>27478</td>\n",
       "      <td>19198</td>\n",
       "      <td>I agree with everyone else that this is a grea...</td>\n",
       "      <td>2.0</td>\n",
       "      <td>5</td>\n",
       "      <td>5</td>\n",
       "      <td>1</td>\n",
       "    </tr>\n",
       "  </tbody>\n",
       "</table>\n",
       "<p>57039 rows × 7 columns</p>\n",
       "</div>"
      ],
      "text/plain": [
       "       reviewerID   asin                                         reviewText  \\\n",
       "0            7885   3901  First off, allow me to correct a common mistak...   \n",
       "1           52087  47978  I am really troubled by this Story and Enterta...   \n",
       "2            5701   3667  A near-perfect film version of a downright glo...   \n",
       "3           47191  40892  Keep your expectations low.  Really really low...   \n",
       "4           40957  15367  \"they dont make em like this no more...\"well.....   \n",
       "...           ...    ...                                                ...   \n",
       "57034       58315  29374  If you like beautifully shot, well acted films...   \n",
       "57035       23328  45548  This is a great set of films Wayne did Fox and...   \n",
       "57036       27203  42453  It's what's known as a comedy of manners. It's...   \n",
       "57037       33992  44891  Ellen can do no wrong as far a creating wonder...   \n",
       "57038       27478  19198  I agree with everyone else that this is a grea...   \n",
       "\n",
       "       overall  votes_up  votes_all  label  \n",
       "0          5.0         6          7      0  \n",
       "1          3.0        99        134      0  \n",
       "2          4.0        14         14      1  \n",
       "3          1.0         4          7      0  \n",
       "4          5.0         3          6      0  \n",
       "...        ...       ...        ...    ...  \n",
       "57034      2.0        12         21      0  \n",
       "57035      5.0        15         18      0  \n",
       "57036      3.0         4          5      0  \n",
       "57037      5.0         4          5      0  \n",
       "57038      2.0         5          5      1  \n",
       "\n",
       "[57039 rows x 7 columns]"
      ]
     },
     "execution_count": 2,
     "metadata": {},
     "output_type": "execute_result"
    }
   ],
   "source": [
    "train_df = pd.read_csv('data\\\\train.csv', sep='\\t')\n",
    "test_df = pd.read_csv('data\\\\test.csv', sep='\\t')\n",
    "train_df"
   ]
  },
  {
   "cell_type": "code",
   "execution_count": 3,
   "metadata": {},
   "outputs": [
    {
     "data": {
      "text/html": [
       "<div>\n",
       "<style scoped>\n",
       "    .dataframe tbody tr th:only-of-type {\n",
       "        vertical-align: middle;\n",
       "    }\n",
       "\n",
       "    .dataframe tbody tr th {\n",
       "        vertical-align: top;\n",
       "    }\n",
       "\n",
       "    .dataframe thead th {\n",
       "        text-align: right;\n",
       "    }\n",
       "</style>\n",
       "<table border=\"1\" class=\"dataframe\">\n",
       "  <thead>\n",
       "    <tr style=\"text-align: right;\">\n",
       "      <th></th>\n",
       "      <th>Id</th>\n",
       "      <th>reviewerID</th>\n",
       "      <th>asin</th>\n",
       "      <th>reviewText</th>\n",
       "      <th>overall</th>\n",
       "    </tr>\n",
       "  </thead>\n",
       "  <tbody>\n",
       "    <tr>\n",
       "      <th>0</th>\n",
       "      <td>0</td>\n",
       "      <td>82947</td>\n",
       "      <td>37386</td>\n",
       "      <td>I REALLY wanted this series but I am in SHOCK ...</td>\n",
       "      <td>1.0</td>\n",
       "    </tr>\n",
       "    <tr>\n",
       "      <th>1</th>\n",
       "      <td>1</td>\n",
       "      <td>10154</td>\n",
       "      <td>23543</td>\n",
       "      <td>I have to say that this is a work of art for m...</td>\n",
       "      <td>4.0</td>\n",
       "    </tr>\n",
       "    <tr>\n",
       "      <th>2</th>\n",
       "      <td>2</td>\n",
       "      <td>5789</td>\n",
       "      <td>5724</td>\n",
       "      <td>Alien 3 is certainly the most controversal fil...</td>\n",
       "      <td>3.0</td>\n",
       "    </tr>\n",
       "    <tr>\n",
       "      <th>3</th>\n",
       "      <td>3</td>\n",
       "      <td>9198</td>\n",
       "      <td>5909</td>\n",
       "      <td>I love this film...preachy?  Well, of course i...</td>\n",
       "      <td>5.0</td>\n",
       "    </tr>\n",
       "    <tr>\n",
       "      <th>4</th>\n",
       "      <td>4</td>\n",
       "      <td>33252</td>\n",
       "      <td>21214</td>\n",
       "      <td>Even though I previously bought the Gamera Dou...</td>\n",
       "      <td>5.0</td>\n",
       "    </tr>\n",
       "    <tr>\n",
       "      <th>...</th>\n",
       "      <td>...</td>\n",
       "      <td>...</td>\n",
       "      <td>...</td>\n",
       "      <td>...</td>\n",
       "      <td>...</td>\n",
       "    </tr>\n",
       "    <tr>\n",
       "      <th>11203</th>\n",
       "      <td>11203</td>\n",
       "      <td>18250</td>\n",
       "      <td>35309</td>\n",
       "      <td>I honestly never heard of the graphic novel un...</td>\n",
       "      <td>5.0</td>\n",
       "    </tr>\n",
       "    <tr>\n",
       "      <th>11204</th>\n",
       "      <td>11204</td>\n",
       "      <td>3200</td>\n",
       "      <td>2130</td>\n",
       "      <td>Archie Bunker's command to stifle YOURSELF! wa...</td>\n",
       "      <td>5.0</td>\n",
       "    </tr>\n",
       "    <tr>\n",
       "      <th>11205</th>\n",
       "      <td>11205</td>\n",
       "      <td>37366</td>\n",
       "      <td>41971</td>\n",
       "      <td>In LSD - My Problem Child, Albert Hoffman wrot...</td>\n",
       "      <td>5.0</td>\n",
       "    </tr>\n",
       "    <tr>\n",
       "      <th>11206</th>\n",
       "      <td>11206</td>\n",
       "      <td>1781</td>\n",
       "      <td>33089</td>\n",
       "      <td>I have owned this DVD for over a year now and ...</td>\n",
       "      <td>5.0</td>\n",
       "    </tr>\n",
       "    <tr>\n",
       "      <th>11207</th>\n",
       "      <td>11207</td>\n",
       "      <td>26372</td>\n",
       "      <td>35457</td>\n",
       "      <td>This movie is just a slap in the face [or othe...</td>\n",
       "      <td>1.0</td>\n",
       "    </tr>\n",
       "  </tbody>\n",
       "</table>\n",
       "<p>11208 rows × 5 columns</p>\n",
       "</div>"
      ],
      "text/plain": [
       "          Id  reviewerID   asin  \\\n",
       "0          0       82947  37386   \n",
       "1          1       10154  23543   \n",
       "2          2        5789   5724   \n",
       "3          3        9198   5909   \n",
       "4          4       33252  21214   \n",
       "...      ...         ...    ...   \n",
       "11203  11203       18250  35309   \n",
       "11204  11204        3200   2130   \n",
       "11205  11205       37366  41971   \n",
       "11206  11206        1781  33089   \n",
       "11207  11207       26372  35457   \n",
       "\n",
       "                                              reviewText  overall  \n",
       "0      I REALLY wanted this series but I am in SHOCK ...      1.0  \n",
       "1      I have to say that this is a work of art for m...      4.0  \n",
       "2      Alien 3 is certainly the most controversal fil...      3.0  \n",
       "3      I love this film...preachy?  Well, of course i...      5.0  \n",
       "4      Even though I previously bought the Gamera Dou...      5.0  \n",
       "...                                                  ...      ...  \n",
       "11203  I honestly never heard of the graphic novel un...      5.0  \n",
       "11204  Archie Bunker's command to stifle YOURSELF! wa...      5.0  \n",
       "11205  In LSD - My Problem Child, Albert Hoffman wrot...      5.0  \n",
       "11206  I have owned this DVD for over a year now and ...      5.0  \n",
       "11207  This movie is just a slap in the face [or othe...      1.0  \n",
       "\n",
       "[11208 rows x 5 columns]"
      ]
     },
     "execution_count": 3,
     "metadata": {},
     "output_type": "execute_result"
    }
   ],
   "source": [
    "test_df"
   ]
  },
  {
   "cell_type": "code",
   "execution_count": 8,
   "metadata": {},
   "outputs": [
    {
     "data": {
      "text/html": [
       "<div>\n",
       "<style scoped>\n",
       "    .dataframe tbody tr th:only-of-type {\n",
       "        vertical-align: middle;\n",
       "    }\n",
       "\n",
       "    .dataframe tbody tr th {\n",
       "        vertical-align: top;\n",
       "    }\n",
       "\n",
       "    .dataframe thead th {\n",
       "        text-align: right;\n",
       "    }\n",
       "</style>\n",
       "<table border=\"1\" class=\"dataframe\">\n",
       "  <thead>\n",
       "    <tr style=\"text-align: right;\">\n",
       "      <th></th>\n",
       "      <th>reviewerID</th>\n",
       "      <th>asin</th>\n",
       "      <th>overall</th>\n",
       "      <th>votes_up</th>\n",
       "      <th>votes_all</th>\n",
       "      <th>label</th>\n",
       "    </tr>\n",
       "  </thead>\n",
       "  <tbody>\n",
       "    <tr>\n",
       "      <th>count</th>\n",
       "      <td>57039.000000</td>\n",
       "      <td>57039.000000</td>\n",
       "      <td>57039.000000</td>\n",
       "      <td>57039.000000</td>\n",
       "      <td>57039.000000</td>\n",
       "      <td>57039.000000</td>\n",
       "    </tr>\n",
       "    <tr>\n",
       "      <th>mean</th>\n",
       "      <td>33359.761865</td>\n",
       "      <td>19973.170866</td>\n",
       "      <td>3.535178</td>\n",
       "      <td>12.387594</td>\n",
       "      <td>18.475850</td>\n",
       "      <td>0.226196</td>\n",
       "    </tr>\n",
       "    <tr>\n",
       "      <th>std</th>\n",
       "      <td>30016.804127</td>\n",
       "      <td>14104.410152</td>\n",
       "      <td>1.529742</td>\n",
       "      <td>45.130499</td>\n",
       "      <td>50.149683</td>\n",
       "      <td>0.418371</td>\n",
       "    </tr>\n",
       "    <tr>\n",
       "      <th>min</th>\n",
       "      <td>50.000000</td>\n",
       "      <td>0.000000</td>\n",
       "      <td>1.000000</td>\n",
       "      <td>0.000000</td>\n",
       "      <td>5.000000</td>\n",
       "      <td>0.000000</td>\n",
       "    </tr>\n",
       "    <tr>\n",
       "      <th>25%</th>\n",
       "      <td>9235.000000</td>\n",
       "      <td>8218.000000</td>\n",
       "      <td>2.000000</td>\n",
       "      <td>4.000000</td>\n",
       "      <td>6.000000</td>\n",
       "      <td>0.000000</td>\n",
       "    </tr>\n",
       "    <tr>\n",
       "      <th>50%</th>\n",
       "      <td>22589.000000</td>\n",
       "      <td>17635.000000</td>\n",
       "      <td>4.000000</td>\n",
       "      <td>6.000000</td>\n",
       "      <td>10.000000</td>\n",
       "      <td>0.000000</td>\n",
       "    </tr>\n",
       "    <tr>\n",
       "      <th>75%</th>\n",
       "      <td>53170.000000</td>\n",
       "      <td>30875.000000</td>\n",
       "      <td>5.000000</td>\n",
       "      <td>11.000000</td>\n",
       "      <td>18.000000</td>\n",
       "      <td>0.000000</td>\n",
       "    </tr>\n",
       "    <tr>\n",
       "      <th>max</th>\n",
       "      <td>123767.000000</td>\n",
       "      <td>50051.000000</td>\n",
       "      <td>5.000000</td>\n",
       "      <td>6084.000000</td>\n",
       "      <td>6510.000000</td>\n",
       "      <td>1.000000</td>\n",
       "    </tr>\n",
       "  </tbody>\n",
       "</table>\n",
       "</div>"
      ],
      "text/plain": [
       "          reviewerID          asin       overall      votes_up     votes_all  \\\n",
       "count   57039.000000  57039.000000  57039.000000  57039.000000  57039.000000   \n",
       "mean    33359.761865  19973.170866      3.535178     12.387594     18.475850   \n",
       "std     30016.804127  14104.410152      1.529742     45.130499     50.149683   \n",
       "min        50.000000      0.000000      1.000000      0.000000      5.000000   \n",
       "25%      9235.000000   8218.000000      2.000000      4.000000      6.000000   \n",
       "50%     22589.000000  17635.000000      4.000000      6.000000     10.000000   \n",
       "75%     53170.000000  30875.000000      5.000000     11.000000     18.000000   \n",
       "max    123767.000000  50051.000000      5.000000   6084.000000   6510.000000   \n",
       "\n",
       "              label  \n",
       "count  57039.000000  \n",
       "mean       0.226196  \n",
       "std        0.418371  \n",
       "min        0.000000  \n",
       "25%        0.000000  \n",
       "50%        0.000000  \n",
       "75%        0.000000  \n",
       "max        1.000000  "
      ]
     },
     "execution_count": 8,
     "metadata": {},
     "output_type": "execute_result"
    }
   ],
   "source": [
    "train_df.describe()"
   ]
  },
  {
   "cell_type": "code",
   "execution_count": 5,
   "metadata": {},
   "outputs": [],
   "source": [
    "#为了避免过拟合，将ID等特征分为20类，并投影到[0,1]上\n",
    "\n",
    "discrete_train_df = train_df.copy()\n",
    "discrete_train_df['asin'] = pd.cut(discrete_train_df['asin'], bins = 20,labels = False)\n",
    "discrete_train_df['reviewerID'] = pd.cut(discrete_train_df['reviewerID'], bins = 20,labels = False)\n",
    "discrete_train_df['asin'] = discrete_train_df['asin'] / max(discrete_train_df['asin'])\n",
    "discrete_train_df['reviewerID'] = discrete_train_df['reviewerID'] / discrete_train_df['reviewerID'].max()\n",
    "discrete_train_df['overall'] = discrete_train_df['overall'] / 5.0\n",
    "\n",
    "\n",
    "discrete_test_df = test_df.copy()\n",
    "discrete_test_df['asin'] = pd.cut(discrete_test_df['asin'], bins = 20,labels = False)\n",
    "discrete_test_df['reviewerID'] = pd.cut(discrete_test_df['reviewerID'], bins = 20,labels = False)\n",
    "discrete_test_df['asin'] = discrete_test_df['asin'] / discrete_test_df['asin'].max()\n",
    "discrete_test_df['reviewerID'] = discrete_test_df['reviewerID'] / discrete_test_df['reviewerID'].max()\n",
    "discrete_test_df['overall'] = discrete_test_df['overall'] / 5.0\n",
    "\n",
    "\n",
    "\n",
    "# discreteAsin =  np.floor(train_df['asin'] / 2000)\n",
    "# discreteAsin =  discreteAsin / max(discreteAsin)\n",
    "# discreteID = np.floor(train_df['reviewerID'] / 5000)\n",
    "# discreteID = discreteID / max(discreteID)\n",
    "# discreteOverall = train_df['overall'] / 5\n",
    "\n",
    "# test_discreteAsin =  np.floor(test_df['asin'] / 2000)\n",
    "# test_discreteAsin =  test_discreteAsin / max(test_discreteAsin)\n",
    "# test_discreteID = np.floor(test_df['reviewerID'] / 5000)\n",
    "# test_discreteID = test_discreteID / max(test_discreteID)\n",
    "# test_discreteOverall = test_df['overall'] / 5"
   ]
  },
  {
   "cell_type": "code",
   "execution_count": 15,
   "metadata": {},
   "outputs": [
    {
     "data": {
      "text/plain": [
       "0        0.052632\n",
       "1        1.000000\n",
       "2        0.052632\n",
       "3        0.842105\n",
       "4        0.315789\n",
       "           ...   \n",
       "57034    0.578947\n",
       "57035    0.947368\n",
       "57036    0.842105\n",
       "57037    0.894737\n",
       "57038    0.368421\n",
       "Name: asin, Length: 57039, dtype: float64"
      ]
     },
     "execution_count": 15,
     "metadata": {},
     "output_type": "execute_result"
    }
   ],
   "source": [
    "discrete_train_df['asin']"
   ]
  },
  {
   "cell_type": "code",
   "execution_count": 21,
   "metadata": {},
   "outputs": [
    {
     "data": {
      "text/plain": [
       "(array([2063.,    0., 1327.,    0., 1366.,    0.,    0., 1850.,    0.,\n",
       "        4602.]),\n",
       " array([0.2 , 0.28, 0.36, 0.44, 0.52, 0.6 , 0.68, 0.76, 0.84, 0.92, 1.  ]),\n",
       " <a list of 10 Patch objects>)"
      ]
     },
     "execution_count": 21,
     "metadata": {},
     "output_type": "execute_result"
    },
    {
     "data": {
      "image/png": "[encoded data removed]",
      "text/plain": [
       "<Figure size 1152x360 with 3 Axes>"
      ]
     },
     "metadata": {
      "needs_background": "light"
     },
     "output_type": "display_data"
    }
   ],
   "source": [
    "figure, axes = plt.subplots(1, 3, figsize = (16,5))\n",
    "axes[0].hist(discrete_train_df['asin'], alpha = 0.5)\n",
    "axes[0].hist(discrete_test_df['asin'], alpha = 0.5)\n",
    "axes[1].hist(discrete_train_df['reviewerID'], alpha = 0.5)\n",
    "axes[1].hist(discrete_test_df['reviewerID'], alpha = 0.5)\n",
    "axes[2].hist(discrete_train_df['overall'], alpha = 0.5)\n",
    "axes[2].hist(discrete_test_df['overall'], alpha = 0.5)"
   ]
  },
  {
   "cell_type": "markdown",
   "metadata": {},
   "source": [
    "从图中可以发现，离散后的asin, reviewerID和overall在训练集和测试集基本是同分布的。"
   ]
  },
  {
   "cell_type": "code",
   "execution_count": 22,
   "metadata": {},
   "outputs": [],
   "source": [
    "y_train = train_df['label']"
   ]
  },
  {
   "cell_type": "code",
   "execution_count": 23,
   "metadata": {},
   "outputs": [
    {
     "name": "stdout",
     "output_type": "stream",
     "text": [
      "Extracting features from the training data using a sparse vectorizer\n",
      "done in 28.291456s\n",
      "n_samples: 57039, n_features: 153746\n",
      "\n",
      "Extracting features from the test data using the same vectorizer\n",
      "done in 5.050851s \n",
      "n_samples: 11208, n_features: 153746\n",
      "\n"
     ]
    }
   ],
   "source": [
    "from time import time\n",
    "from sklearn.feature_extraction.text import TfidfVectorizer\n",
    "\n",
    "#将reviewText转化成稀疏矩阵\n",
    "print(\"Extracting features from the training data using a sparse vectorizer\")\n",
    "t0 = time()\n",
    "vectorizer = TfidfVectorizer(sublinear_tf=True, max_df=0.5,\n",
    "                                 stop_words='english')\n",
    "X_train_text = vectorizer.fit_transform(train_df['reviewText'])\n",
    "duration = time() - t0\n",
    "print(\"done in %fs\" % duration)\n",
    "print(\"n_samples: %d, n_features: %d\" % X_train_text.shape)\n",
    "print()\n",
    "\n",
    "print(\"Extracting features from the test data using the same vectorizer\")\n",
    "t0 = time()\n",
    "X_test_text = vectorizer.transform(test_df['reviewText'])\n",
    "duration = time() - t0\n",
    "print(\"done in %fs \" % duration)\n",
    "print(\"n_samples: %d, n_features: %d\" % X_test_text.shape)\n",
    "print()"
   ]
  },
  {
   "cell_type": "code",
   "execution_count": 24,
   "metadata": {},
   "outputs": [],
   "source": [
    "feature_names = vectorizer.get_feature_names()"
   ]
  },
  {
   "cell_type": "code",
   "execution_count": 48,
   "metadata": {},
   "outputs": [
    {
     "name": "stdout",
     "output_type": "stream",
     "text": [
      "Extracting 50 best features by a chi-squared test\n",
      "done in 0.487126s\n",
      "\n"
     ]
    }
   ],
   "source": [
    "#选取最好的50个特征\n",
    "from sklearn.feature_selection import SelectKBest, chi2\n",
    "print(\"Extracting 50 best features by a chi-squared test\" )\n",
    "t0 = time()\n",
    "ch2 = SelectKBest(chi2, k=50)\n",
    "X_train = ch2.fit_transform(X_train_text, y_train)\n",
    "X_test = ch2.transform(X_test_text)\n",
    "\n",
    "new_feature_names = [feature_names[i] for i\n",
    "                         in ch2.get_support(indices=True)]\n",
    "print(\"done in %fs\" % (time() - t0))\n",
    "print()"
   ]
  },
  {
   "cell_type": "code",
   "execution_count": 49,
   "metadata": {},
   "outputs": [
    {
     "name": "stdout",
     "output_type": "stream",
     "text": [
      "['abs', 'audio', 'bad', 'band', 'beginner', 'beginners', 'boring', 'calories', 'cardio', 'collection', 'concert', 'dance', 'dvd', 'dvds', 'episodes', 'excellent', 'exercises', 'fitness', 'highly', 'included', 'instruction', 'instructor', 'intermediate', 'movements', 'moves', 'muscles', 'music', 'poses', 'print', 'prints', 'quality', 'section', 'segments', 'series', 'set', 'songs', 'sound', 'stupid', 'tape', 'toning', 'vhs', 'video', 'videos', 'waste', 'weights', 'wonderful', 'workout', 'workouts', 'worst', 'yoga']\n"
     ]
    }
   ],
   "source": [
    "print(new_feature_names)"
   ]
  },
  {
   "cell_type": "code",
   "execution_count": 50,
   "metadata": {},
   "outputs": [
    {
     "data": {
      "text/plain": [
       "(<57039x153746 sparse matrix of type '<class 'numpy.float64'>'\n",
       " \twith 5386169 stored elements in Compressed Sparse Row format>,\n",
       " <57039x50 sparse matrix of type '<class 'numpy.float64'>'\n",
       " \twith 112919 stored elements in Compressed Sparse Row format>,\n",
       " <11208x153746 sparse matrix of type '<class 'numpy.float64'>'\n",
       " \twith 1047597 stored elements in Compressed Sparse Row format>,\n",
       " <11208x50 sparse matrix of type '<class 'numpy.float64'>'\n",
       " \twith 20983 stored elements in Compressed Sparse Row format>)"
      ]
     },
     "execution_count": 50,
     "metadata": {},
     "output_type": "execute_result"
    }
   ],
   "source": [
    "#系数矩阵中储存的特征数量\n",
    "X_train_text,X_train, X_test_text, X_test "
   ]
  },
  {
   "cell_type": "code",
   "execution_count": 51,
   "metadata": {},
   "outputs": [],
   "source": [
    "#对文本特征进行降维 #太慢了还没有做\n",
    "# from sklearn.manifold import TSNE\n",
    "# from sklearn.manifold import SpectralEmbedding\n",
    "# t0 = time()\n",
    "# method= SpectralEmbedding(n_components=3)\n",
    "# X_train_embedded = method.fit_transform(X_train)\n",
    "# print(\"done in %fs\" % (time() - t0))\n",
    "# X_train_embedded.shape"
   ]
  },
  {
   "cell_type": "code",
   "execution_count": 52,
   "metadata": {},
   "outputs": [],
   "source": [
    "# t0 = time()\n",
    "# X_test_embedded =  method.transform(X_test)\n",
    "# print(\"done in %fs\" % (time() - t0))"
   ]
  },
  {
   "cell_type": "code",
   "execution_count": 53,
   "metadata": {},
   "outputs": [
    {
     "name": "stdout",
     "output_type": "stream",
     "text": [
      "(57039,) (57039, 50)\n"
     ]
    }
   ],
   "source": [
    "print(train_df['reviewerID'].shape, X_train.shape)"
   ]
  },
  {
   "cell_type": "code",
   "execution_count": 54,
   "metadata": {},
   "outputs": [
    {
     "data": {
      "text/plain": [
       "(0.8760007715975809, 0.9019965239627862)"
      ]
     },
     "execution_count": 54,
     "metadata": {},
     "output_type": "execute_result"
    }
   ],
   "source": [
    "X_train.max(), X_test.max()"
   ]
  },
  {
   "cell_type": "code",
   "execution_count": 8,
   "metadata": {},
   "outputs": [
    {
     "name": "stdout",
     "output_type": "stream",
     "text": [
      "count begins\n",
      "done in 7.414235s\n",
      "count begins\n",
      "done in 1.377843s\n"
     ]
    },
    {
     "data": {
      "text/html": [
       "<div>\n",
       "<style scoped>\n",
       "    .dataframe tbody tr th:only-of-type {\n",
       "        vertical-align: middle;\n",
       "    }\n",
       "\n",
       "    .dataframe tbody tr th {\n",
       "        vertical-align: top;\n",
       "    }\n",
       "\n",
       "    .dataframe thead th {\n",
       "        text-align: right;\n",
       "    }\n",
       "</style>\n",
       "<table border=\"1\" class=\"dataframe\">\n",
       "  <thead>\n",
       "    <tr style=\"text-align: right;\">\n",
       "      <th></th>\n",
       "      <th>reviewerID</th>\n",
       "      <th>asin</th>\n",
       "      <th>reviewText</th>\n",
       "      <th>overall</th>\n",
       "      <th>votes_up</th>\n",
       "      <th>votes_all</th>\n",
       "      <th>label</th>\n",
       "      <th>word_count</th>\n",
       "      <th>char_count</th>\n",
       "      <th>sentence_count</th>\n",
       "      <th>avg_word_length</th>\n",
       "      <th>avg_sentence_length</th>\n",
       "    </tr>\n",
       "  </thead>\n",
       "  <tbody>\n",
       "    <tr>\n",
       "      <th>0</th>\n",
       "      <td>0.052632</td>\n",
       "      <td>0.052632</td>\n",
       "      <td>First off, allow me to correct a common mistak...</td>\n",
       "      <td>1.0</td>\n",
       "      <td>6</td>\n",
       "      <td>7</td>\n",
       "      <td>0</td>\n",
       "      <td>416</td>\n",
       "      <td>1987</td>\n",
       "      <td>13</td>\n",
       "      <td>4.776442</td>\n",
       "      <td>32.000000</td>\n",
       "    </tr>\n",
       "    <tr>\n",
       "      <th>1</th>\n",
       "      <td>0.421053</td>\n",
       "      <td>1.000000</td>\n",
       "      <td>I am really troubled by this Story and Enterta...</td>\n",
       "      <td>0.6</td>\n",
       "      <td>99</td>\n",
       "      <td>134</td>\n",
       "      <td>0</td>\n",
       "      <td>477</td>\n",
       "      <td>2225</td>\n",
       "      <td>21</td>\n",
       "      <td>4.664570</td>\n",
       "      <td>22.714286</td>\n",
       "    </tr>\n",
       "    <tr>\n",
       "      <th>2</th>\n",
       "      <td>0.000000</td>\n",
       "      <td>0.052632</td>\n",
       "      <td>A near-perfect film version of a downright glo...</td>\n",
       "      <td>0.8</td>\n",
       "      <td>14</td>\n",
       "      <td>14</td>\n",
       "      <td>1</td>\n",
       "      <td>71</td>\n",
       "      <td>357</td>\n",
       "      <td>4</td>\n",
       "      <td>5.028169</td>\n",
       "      <td>17.750000</td>\n",
       "    </tr>\n",
       "    <tr>\n",
       "      <th>3</th>\n",
       "      <td>0.368421</td>\n",
       "      <td>0.842105</td>\n",
       "      <td>Keep your expectations low.  Really really low...</td>\n",
       "      <td>0.2</td>\n",
       "      <td>4</td>\n",
       "      <td>7</td>\n",
       "      <td>0</td>\n",
       "      <td>117</td>\n",
       "      <td>577</td>\n",
       "      <td>14</td>\n",
       "      <td>4.931624</td>\n",
       "      <td>8.357143</td>\n",
       "    </tr>\n",
       "    <tr>\n",
       "      <th>4</th>\n",
       "      <td>0.315789</td>\n",
       "      <td>0.315789</td>\n",
       "      <td>\"they dont make em like this no more...\"well.....</td>\n",
       "      <td>1.0</td>\n",
       "      <td>3</td>\n",
       "      <td>6</td>\n",
       "      <td>0</td>\n",
       "      <td>98</td>\n",
       "      <td>461</td>\n",
       "      <td>21</td>\n",
       "      <td>4.704082</td>\n",
       "      <td>4.666667</td>\n",
       "    </tr>\n",
       "  </tbody>\n",
       "</table>\n",
       "</div>"
      ],
      "text/plain": [
       "   reviewerID      asin                                         reviewText  \\\n",
       "0    0.052632  0.052632  First off, allow me to correct a common mistak...   \n",
       "1    0.421053  1.000000  I am really troubled by this Story and Enterta...   \n",
       "2    0.000000  0.052632  A near-perfect film version of a downright glo...   \n",
       "3    0.368421  0.842105  Keep your expectations low.  Really really low...   \n",
       "4    0.315789  0.315789  \"they dont make em like this no more...\"well.....   \n",
       "\n",
       "   overall  votes_up  votes_all  label  word_count  char_count  \\\n",
       "0      1.0         6          7      0         416        1987   \n",
       "1      0.6        99        134      0         477        2225   \n",
       "2      0.8        14         14      1          71         357   \n",
       "3      0.2         4          7      0         117         577   \n",
       "4      1.0         3          6      0          98         461   \n",
       "\n",
       "   sentence_count  avg_word_length  avg_sentence_length  \n",
       "0              13         4.776442            32.000000  \n",
       "1              21         4.664570            22.714286  \n",
       "2               4         5.028169            17.750000  \n",
       "3              14         4.931624             8.357143  \n",
       "4              21         4.704082             4.666667  "
      ]
     },
     "execution_count": 8,
     "metadata": {},
     "output_type": "execute_result"
    }
   ],
   "source": [
    "from time import time\n",
    "# t0 = time()\n",
    "\n",
    "# # 字数计数:计算文本中记号的数量(用空格分隔)\n",
    "# discrete_train_df['word_count'] = discrete_train_df[\"reviewText\"].apply(lambda x: len(str(x).split(\" \"))) \n",
    "\n",
    "# # 字符计数:将每个标记的字符数相加计算\n",
    "# discrete_train_df['char_count'] = discrete_train_df[\"reviewText\"].apply(lambda x: sum(len(word) for word in str(x).split(\" \")))\n",
    "\n",
    "# # 句子数:计算句子的数量(以句点分隔)\n",
    "# discrete_train_df['sentence_count'] = discrete_train_df[\"reviewText\"].apply(lambda x: len(str(x).split(\".\"))) \n",
    "\n",
    "# # 平均字数:字数除以字数的总和(字符数/字数)\n",
    "# discrete_train_df['avg_word_length'] = discrete_train_df['char_count'] /discrete_train_df['word_count'] \n",
    "\n",
    "# # 平均句子长度:句子长度的总和除以句子的数量(字数/句子数量)\n",
    "# discrete_train_df['avg_sentence_lenght'] = discrete_train_df['word_count'] / discrete_train_df['sentence_count']\n",
    "\n",
    "# print(\"done in %fs\" % (time() - t0))\n",
    "\n",
    "# discrete_train_df.head()\n",
    "\n",
    "def counts(df):\n",
    "    print(\"count begins\")\n",
    "    t0 = time()\n",
    "    # 字数计数:计算文本中记号的数量(用空格分隔)\n",
    "    df['word_count'] = df[\"reviewText\"].apply(lambda x: len(str(x).split(\" \"))) \n",
    "    # 字符计数:将每个标记的字符数相加计算\n",
    "    df['char_count'] = df[\"reviewText\"].apply(lambda x: sum(len(word) for word in str(x).split(\" \")))\n",
    "    # 句子数:计算句子的数量(以句点分隔)\n",
    "    df['sentence_count'] = df[\"reviewText\"].apply(lambda x: len(str(x).split(\".\"))) \n",
    "    # 平均字数:字数除以字数的总和(字符数/字数)\n",
    "    df['avg_word_length'] = df['char_count'] / df['word_count'] \n",
    "    # 平均句子长度:句子长度的总和除以句子的数量(字数/句子数量)\n",
    "    df['avg_sentence_length'] = df['word_count'] / df['sentence_count']\n",
    "    print(\"done in %fs\" % (time() - t0))\n",
    "\n",
    "def discrete_counts(df, df1,  num = 11): #训练集的测试集标准不一样，应该要改成一样的 \n",
    "    discretedf_train = df.copy()\n",
    "    discretedf_test = df1.copy()\n",
    "    for c in df.columns[1:]: # 遍历每一列特征，跳过前面的列\n",
    "        if c == 'word_count' or c == 'char_count' or c == 'sentence_count' or c == 'avg_word_length' or c == 'avg_sentence_length':\n",
    "            # 离散化特征\n",
    "            discretedf_train[c], bins = pd.qcut(df[c], q = num,labels = False, retbins=True)\n",
    "            discretedf_test[c] = pd.cut(df[c], bins = bins,labels = False)\n",
    "            \n",
    "            #归一化\n",
    "            maxx = discretedf_train[c].max()\n",
    "            discretedf_train[c] = discretedf_train[c]/ maxx\n",
    "            discretedf_test[c] = discretedf_test[c]/ maxx\n",
    "        \n",
    "    return discretedf_train, discretedf_test\n",
    "\n",
    "classes = 11\n",
    "counts(discrete_train_df)\n",
    "counts(discrete_test_df)\n",
    "# discrete_train_df, discrete_test_df = discrete_counts(discrete_train_df, discrete_test_df, classes)\n",
    "discrete_train_df.head()"
   ]
  },
  {
   "cell_type": "code",
   "execution_count": 10,
   "metadata": {},
   "outputs": [
    {
     "data": {
      "text/html": [
       "<div>\n",
       "<style scoped>\n",
       "    .dataframe tbody tr th:only-of-type {\n",
       "        vertical-align: middle;\n",
       "    }\n",
       "\n",
       "    .dataframe tbody tr th {\n",
       "        vertical-align: top;\n",
       "    }\n",
       "\n",
       "    .dataframe thead th {\n",
       "        text-align: right;\n",
       "    }\n",
       "</style>\n",
       "<table border=\"1\" class=\"dataframe\">\n",
       "  <thead>\n",
       "    <tr style=\"text-align: right;\">\n",
       "      <th></th>\n",
       "      <th>reviewerID</th>\n",
       "      <th>asin</th>\n",
       "      <th>overall</th>\n",
       "      <th>votes_up</th>\n",
       "      <th>votes_all</th>\n",
       "      <th>label</th>\n",
       "      <th>word_count</th>\n",
       "      <th>char_count</th>\n",
       "      <th>sentence_count</th>\n",
       "      <th>avg_word_length</th>\n",
       "      <th>avg_sentence_length</th>\n",
       "    </tr>\n",
       "  </thead>\n",
       "  <tbody>\n",
       "    <tr>\n",
       "      <th>count</th>\n",
       "      <td>57039.000000</td>\n",
       "      <td>57039.000000</td>\n",
       "      <td>57039.000000</td>\n",
       "      <td>57039.000000</td>\n",
       "      <td>57039.000000</td>\n",
       "      <td>57039.000000</td>\n",
       "      <td>57039.000000</td>\n",
       "      <td>57039.000000</td>\n",
       "      <td>57039.000000</td>\n",
       "      <td>57039.000000</td>\n",
       "      <td>57039.000000</td>\n",
       "    </tr>\n",
       "    <tr>\n",
       "      <th>mean</th>\n",
       "      <td>0.257629</td>\n",
       "      <td>0.393775</td>\n",
       "      <td>0.707036</td>\n",
       "      <td>12.387594</td>\n",
       "      <td>18.475850</td>\n",
       "      <td>0.226196</td>\n",
       "      <td>255.126335</td>\n",
       "      <td>1187.168166</td>\n",
       "      <td>15.734778</td>\n",
       "      <td>4.598286</td>\n",
       "      <td>16.931602</td>\n",
       "    </tr>\n",
       "    <tr>\n",
       "      <th>std</th>\n",
       "      <td>0.254734</td>\n",
       "      <td>0.295743</td>\n",
       "      <td>0.305948</td>\n",
       "      <td>45.130499</td>\n",
       "      <td>50.149683</td>\n",
       "      <td>0.418371</td>\n",
       "      <td>242.025413</td>\n",
       "      <td>1150.945509</td>\n",
       "      <td>14.385499</td>\n",
       "      <td>0.405145</td>\n",
       "      <td>10.118088</td>\n",
       "    </tr>\n",
       "    <tr>\n",
       "      <th>min</th>\n",
       "      <td>0.000000</td>\n",
       "      <td>0.000000</td>\n",
       "      <td>0.200000</td>\n",
       "      <td>0.000000</td>\n",
       "      <td>5.000000</td>\n",
       "      <td>0.000000</td>\n",
       "      <td>1.000000</td>\n",
       "      <td>6.000000</td>\n",
       "      <td>1.000000</td>\n",
       "      <td>1.857143</td>\n",
       "      <td>0.373626</td>\n",
       "    </tr>\n",
       "    <tr>\n",
       "      <th>25%</th>\n",
       "      <td>0.052632</td>\n",
       "      <td>0.157895</td>\n",
       "      <td>0.400000</td>\n",
       "      <td>4.000000</td>\n",
       "      <td>6.000000</td>\n",
       "      <td>0.000000</td>\n",
       "      <td>100.000000</td>\n",
       "      <td>450.000000</td>\n",
       "      <td>7.000000</td>\n",
       "      <td>4.344444</td>\n",
       "      <td>12.000000</td>\n",
       "    </tr>\n",
       "    <tr>\n",
       "      <th>50%</th>\n",
       "      <td>0.157895</td>\n",
       "      <td>0.368421</td>\n",
       "      <td>0.800000</td>\n",
       "      <td>6.000000</td>\n",
       "      <td>10.000000</td>\n",
       "      <td>0.000000</td>\n",
       "      <td>187.000000</td>\n",
       "      <td>858.000000</td>\n",
       "      <td>12.000000</td>\n",
       "      <td>4.587021</td>\n",
       "      <td>15.826087</td>\n",
       "    </tr>\n",
       "    <tr>\n",
       "      <th>75%</th>\n",
       "      <td>0.421053</td>\n",
       "      <td>0.631579</td>\n",
       "      <td>1.000000</td>\n",
       "      <td>11.000000</td>\n",
       "      <td>18.000000</td>\n",
       "      <td>0.000000</td>\n",
       "      <td>325.000000</td>\n",
       "      <td>1521.000000</td>\n",
       "      <td>20.000000</td>\n",
       "      <td>4.834740</td>\n",
       "      <td>20.090909</td>\n",
       "    </tr>\n",
       "    <tr>\n",
       "      <th>max</th>\n",
       "      <td>1.000000</td>\n",
       "      <td>1.000000</td>\n",
       "      <td>1.000000</td>\n",
       "      <td>6084.000000</td>\n",
       "      <td>6510.000000</td>\n",
       "      <td>1.000000</td>\n",
       "      <td>4322.000000</td>\n",
       "      <td>20203.000000</td>\n",
       "      <td>386.000000</td>\n",
       "      <td>10.500000</td>\n",
       "      <td>441.000000</td>\n",
       "    </tr>\n",
       "  </tbody>\n",
       "</table>\n",
       "</div>"
      ],
      "text/plain": [
       "         reviewerID          asin       overall      votes_up     votes_all  \\\n",
       "count  57039.000000  57039.000000  57039.000000  57039.000000  57039.000000   \n",
       "mean       0.257629      0.393775      0.707036     12.387594     18.475850   \n",
       "std        0.254734      0.295743      0.305948     45.130499     50.149683   \n",
       "min        0.000000      0.000000      0.200000      0.000000      5.000000   \n",
       "25%        0.052632      0.157895      0.400000      4.000000      6.000000   \n",
       "50%        0.157895      0.368421      0.800000      6.000000     10.000000   \n",
       "75%        0.421053      0.631579      1.000000     11.000000     18.000000   \n",
       "max        1.000000      1.000000      1.000000   6084.000000   6510.000000   \n",
       "\n",
       "              label    word_count    char_count  sentence_count  \\\n",
       "count  57039.000000  57039.000000  57039.000000    57039.000000   \n",
       "mean       0.226196    255.126335   1187.168166       15.734778   \n",
       "std        0.418371    242.025413   1150.945509       14.385499   \n",
       "min        0.000000      1.000000      6.000000        1.000000   \n",
       "25%        0.000000    100.000000    450.000000        7.000000   \n",
       "50%        0.000000    187.000000    858.000000       12.000000   \n",
       "75%        0.000000    325.000000   1521.000000       20.000000   \n",
       "max        1.000000   4322.000000  20203.000000      386.000000   \n",
       "\n",
       "       avg_word_length  avg_sentence_length  \n",
       "count     57039.000000         57039.000000  \n",
       "mean          4.598286            16.931602  \n",
       "std           0.405145            10.118088  \n",
       "min           1.857143             0.373626  \n",
       "25%           4.344444            12.000000  \n",
       "50%           4.587021            15.826087  \n",
       "75%           4.834740            20.090909  \n",
       "max          10.500000           441.000000  "
      ]
     },
     "execution_count": 10,
     "metadata": {},
     "output_type": "execute_result"
    }
   ],
   "source": [
    "# discrete_train_df = discrete_train_df.drop(columns = 'avg_sentence_lenghth')\n",
    "# discrete_test_df = discrete_test_df.drop(columns = 'avg_sentence_lenghth')\n",
    "discrete_train_df.describe()"
   ]
  },
  {
   "cell_type": "code",
   "execution_count": 134,
   "metadata": {},
   "outputs": [
    {
     "data": {
      "image/png": "[encoded data removed]",
      "text/plain": [
       "<Figure size 1152x720 with 6 Axes>"
      ]
     },
     "metadata": {
      "needs_background": "light"
     },
     "output_type": "display_data"
    }
   ],
   "source": [
    "figure, axes = plt.subplots(2, 3, figsize = (16,10))\n",
    "axes = axes.flatten()\n",
    "\n",
    "count = ['word_count', 'char_count', 'sentence_count', 'avg_word_length', 'avg_sentence_length']\n",
    "for i in range(5):\n",
    "    axes[i].hist(discrete_train_df[discrete_train_df['label'] == 0][count[i]], bins = classes, alpha = 0.5)\n",
    "    axes[i].hist(discrete_train_df[discrete_train_df['label'] == 1][count[i]], bins = classes, alpha = 0.5)\n",
    "\n",
    "# plt.hist(discrete_train_df[discrete_train_df['label'] == 0]['word_count'],bins = classes, alpha = 0.5)\n",
    "# plt.hist(discrete_train_df[discrete_train_df['label'] == 1]['word_count'],bins = classes, alpha = 0.5)\n",
    "# print(set(discrete_train_df['word_count']))"
   ]
  },
  {
   "cell_type": "code",
   "execution_count": 135,
   "metadata": {},
   "outputs": [
    {
     "name": "stderr",
     "output_type": "stream",
     "text": [
      "d:\\python\\lib\\site-packages\\numpy\\lib\\histograms.py:839: RuntimeWarning: invalid value encountered in greater_equal\n",
      "  keep = (tmp_a >= first_edge)\n",
      "d:\\python\\lib\\site-packages\\numpy\\lib\\histograms.py:840: RuntimeWarning: invalid value encountered in less_equal\n",
      "  keep &= (tmp_a <= last_edge)\n"
     ]
    },
    {
     "data": {
      "image/png": "[encoded data removed]",
      "text/plain": [
       "<Figure size 1152x720 with 6 Axes>"
      ]
     },
     "metadata": {
      "needs_background": "light"
     },
     "output_type": "display_data"
    }
   ],
   "source": [
    "figure, axes = plt.subplots(2, 3, figsize = (16,10))\n",
    "axes = axes.flatten()\n",
    "for i in range(5):\n",
    "    axes[i].hist(discrete_train_df[count[i]],bins = classes, alpha = 0.5)\n",
    "    axes[i].hist(discrete_test_df[count[i]], bins = classes,alpha = 0.5)\n"
   ]
  },
  {
   "cell_type": "code",
   "execution_count": 137,
   "metadata": {},
   "outputs": [
    {
     "data": {
      "text/plain": [
       "<57039x58 sparse matrix of type '<class 'numpy.float64'>'\n",
       "\twith 525514 stored elements in COOrdinate format>"
      ]
     },
     "execution_count": 137,
     "metadata": {},
     "output_type": "execute_result"
    }
   ],
   "source": [
    "# 将特征合成一个矩阵\n",
    "from scipy.sparse import hstack\n",
    "# train_features = hstack([np.array(discreteID).reshape(-1, 1), np.array(discreteAsin).reshape(-1, 1),\n",
    "#                          X_train, np.array(discreteOverall).reshape(-1, 1)])\n",
    "# test_features = hstack([np.array(test_discreteID).reshape(-1, 1), np.array(test_discreteAsin).reshape(-1, 1),\n",
    "#                          X_train, np.array(test_discreteOverall).reshape(-1, 1)])\n",
    "\n",
    "# #原有信息和文本特征\n",
    "# train_features = hstack([np.array(discrete_train_df['reviewerID']).reshape(-1, 1), np.array(discrete_train_df['asin']).reshape(-1, 1),\n",
    "#                           X_train, np.array(discrete_train_df['overall']).reshape(-1, 1)])\n",
    "# test_features = hstack([np.array(discrete_test_df['reviewerID']).reshape(-1, 1), np.array(discrete_test_df['asin']).reshape(-1, 1),\n",
    "#                          X_test, np.array(discrete_test_df['overall']).reshape(-1, 1)])\n",
    "\n",
    "#加入文本长度等特征\n",
    "\n",
    "count = ['word_count', 'char_count', 'sentence_count', 'avg_word_length', 'avg_sentence_length']\n",
    "train_features = hstack([np.array(discrete_train_df['reviewerID']).reshape(-1, 1), np.array(discrete_train_df['asin']).reshape(-1, 1),\n",
    "                          X_train, np.array(discrete_train_df['overall']).reshape(-1, 1), \n",
    "                         np.array(discrete_train_df['word_count']).reshape(-1, 1),\n",
    "                         np.array(discrete_train_df['char_count']).reshape(-1, 1),\n",
    "                         np.array(discrete_train_df['sentence_count']).reshape(-1, 1),\n",
    "                         np.array(discrete_train_df['avg_word_length']).reshape(-1, 1),\n",
    "                         np.array(discrete_train_df['avg_sentence_length']).reshape(-1, 1)])\n",
    "test_features = hstack([np.array(discrete_test_df['reviewerID']).reshape(-1, 1), np.array(discrete_test_df['asin']).reshape(-1, 1),\n",
    "                         X_test, np.array(discrete_test_df['overall']).reshape(-1, 1),\n",
    "                         np.array(discrete_test_df['word_count']).reshape(-1, 1),\n",
    "                         np.array(discrete_test_df['char_count']).reshape(-1, 1),\n",
    "                         np.array(discrete_test_df['sentence_count']).reshape(-1, 1),\n",
    "                         np.array(discrete_test_df['avg_word_length']).reshape(-1, 1),\n",
    "                         np.array(discrete_test_df['avg_sentence_length']).reshape(-1, 1)])\n",
    "test_features[np.isnan(test_features)] = 0 \n",
    "train_features"
   ]
  },
  {
   "cell_type": "markdown",
   "metadata": {},
   "source": [
    "## 二、建立模型"
   ]
  },
  {
   "cell_type": "markdown",
   "metadata": {},
   "source": [
    "### 2.1 定义模型"
   ]
  },
  {
   "cell_type": "code",
   "execution_count": 120,
   "metadata": {},
   "outputs": [],
   "source": [
    "from sklearn.model_selection import train_test_split # 划分数据集函数(用来帮助随机采样)\n",
    "from sklearn.tree import DecisionTreeClassifier, DecisionTreeRegressor\n",
    "from sklearn.svm import LinearSVR\n",
    "from sklearn.neighbors import KNeighborsClassifier\n",
    "from sklearn.naive_bayes import BernoulliNB\n",
    "\n",
    "\n",
    "class Guess(object):\n",
    "    def __init__(self, RANDOM_SEED = 2020):\n",
    "        self.RAMDOM_SEED = 2020\n",
    "    \n",
    "    def fit(self, X, y):\n",
    "        pass\n",
    "    \n",
    "    def predict(self, X):\n",
    "        if len(X.shape) > 1: #二维数组\n",
    "            rst = np.zeros(X.shape[0])\n",
    "            for i, x in enumerate(X):\n",
    "                 rst[i] = self.predict_(x)\n",
    "        elif len(X) == 0:\n",
    "            rst = -1\n",
    "        else:\n",
    "            rst = self.predict_(X)\n",
    "        return rst\n",
    "    \n",
    "    def predict_(self, x):\n",
    "        return 1\n",
    "\n",
    "\n",
    "#Bagging 方法\n",
    "class Bagging(object):\n",
    "            #replicate_number拔靴采样次数，boot_size每一次采样的训练集的大小, ml选用的分类器\n",
    "    def __init__(self, replicate_number = 10, boot_size = 0.6, ml = 'DecisionTreeClassifier', RANDOM_SEED = 2020): \n",
    "        self.replicate_number = replicate_number\n",
    "        self.boot_size = boot_size\n",
    "        self.ml = ml\n",
    "        self.RANDOM_SEED = RANDOM_SEED\n",
    "        \n",
    "        \n",
    "    def fit(self, X, y):\n",
    "        self.models = list(range(self.replicate_number))\n",
    "        for i in range(self.replicate_number):\n",
    "            #每次用不同的random_seed采样\n",
    "            ti = time()\n",
    "            x_train, x_test, y_train, y_test = train_test_split(X,y, test_size= 1 - self.boot_size, random_state=self.RANDOM_SEED + i) \n",
    "            if self.ml == 'LinearSVR':\n",
    "                self.models[i] = LinearSVR()\n",
    "                self.models[i].fit(x_train, y_train)\n",
    "            elif self.ml == 'DecisionTreeClassifier':\n",
    "                self.models[i] = DecisionTreeClassifier(max_depth = 3) #为了避免过拟合，将深度设置为10\n",
    "                self.models[i].fit(x_train, y_train)\n",
    "            elif self.ml == 'DecisionTreeRegressor':\n",
    "                self.models[i] = DecisionTreeRegressor()\n",
    "                self.models[i].fit(x_train, y_train)\n",
    "            elif self.ml == 'KNeighborsClassifier':\n",
    "                self.models[i] = KNeighborsClassifier(n_neighbors=3)\n",
    "                self.models[i].fit(x_train, y_train)\n",
    "            elif self.ml == 'BernoulliNB':\n",
    "                self.models[i] = BernoulliNB()\n",
    "                self.models[i].fit(x_train, y_train)\n",
    "            \n",
    "            elif self.ml == 'LogisticRegression':\n",
    "                self.models[i] = BernoulliNB()\n",
    "                self.models[i].fit(x_train, y_train)\n",
    "            \n",
    "            else:\n",
    "                self.models[i] = Guess()\n",
    "                self.models[i].fit(x_train, y_train)\n",
    "            print(\"round \", i)\n",
    "            print(\"done in %fs\" % (time() - ti))\n",
    "    \n",
    "    def predict(self, X): #平权投票，得出最终的predict\n",
    "        rst = 0\n",
    "        for i in range(self.replicate_number):\n",
    "            pred = self.models[i].predict(X)\n",
    "            rst += pred\n",
    "        rst = rst / self.replicate_number\n",
    "        \n",
    "        return rst\n"
   ]
  },
  {
   "cell_type": "code",
   "execution_count": 47,
   "metadata": {},
   "outputs": [],
   "source": [
    "#AdaBoost方法\n",
    "\n",
    "class AdaBoost(object):\n",
    "    #T 重复次数\n",
    "    def __init__(self, T = 5, ml = 'DecisionTreeClassifier'): \n",
    "        self.T = T\n",
    "        self.ml = ml\n",
    "        \n",
    "    def fit(self, X, y):\n",
    "        self.models = list(range(self.T)) #分类器\n",
    "        self.errors = list(range(self.T)) \n",
    "        self.betas = np.ones(self.T) * 2\n",
    "        self.sample_weight = np.ones(X.shape[0]) / X.shape[0]\n",
    "        for i in range(self.T):\n",
    "            print(\"T = \", i)\n",
    "            #根据权重生成模型\n",
    "            ti = time()\n",
    "            if self.ml == 'LinearSVR':\n",
    "                self.models[i] = LinearSVR()\n",
    "                self.models[i].fit(X, y, self.sample_weight)\n",
    "            elif self.ml == 'DecisionTreeClassifier':\n",
    "                self.models[i] = DecisionTreeClassifier(max_depth = 10)\n",
    "                self.models[i].fit(X, y, self.sample_weight)\n",
    "            elif self.ml == 'DecisionTreeRegressor':\n",
    "                self.models[i] = DecisionTreeRegressor()\n",
    "                self.models[i].fit(X, y, self.sample_weight)\n",
    "            elif self.ml == 'KNeighborsClassifier':\n",
    "                self.models[i] = KNeighborsClassifier(n_neighbors=3)\n",
    "                self.models[i].fit(X, y, self.sample_weight)\n",
    "            elif self.ml == 'BernoulliNB':\n",
    "                self.models[i] = BernoulliNB()\n",
    "                self.models[i].fit(X, y, self.sample_weight)\n",
    "            \n",
    "            elif self.ml == 'LogisticRegression':\n",
    "                self.models[i] = BernoulliNB()\n",
    "                self.models[i].fit(X, y, self.sample_weight)\n",
    "            \n",
    "            else:\n",
    "                self.models[i] = Guess()\n",
    "                self.models[i].fit(X, y)\n",
    "            #用这个模型进行预测\n",
    "            pred = self.models[i].predict(X)\n",
    "            #计算所有错误分类样本权重和\n",
    "            self.errors[i] = 0\n",
    "            for j, pre in enumerate(pred):\n",
    "                if pre != y[j]: \n",
    "                    self.errors[i] = self.errors[i] + self.sample_weight[j]\n",
    "            \n",
    "            print(\"error:\", self.errors[i])\n",
    "            #计算beta\n",
    "            self.betas[i] = self.errors[i] / (1 - self.errors[i])\n",
    "            \n",
    "            if self.errors[i] > 0.5:\n",
    "                print('a better C is required')\n",
    "                self.T = i + 1\n",
    "                return\n",
    "            if self.errors[i] == 0: #如果全做对了，beta等于0.99，返回\n",
    "                self.betas[i] = 0.99\n",
    "                print('error = 0')\n",
    "                self.T = i + 1\n",
    "                return ;\n",
    "\n",
    "            #跟新每个样本的权重，并归一化\n",
    "            for j, pre in enumerate(pred):\n",
    "                if pre == y[j]: \n",
    "                    self.sample_weight[j] = self.sample_weight[j] * self.betas[i]\n",
    "            sumw = sum(self.sample_weight)\n",
    "            print(\"sum of sample_weight:\", sumw)\n",
    "            for j, w in enumerate(self.sample_weight):\n",
    "                self.sample_weight[j] = w / sumw\n",
    "            print(\"done in %fs\" % (time() - ti))\n",
    "       \n",
    "    def predict(self, X): #融合所有假设，各自投票权重为1/beta\n",
    "        self.pollweight = np.log(1 / self.betas)\n",
    "        rst = 0\n",
    "        for i in range(self.T):\n",
    "            pred = self.models[i].predict(X)\n",
    "            rst += pred * self.pollweight[i]\n",
    "        rst = rst / sum(self.pollweight)\n",
    "        return rst\n",
    "                   \n",
    "                   "
   ]
  },
  {
   "cell_type": "markdown",
   "metadata": {},
   "source": [
    "### 2.2 训练模型"
   ]
  },
  {
   "cell_type": "code",
   "execution_count": 140,
   "metadata": {},
   "outputs": [
    {
     "name": "stdout",
     "output_type": "stream",
     "text": [
      "round  0\n",
      "done in 0.903646s\n",
      "round  1\n",
      "done in 0.922688s\n",
      "round  2\n",
      "done in 0.945331s\n",
      "round  3\n",
      "done in 0.892061s\n",
      "round  4\n",
      "done in 0.938853s\n",
      "round  5\n",
      "done in 0.968286s\n",
      "round  6\n",
      "done in 0.927207s\n",
      "round  7\n",
      "done in 0.964439s\n",
      "round  8\n",
      "done in 0.935210s\n",
      "round  9\n",
      "done in 0.940035s\n",
      "done in 9.343560s\n",
      "done in 0.306069s\n",
      "[0.  0.  0.  ... 0.  0.4 0.1]\n",
      "AUC score: 0.6977679649510288\n"
     ]
    }
   ],
   "source": [
    "from sklearn.metrics import roc_auc_score\n",
    "#bagging + 决策树\n",
    "t0 = time()\n",
    "model = Bagging(ml = 'DecisionTreeClassifier')\n",
    "model.fit(train_features, y_train)\n",
    "print(\"done in %fs\" % (time() - t0))\n",
    "\n",
    "t0 = time()\n",
    "pred = model.predict(train_features)\n",
    "print(\"done in %fs\" % (time() - t0))\n",
    "print(pred)\n",
    "print(\"AUC score:\", roc_auc_score(y_train, pred))"
   ]
  },
  {
   "cell_type": "code",
   "execution_count": 144,
   "metadata": {},
   "outputs": [
    {
     "name": "stdout",
     "output_type": "stream",
     "text": [
      "round  0\n",
      "done in 2.287439s\n",
      "round  1\n",
      "done in 2.682568s\n",
      "round  2\n",
      "done in 1.770796s\n",
      "round  3\n",
      "done in 1.973726s\n",
      "round  4\n",
      "done in 2.100352s\n",
      "round  5\n",
      "done in 2.646968s\n",
      "round  6\n",
      "done in 2.309515s\n",
      "round  7\n",
      "done in 2.340528s\n",
      "round  8\n",
      "done in 2.256045s\n",
      "round  9\n",
      "done in 2.234341s\n",
      "done in 22.604295s\n",
      "done in 0.027606s\n",
      "[1.55948243e-04 8.93840483e-05 8.14122478e-05 ... 8.33285168e-05\n",
      " 7.66016125e-01 1.08685742e-04]\n",
      "AUC score: 0.6197767466229069\n"
     ]
    }
   ],
   "source": [
    "# Bagging + LinearSVR(SVM)\n",
    "t0 = time()\n",
    "model2 = Bagging(ml = 'LinearSVR')\n",
    "model2.fit(train_features, y_train)\n",
    "print(\"done in %fs\" % (time() - t0))\n",
    "\n",
    "t0 = time()\n",
    "pred2 = model2.predict(train_features)\n",
    "print(\"done in %fs\" % (time() - t0))\n",
    "print(pred2)\n",
    "print(\"AUC score:\", roc_auc_score(y_train, pred2))"
   ]
  },
  {
   "cell_type": "code",
   "execution_count": 142,
   "metadata": {},
   "outputs": [
    {
     "name": "stdout",
     "output_type": "stream",
     "text": [
      "sum of sample_weight: 0.40119917950827827\n",
      "T =  0\n",
      "done in 5.194106s\n",
      "sum of sample_weight: 0.5565274622319083\n",
      "T =  1\n",
      "done in 5.733508s\n",
      "sum of sample_weight: 0.7399509272162568\n",
      "T =  2\n",
      "done in 5.181646s\n",
      "sum of sample_weight: 0.7335251172038909\n",
      "T =  3\n",
      "done in 5.644782s\n",
      "sum of sample_weight: 0.7684292691086073\n",
      "T =  4\n",
      "done in 5.423764s\n",
      "done in 27.182788s\n",
      "done in 0.166034s\n",
      "[0.50365791 0.14054557 0.24527575 ... 0.14054557 0.39892773 0.64420348]\n"
     ]
    },
    {
     "data": {
      "text/plain": [
       "0.8283635687092246"
      ]
     },
     "execution_count": 142,
     "metadata": {},
     "output_type": "execute_result"
    }
   ],
   "source": [
    "#adaboost + 决策树\n",
    "t0 = time()\n",
    "model3 = AdaBoost(ml = 'DecisionTreeClassifier')\n",
    "model3.fit(train_features, y_train)\n",
    "print(\"done in %fs\" % (time() - t0))\n",
    "t0 = time()\n",
    "pred3 = model3.predict(train_features)\n",
    "print(\"done in %fs\" % (time() - t0))\n",
    "print(pred3)\n",
    "roc_auc_score(y_train, pred3)"
   ]
  },
  {
   "cell_type": "code",
   "execution_count": 143,
   "metadata": {},
   "outputs": [
    {
     "name": "stdout",
     "output_type": "stream",
     "text": [
      "a better C is required\n",
      "done in 1.908395s\n",
      "done in 0.002981s\n",
      "[ 1.12199537e-07 -3.92700727e-07  5.93557996e-07 ... -1.69689759e-07\n",
      "  1.88953182e-04  3.87520584e-06]\n"
     ]
    },
    {
     "data": {
      "text/plain": [
       "0.6180569443332905"
      ]
     },
     "execution_count": 143,
     "metadata": {},
     "output_type": "execute_result"
    }
   ],
   "source": [
    "#adaboost + linearSVR(SVM)\n",
    "t0 = time()\n",
    "model4 = AdaBoost(ml = 'LinearSVR')\n",
    "model4.fit(train_features, y_train)\n",
    "print(\"done in %fs\" % (time() - t0))\n",
    "t0 = time()\n",
    "pred4 = model4.predict(train_features)\n",
    "print(\"done in %fs\" % (time() - t0))\n",
    "print(pred4)\n",
    "roc_auc_score(y_train, pred4)"
   ]
  },
  {
   "cell_type": "markdown",
   "metadata": {},
   "source": [
    "### 2.3 结果分析"
   ]
  },
  {
   "cell_type": "markdown",
   "metadata": {},
   "source": [
    "AUC值：\n",
    "- Bagging + SVM ： 0.6197 （不稳定，每次都会变）\n",
    "- Bagging + 决策树：0.6977\n",
    "- AdaBoost.M1 + SVM：0.6181\n",
    "- AdaBoost.M1 + 决策树：0.8284\n",
    "\n",
    "分析：\n",
    "\n",
    "在调整决策树深度以前，AUC一度达到0.9999左右，很明显是过拟合了，因此将最大深度设置为10。\n",
    "\n",
    "- SVM学习器在这里很弱（应该是因为特征工程没有做好），错误率大于0.5，使得AdaBoost.M1第一轮就停了。\n",
    "\n",
    "- SVM学习器和Bagging配合，每次AUC值都会变，甚至低于0.5，效果不理想。\n",
    "\n",
    "- 像ID这种特征，虽然是连续的，但是其值的大小其实对label的贡献很小。\n",
    "\n",
    "- 特征工程是存在问题的，稀疏矩阵没有离散化。因此决策树模型很可能过拟合了。\n",
    "\n",
    "- 特别是AdaBoost.M1 + 决策树的模型，太复杂的基学习器+Adaboost, 过拟合更严重，因此在训练集上的AUC值比较大。\n",
    "\n",
    "- 而Bagging是在训练集上随机采样，过拟合只因为决策树本身，所以也会过拟合，但没那么严重。\n",
    "\n",
    "需要的改进：\n",
    "特征工程需要重新做"
   ]
  },
  {
   "cell_type": "markdown",
   "metadata": {},
   "source": [
    "## 三、其他基分类器"
   ]
  },
  {
   "cell_type": "code",
   "execution_count": null,
   "metadata": {},
   "outputs": [],
   "source": [
    "#bagging + KNN(n = 3)\n",
    "t0 = time()\n",
    "model5 = Bagging(ml = 'KNeighborsClassifier')\n",
    "model5.fit(train_features, y_train)\n",
    "print(\"done in %fs\" % (time() - t0))\n",
    "\n",
    "t0 = time()\n",
    "pred5 = model5.predict(train_features)\n",
    "print(\"done in %fs\" % (time() - t0))\n",
    "print(pred5)\n",
    "print(\"AUC score:\", roc_auc_score(y_train, pred5))"
   ]
  },
  {
   "cell_type": "code",
   "execution_count": 59,
   "metadata": {},
   "outputs": [
    {
     "data": {
      "text/plain": [
       "57039"
      ]
     },
     "execution_count": 59,
     "metadata": {},
     "output_type": "execute_result"
    }
   ],
   "source": [
    "#AdaBoost + KNN(n = 3)\n",
    "t0 = time()\n",
    "model6 = AdaBoost(ml = 'KNeighborsClassifier')\n",
    "model6.fit(train_features, y_train)\n",
    "print(\"done in %fs\" % (time() - t0))\n",
    "\n",
    "t0 = time()\n",
    "pred6 = model6.predict(train_features)\n",
    "print(\"done in %fs\" % (time() - t0))\n",
    "print(pred6)\n",
    "print(\"AUC score:\", roc_auc_score(y_train, pred6))"
   ]
  },
  {
   "cell_type": "code",
   "execution_count": null,
   "metadata": {},
   "outputs": [],
   "source": [
    "#Bagging + BernoulliNB\n",
    "t0 = time()\n",
    "model7 = Bagging(ml = 'BernoulliNB')\n",
    "model7.fit(train_features, y_train)\n",
    "print(\"done in %fs\" % (time() - t0))\n",
    "\n",
    "t0 = time()\n",
    "pred7 = model7.predict(train_features)\n",
    "print(\"done in %fs\" % (time() - t0))\n",
    "print(pred7)\n",
    "print(\"AUC score:\", roc_auc_score(y_train, pred7))"
   ]
  },
  {
   "cell_type": "code",
   "execution_count": null,
   "metadata": {},
   "outputs": [],
   "source": [
    "#AdaBoost + BernoulliNB\n",
    "t0 = time()\n",
    "model8 = AdaBoost(ml = 'BernoulliNB', T = 20)\n",
    "model8.fit(train_features, y_train)\n",
    "print(\"done in %fs\" % (time() - t0))\n",
    "t0 = time()\n",
    "pred8 = model8.predict(train_features)\n",
    "print(\"done in %fs\" % (time() - t0))\n",
    "print(pred8)\n",
    "print(\"AUC score:\", roc_auc_score(y_train, pred8))"
   ]
  },
  {
   "cell_type": "code",
   "execution_count": null,
   "metadata": {},
   "outputs": [],
   "source": [
    "for i in range(20):\n",
    "    pred9 = model8.models[i].predict(train_features)\n",
    "    print(\"AUC score:\", roc_auc_score(y_train, pred9))"
   ]
  },
  {
   "cell_type": "markdown",
   "metadata": {},
   "source": [
    "可以发现一个有趣的现象，奇数轮的AUC值在0.5左右，而偶数轮的auc值先上升后下降。\n",
    "\n",
    "最终的AUC值大于所有单轮的AUC值。说明AdaBoost结合贝叶斯分类是有效的，但也同时存在过拟合的可能性。"
   ]
  },
  {
   "cell_type": "markdown",
   "metadata": {},
   "source": [
    "## 四、采用不同特征"
   ]
  },
  {
   "cell_type": "markdown",
   "metadata": {},
   "source": [
    "### 4.1 仅文本特征\n"
   ]
  },
  {
   "cell_type": "code",
   "execution_count": null,
   "metadata": {},
   "outputs": [],
   "source": [
    "#adaboost + 决策树 + 仅文本\n",
    "t0 = time()\n",
    "model9 = AdaBoost(ml = 'DecisionTreeClassifier')\n",
    "model9.fit(X_train, y_train)\n",
    "print(\"done in %fs\" % (time() - t0))\n",
    "pred9 = model9.predict(X_train)\n",
    "print(pred9)\n",
    "print(\"AUC:\", roc_auc_score(y_train, pred9))"
   ]
  },
  {
   "cell_type": "markdown",
   "metadata": {},
   "source": [
    "### 4.2仅文本以外的离散特征"
   ]
  },
  {
   "cell_type": "code",
   "execution_count": null,
   "metadata": {},
   "outputs": [],
   "source": [
    "discrete_f_train = np.hstack([np.array(discrete_train_df['reviewerID']).reshape(-1, 1), np.array(discrete_train_df['asin']).reshape(-1, 1),\n",
    "                         np.array(discrete_train_df['overall']).reshape(-1, 1), \n",
    "                         np.array(discrete_train_df['word_count']).reshape(-1, 1),\n",
    "                         np.array(discrete_train_df['char_count']).reshape(-1, 1),\n",
    "                         np.array(discrete_train_df['sentence_count']).reshape(-1, 1),\n",
    "                         np.array(discrete_train_df['avg_word_length']).reshape(-1, 1),\n",
    "                         np.array(discrete_train_df['avg_sentence_length']).reshape(-1, 1)])\n",
    "discrete_f_test = np.hstack([np.array(discrete_test_df['reviewerID']).reshape(-1, 1), np.array(discrete_test_df['asin']).reshape(-1, 1),\n",
    "                         np.array(discrete_test_df['overall']).reshape(-1, 1),\n",
    "                         np.array(discrete_test_df['word_count']).reshape(-1, 1),\n",
    "                         np.array(discrete_test_df['char_count']).reshape(-1, 1),\n",
    "                         np.array(discrete_test_df['sentence_count']).reshape(-1, 1),\n",
    "                         np.array(discrete_test_df['avg_word_length']).reshape(-1, 1),\n",
    "                         np.array(discrete_test_df['avg_sentence_length']).reshape(-1, 1)])"
   ]
  },
  {
   "cell_type": "code",
   "execution_count": null,
   "metadata": {},
   "outputs": [],
   "source": [
    "#adaboost + 决策树 + 仅文本以外离散特征\n",
    "t0 = time()\n",
    "model10 = AdaBoost(ml = 'DecisionTreeClassifier')\n",
    "model10.fit(discrete_f_train, y_train)\n",
    "print(\"done in %fs\" % (time() - t0))\n",
    "pred10 = model10.predict(discrete_f_train)\n",
    "print(pred10)\n",
    "print(\"AUC:\", roc_auc_score(y_train, pred10))"
   ]
  },
  {
   "cell_type": "markdown",
   "metadata": {},
   "source": [
    "发现：使用仅文本以外的离散特征效果比仅采用文本特征效果更好，这很可能是文本特征没有进行离散化，因此过拟合了。"
   ]
  },
  {
   "cell_type": "code",
   "execution_count": null,
   "metadata": {},
   "outputs": [],
   "source": [
    "test_pred = model10.predict(discrete_f_test)\n",
    "\n",
    "test_pred = [np.argmax(x) for x in test_pred]\n",
    " \n",
    "#将测试集预测结果写入文件\n",
    "output=pd.DataFrame({'Id':test_df.id,'Predicted':test_pred})\n",
    "output.to_csv('data/results.csv', index=None)"
   ]
  },
  {
   "cell_type": "code",
   "execution_count": null,
   "metadata": {},
   "outputs": [],
   "source": []
  },
  {
   "cell_type": "code",
   "execution_count": 10,
   "metadata": {},
   "outputs": [],
   "source": [
    "import math\n",
    "from scipy.special import comb\n",
    "from scipy.integrate import quad\n",
    "\n",
    "#概率密度公式\n",
    "f = lambda q, n, p: comb(n, n*q)*math.pow(p, n * q)*math.pow((1-p), n * ( 1 - q))\n",
    "\n",
    "\n",
    "#求0.9 ~ 1.0的密度定积分，划分成宽度为0.1的区间求和，作为估计实际vote_up大于等于0.9的概率（即高质量评论）\n",
    "ran = np.array(range(90,100))/100\n",
    "rest = np.array(range(0,90))/100\n",
    "def prob(qq, nn):\n",
    "    p = 0\n",
    "    q = qq / nn\n",
    "    for i in ran:\n",
    "        p = p + 1/10 * f(q, nn, i)\n",
    "    ap = p\n",
    "    for i in rest:\n",
    "        ap = ap + 1/10 * f(q, nn, i)\n",
    "    return p/ap"
   ]
  },
  {
   "cell_type": "code",
   "execution_count": 11,
   "metadata": {},
   "outputs": [
    {
     "data": {
      "text/plain": [
       "0.8163902340048661"
      ]
     },
     "execution_count": 11,
     "metadata": {},
     "output_type": "execute_result"
    }
   ],
   "source": [
    "prob(15, 15)"
   ]
  },
  {
   "cell_type": "code",
   "execution_count": null,
   "metadata": {},
   "outputs": [
    {
     "name": "stderr",
     "output_type": "stream",
     "text": [
      " 63%|██████████████████████████████████████████████▉                            | 35684/57039 [03:02<01:50, 192.51it/s]d:\\python\\lib\\site-packages\\ipykernel_launcher.py:6: RuntimeWarning: invalid value encountered in double_scalars\n",
      "  \n",
      " 84%|██████████████████████████████████████████████████████████████▋            | 47700/57039 [04:02<00:44, 210.08it/s]"
     ]
    }
   ],
   "source": [
    "from tqdm import tqdm\n",
    "probs = []\n",
    "for i in tqdm(range(len(train_df['votes_up']))):\n",
    "    probs.append(prob(train_df['votes_up'][i], train_df['votes_all'][i]))"
   ]
  },
  {
   "cell_type": "code",
   "execution_count": 122,
   "metadata": {},
   "outputs": [],
   "source": [
    "probs = np.array(probs)\n",
    "train_df['probs'] = probs"
   ]
  },
  {
   "cell_type": "code",
   "execution_count": 125,
   "metadata": {},
   "outputs": [
    {
     "data": {
      "text/plain": [
       "0.76059945675"
      ]
     },
     "execution_count": 125,
     "metadata": {},
     "output_type": "execute_result"
    }
   ],
   "source": [
    "max(train_df['probs'])"
   ]
  },
  {
   "cell_type": "code",
   "execution_count": 124,
   "metadata": {},
   "outputs": [
    {
     "data": {
      "text/html": [
       "<div>\n",
       "<style scoped>\n",
       "    .dataframe tbody tr th:only-of-type {\n",
       "        vertical-align: middle;\n",
       "    }\n",
       "\n",
       "    .dataframe tbody tr th {\n",
       "        vertical-align: top;\n",
       "    }\n",
       "\n",
       "    .dataframe thead th {\n",
       "        text-align: right;\n",
       "    }\n",
       "</style>\n",
       "<table border=\"1\" class=\"dataframe\">\n",
       "  <thead>\n",
       "    <tr style=\"text-align: right;\">\n",
       "      <th></th>\n",
       "      <th>reviewerID</th>\n",
       "      <th>asin</th>\n",
       "      <th>reviewText</th>\n",
       "      <th>overall</th>\n",
       "      <th>votes_up</th>\n",
       "      <th>votes_all</th>\n",
       "      <th>label</th>\n",
       "      <th>probs</th>\n",
       "    </tr>\n",
       "  </thead>\n",
       "  <tbody>\n",
       "    <tr>\n",
       "      <th>0</th>\n",
       "      <td>7885</td>\n",
       "      <td>3901</td>\n",
       "      <td>First off, allow me to correct a common mistak...</td>\n",
       "      <td>5.0</td>\n",
       "      <td>6</td>\n",
       "      <td>7</td>\n",
       "      <td>0</td>\n",
       "      <td>2.517396e-01</td>\n",
       "    </tr>\n",
       "    <tr>\n",
       "      <th>1</th>\n",
       "      <td>52087</td>\n",
       "      <td>47978</td>\n",
       "      <td>I am really troubled by this Story and Enterta...</td>\n",
       "      <td>3.0</td>\n",
       "      <td>99</td>\n",
       "      <td>134</td>\n",
       "      <td>0</td>\n",
       "      <td>6.577389e-09</td>\n",
       "    </tr>\n",
       "    <tr>\n",
       "      <th>2</th>\n",
       "      <td>5701</td>\n",
       "      <td>3667</td>\n",
       "      <td>A near-perfect film version of a downright glo...</td>\n",
       "      <td>4.0</td>\n",
       "      <td>14</td>\n",
       "      <td>14</td>\n",
       "      <td>1</td>\n",
       "      <td>4.917142e-01</td>\n",
       "    </tr>\n",
       "    <tr>\n",
       "      <th>3</th>\n",
       "      <td>47191</td>\n",
       "      <td>40892</td>\n",
       "      <td>Keep your expectations low.  Really really low...</td>\n",
       "      <td>1.0</td>\n",
       "      <td>4</td>\n",
       "      <td>7</td>\n",
       "      <td>0</td>\n",
       "      <td>7.477548e-03</td>\n",
       "    </tr>\n",
       "    <tr>\n",
       "      <th>4</th>\n",
       "      <td>40957</td>\n",
       "      <td>15367</td>\n",
       "      <td>\"they dont make em like this no more...\"well.....</td>\n",
       "      <td>5.0</td>\n",
       "      <td>3</td>\n",
       "      <td>6</td>\n",
       "      <td>0</td>\n",
       "      <td>4.658558e-03</td>\n",
       "    </tr>\n",
       "    <tr>\n",
       "      <th>...</th>\n",
       "      <td>...</td>\n",
       "      <td>...</td>\n",
       "      <td>...</td>\n",
       "      <td>...</td>\n",
       "      <td>...</td>\n",
       "      <td>...</td>\n",
       "      <td>...</td>\n",
       "      <td>...</td>\n",
       "    </tr>\n",
       "    <tr>\n",
       "      <th>57034</th>\n",
       "      <td>58315</td>\n",
       "      <td>29374</td>\n",
       "      <td>If you like beautifully shot, well acted films...</td>\n",
       "      <td>2.0</td>\n",
       "      <td>12</td>\n",
       "      <td>21</td>\n",
       "      <td>0</td>\n",
       "      <td>1.409772e-05</td>\n",
       "    </tr>\n",
       "    <tr>\n",
       "      <th>57035</th>\n",
       "      <td>23328</td>\n",
       "      <td>45548</td>\n",
       "      <td>This is a great set of films Wayne did Fox and...</td>\n",
       "      <td>5.0</td>\n",
       "      <td>15</td>\n",
       "      <td>18</td>\n",
       "      <td>0</td>\n",
       "      <td>6.911284e-02</td>\n",
       "    </tr>\n",
       "    <tr>\n",
       "      <th>57036</th>\n",
       "      <td>27203</td>\n",
       "      <td>42453</td>\n",
       "      <td>It's what's known as a comedy of manners. It's...</td>\n",
       "      <td>3.0</td>\n",
       "      <td>4</td>\n",
       "      <td>5</td>\n",
       "      <td>0</td>\n",
       "      <td>2.065794e-01</td>\n",
       "    </tr>\n",
       "    <tr>\n",
       "      <th>57037</th>\n",
       "      <td>33992</td>\n",
       "      <td>44891</td>\n",
       "      <td>Ellen can do no wrong as far a creating wonder...</td>\n",
       "      <td>5.0</td>\n",
       "      <td>4</td>\n",
       "      <td>5</td>\n",
       "      <td>0</td>\n",
       "      <td>2.065794e-01</td>\n",
       "    </tr>\n",
       "    <tr>\n",
       "      <th>57038</th>\n",
       "      <td>27478</td>\n",
       "      <td>19198</td>\n",
       "      <td>I agree with everyone else that this is a grea...</td>\n",
       "      <td>2.0</td>\n",
       "      <td>5</td>\n",
       "      <td>5</td>\n",
       "      <td>1</td>\n",
       "      <td>7.605995e-01</td>\n",
       "    </tr>\n",
       "  </tbody>\n",
       "</table>\n",
       "<p>57039 rows × 8 columns</p>\n",
       "</div>"
      ],
      "text/plain": [
       "       reviewerID   asin                                         reviewText  \\\n",
       "0            7885   3901  First off, allow me to correct a common mistak...   \n",
       "1           52087  47978  I am really troubled by this Story and Enterta...   \n",
       "2            5701   3667  A near-perfect film version of a downright glo...   \n",
       "3           47191  40892  Keep your expectations low.  Really really low...   \n",
       "4           40957  15367  \"they dont make em like this no more...\"well.....   \n",
       "...           ...    ...                                                ...   \n",
       "57034       58315  29374  If you like beautifully shot, well acted films...   \n",
       "57035       23328  45548  This is a great set of films Wayne did Fox and...   \n",
       "57036       27203  42453  It's what's known as a comedy of manners. It's...   \n",
       "57037       33992  44891  Ellen can do no wrong as far a creating wonder...   \n",
       "57038       27478  19198  I agree with everyone else that this is a grea...   \n",
       "\n",
       "       overall  votes_up  votes_all  label         probs  \n",
       "0          5.0         6          7      0  2.517396e-01  \n",
       "1          3.0        99        134      0  6.577389e-09  \n",
       "2          4.0        14         14      1  4.917142e-01  \n",
       "3          1.0         4          7      0  7.477548e-03  \n",
       "4          5.0         3          6      0  4.658558e-03  \n",
       "...        ...       ...        ...    ...           ...  \n",
       "57034      2.0        12         21      0  1.409772e-05  \n",
       "57035      5.0        15         18      0  6.911284e-02  \n",
       "57036      3.0         4          5      0  2.065794e-01  \n",
       "57037      5.0         4          5      0  2.065794e-01  \n",
       "57038      2.0         5          5      1  7.605995e-01  \n",
       "\n",
       "[57039 rows x 8 columns]"
      ]
     },
     "execution_count": 124,
     "metadata": {},
     "output_type": "execute_result"
    }
   ],
   "source": [
    "train_df"
   ]
  },
  {
   "cell_type": "code",
   "execution_count": 14,
   "metadata": {},
   "outputs": [
    {
     "data": {
      "text/plain": [
       "0.9449053683077058"
      ]
     },
     "execution_count": 14,
     "metadata": {},
     "output_type": "execute_result"
    }
   ],
   "source": [
    "import scipy.stats as st\n",
    "\n",
    "\n",
    "st.norm.cdf(0, loc=2, scale=1) # 均值为 2，标准差为 1 的正态分布在 0 处的累计分布概率值\n",
    "\n",
    "st.norm.cdf([-1, 0, 1])\n",
    "\n",
    "st.binom.cdf(90, n = 100, p = 0.85)\n",
    "# st.binom.pmf(4, n=100, p=0.05)"
   ]
  },
  {
   "cell_type": "code",
   "execution_count": 7,
   "metadata": {},
   "outputs": [
    {
     "data": {
      "text/plain": [
       "Ttest_1sampResult(statistic=-0.054996133220328265, pvalue=0.9574902045208937)"
      ]
     },
     "execution_count": 7,
     "metadata": {},
     "output_type": "execute_result"
    }
   ],
   "source": [
    "import scipy.stats as st\n",
    "a = [99.3, 98.7, 100.5, 101.2, 98.3, 99.7, 99.5, 102.1, 100.5]\n",
    "st.ttest_1samp(a, 100)"
   ]
  },
  {
   "cell_type": "code",
   "execution_count": 8,
   "metadata": {},
   "outputs": [],
   "source": [
    "b = [1]*8+ [0]*2"
   ]
  },
  {
   "cell_type": "code",
   "execution_count": 9,
   "metadata": {},
   "outputs": [
    {
     "data": {
      "text/plain": [
       "Ttest_1sampResult(statistic=-0.7499999999999999, pvalue=0.4724044424553536)"
      ]
     },
     "execution_count": 9,
     "metadata": {},
     "output_type": "execute_result"
    }
   ],
   "source": [
    "st.ttest_1samp(b, 0.9)"
   ]
  },
  {
   "cell_type": "code",
   "execution_count": 10,
   "metadata": {},
   "outputs": [],
   "source": [
    "c = [1]*1999+ [0]*20\n",
    "z, p = st.ttest_1samp(c, 0.9)"
   ]
  },
  {
   "cell_type": "code",
   "execution_count": 11,
   "metadata": {},
   "outputs": [
    {
     "data": {
      "text/plain": [
       "1.5210544250097746e-266"
      ]
     },
     "execution_count": 11,
     "metadata": {},
     "output_type": "execute_result"
    }
   ],
   "source": [
    "p"
   ]
  },
  {
   "cell_type": "markdown",
   "metadata": {},
   "source": [
    "数据集处理"
   ]
  },
  {
   "cell_type": "code",
   "execution_count": 12,
   "metadata": {},
   "outputs": [
    {
     "ename": "KeyboardInterrupt",
     "evalue": "",
     "output_type": "error",
     "traceback": [
      "\u001b[1;31m---------------------------------------------------------------------------\u001b[0m",
      "\u001b[1;31mKeyboardInterrupt\u001b[0m                         Traceback (most recent call last)",
      "\u001b[1;32m<ipython-input-12-e210986d3c8f>\u001b[0m in \u001b[0;36m<module>\u001b[1;34m\u001b[0m\n\u001b[0;32m      4\u001b[0m \u001b[1;31m#将reviewText列转化为向量\u001b[0m\u001b[1;33m\u001b[0m\u001b[1;33m\u001b[0m\u001b[1;33m\u001b[0m\u001b[0m\n\u001b[0;32m      5\u001b[0m \u001b[0mVectorizer\u001b[0m \u001b[1;33m=\u001b[0m \u001b[0mTfidfVectorizer\u001b[0m\u001b[1;33m(\u001b[0m\u001b[0mmax_features\u001b[0m \u001b[1;33m=\u001b[0m \u001b[1;36m50\u001b[0m\u001b[1;33m,\u001b[0m \u001b[0mngram_range\u001b[0m \u001b[1;33m=\u001b[0m \u001b[1;33m(\u001b[0m\u001b[1;36m1\u001b[0m\u001b[1;33m,\u001b[0m \u001b[1;36m3\u001b[0m\u001b[1;33m)\u001b[0m\u001b[1;33m)\u001b[0m\u001b[1;33m\u001b[0m\u001b[1;33m\u001b[0m\u001b[0m\n\u001b[1;32m----> 6\u001b[1;33m \u001b[0mreviewX\u001b[0m \u001b[1;33m=\u001b[0m \u001b[0mVectorizer\u001b[0m\u001b[1;33m.\u001b[0m\u001b[0mfit_transform\u001b[0m\u001b[1;33m(\u001b[0m\u001b[0mtrain_df\u001b[0m\u001b[1;33m[\u001b[0m\u001b[1;34m'reviewText'\u001b[0m\u001b[1;33m]\u001b[0m\u001b[1;33m)\u001b[0m\u001b[1;33m\u001b[0m\u001b[1;33m\u001b[0m\u001b[0m\n\u001b[0m\u001b[0;32m      7\u001b[0m \u001b[0mprint\u001b[0m\u001b[1;33m(\u001b[0m\u001b[0mVectorizer\u001b[0m\u001b[1;33m.\u001b[0m\u001b[0mget_feature_names\u001b[0m\u001b[1;33m(\u001b[0m\u001b[1;33m)\u001b[0m\u001b[1;33m)\u001b[0m\u001b[1;33m\u001b[0m\u001b[1;33m\u001b[0m\u001b[0m\n",
      "\u001b[1;32md:\\python\\lib\\site-packages\\sklearn\\feature_extraction\\text.py\u001b[0m in \u001b[0;36mfit_transform\u001b[1;34m(self, raw_documents, y)\u001b[0m\n\u001b[0;32m   1839\u001b[0m         \"\"\"\n\u001b[0;32m   1840\u001b[0m         \u001b[0mself\u001b[0m\u001b[1;33m.\u001b[0m\u001b[0m_check_params\u001b[0m\u001b[1;33m(\u001b[0m\u001b[1;33m)\u001b[0m\u001b[1;33m\u001b[0m\u001b[1;33m\u001b[0m\u001b[0m\n\u001b[1;32m-> 1841\u001b[1;33m         \u001b[0mX\u001b[0m \u001b[1;33m=\u001b[0m \u001b[0msuper\u001b[0m\u001b[1;33m(\u001b[0m\u001b[1;33m)\u001b[0m\u001b[1;33m.\u001b[0m\u001b[0mfit_transform\u001b[0m\u001b[1;33m(\u001b[0m\u001b[0mraw_documents\u001b[0m\u001b[1;33m)\u001b[0m\u001b[1;33m\u001b[0m\u001b[1;33m\u001b[0m\u001b[0m\n\u001b[0m\u001b[0;32m   1842\u001b[0m         \u001b[0mself\u001b[0m\u001b[1;33m.\u001b[0m\u001b[0m_tfidf\u001b[0m\u001b[1;33m.\u001b[0m\u001b[0mfit\u001b[0m\u001b[1;33m(\u001b[0m\u001b[0mX\u001b[0m\u001b[1;33m)\u001b[0m\u001b[1;33m\u001b[0m\u001b[1;33m\u001b[0m\u001b[0m\n\u001b[0;32m   1843\u001b[0m         \u001b[1;31m# X is already a transformed view of raw_documents so\u001b[0m\u001b[1;33m\u001b[0m\u001b[1;33m\u001b[0m\u001b[1;33m\u001b[0m\u001b[0m\n",
      "\u001b[1;32md:\\python\\lib\\site-packages\\sklearn\\feature_extraction\\text.py\u001b[0m in \u001b[0;36mfit_transform\u001b[1;34m(self, raw_documents, y)\u001b[0m\n\u001b[0;32m   1197\u001b[0m \u001b[1;33m\u001b[0m\u001b[0m\n\u001b[0;32m   1198\u001b[0m         vocabulary, X = self._count_vocab(raw_documents,\n\u001b[1;32m-> 1199\u001b[1;33m                                           self.fixed_vocabulary_)\n\u001b[0m\u001b[0;32m   1200\u001b[0m \u001b[1;33m\u001b[0m\u001b[0m\n\u001b[0;32m   1201\u001b[0m         \u001b[1;32mif\u001b[0m \u001b[0mself\u001b[0m\u001b[1;33m.\u001b[0m\u001b[0mbinary\u001b[0m\u001b[1;33m:\u001b[0m\u001b[1;33m\u001b[0m\u001b[1;33m\u001b[0m\u001b[0m\n",
      "\u001b[1;32md:\\python\\lib\\site-packages\\sklearn\\feature_extraction\\text.py\u001b[0m in \u001b[0;36m_count_vocab\u001b[1;34m(self, raw_documents, fixed_vocab)\u001b[0m\n\u001b[0;32m   1140\u001b[0m         \u001b[1;32melse\u001b[0m\u001b[1;33m:\u001b[0m\u001b[1;33m\u001b[0m\u001b[1;33m\u001b[0m\u001b[0m\n\u001b[0;32m   1141\u001b[0m             \u001b[0mindices_dtype\u001b[0m \u001b[1;33m=\u001b[0m \u001b[0mnp\u001b[0m\u001b[1;33m.\u001b[0m\u001b[0mint32\u001b[0m\u001b[1;33m\u001b[0m\u001b[1;33m\u001b[0m\u001b[0m\n\u001b[1;32m-> 1142\u001b[1;33m         \u001b[0mj_indices\u001b[0m \u001b[1;33m=\u001b[0m \u001b[0mnp\u001b[0m\u001b[1;33m.\u001b[0m\u001b[0masarray\u001b[0m\u001b[1;33m(\u001b[0m\u001b[0mj_indices\u001b[0m\u001b[1;33m,\u001b[0m \u001b[0mdtype\u001b[0m\u001b[1;33m=\u001b[0m\u001b[0mindices_dtype\u001b[0m\u001b[1;33m)\u001b[0m\u001b[1;33m\u001b[0m\u001b[1;33m\u001b[0m\u001b[0m\n\u001b[0m\u001b[0;32m   1143\u001b[0m         \u001b[0mindptr\u001b[0m \u001b[1;33m=\u001b[0m \u001b[0mnp\u001b[0m\u001b[1;33m.\u001b[0m\u001b[0masarray\u001b[0m\u001b[1;33m(\u001b[0m\u001b[0mindptr\u001b[0m\u001b[1;33m,\u001b[0m \u001b[0mdtype\u001b[0m\u001b[1;33m=\u001b[0m\u001b[0mindices_dtype\u001b[0m\u001b[1;33m)\u001b[0m\u001b[1;33m\u001b[0m\u001b[1;33m\u001b[0m\u001b[0m\n\u001b[0;32m   1144\u001b[0m         \u001b[0mvalues\u001b[0m \u001b[1;33m=\u001b[0m \u001b[0mnp\u001b[0m\u001b[1;33m.\u001b[0m\u001b[0mfrombuffer\u001b[0m\u001b[1;33m(\u001b[0m\u001b[0mvalues\u001b[0m\u001b[1;33m,\u001b[0m \u001b[0mdtype\u001b[0m\u001b[1;33m=\u001b[0m\u001b[0mnp\u001b[0m\u001b[1;33m.\u001b[0m\u001b[0mintc\u001b[0m\u001b[1;33m)\u001b[0m\u001b[1;33m\u001b[0m\u001b[1;33m\u001b[0m\u001b[0m\n",
      "\u001b[1;31mKeyboardInterrupt\u001b[0m: "
     ]
    }
   ],
   "source": [
    "from sklearn.feature_extraction.text import TfidfVectorizer\n",
    "from sklearn.feature_extraction.text import HashingVectorizer\n",
    "\n",
    "#将reviewText列转化为向量\n",
    "Vectorizer = TfidfVectorizer(max_features = 50, ngram_range = (1, 3))\n",
    "reviewX = Vectorizer.fit_transform(train_df['reviewText'])\n",
    "print(Vectorizer.get_feature_names())"
   ]
  },
  {
   "cell_type": "code",
   "execution_count": 64,
   "metadata": {},
   "outputs": [],
   "source": [
    "x = np.ones((100, 4))"
   ]
  },
  {
   "cell_type": "code",
   "execution_count": 65,
   "metadata": {},
   "outputs": [],
   "source": [
    "y = np.ones(100)"
   ]
  },
  {
   "cell_type": "code",
   "execution_count": 70,
   "metadata": {},
   "outputs": [
    {
     "data": {
      "text/plain": [
       "(100, 4)"
      ]
     },
     "execution_count": 70,
     "metadata": {},
     "output_type": "execute_result"
    }
   ],
   "source": [
    "x.shape"
   ]
  },
  {
   "cell_type": "code",
   "execution_count": 67,
   "metadata": {},
   "outputs": [],
   "source": [
    "model = Bagging(ml = 'LinearSVR')\n",
    "model.fit(x, y)\n",
    "pred = model.predict(np.array([[1, 1, 1, 1], [2, 1, 1, 1]]))"
   ]
  },
  {
   "cell_type": "code",
   "execution_count": 68,
   "metadata": {},
   "outputs": [
    {
     "data": {
      "text/plain": [
       "array([1. , 1.2])"
      ]
     },
     "execution_count": 68,
     "metadata": {},
     "output_type": "execute_result"
    }
   ],
   "source": [
    "pred"
   ]
  },
  {
   "cell_type": "code",
   "execution_count": 123,
   "metadata": {},
   "outputs": [
    {
     "name": "stdout",
     "output_type": "stream",
     "text": [
      "0\n",
      "error = 0\n"
     ]
    }
   ],
   "source": [
    "model = AdaBoost(ml = 'DecisionTreeRegressor')\n",
    "model.fit(x, y)\n",
    "pred = model.predict(np.array([[1, 1, 1, 1], [2, 1, 1, 1]]))"
   ]
  },
  {
   "cell_type": "code",
   "execution_count": 124,
   "metadata": {},
   "outputs": [
    {
     "data": {
      "text/plain": [
       "array([1., 1.])"
      ]
     },
     "execution_count": 124,
     "metadata": {},
     "output_type": "execute_result"
    }
   ],
   "source": [
    "pred"
   ]
  },
  {
   "cell_type": "code",
   "execution_count": 121,
   "metadata": {},
   "outputs": [
    {
     "data": {
      "text/plain": [
       "array([0.01005034, 0.        , 0.        , 0.        , 0.        ])"
      ]
     },
     "execution_count": 121,
     "metadata": {},
     "output_type": "execute_result"
    }
   ],
   "source": [
    "model.pollweight"
   ]
  },
  {
   "cell_type": "code",
   "execution_count": 1,
   "metadata": {},
   "outputs": [
    {
     "name": "stdout",
     "output_type": "stream",
     "text": [
      "Downloading data from https://storage.googleapis.com/bert_models/2018_11_23/multi_cased_L-12_H-768_A-12.zip\n",
      "662904832/662903077 [==============================] - 106s 0us/step\n",
      "C:\\Users\\Yujing\\.keras\\datasets\\multi_cased_L-12_H-768_A-12\\bert_config.json C:\\Users\\Yujing\\.keras\\datasets\\multi_cased_L-12_H-768_A-12\\bert_model.ckpt C:\\Users\\Yujing\\.keras\\datasets\\multi_cased_L-12_H-768_A-12\\vocab.txt\n"
     ]
    }
   ],
   "source": []
  },
  {
   "cell_type": "code",
   "execution_count": 10,
   "metadata": {},
   "outputs": [],
   "source": [
    "#抄作业bert\n",
    "\n",
    "import pandas as pd\n",
    "import codecs, gc\n",
    "import numpy as np\n",
    "from sklearn.model_selection import KFold\n",
    "from keras_bert import load_trained_model_from_checkpoint, Tokenizer\n",
    "from keras.metrics import top_k_categorical_accuracy\n",
    "from keras.layers import *\n",
    "from keras.callbacks import *\n",
    "from keras.models import Model\n",
    "import keras.backend as K\n",
    "from keras.optimizers import Adam\n",
    "from keras.utils import to_categorical\n",
    " \n",
    "maxlen = 100  #设置序列长度为120，要保证序列长度不超过512\n",
    " \n",
    "#预训练好的模型\n",
    "\n",
    "config_path = 'uncased_L-12_H-768_A-12/bert_config.json'\n",
    "checkpoint_path = 'uncased_L-12_H-768_A-12/bert_model.ckpt'\n",
    "dict_path = 'uncased_L-12_H-768_A-12/vocab.txt'\n",
    " \n",
    "#将词表中的词编号转换为字典\n",
    "token_dict = {}\n",
    "with codecs.open(dict_path, 'r', 'utf8') as reader:\n",
    "    for line in reader:\n",
    "        token = line.strip()\n",
    "        token_dict[token] = len(token_dict)\n",
    " \n",
    "# 重写tokenizer        \n",
    "class OurTokenizer(Tokenizer):\n",
    "    def _tokenize(self, text):\n",
    "        R = []\n",
    "        for c in text:\n",
    "            if c in self._token_dict:\n",
    "                R.append(c)\n",
    "            elif self._is_space(c):\n",
    "                R.append('[unused1]')  # 用[unused1]来表示空格类字符\n",
    "            else:\n",
    "                R.append('[UNK]')  # 不在列表的字符用[UNK]表示\n",
    "        return R\n",
    "    \n",
    "tokenizer = OurTokenizer(token_dict)\n",
    " \n",
    "#让每条文本的长度相同，用0填充\n",
    "def seq_padding(X, padding=0):\n",
    "    L = [len(x) for x in X]\n",
    "    ML = max(L)\n",
    "    return np.array([\n",
    "        np.concatenate([x, [padding] * (ML - len(x))]) if len(x) < ML else x for x in X\n",
    "    ])\n",
    " \n",
    "#data_generator只是一种为了节约内存的数据方式\n",
    "class data_generator:\n",
    "    def __init__(self, data, batch_size=32, shuffle=True):\n",
    "        self.data = data\n",
    "        self.batch_size = batch_size\n",
    "        self.shuffle = shuffle\n",
    "        self.steps = len(self.data) // self.batch_size\n",
    "        if len(self.data) % self.batch_size != 0:\n",
    "            self.steps += 1\n",
    " \n",
    "    def __len__(self):\n",
    "        return self.steps\n",
    " \n",
    "    def __iter__(self):\n",
    "        while True:\n",
    "            idxs = list(range(len(self.data)))\n",
    " \n",
    "            if self.shuffle:\n",
    "                np.random.shuffle(idxs)\n",
    " \n",
    "            X1, X2, Y = [], [], []\n",
    "            for i in idxs:\n",
    "                d = self.data[i]\n",
    "                text = d[0][:maxlen]\n",
    "                x1, x2 = tokenizer.encode(first=text)\n",
    "                y = d[1]\n",
    "                X1.append(x1)\n",
    "                X2.append(x2)\n",
    "                Y.append([y])\n",
    "                if len(X1) == self.batch_size or i == idxs[-1]:\n",
    "                    X1 = seq_padding(X1)\n",
    "                    X2 = seq_padding(X2)\n",
    "                    Y = seq_padding(Y)\n",
    "                    yield [X1, X2], Y[:, 0, :]\n",
    "                    [X1, X2, Y] = [], [], []\n",
    " \n",
    "# 计算top-k正确率,当预测值的前k个值中存在目标类别即认为预测正确                 \n",
    "def acc_top1(y_true, y_pred):\n",
    "    return top_k_categorical_accuracy(y_true, y_pred, k=1)\n",
    " \n",
    "#bert模型设置\n",
    "def build_bert(nclass):\n",
    "    bert_model = load_trained_model_from_checkpoint(config_path, checkpoint_path, seq_len=None)  #加载预训练模型\n",
    " \n",
    "    for l in bert_model.layers:\n",
    "        l.trainable = True\n",
    " \n",
    "    x1_in = Input(shape=(None,))\n",
    "    x2_in = Input(shape=(None,))\n",
    " \n",
    "    x = bert_model([x1_in, x2_in])\n",
    "    x = Lambda(lambda x: x[:, 0])(x) # 取出[CLS]对应的向量用来做分类\n",
    "    p = Dense(nclass, activation='softmax')(x)\n",
    " \n",
    "    model = Model([x1_in, x2_in], p)\n",
    "    model.compile(loss='categorical_crossentropy',\n",
    "                  optimizer=Adam(1e-5),    #用足够小的学习率\n",
    "                  metrics=['accuracy', acc_top2])\n",
    "    print(model.summary())\n",
    "    return model\n",
    " \n",
    "#训练数据、测试数据和标签转化为模型输入格式\n",
    "DATA_LIST = []\n",
    "for data_row in train_df.iloc[:].itertuples():\n",
    "    DATA_LIST.append((data_row.reviewText, to_categorical(data_row.label, 2)))\n",
    "DATA_LIST = np.array(DATA_LIST)\n",
    " \n",
    "DATA_LIST_TEST = []\n",
    "for data_row in test_df.iloc[:].itertuples():\n",
    "    DATA_LIST_TEST.append((data_row.reviewText, to_categorical(0, 2)))\n",
    "DATA_LIST_TEST = np.array(DATA_LIST_TEST)\n",
    " \n"
   ]
  },
  {
   "cell_type": "code",
   "execution_count": 11,
   "metadata": {},
   "outputs": [
    {
     "data": {
      "text/plain": [
       "array([[\"First off, allow me to correct a common mistake that was made by more than one reviewer here: This is most certainly not the first film ever made where animated characters interact with live actors. Pete's Dragon (1977), Mary Poppins (1964) and Song of the South (1946) all predate it, and if you want a lesson in cartoon history, so does Gertie the Dinosaur (1914). But that doesn't mean Who Framed Roger Rabbit is not a landmark film. It was revolutionary for its degree of interaction between the toons and the human characters, done so perfectly that they seem completely natural at first glance, but then amaze when you take a closer look - little things like Jessica Rabbit pinching Eddie Valiant's cheek, or Roger Rabbit hiding under the water in Valiant's sink, or beneath his coat, little details that took very creative special effects to be made convincing. It's also unique and original in the fact that some of it takes place in the real world, featuring animated characters, and some in an animated world, featuring live actors; and in that manner, it predates Cool World, Space Jam and anything following.Who Framed Roger Rabbit is wonderfully funny, directed more at an adult audience than children. Bob Hoskins and Christopher Lloyd make a terrific impression in the lead roles, and manage to stay remarkably serious and convincing while conversing and interacting with entirely imaginary characters. Charles Fleischer is beyond brilliant in the voice of Roger Rabbit (as well as that of Benny the Cab) and Kathleen Turner as Jessica Rabbit is also terrific, a femme fatale so classic that it's ridiculous. The entire film excels with intelligent humor that would appeal to both children and adults, and it's a treat for animation buffs, with references to historical toons from the Foxy cartoons of the 20s, through Betty Boop, Dumbo and Bambi to Bugs Bunny and Mickey Mouse.Who Framed Roger Rabbit is one of the defining films of my childhood; I think that's true for almost anyone born in the 80s. I still have a warm place in my heart for Roger and Eddie Valiant, and a cold one for Judge Doom, who gave me nightmares for weeks after I saw it upon its initial release when I was four (he still gives me chills, by the way, when he first starts talking in his squeaky voice). If you somehow manages to avoid it, do watch it, and if you're willing, it's well worth the purchase, too.\",\n",
       "        array([1., 0.], dtype=float32)],\n",
       "       [\"I am really troubled by this Story and Entertained by the way it was presented.  The troubling part is that this is said to be a true story.***Stop reading if you don't like spoilers.***The story starts with Daniel Lugo (Mark Wahlberg) running from what is an obvious raid on his place of employment, he's hit by a car and then the story flashes back to 6 Months earlier.Daniel is a personal trainer at a local Miami Gym and he comes in contact with a very well to do Colombian-Jewish Entrepreneur.  The Entrepreneur's name is withheld to protect the innocent but, needless to say, this guy hires Daniel as Personal Trainer and begins to tell him all about his success in life.Now Daniel attends a Johnny Wu (Never actually happened) seminar where he is convinced he is A doer and only needs to come up with a plan then make it happen.One thing leads to another Daniel recruits his two friends, Paul and Adrian, to come up with a plan of how they're going to take the Entrepreneurs life, money, and property away to make it their own.Needless to say, this whole thing leads to kidnapping, extortion, fraud, attempted murder, a double murder, and two death penalties for 6 months of living the high life.The acting was decent overall but, playing three dumb, homicidal, muscle heads (no this is not an insult to weight lifters, these guys really were dumb) probably isn't all that challenging.The movie itself was actually very entertaining, disturbing, and actually well done.  I was given tickets to a screening but, I would have honestly paid to see this movie had I not known what I know now.If you're okay with somewhat morbidly bizarre comedies then you won't be disappointed by this.  My biggest struggle with the movie was the glamorization of some very violent and tasteless acts.  This is evidenced by the fact Lugo wasn't stupid, some characters were fictional and some were only half fictional and the wife of doorbal actually aided in the cleanup of the two homicides.  In other words, Michael Bay and company went out of the way to make this story more funny than it really was.Seriously, there are somethings that cannot be unseen or unlearned and this movie has both of these elements.  I would have blissfully enjoyed my suspended reality had they not have flashed across the screen a reminder that it was still a true story amidst two people trying to return a chainsaw with blood and hair on it and the other guy grilling hand that were chopped off their victims.  At that point, the movie went from more funny than disturbing to more disturbing than funny.I dunno, call me old fashioned but, I cannot in good conscience laugh at somebody else's misfortune unless, I suspend reality.\",\n",
       "        array([1., 0.], dtype=float32)],\n",
       "       ['A near-perfect film version of a downright gloomy play, &quot;The Glass Menagerie&quot; successfully captures the atmosphere of futility and hopelessness that permeated the play and made it such a success. The choice  of actors is quite good, and I am thankful that the complete plot was  preserved, rather than attempting to alter it in favor of a more active  storyline. Eccentric, yes, depressing, yes, effective - quite so.',\n",
       "        array([0., 1.], dtype=float32)],\n",
       "       ...,\n",
       "       [\"It's what's known as a comedy of manners. It's a form of entertainment which makes fun of the affectations, habits, values and manners of our times through characters familiar to us in our encounters with them like an old person pretending to be young, the career executive, or the playboy. The plot usually revolves around a scandal but in this case, The Big Year deals with a project that gets out of hand. The characters lose sight of the priorities in their lives, struggle to recover them or discover new ones. The plot is less important than the witty dialogue between them. At their best they can satirize the hypocrisy and pretension in society. Unlike the unbeaten Miami Dolphins who can do nothing but wait until every team has suffered a loss before they can toast that their record is safe for another year, Kenny Bostick can actually do something about it. He spent an entire year of his life setting a record number of sightings. Now sane folk know that records are meant to be broken but it means so much to Bostick's self esteem that he can't allow it to be broken by anybody but himself. It's really an exercise in vanity by all three characters except the other two still bear a sense of responsibility to the people around them. In the end one discovers his next wife while the other re-discovers his family when they learn that there are more important things in their life than a big year and birds. The acting is fine. Beautiful photography. The writing is weak and the script loses focus. One guy will throw his life away. It's the job of the other two characters to learn why he's so reckless. Learn why they would never do it themselves but can hardly lecture him themselves when their own behavior leaves much to be desired. It had potential. I liked it. But it lacks punch and misses too many points about our times. Where's the dialogue? There's an extended version with another 40 minutes. Was it cut away for a shorter fast-paced film? Simply not worth the time?? Don't know. It's a shame that this film was lost but cinema like the theatre demands good writing.\",\n",
       "        array([1., 0.], dtype=float32)],\n",
       "       [\"Ellen can do no wrong as far a creating wonderful workouts for women! It is graceful, energizing, toning and rejuvinating all at the same time. I used light weighted gloves for this and it bumped it way up for a cardio effect and arm toning! It is a must-have workout if you are an Ellen Barrett fan or if you are new to her- get it, you won't be sorry!\",\n",
       "        array([1., 0.], dtype=float32)],\n",
       "       ['I agree with everyone else that this is a great film, but this DVD is unwatchable on a video projector. This is a second-or-third generation 3/4\" video tape copy and is totally smeared and fuzzy. And this piece of doo-doo cost me $19.I thought this was an official release, but somehow this Paramount film has apparently fallen into public domain. I only hope that some other video company can track down the negative and do a proper transfer. Until then, you can watch this on your laptop in a tiny window. It shouldn\\'t look as bad as it does on my 6\\' screen.If you\\'ve got a mojo for a Bob Hope horror comedy, his next film was \"The Ghostbreakers\" and is available from MCA in great condition.',\n",
       "        array([0., 1.], dtype=float32)]], dtype=object)"
      ]
     },
     "execution_count": 11,
     "metadata": {},
     "output_type": "execute_result"
    }
   ],
   "source": [
    "DATA_LIST"
   ]
  },
  {
   "cell_type": "code",
   "execution_count": 12,
   "metadata": {},
   "outputs": [
    {
     "name": "stdout",
     "output_type": "stream",
     "text": [
      "Model: \"functional_5\"\n",
      "__________________________________________________________________________________________________\n",
      "Layer (type)                    Output Shape         Param #     Connected to                     \n",
      "==================================================================================================\n",
      "input_1 (InputLayer)            [(None, None)]       0                                            \n",
      "__________________________________________________________________________________________________\n",
      "input_2 (InputLayer)            [(None, None)]       0                                            \n",
      "__________________________________________________________________________________________________\n",
      "functional_3 (Functional)       (None, None, 768)    108891648   input_1[0][0]                    \n",
      "                                                                 input_2[0][0]                    \n",
      "__________________________________________________________________________________________________\n",
      "lambda (Lambda)                 (None, 768)          0           functional_3[0][0]               \n",
      "__________________________________________________________________________________________________\n",
      "dense (Dense)                   (None, 2)            1538        lambda[0][0]                     \n",
      "==================================================================================================\n",
      "Total params: 108,893,186\n",
      "Trainable params: 108,893,186\n",
      "Non-trainable params: 0\n",
      "__________________________________________________________________________________________________\n",
      "None\n"
     ]
    }
   ],
   "source": [
    "model = build_bert(2)"
   ]
  },
  {
   "cell_type": "code",
   "execution_count": null,
   "metadata": {},
   "outputs": [],
   "source": [
    "# train_model_pred = np.zeros((len(data), 2))\n",
    "# test_model_pred = np.zeros((len(data_test), 2))\n",
    "\n",
    "# X_train, X_valid, = data[train_fold, :], data[test_fold, :]\n",
    "\n",
    "# train_D = data_generator(, shuffle=True)\n",
    "# valid_D = data_generator(X_valid, shuffle=True)\n",
    "# test_D = data_generator(data_test, shuffle=False)\n",
    "\n",
    "# model.fit_generator(\n",
    "#             train_D.__iter__(),\n",
    "#             steps_per_epoch=len(train_D),\n",
    "#             epochs=5,\n",
    "#             validation_data=valid_D.__iter__(),\n",
    "#             validation_steps=len(valid_D),\n",
    "#             callbacks=[early_stopping, plateau, checkpoint],\n",
    "# )\n",
    "\n",
    "\n",
    "# train_model_pred[test_fold, :] = model.predict_generator(valid_D.__iter__(), steps=len(valid_D), verbose=1)\n",
    "# test_model_pred += model.predict_generator(test_D.__iter__(), steps=len(test_D), verbose=1)\n",
    "\n",
    "\n",
    "# train_model_pred, test_model_pred = run_cv(2, DATA_LIST, None, DATA_LIST_TEST)\n",
    " \n",
    "# test_pred = [np.argmax(x) for x in test_model_pred]\n",
    " \n",
    "# #将测试集预测结果写入文件\n",
    "# output=pd.DataFrame({'Id':test_df.id,'Predicted':test_pred})\n",
    "# output.to_csv('data/results.csv', index=None)"
   ]
  },
  {
   "cell_type": "code",
   "execution_count": null,
   "metadata": {},
   "outputs": [
    {
     "name": "stdout",
     "output_type": "stream",
     "text": [
      "Model: \"functional_11\"\n",
      "__________________________________________________________________________________________________\n",
      "Layer (type)                    Output Shape         Param #     Connected to                     \n",
      "==================================================================================================\n",
      "input_3 (InputLayer)            [(None, None)]       0                                            \n",
      "__________________________________________________________________________________________________\n",
      "input_4 (InputLayer)            [(None, None)]       0                                            \n",
      "__________________________________________________________________________________________________\n",
      "functional_9 (Functional)       (None, None, 768)    108891648   input_3[0][0]                    \n",
      "                                                                 input_4[0][0]                    \n",
      "__________________________________________________________________________________________________\n",
      "lambda_1 (Lambda)               (None, 768)          0           functional_9[0][0]               \n",
      "__________________________________________________________________________________________________\n",
      "dense_1 (Dense)                 (None, 2)            1538        lambda_1[0][0]                   \n",
      "==================================================================================================\n",
      "Total params: 108,893,186\n",
      "Trainable params: 108,893,186\n",
      "Non-trainable params: 0\n",
      "__________________________________________________________________________________________________\n",
      "None\n",
      "WARNING:tensorflow:From <ipython-input-13-6869c032b1fa>:25: Model.fit_generator (from tensorflow.python.keras.engine.training) is deprecated and will be removed in a future version.\n",
      "Instructions for updating:\n",
      "Please use Model.fit, which supports generators.\n",
      "Epoch 1/5\n",
      "892/892 [==============================] - ETA: 0s - loss: 0.5392 - accuracy: 0.7708 - acc_top2: 0.7708WARNING:tensorflow:Early stopping conditioned on metric `val_acc` which is not available. Available metrics are: loss,accuracy,acc_top2,val_loss,val_accuracy,val_acc_top2\n",
      "WARNING:tensorflow:Reduce LR on plateau conditioned on metric `val_acc` which is not available. Available metrics are: loss,accuracy,acc_top2,val_loss,val_accuracy,val_acc_top2,lr\n",
      "WARNING:tensorflow:Can save best model only with val_acc available, skipping.\n",
      "892/892 [==============================] - 9464s 11s/step - loss: 0.5392 - accuracy: 0.7708 - acc_top2: 0.7708 - val_loss: 0.5268 - val_accuracy: 0.7759 - val_acc_top2: 0.7759\n",
      "Epoch 2/5\n",
      "892/892 [==============================] - ETA: 0s - loss: 0.5275 - accuracy: 0.7714 - acc_top2: 0.7714WARNING:tensorflow:Early stopping conditioned on metric `val_acc` which is not available. Available metrics are: loss,accuracy,acc_top2,val_loss,val_accuracy,val_acc_top2\n",
      "WARNING:tensorflow:Reduce LR on plateau conditioned on metric `val_acc` which is not available. Available metrics are: loss,accuracy,acc_top2,val_loss,val_accuracy,val_acc_top2,lr\n",
      "WARNING:tensorflow:Can save best model only with val_acc available, skipping.\n",
      "892/892 [==============================] - 9817s 11s/step - loss: 0.5275 - accuracy: 0.7714 - acc_top2: 0.7714 - val_loss: 0.5241 - val_accuracy: 0.7760 - val_acc_top2: 0.7760\n",
      "Epoch 3/5\n",
      "892/892 [==============================] - ETA: 0s - loss: 0.5196 - accuracy: 0.7719 - acc_top2: 0.7719WARNING:tensorflow:Early stopping conditioned on metric `val_acc` which is not available. Available metrics are: loss,accuracy,acc_top2,val_loss,val_accuracy,val_acc_top2\n",
      "WARNING:tensorflow:Reduce LR on plateau conditioned on metric `val_acc` which is not available. Available metrics are: loss,accuracy,acc_top2,val_loss,val_accuracy,val_acc_top2,lr\n",
      "WARNING:tensorflow:Can save best model only with val_acc available, skipping.\n",
      "892/892 [==============================] - 10825s 12s/step - loss: 0.5196 - accuracy: 0.7719 - acc_top2: 0.7719 - val_loss: 0.5182 - val_accuracy: 0.7737 - val_acc_top2: 0.7737\n",
      "Epoch 4/5\n",
      "892/892 [==============================] - ETA: 0s - loss: 0.5084 - accuracy: 0.7727 - acc_top2: 0.7727 WARNING:tensorflow:Early stopping conditioned on metric `val_acc` which is not available. Available metrics are: loss,accuracy,acc_top2,val_loss,val_accuracy,val_acc_top2\n",
      "WARNING:tensorflow:Reduce LR on plateau conditioned on metric `val_acc` which is not available. Available metrics are: loss,accuracy,acc_top2,val_loss,val_accuracy,val_acc_top2,lr\n",
      "WARNING:tensorflow:Can save best model only with val_acc available, skipping.\n",
      "892/892 [==============================] - 13774s 15s/step - loss: 0.5084 - accuracy: 0.7727 - acc_top2: 0.7727 - val_loss: 0.5174 - val_accuracy: 0.7757 - val_acc_top2: 0.7757\n",
      "Epoch 5/5\n",
      "581/892 [==================>...........] - ETA: 42:48 - loss: 0.4953 - accuracy: 0.7751 - acc_top2: 0.7751"
     ]
    }
   ],
   "source": [
    "#交叉验证训练和测试模型\n",
    "def run_cv(nfold, data, data_labels, data_test):\n",
    "    kf = KFold(n_splits=nfold, shuffle=True, random_state=520).split(data)\n",
    "    train_model_pred = np.zeros((len(data), 2))\n",
    "    test_model_pred = np.zeros((len(data_test), 2))\n",
    " \n",
    "    for i, (train_fold, test_fold) in enumerate(kf):\n",
    "        X_train, X_valid, = data[train_fold, :], data[test_fold, :]\n",
    " \n",
    "        model = build_bert(2)\n",
    "        early_stopping = EarlyStopping(monitor='val_acc', patience=3)   #早停法，防止过拟合\n",
    "        plateau = ReduceLROnPlateau(monitor=\"val_acc\", verbose=1, mode='max', factor=0.5, patience=2) #当评价指标不在提升时，减少学习率\n",
    "        checkpoint = ModelCheckpoint('./bert_dump/' + str(i) + '.hdf5', monitor='val_acc',verbose=2, save_best_only=True, mode='max', save_weights_only=True) #保存最好的模型\n",
    " \n",
    "        train_D = data_generator(X_train, shuffle=True)\n",
    "        valid_D = data_generator(X_valid, shuffle=True)\n",
    "        test_D = data_generator(data_test, shuffle=False)\n",
    "        #模型训练\n",
    "        model.fit_generator(\n",
    "            train_D.__iter__(),\n",
    "            steps_per_epoch=len(train_D),\n",
    "            epochs=5,\n",
    "            validation_data=valid_D.__iter__(),\n",
    "            validation_steps=len(valid_D),\n",
    "            callbacks=[early_stopping, plateau, checkpoint],\n",
    "        )\n",
    " \n",
    "        # model.load_weights('./bert_dump/' + str(i) + '.hdf5')\n",
    " \n",
    "        # return model\n",
    "        train_model_pred[test_fold, :] = model.predict_generator(valid_D.__iter__(), steps=len(valid_D), verbose=1)\n",
    "        test_model_pred += model.predict_generator(test_D.__iter__(), steps=len(test_D), verbose=1)\n",
    " \n",
    "        del model\n",
    "        gc.collect()   #清理内存\n",
    "        K.clear_session()   #clear_session就是清除一个session\n",
    "        # break\n",
    " \n",
    "    return train_model_pred, test_model_pred\n",
    " \n",
    "#n折交叉验证\n",
    "train_model_pred, test_model_pred = run_cv(2, DATA_LIST, None, DATA_LIST_TEST)\n",
    " \n",
    "test_pred = [np.argmax(x) for x in test_model_pred]\n",
    " \n",
    "#将测试集预测结果写入文件\n",
    "output=pd.DataFrame({'Id':test_df.id,'Predicted':test_pred})\n",
    "output.to_csv('data/results.csv', index=None)"
   ]
  },
  {
   "cell_type": "code",
   "execution_count": 166,
   "metadata": {},
   "outputs": [],
   "source": [
    "import numpy as np\n",
    "import pandas as pd\n",
    "tryy = np.load('./data/bertf3(5).npy')"
   ]
  },
  {
   "cell_type": "code",
   "execution_count": 167,
   "metadata": {},
   "outputs": [
    {
     "data": {
      "text/plain": [
       "array([[ 0.0097396 , -0.07622716,  0.05304861, ...,  0.52224571,\n",
       "         0.26489231,  1.        ],\n",
       "       [-0.52637929, -0.13064612, -0.28737295, ...,  0.21315193,\n",
       "         0.59075469,  1.        ],\n",
       "       [-0.00975796, -0.21178283,  0.02980006, ...,  0.1959189 ,\n",
       "         0.34668219,  1.        ],\n",
       "       ...,\n",
       "       [-0.11315919, -0.15480247, -0.49121901, ...,  0.3148703 ,\n",
       "         0.42239293,         nan],\n",
       "       [ 0.04391461, -0.0982058 , -0.06216805, ...,  0.36087343,\n",
       "         0.10998979,         nan],\n",
       "       [ 0.10511701, -0.05473848,  0.08738177, ...,  0.47462544,\n",
       "         0.28318512,         nan]])"
      ]
     },
     "execution_count": 167,
     "metadata": {},
     "output_type": "execute_result"
    }
   ],
   "source": [
    "tryy"
   ]
  },
  {
   "cell_type": "code",
   "execution_count": 168,
   "metadata": {},
   "outputs": [
    {
     "data": {
      "text/plain": [
       "(35208, 769)"
      ]
     },
     "execution_count": 168,
     "metadata": {},
     "output_type": "execute_result"
    }
   ],
   "source": [
    "tryy.shape"
   ]
  },
  {
   "cell_type": "code",
   "execution_count": 171,
   "metadata": {},
   "outputs": [
    {
     "data": {
      "text/plain": [
       "12000.0"
      ]
     },
     "execution_count": 171,
     "metadata": {},
     "output_type": "execute_result"
    }
   ],
   "source": [
    "labels = tryy[:,768][:24000]\n",
    "sum(labels)"
   ]
  },
  {
   "cell_type": "code",
   "execution_count": 174,
   "metadata": {},
   "outputs": [
    {
     "data": {
      "text/plain": [
       "array([[ 0.0097396 , -0.07622716,  0.05304861, ..., -0.14644121,\n",
       "         0.52224571,  0.26489231],\n",
       "       [-0.52637929, -0.13064612, -0.28737295, ...,  0.17828295,\n",
       "         0.21315193,  0.59075469],\n",
       "       [-0.00975796, -0.21178283,  0.02980006, ..., -0.11723166,\n",
       "         0.1959189 ,  0.34668219],\n",
       "       ...,\n",
       "       [ 0.18401402, -0.33296385,  0.01902012, ...,  0.00902978,\n",
       "         0.54764074,  0.32343212],\n",
       "       [-0.23170309, -0.17729409, -0.13758963, ..., -0.22204168,\n",
       "         0.32135811,  0.36318263],\n",
       "       [ 0.12418755, -0.10782202,  0.02178431, ..., -0.09299452,\n",
       "         0.42526135,  0.15571694]])"
      ]
     },
     "execution_count": 174,
     "metadata": {},
     "output_type": "execute_result"
    }
   ],
   "source": [
    "features = tryy[:,0:768][:24000]\n",
    "features"
   ]
  },
  {
   "cell_type": "code",
   "execution_count": 148,
   "metadata": {},
   "outputs": [],
   "source": [
    "from sklearn.preprocessing import normalize\n",
    "  \n",
    "features = normalize(features, axis = 0)\n",
    "\n",
    "a = pd.DataFrame(features)\n",
    "for c in a[:1]:\n",
    "    a[c] = pd.cut(a[c], bins = 10, labels = False) / 10\n"
   ]
  },
  {
   "cell_type": "code",
   "execution_count": 149,
   "metadata": {},
   "outputs": [
    {
     "data": {
      "text/plain": [
       "array([[0.6, 0.6, 0.6, ..., 0.4, 0.5, 0.4],\n",
       "       [0.2, 0.5, 0.3, ..., 0.7, 0.2, 0.7],\n",
       "       [0.6, 0.4, 0.6, ..., 0.4, 0.2, 0.5],\n",
       "       ...,\n",
       "       [0.8, 0.4, 0.5, ..., 0.6, 0.6, 0.5],\n",
       "       [0.7, 0.5, 0.4, ..., 0.7, 0.4, 0.4],\n",
       "       [0.6, 0.6, 0.3, ..., 0.6, 0.4, 0.4]])"
      ]
     },
     "execution_count": 149,
     "metadata": {},
     "output_type": "execute_result"
    }
   ],
   "source": [
    "features"
   ]
  },
  {
   "cell_type": "code",
   "execution_count": 175,
   "metadata": {},
   "outputs": [
    {
     "name": "stderr",
     "output_type": "stream",
     "text": [
      "d:\\python\\lib\\site-packages\\sklearn\\linear_model\\_logistic.py:764: ConvergenceWarning: lbfgs failed to converge (status=1):\n",
      "STOP: TOTAL NO. of ITERATIONS REACHED LIMIT.\n",
      "\n",
      "Increase the number of iterations (max_iter) or scale the data as shown in:\n",
      "    https://scikit-learn.org/stable/modules/preprocessing.html\n",
      "Please also refer to the documentation for alternative solver options:\n",
      "    https://scikit-learn.org/stable/modules/linear_model.html#logistic-regression\n",
      "  extra_warning_msg=_LOGISTIC_SOLVER_CONVERGENCE_MSG)\n"
     ]
    },
    {
     "data": {
      "text/plain": [
       "LogisticRegression()"
      ]
     },
     "execution_count": 175,
     "metadata": {},
     "output_type": "execute_result"
    }
   ],
   "source": [
    "from sklearn.linear_model import LogisticRegression\n",
    "from sklearn.model_selection import train_test_split\n",
    "train_features, test_features, train_labels, test_labels = train_test_split(features, labels, test_size = 0.2, random_state = 2020)\n",
    "lr_clf = LogisticRegression()\n",
    "lr_clf.fit(train_features, train_labels)\n",
    "   "
   ]
  },
  {
   "cell_type": "code",
   "execution_count": 176,
   "metadata": {},
   "outputs": [
    {
     "name": "stdout",
     "output_type": "stream",
     "text": [
      "train score: 0.6792708333333334\n",
      "test score: 0.6402083333333334\n"
     ]
    }
   ],
   "source": [
    "print(\"train score:\", lr_clf.score(train_features, train_labels))\n",
    "\n",
    "pred = lr_clf.predict(test_features)\n",
    "print(\"test score:\", lr_clf.score(test_features, test_labels))\n"
   ]
  },
  {
   "cell_type": "code",
   "execution_count": 177,
   "metadata": {},
   "outputs": [
    {
     "name": "stdout",
     "output_type": "stream",
     "text": [
      "T =  0\n",
      "error: 0.3943750000000362\n",
      "sum of sample_weight: 0.7887500000000881\n",
      "done in 1.381310s\n",
      "T =  1\n",
      "error: 0.4479989009532351\n",
      "sum of sample_weight: 0.8959978019064609\n",
      "done in 1.396410s\n",
      "T =  2\n",
      "error: 0.4336594281401815\n",
      "sum of sample_weight: 0.8673188562803441\n",
      "done in 1.456425s\n",
      "T =  3\n",
      "error: 0.4785017771143575\n",
      "sum of sample_weight: 0.9570035542285301\n",
      "done in 1.313404s\n",
      "T =  4\n",
      "error: 0.4297719413482023\n",
      "sum of sample_weight: 0.8595438826964671\n",
      "done in 1.354405s\n",
      "done in 6.903955s\n",
      "done in 3.196664s\n",
      "[0.23149543 0.66316066 0.4535494  ... 0.23149543 1.         0.66316066]\n",
      "train AUC score: 0.673690493370761\n",
      "test AUC score: 0.6475978749631071\n"
     ]
    }
   ],
   "source": [
    "# from sklearn.model_selection import train_test_split # 划分数据集函数(用来帮助随机采样)\n",
    "# from sklearn.tree import DecisionTreeClassifier, DecisionTreeRegressor\n",
    "# from sklearn.svm import LinearSVR\n",
    "# from sklearn.neighbors import KNeighborsClassifier\n",
    "# from sklearn.naive_bayes import BernoulliNB\n",
    "\n",
    "\n",
    "from sklearn.metrics import roc_auc_score\n",
    "from time import time\n",
    "#bagging + bert + logistic regression\n",
    "t0 = time()\n",
    "model = AdaBoost(ml = 'LogisticRegression')\n",
    "model.fit(train_features, train_labels)\n",
    "print(\"done in %fs\" % (time() - t0))\n",
    "\n",
    "t0 = time()\n",
    "pred = model.predict(train_features)\n",
    "print(\"done in %fs\" % (time() - t0))\n",
    "print(pred)\n",
    "print(\"train AUC score:\", roc_auc_score(train_labels, pred))\n",
    "\n",
    "testpred = model.predict(test_features)\n",
    "print(\"test AUC score:\", roc_auc_score(test_labels, testpred))"
   ]
  },
  {
   "cell_type": "code",
   "execution_count": 178,
   "metadata": {},
   "outputs": [
    {
     "name": "stdout",
     "output_type": "stream",
     "text": [
      "train score: 0.8992708333333334\n",
      "test score: 0.6370833333333333\n"
     ]
    }
   ],
   "source": [
    "from sklearn.ensemble import RandomForestClassifier\n",
    "clf = RandomForestClassifier(max_depth=10, random_state=0)\n",
    "clf.fit(train_features, train_labels)\n",
    "print(\"train score:\", clf.score(train_features, train_labels))\n",
    "\n",
    "pred = clf.predict(test_features)\n",
    "print(\"test score:\", clf.score(test_features, test_labels))"
   ]
  },
  {
   "cell_type": "code",
   "execution_count": 179,
   "metadata": {},
   "outputs": [
    {
     "name": "stderr",
     "output_type": "stream",
     "text": [
      "d:\\python\\lib\\site-packages\\sklearn\\neural_network\\_multilayer_perceptron.py:585: ConvergenceWarning: Stochastic Optimizer: Maximum iterations (300) reached and the optimization hasn't converged yet.\n",
      "  % self.max_iter, ConvergenceWarning)\n"
     ]
    },
    {
     "name": "stdout",
     "output_type": "stream",
     "text": [
      "train score: 0.9997395833333333\n",
      "test score: 0.5883333333333334\n"
     ]
    }
   ],
   "source": [
    "from sklearn.neural_network import MLPClassifier\n",
    "clf = MLPClassifier(random_state=1, max_iter=300).fit(train_features,train_labels)\n",
    "print(\"train score:\", clf.score(train_features, train_labels))\n",
    "\n",
    "pred = clf.predict(test_features)\n",
    "print(\"test score:\", clf.score(test_features, test_labels))"
   ]
  },
  {
   "cell_type": "code",
   "execution_count": 162,
   "metadata": {},
   "outputs": [],
   "source": [
    "import pandas as pd\n",
    "import numpy as np\n",
    "\n",
    "# #预处理过，只有20词的content\n",
    "train_df = pd.read_csv(r'data/train1.csv', sep=',')\n",
    "test_df = pd.read_csv(r'data/test1.csv', sep=',')\n",
    "train_df.head()\n",
    "\n",
    "#抄作业bert\n",
    "\n",
    "import pandas as pd\n",
    "import codecs, gc\n",
    "import numpy as np\n",
    "from sklearn.model_selection import KFold\n",
    "from keras_bert import load_trained_model_from_checkpoint, Tokenizer\n",
    "from keras.metrics import top_k_categorical_accuracy\n",
    "from keras.layers import *\n",
    "from keras.callbacks import *\n",
    "from keras.models import Model\n",
    "import keras.backend as K\n",
    "from keras.optimizers import Adam\n",
    "from keras.utils import to_categorical\n",
    " \n",
    "maxlen = 100  #设置序列长度为120，要保证序列长度不超过512\n",
    " \n",
    "#预训练好的模型\n",
    "config_path = 'uncased_L-12_H-768_A-12/bert_config.json'\n",
    "checkpoint_path = 'uncased_L-12_H-768_A-12/bert_model.ckpt'\n",
    "dict_path = 'uncased_L-12_H-768_A-12/vocab.txt'\n",
    " \n",
    "#将词表中的词编号转换为字典\n",
    "token_dict = {}\n",
    "with codecs.open(dict_path, 'r', 'utf8') as reader:\n",
    "    for line in reader:\n",
    "        token = line.strip()\n",
    "        token_dict[token] = len(token_dict)\n",
    " \n",
    "# 重写tokenizer        \n",
    "class OurTokenizer(Tokenizer):\n",
    "    def _tokenize(self, text):\n",
    "        R = []\n",
    "        for c in text:\n",
    "            if c in self._token_dict:\n",
    "                R.append(c)\n",
    "            elif self._is_space(c):\n",
    "                R.append('[unused1]')  # 用[unused1]来表示空格类字符\n",
    "            else:\n",
    "                R.append('[UNK]')  # 不在列表的字符用[UNK]表示\n",
    "        return R\n",
    "    \n",
    "tokenizer = OurTokenizer(token_dict)\n",
    " \n",
    "#让每条文本的长度相同，用0填充\n",
    "def seq_padding(X, padding=0):\n",
    "    L = [len(x) for x in X]\n",
    "    ML = max(L)\n",
    "    return np.array([\n",
    "        np.concatenate([x, [padding] * (ML - len(x))]) if len(x) < ML else x for x in X\n",
    "    ])\n",
    " \n",
    "#data_generator只是一种为了节约内存的数据方式\n",
    "class data_generator:\n",
    "    def __init__(self, data, batch_size=32, shuffle=True):\n",
    "        self.data = data\n",
    "        self.batch_size = batch_size\n",
    "        self.shuffle = shuffle\n",
    "        self.steps = len(self.data) // self.batch_size\n",
    "        if len(self.data) % self.batch_size != 0:\n",
    "            self.steps += 1\n",
    " \n",
    "    def __len__(self):\n",
    "        return self.steps\n",
    " \n",
    "    def __iter__(self):\n",
    "        while True:\n",
    "            idxs = list(range(len(self.data)))\n",
    " \n",
    "            if self.shuffle:\n",
    "                np.random.shuffle(idxs)\n",
    " \n",
    "            X1, X2, Y = [], [], []\n",
    "            for i in idxs:\n",
    "                d = self.data[i]\n",
    "                text = d[0][:maxlen]\n",
    "                x1, x2 = tokenizer.encode(first=text)\n",
    "                y = d[1]\n",
    "                X1.append(x1)\n",
    "                X2.append(x2)\n",
    "                Y.append([y])\n",
    "                if len(X1) == self.batch_size or i == idxs[-1]:\n",
    "                    X1 = seq_padding(X1)\n",
    "                    X2 = seq_padding(X2)\n",
    "                    Y = seq_padding(Y)\n",
    "                    yield [X1, X2], Y[:, 0, :]\n",
    "                    [X1, X2, Y] = [], [], []\n",
    " \n",
    "# 计算top-k正确率,当预测值的前k个值中存在目标类别即认为预测正确                 \n",
    "def acc_top1(y_true, y_pred):\n",
    "    return top_k_categorical_accuracy(y_true, y_pred, k=1)\n",
    " \n",
    "#bert模型设置\n",
    "def build_bert(nclass):\n",
    "    bert_model = load_trained_model_from_checkpoint(config_path, checkpoint_path, seq_len=None)  #加载预训练模型\n",
    " \n",
    "    for l in bert_model.layers:\n",
    "        l.trainable = True\n",
    " \n",
    "    x1_in = Input(shape=(None,))\n",
    "    x2_in = Input(shape=(None,))\n",
    " \n",
    "    x = bert_model([x1_in, x2_in])\n",
    "    x = Lambda(lambda x: x[:, 0])(x) # 取出[CLS]对应的向量用来做分类\n",
    "    p = Dense(nclass, activation='softmax')(x)\n",
    " \n",
    "    model = Model([x1_in, x2_in], p)\n",
    "    model.compile(loss='categorical_crossentropy',\n",
    "                  optimizer=Adam(1e-5),    #用足够小的学习率\n",
    "                  metrics=['accuracy', acc_top1])\n",
    "    print(model.summary())\n",
    "    return model\n",
    "\n",
    "#训练数据、测试数据和标签转化为模型输入格式\n",
    "DATA_LIST = []\n",
    "for data_row in train_df.iloc[:].itertuples():\n",
    "    DATA_LIST.append((data_row.content, to_categorical(data_row.label, 2)))\n",
    "DATA_LIST = np.array(DATA_LIST)\n",
    " \n",
    "DATA_LIST_TEST = []\n",
    "for data_row in test_df.iloc[:].itertuples():\n",
    "    DATA_LIST_TEST.append((data_row.content, to_categorical(0, 2)))\n",
    "DATA_LIST_TEST = np.array(DATA_LIST_TEST)\n",
    "\n",
    "def run_cv(nfold, data, data_labels, data_test):\n",
    "    kf = KFold(n_splits=nfold, shuffle=True, random_state=520).split(data)\n",
    "    train_model_pred = np.zeros((len(data), 2))\n",
    "    test_model_pred = np.zeros((len(data_test), 2))\n",
    " \n",
    "    for i, (train_fold, test_fold) in enumerate(kf):\n",
    "        X_train, X_valid, = data[train_fold, :], data[test_fold, :]\n",
    " \n",
    "        model = build_bert(2)\n",
    "        early_stopping = EarlyStopping(monitor='val_acc', patience=3)   #早停法，防止过拟合\n",
    "        plateau = ReduceLROnPlateau(monitor=\"val_acc\", verbose=1, mode='max', factor=0.5, patience=2) #当评价指标不在提升时，减少学习率\n",
    "        checkpoint = ModelCheckpoint('./bert_dump/' + str(i) + '.hdf5', monitor='val_acc',verbose=2, save_best_only=True, mode='max', save_weights_only=True) #保存最好的模型\n",
    " \n",
    "        train_D = data_generator(X_train, shuffle=True)\n",
    "        valid_D = data_generator(X_valid, shuffle=True)\n",
    "        test_D = data_generator(data_test, shuffle=False)\n",
    "        #模型训练\n",
    "        model.fit(\n",
    "            train_D.__iter__(),\n",
    "            steps_per_epoch=5,\n",
    "            epochs=2,\n",
    "            validation_data=valid_D.__iter__(),\n",
    "            validation_steps=len(valid_D),\n",
    "            callbacks=[early_stopping, plateau, checkpoint],\n",
    "        )\n",
    " \n",
    "        # model.load_weights('./bert_dump/' + str(i) + '.hdf5')\n",
    " \n",
    "        # return model\n",
    "        train_model_pred[test_fold, :] = model.predict(valid_D.__iter__(), steps=len(valid_D), verbose=1)\n",
    "        test_model_pred += model.predict(test_D.__iter__(), steps=len(test_D), verbose=1)\n",
    " \n",
    "        del model\n",
    "        gc.collect()   #清理内存\n",
    "        K.clear_session()   #clear_session就是清除一个session\n",
    "        # break\n",
    " \n",
    "    return train_model_pred, test_model_pred\n",
    " \n"
   ]
  },
  {
   "cell_type": "code",
   "execution_count": 163,
   "metadata": {},
   "outputs": [
    {
     "name": "stdout",
     "output_type": "stream",
     "text": [
      "Model: \"functional_5\"\n",
      "__________________________________________________________________________________________________\n",
      "Layer (type)                    Output Shape         Param #     Connected to                     \n",
      "==================================================================================================\n",
      "input_1 (InputLayer)            [(None, None)]       0                                            \n",
      "__________________________________________________________________________________________________\n",
      "input_2 (InputLayer)            [(None, None)]       0                                            \n",
      "__________________________________________________________________________________________________\n",
      "functional_3 (Functional)       (None, None, 768)    108891648   input_1[0][0]                    \n",
      "                                                                 input_2[0][0]                    \n",
      "__________________________________________________________________________________________________\n",
      "lambda (Lambda)                 (None, 768)          0           functional_3[0][0]               \n",
      "__________________________________________________________________________________________________\n",
      "dense (Dense)                   (None, 2)            1538        lambda[0][0]                     \n",
      "==================================================================================================\n",
      "Total params: 108,893,186\n",
      "Trainable params: 108,893,186\n",
      "Non-trainable params: 0\n",
      "__________________________________________________________________________________________________\n",
      "None\n",
      "Epoch 1/2\n",
      "5/5 [==============================] - ETA: 0s - loss: 0.5948 - accuracy: 0.7500 - acc_top1: 0.7500"
     ]
    },
    {
     "ename": "KeyboardInterrupt",
     "evalue": "",
     "output_type": "error",
     "traceback": [
      "\u001b[1;31m---------------------------------------------------------------------------\u001b[0m",
      "\u001b[1;31mKeyboardInterrupt\u001b[0m                         Traceback (most recent call last)",
      "\u001b[1;32m<ipython-input-163-4ec225e4b5ee>\u001b[0m in \u001b[0;36m<module>\u001b[1;34m\u001b[0m\n\u001b[0;32m      1\u001b[0m \u001b[1;31m#n折交叉验证\u001b[0m\u001b[1;33m\u001b[0m\u001b[1;33m\u001b[0m\u001b[1;33m\u001b[0m\u001b[0m\n\u001b[1;32m----> 2\u001b[1;33m \u001b[0mtrain_model_pred\u001b[0m\u001b[1;33m,\u001b[0m \u001b[0mtest_model_pred\u001b[0m \u001b[1;33m=\u001b[0m \u001b[0mrun_cv\u001b[0m\u001b[1;33m(\u001b[0m\u001b[1;36m2\u001b[0m\u001b[1;33m,\u001b[0m \u001b[0mDATA_LIST\u001b[0m\u001b[1;33m,\u001b[0m \u001b[1;32mNone\u001b[0m\u001b[1;33m,\u001b[0m \u001b[0mDATA_LIST_TEST\u001b[0m\u001b[1;33m)\u001b[0m\u001b[1;33m\u001b[0m\u001b[1;33m\u001b[0m\u001b[0m\n\u001b[0m\u001b[0;32m      3\u001b[0m \u001b[1;33m\u001b[0m\u001b[0m\n\u001b[0;32m      4\u001b[0m \u001b[0mtest_pred\u001b[0m \u001b[1;33m=\u001b[0m \u001b[1;33m[\u001b[0m\u001b[0mnp\u001b[0m\u001b[1;33m.\u001b[0m\u001b[0margmax\u001b[0m\u001b[1;33m(\u001b[0m\u001b[0mx\u001b[0m\u001b[1;33m)\u001b[0m \u001b[1;32mfor\u001b[0m \u001b[0mx\u001b[0m \u001b[1;32min\u001b[0m \u001b[0mtest_model_pred\u001b[0m\u001b[1;33m]\u001b[0m\u001b[1;33m\u001b[0m\u001b[1;33m\u001b[0m\u001b[0m\n\u001b[0;32m      5\u001b[0m \u001b[1;33m\u001b[0m\u001b[0m\n",
      "\u001b[1;32m<ipython-input-162-9124273da5b5>\u001b[0m in \u001b[0;36mrun_cv\u001b[1;34m(nfold, data, data_labels, data_test)\u001b[0m\n\u001b[0;32m    154\u001b[0m             \u001b[0mvalidation_data\u001b[0m\u001b[1;33m=\u001b[0m\u001b[0mvalid_D\u001b[0m\u001b[1;33m.\u001b[0m\u001b[0m__iter__\u001b[0m\u001b[1;33m(\u001b[0m\u001b[1;33m)\u001b[0m\u001b[1;33m,\u001b[0m\u001b[1;33m\u001b[0m\u001b[1;33m\u001b[0m\u001b[0m\n\u001b[0;32m    155\u001b[0m             \u001b[0mvalidation_steps\u001b[0m\u001b[1;33m=\u001b[0m\u001b[0mlen\u001b[0m\u001b[1;33m(\u001b[0m\u001b[0mvalid_D\u001b[0m\u001b[1;33m)\u001b[0m\u001b[1;33m,\u001b[0m\u001b[1;33m\u001b[0m\u001b[1;33m\u001b[0m\u001b[0m\n\u001b[1;32m--> 156\u001b[1;33m             \u001b[0mcallbacks\u001b[0m\u001b[1;33m=\u001b[0m\u001b[1;33m[\u001b[0m\u001b[0mearly_stopping\u001b[0m\u001b[1;33m,\u001b[0m \u001b[0mplateau\u001b[0m\u001b[1;33m,\u001b[0m \u001b[0mcheckpoint\u001b[0m\u001b[1;33m]\u001b[0m\u001b[1;33m,\u001b[0m\u001b[1;33m\u001b[0m\u001b[1;33m\u001b[0m\u001b[0m\n\u001b[0m\u001b[0;32m    157\u001b[0m         )\n\u001b[0;32m    158\u001b[0m \u001b[1;33m\u001b[0m\u001b[0m\n",
      "\u001b[1;32md:\\python\\lib\\site-packages\\tensorflow\\python\\keras\\engine\\training.py\u001b[0m in \u001b[0;36m_method_wrapper\u001b[1;34m(self, *args, **kwargs)\u001b[0m\n\u001b[0;32m    106\u001b[0m   \u001b[1;32mdef\u001b[0m \u001b[0m_method_wrapper\u001b[0m\u001b[1;33m(\u001b[0m\u001b[0mself\u001b[0m\u001b[1;33m,\u001b[0m \u001b[1;33m*\u001b[0m\u001b[0margs\u001b[0m\u001b[1;33m,\u001b[0m \u001b[1;33m**\u001b[0m\u001b[0mkwargs\u001b[0m\u001b[1;33m)\u001b[0m\u001b[1;33m:\u001b[0m\u001b[1;33m\u001b[0m\u001b[1;33m\u001b[0m\u001b[0m\n\u001b[0;32m    107\u001b[0m     \u001b[1;32mif\u001b[0m \u001b[1;32mnot\u001b[0m \u001b[0mself\u001b[0m\u001b[1;33m.\u001b[0m\u001b[0m_in_multi_worker_mode\u001b[0m\u001b[1;33m(\u001b[0m\u001b[1;33m)\u001b[0m\u001b[1;33m:\u001b[0m  \u001b[1;31m# pylint: disable=protected-access\u001b[0m\u001b[1;33m\u001b[0m\u001b[1;33m\u001b[0m\u001b[0m\n\u001b[1;32m--> 108\u001b[1;33m       \u001b[1;32mreturn\u001b[0m \u001b[0mmethod\u001b[0m\u001b[1;33m(\u001b[0m\u001b[0mself\u001b[0m\u001b[1;33m,\u001b[0m \u001b[1;33m*\u001b[0m\u001b[0margs\u001b[0m\u001b[1;33m,\u001b[0m \u001b[1;33m**\u001b[0m\u001b[0mkwargs\u001b[0m\u001b[1;33m)\u001b[0m\u001b[1;33m\u001b[0m\u001b[1;33m\u001b[0m\u001b[0m\n\u001b[0m\u001b[0;32m    109\u001b[0m \u001b[1;33m\u001b[0m\u001b[0m\n\u001b[0;32m    110\u001b[0m     \u001b[1;31m# Running inside `run_distribute_coordinator` already.\u001b[0m\u001b[1;33m\u001b[0m\u001b[1;33m\u001b[0m\u001b[1;33m\u001b[0m\u001b[0m\n",
      "\u001b[1;32md:\\python\\lib\\site-packages\\tensorflow\\python\\keras\\engine\\training.py\u001b[0m in \u001b[0;36mfit\u001b[1;34m(self, x, y, batch_size, epochs, verbose, callbacks, validation_split, validation_data, shuffle, class_weight, sample_weight, initial_epoch, steps_per_epoch, validation_steps, validation_batch_size, validation_freq, max_queue_size, workers, use_multiprocessing)\u001b[0m\n\u001b[0;32m   1131\u001b[0m               \u001b[0mworkers\u001b[0m\u001b[1;33m=\u001b[0m\u001b[0mworkers\u001b[0m\u001b[1;33m,\u001b[0m\u001b[1;33m\u001b[0m\u001b[1;33m\u001b[0m\u001b[0m\n\u001b[0;32m   1132\u001b[0m               \u001b[0muse_multiprocessing\u001b[0m\u001b[1;33m=\u001b[0m\u001b[0muse_multiprocessing\u001b[0m\u001b[1;33m,\u001b[0m\u001b[1;33m\u001b[0m\u001b[1;33m\u001b[0m\u001b[0m\n\u001b[1;32m-> 1133\u001b[1;33m               return_dict=True)\n\u001b[0m\u001b[0;32m   1134\u001b[0m           \u001b[0mval_logs\u001b[0m \u001b[1;33m=\u001b[0m \u001b[1;33m{\u001b[0m\u001b[1;34m'val_'\u001b[0m \u001b[1;33m+\u001b[0m \u001b[0mname\u001b[0m\u001b[1;33m:\u001b[0m \u001b[0mval\u001b[0m \u001b[1;32mfor\u001b[0m \u001b[0mname\u001b[0m\u001b[1;33m,\u001b[0m \u001b[0mval\u001b[0m \u001b[1;32min\u001b[0m \u001b[0mval_logs\u001b[0m\u001b[1;33m.\u001b[0m\u001b[0mitems\u001b[0m\u001b[1;33m(\u001b[0m\u001b[1;33m)\u001b[0m\u001b[1;33m}\u001b[0m\u001b[1;33m\u001b[0m\u001b[1;33m\u001b[0m\u001b[0m\n\u001b[0;32m   1135\u001b[0m           \u001b[0mepoch_logs\u001b[0m\u001b[1;33m.\u001b[0m\u001b[0mupdate\u001b[0m\u001b[1;33m(\u001b[0m\u001b[0mval_logs\u001b[0m\u001b[1;33m)\u001b[0m\u001b[1;33m\u001b[0m\u001b[1;33m\u001b[0m\u001b[0m\n",
      "\u001b[1;32md:\\python\\lib\\site-packages\\tensorflow\\python\\keras\\engine\\training.py\u001b[0m in \u001b[0;36m_method_wrapper\u001b[1;34m(self, *args, **kwargs)\u001b[0m\n\u001b[0;32m    106\u001b[0m   \u001b[1;32mdef\u001b[0m \u001b[0m_method_wrapper\u001b[0m\u001b[1;33m(\u001b[0m\u001b[0mself\u001b[0m\u001b[1;33m,\u001b[0m \u001b[1;33m*\u001b[0m\u001b[0margs\u001b[0m\u001b[1;33m,\u001b[0m \u001b[1;33m**\u001b[0m\u001b[0mkwargs\u001b[0m\u001b[1;33m)\u001b[0m\u001b[1;33m:\u001b[0m\u001b[1;33m\u001b[0m\u001b[1;33m\u001b[0m\u001b[0m\n\u001b[0;32m    107\u001b[0m     \u001b[1;32mif\u001b[0m \u001b[1;32mnot\u001b[0m \u001b[0mself\u001b[0m\u001b[1;33m.\u001b[0m\u001b[0m_in_multi_worker_mode\u001b[0m\u001b[1;33m(\u001b[0m\u001b[1;33m)\u001b[0m\u001b[1;33m:\u001b[0m  \u001b[1;31m# pylint: disable=protected-access\u001b[0m\u001b[1;33m\u001b[0m\u001b[1;33m\u001b[0m\u001b[0m\n\u001b[1;32m--> 108\u001b[1;33m       \u001b[1;32mreturn\u001b[0m \u001b[0mmethod\u001b[0m\u001b[1;33m(\u001b[0m\u001b[0mself\u001b[0m\u001b[1;33m,\u001b[0m \u001b[1;33m*\u001b[0m\u001b[0margs\u001b[0m\u001b[1;33m,\u001b[0m \u001b[1;33m**\u001b[0m\u001b[0mkwargs\u001b[0m\u001b[1;33m)\u001b[0m\u001b[1;33m\u001b[0m\u001b[1;33m\u001b[0m\u001b[0m\n\u001b[0m\u001b[0;32m    109\u001b[0m \u001b[1;33m\u001b[0m\u001b[0m\n\u001b[0;32m    110\u001b[0m     \u001b[1;31m# Running inside `run_distribute_coordinator` already.\u001b[0m\u001b[1;33m\u001b[0m\u001b[1;33m\u001b[0m\u001b[1;33m\u001b[0m\u001b[0m\n",
      "\u001b[1;32md:\\python\\lib\\site-packages\\tensorflow\\python\\keras\\engine\\training.py\u001b[0m in \u001b[0;36mevaluate\u001b[1;34m(self, x, y, batch_size, verbose, sample_weight, steps, callbacks, max_queue_size, workers, use_multiprocessing, return_dict)\u001b[0m\n\u001b[0;32m   1377\u001b[0m             \u001b[1;32mwith\u001b[0m \u001b[0mtrace\u001b[0m\u001b[1;33m.\u001b[0m\u001b[0mTrace\u001b[0m\u001b[1;33m(\u001b[0m\u001b[1;34m'TraceContext'\u001b[0m\u001b[1;33m,\u001b[0m \u001b[0mgraph_type\u001b[0m\u001b[1;33m=\u001b[0m\u001b[1;34m'test'\u001b[0m\u001b[1;33m,\u001b[0m \u001b[0mstep_num\u001b[0m\u001b[1;33m=\u001b[0m\u001b[0mstep\u001b[0m\u001b[1;33m)\u001b[0m\u001b[1;33m:\u001b[0m\u001b[1;33m\u001b[0m\u001b[1;33m\u001b[0m\u001b[0m\n\u001b[0;32m   1378\u001b[0m               \u001b[0mcallbacks\u001b[0m\u001b[1;33m.\u001b[0m\u001b[0mon_test_batch_begin\u001b[0m\u001b[1;33m(\u001b[0m\u001b[0mstep\u001b[0m\u001b[1;33m)\u001b[0m\u001b[1;33m\u001b[0m\u001b[1;33m\u001b[0m\u001b[0m\n\u001b[1;32m-> 1379\u001b[1;33m               \u001b[0mtmp_logs\u001b[0m \u001b[1;33m=\u001b[0m \u001b[0mtest_function\u001b[0m\u001b[1;33m(\u001b[0m\u001b[0miterator\u001b[0m\u001b[1;33m)\u001b[0m\u001b[1;33m\u001b[0m\u001b[1;33m\u001b[0m\u001b[0m\n\u001b[0m\u001b[0;32m   1380\u001b[0m               \u001b[1;32mif\u001b[0m \u001b[0mdata_handler\u001b[0m\u001b[1;33m.\u001b[0m\u001b[0mshould_sync\u001b[0m\u001b[1;33m:\u001b[0m\u001b[1;33m\u001b[0m\u001b[1;33m\u001b[0m\u001b[0m\n\u001b[0;32m   1381\u001b[0m                 \u001b[0mcontext\u001b[0m\u001b[1;33m.\u001b[0m\u001b[0masync_wait\u001b[0m\u001b[1;33m(\u001b[0m\u001b[1;33m)\u001b[0m\u001b[1;33m\u001b[0m\u001b[1;33m\u001b[0m\u001b[0m\n",
      "\u001b[1;32md:\\python\\lib\\site-packages\\tensorflow\\python\\eager\\def_function.py\u001b[0m in \u001b[0;36m__call__\u001b[1;34m(self, *args, **kwds)\u001b[0m\n\u001b[0;32m    778\u001b[0m       \u001b[1;32melse\u001b[0m\u001b[1;33m:\u001b[0m\u001b[1;33m\u001b[0m\u001b[1;33m\u001b[0m\u001b[0m\n\u001b[0;32m    779\u001b[0m         \u001b[0mcompiler\u001b[0m \u001b[1;33m=\u001b[0m \u001b[1;34m\"nonXla\"\u001b[0m\u001b[1;33m\u001b[0m\u001b[1;33m\u001b[0m\u001b[0m\n\u001b[1;32m--> 780\u001b[1;33m         \u001b[0mresult\u001b[0m \u001b[1;33m=\u001b[0m \u001b[0mself\u001b[0m\u001b[1;33m.\u001b[0m\u001b[0m_call\u001b[0m\u001b[1;33m(\u001b[0m\u001b[1;33m*\u001b[0m\u001b[0margs\u001b[0m\u001b[1;33m,\u001b[0m \u001b[1;33m**\u001b[0m\u001b[0mkwds\u001b[0m\u001b[1;33m)\u001b[0m\u001b[1;33m\u001b[0m\u001b[1;33m\u001b[0m\u001b[0m\n\u001b[0m\u001b[0;32m    781\u001b[0m \u001b[1;33m\u001b[0m\u001b[0m\n\u001b[0;32m    782\u001b[0m       \u001b[0mnew_tracing_count\u001b[0m \u001b[1;33m=\u001b[0m \u001b[0mself\u001b[0m\u001b[1;33m.\u001b[0m\u001b[0m_get_tracing_count\u001b[0m\u001b[1;33m(\u001b[0m\u001b[1;33m)\u001b[0m\u001b[1;33m\u001b[0m\u001b[1;33m\u001b[0m\u001b[0m\n",
      "\u001b[1;32md:\\python\\lib\\site-packages\\tensorflow\\python\\eager\\def_function.py\u001b[0m in \u001b[0;36m_call\u001b[1;34m(self, *args, **kwds)\u001b[0m\n\u001b[0;32m    812\u001b[0m       \u001b[1;31m# In this case we have not created variables on the first call. So we can\u001b[0m\u001b[1;33m\u001b[0m\u001b[1;33m\u001b[0m\u001b[1;33m\u001b[0m\u001b[0m\n\u001b[0;32m    813\u001b[0m       \u001b[1;31m# run the first trace but we should fail if variables are created.\u001b[0m\u001b[1;33m\u001b[0m\u001b[1;33m\u001b[0m\u001b[1;33m\u001b[0m\u001b[0m\n\u001b[1;32m--> 814\u001b[1;33m       \u001b[0mresults\u001b[0m \u001b[1;33m=\u001b[0m \u001b[0mself\u001b[0m\u001b[1;33m.\u001b[0m\u001b[0m_stateful_fn\u001b[0m\u001b[1;33m(\u001b[0m\u001b[1;33m*\u001b[0m\u001b[0margs\u001b[0m\u001b[1;33m,\u001b[0m \u001b[1;33m**\u001b[0m\u001b[0mkwds\u001b[0m\u001b[1;33m)\u001b[0m\u001b[1;33m\u001b[0m\u001b[1;33m\u001b[0m\u001b[0m\n\u001b[0m\u001b[0;32m    815\u001b[0m       \u001b[1;32mif\u001b[0m \u001b[0mself\u001b[0m\u001b[1;33m.\u001b[0m\u001b[0m_created_variables\u001b[0m\u001b[1;33m:\u001b[0m\u001b[1;33m\u001b[0m\u001b[1;33m\u001b[0m\u001b[0m\n\u001b[0;32m    816\u001b[0m         raise ValueError(\"Creating variables on a non-first call to a function\"\n",
      "\u001b[1;32md:\\python\\lib\\site-packages\\tensorflow\\python\\eager\\function.py\u001b[0m in \u001b[0;36m__call__\u001b[1;34m(self, *args, **kwargs)\u001b[0m\n\u001b[0;32m   2827\u001b[0m     \u001b[1;32mwith\u001b[0m \u001b[0mself\u001b[0m\u001b[1;33m.\u001b[0m\u001b[0m_lock\u001b[0m\u001b[1;33m:\u001b[0m\u001b[1;33m\u001b[0m\u001b[1;33m\u001b[0m\u001b[0m\n\u001b[0;32m   2828\u001b[0m       \u001b[0mgraph_function\u001b[0m\u001b[1;33m,\u001b[0m \u001b[0margs\u001b[0m\u001b[1;33m,\u001b[0m \u001b[0mkwargs\u001b[0m \u001b[1;33m=\u001b[0m \u001b[0mself\u001b[0m\u001b[1;33m.\u001b[0m\u001b[0m_maybe_define_function\u001b[0m\u001b[1;33m(\u001b[0m\u001b[0margs\u001b[0m\u001b[1;33m,\u001b[0m \u001b[0mkwargs\u001b[0m\u001b[1;33m)\u001b[0m\u001b[1;33m\u001b[0m\u001b[1;33m\u001b[0m\u001b[0m\n\u001b[1;32m-> 2829\u001b[1;33m     \u001b[1;32mreturn\u001b[0m \u001b[0mgraph_function\u001b[0m\u001b[1;33m.\u001b[0m\u001b[0m_filtered_call\u001b[0m\u001b[1;33m(\u001b[0m\u001b[0margs\u001b[0m\u001b[1;33m,\u001b[0m \u001b[0mkwargs\u001b[0m\u001b[1;33m)\u001b[0m  \u001b[1;31m# pylint: disable=protected-access\u001b[0m\u001b[1;33m\u001b[0m\u001b[1;33m\u001b[0m\u001b[0m\n\u001b[0m\u001b[0;32m   2830\u001b[0m \u001b[1;33m\u001b[0m\u001b[0m\n\u001b[0;32m   2831\u001b[0m   \u001b[1;33m@\u001b[0m\u001b[0mproperty\u001b[0m\u001b[1;33m\u001b[0m\u001b[1;33m\u001b[0m\u001b[0m\n",
      "\u001b[1;32md:\\python\\lib\\site-packages\\tensorflow\\python\\eager\\function.py\u001b[0m in \u001b[0;36m_filtered_call\u001b[1;34m(self, args, kwargs, cancellation_manager)\u001b[0m\n\u001b[0;32m   1846\u001b[0m                            resource_variable_ops.BaseResourceVariable))],\n\u001b[0;32m   1847\u001b[0m         \u001b[0mcaptured_inputs\u001b[0m\u001b[1;33m=\u001b[0m\u001b[0mself\u001b[0m\u001b[1;33m.\u001b[0m\u001b[0mcaptured_inputs\u001b[0m\u001b[1;33m,\u001b[0m\u001b[1;33m\u001b[0m\u001b[1;33m\u001b[0m\u001b[0m\n\u001b[1;32m-> 1848\u001b[1;33m         cancellation_manager=cancellation_manager)\n\u001b[0m\u001b[0;32m   1849\u001b[0m \u001b[1;33m\u001b[0m\u001b[0m\n\u001b[0;32m   1850\u001b[0m   \u001b[1;32mdef\u001b[0m \u001b[0m_call_flat\u001b[0m\u001b[1;33m(\u001b[0m\u001b[0mself\u001b[0m\u001b[1;33m,\u001b[0m \u001b[0margs\u001b[0m\u001b[1;33m,\u001b[0m \u001b[0mcaptured_inputs\u001b[0m\u001b[1;33m,\u001b[0m \u001b[0mcancellation_manager\u001b[0m\u001b[1;33m=\u001b[0m\u001b[1;32mNone\u001b[0m\u001b[1;33m)\u001b[0m\u001b[1;33m:\u001b[0m\u001b[1;33m\u001b[0m\u001b[1;33m\u001b[0m\u001b[0m\n",
      "\u001b[1;32md:\\python\\lib\\site-packages\\tensorflow\\python\\eager\\function.py\u001b[0m in \u001b[0;36m_call_flat\u001b[1;34m(self, args, captured_inputs, cancellation_manager)\u001b[0m\n\u001b[0;32m   1922\u001b[0m       \u001b[1;31m# No tape is watching; skip to running the function.\u001b[0m\u001b[1;33m\u001b[0m\u001b[1;33m\u001b[0m\u001b[1;33m\u001b[0m\u001b[0m\n\u001b[0;32m   1923\u001b[0m       return self._build_call_outputs(self._inference_function.call(\n\u001b[1;32m-> 1924\u001b[1;33m           ctx, args, cancellation_manager=cancellation_manager))\n\u001b[0m\u001b[0;32m   1925\u001b[0m     forward_backward = self._select_forward_and_backward_functions(\n\u001b[0;32m   1926\u001b[0m         \u001b[0margs\u001b[0m\u001b[1;33m,\u001b[0m\u001b[1;33m\u001b[0m\u001b[1;33m\u001b[0m\u001b[0m\n",
      "\u001b[1;32md:\\python\\lib\\site-packages\\tensorflow\\python\\eager\\function.py\u001b[0m in \u001b[0;36mcall\u001b[1;34m(self, ctx, args, cancellation_manager)\u001b[0m\n\u001b[0;32m    548\u001b[0m               \u001b[0minputs\u001b[0m\u001b[1;33m=\u001b[0m\u001b[0margs\u001b[0m\u001b[1;33m,\u001b[0m\u001b[1;33m\u001b[0m\u001b[1;33m\u001b[0m\u001b[0m\n\u001b[0;32m    549\u001b[0m               \u001b[0mattrs\u001b[0m\u001b[1;33m=\u001b[0m\u001b[0mattrs\u001b[0m\u001b[1;33m,\u001b[0m\u001b[1;33m\u001b[0m\u001b[1;33m\u001b[0m\u001b[0m\n\u001b[1;32m--> 550\u001b[1;33m               ctx=ctx)\n\u001b[0m\u001b[0;32m    551\u001b[0m         \u001b[1;32melse\u001b[0m\u001b[1;33m:\u001b[0m\u001b[1;33m\u001b[0m\u001b[1;33m\u001b[0m\u001b[0m\n\u001b[0;32m    552\u001b[0m           outputs = execute.execute_with_cancellation(\n",
      "\u001b[1;32md:\\python\\lib\\site-packages\\tensorflow\\python\\eager\\execute.py\u001b[0m in \u001b[0;36mquick_execute\u001b[1;34m(op_name, num_outputs, inputs, attrs, ctx, name)\u001b[0m\n\u001b[0;32m     58\u001b[0m     \u001b[0mctx\u001b[0m\u001b[1;33m.\u001b[0m\u001b[0mensure_initialized\u001b[0m\u001b[1;33m(\u001b[0m\u001b[1;33m)\u001b[0m\u001b[1;33m\u001b[0m\u001b[1;33m\u001b[0m\u001b[0m\n\u001b[0;32m     59\u001b[0m     tensors = pywrap_tfe.TFE_Py_Execute(ctx._handle, device_name, op_name,\n\u001b[1;32m---> 60\u001b[1;33m                                         inputs, attrs, num_outputs)\n\u001b[0m\u001b[0;32m     61\u001b[0m   \u001b[1;32mexcept\u001b[0m \u001b[0mcore\u001b[0m\u001b[1;33m.\u001b[0m\u001b[0m_NotOkStatusException\u001b[0m \u001b[1;32mas\u001b[0m \u001b[0me\u001b[0m\u001b[1;33m:\u001b[0m\u001b[1;33m\u001b[0m\u001b[1;33m\u001b[0m\u001b[0m\n\u001b[0;32m     62\u001b[0m     \u001b[1;32mif\u001b[0m \u001b[0mname\u001b[0m \u001b[1;32mis\u001b[0m \u001b[1;32mnot\u001b[0m \u001b[1;32mNone\u001b[0m\u001b[1;33m:\u001b[0m\u001b[1;33m\u001b[0m\u001b[1;33m\u001b[0m\u001b[0m\n",
      "\u001b[1;31mKeyboardInterrupt\u001b[0m: "
     ]
    }
   ],
   "source": [
    "#n折交叉验证\n",
    "train_model_pred, test_model_pred = run_cv(2, DATA_LIST, None, DATA_LIST_TEST)\n",
    " \n",
    "test_pred = [np.argmax(x) for x in test_model_pred]\n",
    " \n",
    "#将测试集预测结果写入文件\n",
    "output=pd.DataFrame({'Id':test_df.id,'Predicted':test_pred})\n",
    "# output.to_csv('data/results.csv', index=None)"
   ]
  },
  {
   "cell_type": "code",
   "execution_count": 180,
   "metadata": {},
   "outputs": [
    {
     "ename": "NameError",
     "evalue": "name 'test_pred' is not defined",
     "output_type": "error",
     "traceback": [
      "\u001b[1;31m---------------------------------------------------------------------------\u001b[0m",
      "\u001b[1;31mNameError\u001b[0m                                 Traceback (most recent call last)",
      "\u001b[1;32m<ipython-input-180-111212ea31fd>\u001b[0m in \u001b[0;36m<module>\u001b[1;34m\u001b[0m\n\u001b[1;32m----> 1\u001b[1;33m \u001b[0mtest_pred\u001b[0m\u001b[1;33m\u001b[0m\u001b[1;33m\u001b[0m\u001b[0m\n\u001b[0m",
      "\u001b[1;31mNameError\u001b[0m: name 'test_pred' is not defined"
     ]
    }
   ],
   "source": [
    "test_pred"
   ]
  },
  {
   "cell_type": "code",
   "execution_count": null,
   "metadata": {},
   "outputs": [],
   "source": []
  }
 ],
 "metadata": {
  "kernelspec": {
   "display_name": "Python 3",
   "language": "python",
   "name": "python3"
  },
  "language_info": {
   "codemirror_mode": {
    "name": "ipython",
    "version": 3
   },
   "file_extension": ".py",
   "mimetype": "text/x-python",
   "name": "python",
   "nbconvert_exporter": "python",
   "pygments_lexer": "ipython3",
   "version": "3.7.8"
  }
 },
 "nbformat": 4,
 "nbformat_minor": 4
}
